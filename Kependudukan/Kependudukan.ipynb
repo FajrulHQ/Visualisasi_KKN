{
 "cells": [
  {
   "cell_type": "code",
   "execution_count": 2,
   "metadata": {},
   "outputs": [],
   "source": [
    "import pandas as pd\n",
    "import altair as alt\n",
    "import matplotlib.pyplot as plt\n",
    "import numpy as np"
   ]
  },
  {
   "cell_type": "code",
   "execution_count": 3,
   "metadata": {},
   "outputs": [],
   "source": [
    "df_2019 = pd.read_csv('D:\\Fajrul\\KKN\\Move to KEBON\\Statistik_Kebon\\Visualisasi_KKN\\data_2019_S2.csv')\n",
    "\n",
    "df_2017 = pd.read_csv('D:\\Fajrul\\KKN\\Move to KEBON\\Statistik_Kebon\\Visualisasi_KKN\\data_2017_S2.csv')\n",
    "\n",
    "df = pd.concat([df_2017,df_2019])"
   ]
  },
  {
   "cell_type": "code",
   "execution_count": 4,
   "metadata": {},
   "outputs": [],
   "source": [
    "def data(a):\n",
    "    data = df.loc[df['Kategori']==a]\n",
    "    return data"
   ]
  },
  {
   "cell_type": "code",
   "execution_count": 5,
   "metadata": {},
   "outputs": [],
   "source": [
    "# Set color and selector interactive\n",
    "palette = alt.Scale(scheme='blues')\n",
    "selector = alt.selection_single(encodings=['y', 'color'])"
   ]
  },
  {
   "cell_type": "code",
   "execution_count": 6,
   "metadata": {},
   "outputs": [],
   "source": [
    "def plot_1(data,x,y,width):\n",
    "    bars = alt.Chart(data).mark_bar(opacity=0.8).encode(\n",
    "        x=alt.X('N:Q',stack='normalize', title=x, axis=alt.Axis(format='.0%')),\n",
    "        y=alt.Y('Keterangan:O',title=y),\n",
    "        color=alt.condition(selector, 'Tahun:O', alt.value('lightgray'), scale=palette)\n",
    "    ).add_selection(\n",
    "        selector\n",
    "    )\n",
    "    \n",
    "    text = alt.Chart(data).mark_text(dx=-18, dy=3, color='white').encode(\n",
    "        x=alt.X('N:Q', stack='normalize'),\n",
    "        y=alt.Y('Keterangan:O'),\n",
    "        detail='Tahun:O',\n",
    "        text=alt.Text('N:O'),\n",
    "        tooltip = ['Tahun','Keterangan','N','Satuan']\n",
    "    ).interactive()\n",
    "    return (bars+text).properties(width=width)"
   ]
  },
  {
   "cell_type": "code",
   "execution_count": 7,
   "metadata": {},
   "outputs": [],
   "source": [
    "def plot_2(data,x,y,width):\n",
    "    bars = alt.Chart(data).mark_bar(opacity=0.8).encode(\n",
    "        alt.X('Keterangan:O', title=y),\n",
    "        alt.Y('N:Q',title=x, axis=alt.Axis(tickMinStep=1)),\n",
    "        alt.Column('Tahun:O', title=''),\n",
    "        color=alt.condition(selector, 'Tahun:N', alt.value('lightgray'), scale=palette),\n",
    "        tooltip = ['Tahun','Keterangan','N','Satuan']\n",
    "    ).add_selection(selector\n",
    "    ).interactive(\n",
    "    ).resolve_scale(x='independent')\n",
    "    \n",
    "    return bars.properties(width=width\n",
    "    )"
   ]
  },
  {
   "cell_type": "code",
   "execution_count": 8,
   "metadata": {},
   "outputs": [],
   "source": [
    "def plot_3(data,x,y,width):\n",
    "    bars = alt.Chart(data).mark_bar(opacity=0.8).encode(\n",
    "        alt.X('Tahun:O', title=''),\n",
    "        alt.Y('N:Q', title=x, axis=alt.Axis(tickMinStep=1)),\n",
    "        alt.Column('Keterangan:N', title=y),\n",
    "        color=alt.condition(selector, 'Tahun:N', alt.value('lightgray'), scale=palette),\n",
    "        tooltip = ['Tahun','Keterangan','N','Satuan']\n",
    "    ).add_selection(selector\n",
    "    ).interactive(\n",
    "    ).resolve_scale(x='independent')\n",
    "    \n",
    "    return bars.properties(width=width\n",
    "    )"
   ]
  },
  {
   "cell_type": "markdown",
   "metadata": {},
   "source": [
    "<h1>Visualisasi monografi desa</h1><br>\n",
    "Sumber data : <b>Monografi desa</b> <i>2017 S.2</i> dan <i>2019 S.2</i> <br>(data bisa diupdate jika terdapat data monografi desa disetiap semester dan tahun tertentu)"
   ]
  },
  {
   "cell_type": "markdown",
   "metadata": {},
   "source": [
    "<h2> Kependudukan Berdasarkan Jenis Kelamin</h2>"
   ]
  },
  {
   "cell_type": "code",
   "execution_count": 9,
   "metadata": {
    "scrolled": false
   },
   "outputs": [
    {
     "data": {
      "text/html": [
       "\n",
       "<div id=\"altair-viz-a6abfc63a0b54477b2f345949066e828\"></div>\n",
       "<script type=\"text/javascript\">\n",
       "  (function(spec, embedOpt){\n",
       "    let outputDiv = document.currentScript.previousElementSibling;\n",
       "    if (outputDiv.id !== \"altair-viz-a6abfc63a0b54477b2f345949066e828\") {\n",
       "      outputDiv = document.getElementById(\"altair-viz-a6abfc63a0b54477b2f345949066e828\");\n",
       "    }\n",
       "    const paths = {\n",
       "      \"vega\": \"https://cdn.jsdelivr.net/npm//vega@5?noext\",\n",
       "      \"vega-lib\": \"https://cdn.jsdelivr.net/npm//vega-lib?noext\",\n",
       "      \"vega-lite\": \"https://cdn.jsdelivr.net/npm//vega-lite@4.8.1?noext\",\n",
       "      \"vega-embed\": \"https://cdn.jsdelivr.net/npm//vega-embed@6?noext\",\n",
       "    };\n",
       "\n",
       "    function loadScript(lib) {\n",
       "      return new Promise(function(resolve, reject) {\n",
       "        var s = document.createElement('script');\n",
       "        s.src = paths[lib];\n",
       "        s.async = true;\n",
       "        s.onload = () => resolve(paths[lib]);\n",
       "        s.onerror = () => reject(`Error loading script: ${paths[lib]}`);\n",
       "        document.getElementsByTagName(\"head\")[0].appendChild(s);\n",
       "      });\n",
       "    }\n",
       "\n",
       "    function showError(err) {\n",
       "      outputDiv.innerHTML = `<div class=\"error\" style=\"color:red;\">${err}</div>`;\n",
       "      throw err;\n",
       "    }\n",
       "\n",
       "    function displayChart(vegaEmbed) {\n",
       "      vegaEmbed(outputDiv, spec, embedOpt)\n",
       "        .catch(err => showError(`Javascript Error: ${err.message}<br>This usually means there's a typo in your chart specification. See the javascript console for the full traceback.`));\n",
       "    }\n",
       "\n",
       "    if(typeof define === \"function\" && define.amd) {\n",
       "      requirejs.config({paths});\n",
       "      require([\"vega-embed\"], displayChart, err => showError(`Error loading script: ${err.message}`));\n",
       "    } else if (typeof vegaEmbed === \"function\") {\n",
       "      displayChart(vegaEmbed);\n",
       "    } else {\n",
       "      loadScript(\"vega\")\n",
       "        .then(() => loadScript(\"vega-lite\"))\n",
       "        .then(() => loadScript(\"vega-embed\"))\n",
       "        .catch(showError)\n",
       "        .then(() => displayChart(vegaEmbed));\n",
       "    }\n",
       "  })({\"config\": {\"view\": {\"continuousWidth\": 400, \"continuousHeight\": 300}}, \"data\": {\"name\": \"data-008831bea11b37829531ee5ba5d20c6a\"}, \"mark\": {\"type\": \"bar\", \"opacity\": 0.8}, \"encoding\": {\"color\": {\"condition\": {\"type\": \"nominal\", \"field\": \"Tahun\", \"scale\": {\"scheme\": \"blues\"}, \"selection\": \"selector001\"}, \"value\": \"lightgray\"}, \"column\": {\"type\": \"nominal\", \"field\": \"Keterangan\", \"title\": \"Jenis Kelamin\"}, \"tooltip\": [{\"type\": \"quantitative\", \"field\": \"Tahun\"}, {\"type\": \"nominal\", \"field\": \"Keterangan\"}, {\"type\": \"quantitative\", \"field\": \"N\"}, {\"type\": \"nominal\", \"field\": \"Satuan\"}], \"x\": {\"type\": \"ordinal\", \"field\": \"Tahun\", \"title\": \"\"}, \"y\": {\"type\": \"quantitative\", \"axis\": {\"tickMinStep\": 1}, \"field\": \"N\", \"title\": \"Orang\"}}, \"resolve\": {\"scale\": {\"x\": \"independent\"}}, \"selection\": {\"selector001\": {\"type\": \"single\", \"encodings\": [\"y\", \"color\"]}, \"selector002\": {\"type\": \"interval\", \"bind\": \"scales\", \"encodings\": [\"x\", \"y\"]}}, \"width\": 140, \"$schema\": \"https://vega.github.io/schema/vega-lite/v4.8.1.json\", \"datasets\": {\"data-008831bea11b37829531ee5ba5d20c6a\": [{\"Tahun\": 2017, \"Kode\": 1, \"Data\": \"Kependudukan\", \"Kode Kategori\": 1.1, \"Kategori\": \"Jenis Kelamin\", \"Keterangan\": \"Laki-laki\", \"N\": 1582.0, \"Satuan\": \"Orang\"}, {\"Tahun\": 2017, \"Kode\": 1, \"Data\": \"Kependudukan\", \"Kode Kategori\": 1.1, \"Kategori\": \"Jenis Kelamin\", \"Keterangan\": \"Perempuan\", \"N\": 1599.0, \"Satuan\": \"Orang\"}, {\"Tahun\": 2019, \"Kode\": 1, \"Data\": \"Kependudukan\", \"Kode Kategori\": 1.1, \"Kategori\": \"Jenis Kelamin\", \"Keterangan\": \"Laki-laki\", \"N\": 1341.0, \"Satuan\": \"Orang\"}, {\"Tahun\": 2019, \"Kode\": 1, \"Data\": \"Kependudukan\", \"Kode Kategori\": 1.1, \"Kategori\": \"Jenis Kelamin\", \"Keterangan\": \"Perempuan\", \"N\": 1325.0, \"Satuan\": \"Orang\"}]}}, {\"mode\": \"vega-lite\"});\n",
       "</script>"
      ],
      "text/plain": [
       "alt.Chart(...)"
      ]
     },
     "execution_count": 9,
     "metadata": {},
     "output_type": "execute_result"
    }
   ],
   "source": [
    "df_1 = data('Jenis Kelamin')\n",
    "plot1 = plot_3(df_1,'Orang','Jenis Kelamin',140)\n",
    "plot1"
   ]
  },
  {
   "cell_type": "markdown",
   "metadata": {},
   "source": [
    "<h2> Kependudukan Berdasarkan Agama</h2>"
   ]
  },
  {
   "cell_type": "code",
   "execution_count": 17,
   "metadata": {
    "scrolled": false
   },
   "outputs": [
    {
     "data": {
      "text/html": [
       "\n",
       "<div id=\"altair-viz-1966dbf44ff04b759314540cb470981d\"></div>\n",
       "<script type=\"text/javascript\">\n",
       "  (function(spec, embedOpt){\n",
       "    let outputDiv = document.currentScript.previousElementSibling;\n",
       "    if (outputDiv.id !== \"altair-viz-1966dbf44ff04b759314540cb470981d\") {\n",
       "      outputDiv = document.getElementById(\"altair-viz-1966dbf44ff04b759314540cb470981d\");\n",
       "    }\n",
       "    const paths = {\n",
       "      \"vega\": \"https://cdn.jsdelivr.net/npm//vega@5?noext\",\n",
       "      \"vega-lib\": \"https://cdn.jsdelivr.net/npm//vega-lib?noext\",\n",
       "      \"vega-lite\": \"https://cdn.jsdelivr.net/npm//vega-lite@4.8.1?noext\",\n",
       "      \"vega-embed\": \"https://cdn.jsdelivr.net/npm//vega-embed@6?noext\",\n",
       "    };\n",
       "\n",
       "    function loadScript(lib) {\n",
       "      return new Promise(function(resolve, reject) {\n",
       "        var s = document.createElement('script');\n",
       "        s.src = paths[lib];\n",
       "        s.async = true;\n",
       "        s.onload = () => resolve(paths[lib]);\n",
       "        s.onerror = () => reject(`Error loading script: ${paths[lib]}`);\n",
       "        document.getElementsByTagName(\"head\")[0].appendChild(s);\n",
       "      });\n",
       "    }\n",
       "\n",
       "    function showError(err) {\n",
       "      outputDiv.innerHTML = `<div class=\"error\" style=\"color:red;\">${err}</div>`;\n",
       "      throw err;\n",
       "    }\n",
       "\n",
       "    function displayChart(vegaEmbed) {\n",
       "      vegaEmbed(outputDiv, spec, embedOpt)\n",
       "        .catch(err => showError(`Javascript Error: ${err.message}<br>This usually means there's a typo in your chart specification. See the javascript console for the full traceback.`));\n",
       "    }\n",
       "\n",
       "    if(typeof define === \"function\" && define.amd) {\n",
       "      requirejs.config({paths});\n",
       "      require([\"vega-embed\"], displayChart, err => showError(`Error loading script: ${err.message}`));\n",
       "    } else if (typeof vegaEmbed === \"function\") {\n",
       "      displayChart(vegaEmbed);\n",
       "    } else {\n",
       "      loadScript(\"vega\")\n",
       "        .then(() => loadScript(\"vega-lite\"))\n",
       "        .then(() => loadScript(\"vega-embed\"))\n",
       "        .catch(showError)\n",
       "        .then(() => displayChart(vegaEmbed));\n",
       "    }\n",
       "  })({\"config\": {\"view\": {\"continuousWidth\": 400, \"continuousHeight\": 300}}, \"layer\": [{\"mark\": {\"type\": \"bar\", \"opacity\": 0.8}, \"encoding\": {\"color\": {\"condition\": {\"type\": \"ordinal\", \"field\": \"Tahun\", \"scale\": {\"scheme\": \"blues\"}, \"selection\": \"selector001\"}, \"value\": \"lightgray\"}, \"x\": {\"type\": \"quantitative\", \"axis\": {\"format\": \".0%\"}, \"field\": \"N\", \"stack\": \"normalize\", \"title\": \"Persentase\"}, \"y\": {\"type\": \"ordinal\", \"field\": \"Keterangan\", \"title\": \"Agama\"}}, \"selection\": {\"selector001\": {\"type\": \"single\", \"encodings\": [\"y\", \"color\"]}}}, {\"mark\": {\"type\": \"text\", \"color\": \"white\", \"dx\": -18, \"dy\": 3}, \"encoding\": {\"detail\": {\"type\": \"ordinal\", \"field\": \"Tahun\"}, \"text\": {\"type\": \"ordinal\", \"field\": \"N\"}, \"tooltip\": [{\"type\": \"quantitative\", \"field\": \"Tahun\"}, {\"type\": \"nominal\", \"field\": \"Keterangan\"}, {\"type\": \"quantitative\", \"field\": \"N\"}, {\"type\": \"nominal\", \"field\": \"Satuan\"}], \"x\": {\"type\": \"quantitative\", \"field\": \"N\", \"stack\": \"normalize\"}, \"y\": {\"type\": \"ordinal\", \"field\": \"Keterangan\"}}, \"selection\": {\"selector004\": {\"type\": \"interval\", \"bind\": \"scales\", \"encodings\": [\"x\", \"y\"]}}}], \"data\": {\"name\": \"data-d47213ecd7cbd7da2d227caef7d6c5f0\"}, \"width\": 500, \"$schema\": \"https://vega.github.io/schema/vega-lite/v4.8.1.json\", \"datasets\": {\"data-d47213ecd7cbd7da2d227caef7d6c5f0\": [{\"Tahun\": 2017, \"Kode\": 1, \"Data\": \"Kependudukan\", \"Kode Kategori\": 1.4, \"Kategori\": \"Agama\", \"Keterangan\": \"Islam\", \"N\": 2961.0, \"Satuan\": \"Orang\"}, {\"Tahun\": 2017, \"Kode\": 1, \"Data\": \"Kependudukan\", \"Kode Kategori\": 1.4, \"Kategori\": \"Agama\", \"Keterangan\": \"Kristen\", \"N\": 70.0, \"Satuan\": \"Orang\"}, {\"Tahun\": 2017, \"Kode\": 1, \"Data\": \"Kependudukan\", \"Kode Kategori\": 1.4, \"Kategori\": \"Agama\", \"Keterangan\": \"Katolik\", \"N\": 145.0, \"Satuan\": \"Orang\"}, {\"Tahun\": 2017, \"Kode\": 1, \"Data\": \"Kependudukan\", \"Kode Kategori\": 1.4, \"Kategori\": \"Agama\", \"Keterangan\": \"Hindu\", \"N\": 5.0, \"Satuan\": \"Orang\"}, {\"Tahun\": 2017, \"Kode\": 1, \"Data\": \"Kependudukan\", \"Kode Kategori\": 1.4, \"Kategori\": \"Agama\", \"Keterangan\": \"Budha\", \"N\": null, \"Satuan\": \"Orang\"}, {\"Tahun\": 2019, \"Kode\": 1, \"Data\": \"Kependudukan\", \"Kode Kategori\": 1.4, \"Kategori\": \"Agama\", \"Keterangan\": \"Islam\", \"N\": 2467.0, \"Satuan\": \"Orang\"}, {\"Tahun\": 2019, \"Kode\": 1, \"Data\": \"Kependudukan\", \"Kode Kategori\": 1.4, \"Kategori\": \"Agama\", \"Keterangan\": \"Kristen\", \"N\": 62.0, \"Satuan\": \"Orang\"}, {\"Tahun\": 2019, \"Kode\": 1, \"Data\": \"Kependudukan\", \"Kode Kategori\": 1.4, \"Kategori\": \"Agama\", \"Keterangan\": \"Katolik\", \"N\": 133.0, \"Satuan\": \"Orang\"}, {\"Tahun\": 2019, \"Kode\": 1, \"Data\": \"Kependudukan\", \"Kode Kategori\": 1.4, \"Kategori\": \"Agama\", \"Keterangan\": \"Hindu\", \"N\": 3.0, \"Satuan\": \"Orang\"}, {\"Tahun\": 2019, \"Kode\": 1, \"Data\": \"Kependudukan\", \"Kode Kategori\": 1.4, \"Kategori\": \"Agama\", \"Keterangan\": \"Budha\", \"N\": null, \"Satuan\": \"Orang\"}]}}, {\"mode\": \"vega-lite\"});\n",
       "</script>"
      ],
      "text/plain": [
       "alt.LayerChart(...)"
      ]
     },
     "execution_count": 17,
     "metadata": {},
     "output_type": "execute_result"
    }
   ],
   "source": [
    "df_2 = data('Agama')\n",
    "df_2 = df_2.loc[df_2['Data']=='Kependudukan']\n",
    "plot2 = plot_1(df_2,'Persentase','Agama',500)\n",
    "plot2"
   ]
  },
  {
   "cell_type": "markdown",
   "metadata": {},
   "source": [
    "<h2> Kelompok Usia Pendidikan</h2>"
   ]
  },
  {
   "cell_type": "code",
   "execution_count": 12,
   "metadata": {},
   "outputs": [
    {
     "data": {
      "text/html": [
       "\n",
       "<div id=\"altair-viz-942890f203df46709b225bf5ebc335ea\"></div>\n",
       "<script type=\"text/javascript\">\n",
       "  (function(spec, embedOpt){\n",
       "    let outputDiv = document.currentScript.previousElementSibling;\n",
       "    if (outputDiv.id !== \"altair-viz-942890f203df46709b225bf5ebc335ea\") {\n",
       "      outputDiv = document.getElementById(\"altair-viz-942890f203df46709b225bf5ebc335ea\");\n",
       "    }\n",
       "    const paths = {\n",
       "      \"vega\": \"https://cdn.jsdelivr.net/npm//vega@5?noext\",\n",
       "      \"vega-lib\": \"https://cdn.jsdelivr.net/npm//vega-lib?noext\",\n",
       "      \"vega-lite\": \"https://cdn.jsdelivr.net/npm//vega-lite@4.8.1?noext\",\n",
       "      \"vega-embed\": \"https://cdn.jsdelivr.net/npm//vega-embed@6?noext\",\n",
       "    };\n",
       "\n",
       "    function loadScript(lib) {\n",
       "      return new Promise(function(resolve, reject) {\n",
       "        var s = document.createElement('script');\n",
       "        s.src = paths[lib];\n",
       "        s.async = true;\n",
       "        s.onload = () => resolve(paths[lib]);\n",
       "        s.onerror = () => reject(`Error loading script: ${paths[lib]}`);\n",
       "        document.getElementsByTagName(\"head\")[0].appendChild(s);\n",
       "      });\n",
       "    }\n",
       "\n",
       "    function showError(err) {\n",
       "      outputDiv.innerHTML = `<div class=\"error\" style=\"color:red;\">${err}</div>`;\n",
       "      throw err;\n",
       "    }\n",
       "\n",
       "    function displayChart(vegaEmbed) {\n",
       "      vegaEmbed(outputDiv, spec, embedOpt)\n",
       "        .catch(err => showError(`Javascript Error: ${err.message}<br>This usually means there's a typo in your chart specification. See the javascript console for the full traceback.`));\n",
       "    }\n",
       "\n",
       "    if(typeof define === \"function\" && define.amd) {\n",
       "      requirejs.config({paths});\n",
       "      require([\"vega-embed\"], displayChart, err => showError(`Error loading script: ${err.message}`));\n",
       "    } else if (typeof vegaEmbed === \"function\") {\n",
       "      displayChart(vegaEmbed);\n",
       "    } else {\n",
       "      loadScript(\"vega\")\n",
       "        .then(() => loadScript(\"vega-lite\"))\n",
       "        .then(() => loadScript(\"vega-embed\"))\n",
       "        .catch(showError)\n",
       "        .then(() => displayChart(vegaEmbed));\n",
       "    }\n",
       "  })({\"config\": {\"view\": {\"continuousWidth\": 400, \"continuousHeight\": 300}}, \"data\": {\"name\": \"data-31bb45da8606cf8173ad13d33cf8c96f\"}, \"mark\": {\"type\": \"bar\", \"opacity\": 0.8}, \"encoding\": {\"color\": {\"condition\": {\"type\": \"nominal\", \"field\": \"Tahun\", \"scale\": {\"scheme\": \"blues\"}, \"selection\": \"selector001\"}, \"value\": \"lightgray\"}, \"column\": {\"type\": \"ordinal\", \"field\": \"Tahun\", \"title\": \"\"}, \"tooltip\": [{\"type\": \"quantitative\", \"field\": \"Tahun\"}, {\"type\": \"nominal\", \"field\": \"Keterangan\"}, {\"type\": \"quantitative\", \"field\": \"N\"}, {\"type\": \"nominal\", \"field\": \"Satuan\"}], \"x\": {\"type\": \"ordinal\", \"field\": \"Keterangan\", \"title\": \"Kelompok Pendidikan\"}, \"y\": {\"type\": \"quantitative\", \"axis\": {\"tickMinStep\": 1}, \"field\": \"N\", \"title\": \"Orang\"}}, \"resolve\": {\"scale\": {\"x\": \"independent\"}}, \"selection\": {\"selector001\": {\"type\": \"single\", \"encodings\": [\"y\", \"color\"]}, \"selector006\": {\"type\": \"interval\", \"bind\": \"scales\", \"encodings\": [\"x\", \"y\"]}}, \"width\": 300, \"$schema\": \"https://vega.github.io/schema/vega-lite/v4.8.1.json\", \"datasets\": {\"data-31bb45da8606cf8173ad13d33cf8c96f\": [{\"Tahun\": 2017, \"Kode\": 1, \"Data\": \"Kependudukan\", \"Kode Kategori\": 1.5, \"Kategori\": \"Kelompok Pendidikan\", \"Keterangan\": \"00-03 tahun\", \"N\": 141.0, \"Satuan\": \"Orang\"}, {\"Tahun\": 2017, \"Kode\": 1, \"Data\": \"Kependudukan\", \"Kode Kategori\": 1.5, \"Kategori\": \"Kelompok Pendidikan\", \"Keterangan\": \"04-06 tahun\", \"N\": 111.0, \"Satuan\": \"Orang\"}, {\"Tahun\": 2017, \"Kode\": 1, \"Data\": \"Kependudukan\", \"Kode Kategori\": 1.5, \"Kategori\": \"Kelompok Pendidikan\", \"Keterangan\": \"07-12 tahun\", \"N\": 239.0, \"Satuan\": \"Orang\"}, {\"Tahun\": 2017, \"Kode\": 1, \"Data\": \"Kependudukan\", \"Kode Kategori\": 1.5, \"Kategori\": \"Kelompok Pendidikan\", \"Keterangan\": \"13-15 tahun\", \"N\": 112.0, \"Satuan\": \"Orang\"}, {\"Tahun\": 2017, \"Kode\": 1, \"Data\": \"Kependudukan\", \"Kode Kategori\": 1.5, \"Kategori\": \"Kelompok Pendidikan\", \"Keterangan\": \"16-18 tahun\", \"N\": 116.0, \"Satuan\": \"Orang\"}, {\"Tahun\": 2017, \"Kode\": 1, \"Data\": \"Kependudukan\", \"Kode Kategori\": 1.5, \"Kategori\": \"Kelompok Pendidikan\", \"Keterangan\": \"19 tahu keatas\", \"N\": 2420.0, \"Satuan\": \"Orang\"}, {\"Tahun\": 2019, \"Kode\": 1, \"Data\": \"Kependudukan\", \"Kode Kategori\": 1.5, \"Kategori\": \"Kelompok Pendidikan\", \"Keterangan\": \"00-04 tahun\", \"N\": 170.0, \"Satuan\": \"Orang\"}, {\"Tahun\": 2019, \"Kode\": 1, \"Data\": \"Kependudukan\", \"Kode Kategori\": 1.5, \"Kategori\": \"Kelompok Pendidikan\", \"Keterangan\": \"05-09 tahun\", \"N\": 190.0, \"Satuan\": \"Orang\"}, {\"Tahun\": 2019, \"Kode\": 1, \"Data\": \"Kependudukan\", \"Kode Kategori\": 1.5, \"Kategori\": \"Kelompok Pendidikan\", \"Keterangan\": \"10-14 tahun\", \"N\": 187.0, \"Satuan\": \"Orang\"}, {\"Tahun\": 2019, \"Kode\": 1, \"Data\": \"Kependudukan\", \"Kode Kategori\": 1.5, \"Kategori\": \"Kelompok Pendidikan\", \"Keterangan\": \"15-19 tahun\", \"N\": 183.0, \"Satuan\": \"Orang\"}, {\"Tahun\": 2019, \"Kode\": 1, \"Data\": \"Kependudukan\", \"Kode Kategori\": 1.5, \"Kategori\": \"Kelompok Pendidikan\", \"Keterangan\": \"19 tahu keatas\", \"N\": 1936.0, \"Satuan\": \"Orang\"}]}}, {\"mode\": \"vega-lite\"});\n",
       "</script>"
      ],
      "text/plain": [
       "alt.Chart(...)"
      ]
     },
     "execution_count": 12,
     "metadata": {},
     "output_type": "execute_result"
    }
   ],
   "source": [
    "df_3 = data('Kelompok Pendidikan')\n",
    "plot3 = plot_2(df_3,'Orang','Kelompok Pendidikan',300)\n",
    "plot3"
   ]
  },
  {
   "cell_type": "markdown",
   "metadata": {},
   "source": [
    "<h2> Kelompok Usia Tenaga Kerja</h2>"
   ]
  },
  {
   "cell_type": "code",
   "execution_count": 13,
   "metadata": {},
   "outputs": [
    {
     "data": {
      "text/html": [
       "\n",
       "<div id=\"altair-viz-1df64e1b158548dc97d61481f541cd58\"></div>\n",
       "<script type=\"text/javascript\">\n",
       "  (function(spec, embedOpt){\n",
       "    let outputDiv = document.currentScript.previousElementSibling;\n",
       "    if (outputDiv.id !== \"altair-viz-1df64e1b158548dc97d61481f541cd58\") {\n",
       "      outputDiv = document.getElementById(\"altair-viz-1df64e1b158548dc97d61481f541cd58\");\n",
       "    }\n",
       "    const paths = {\n",
       "      \"vega\": \"https://cdn.jsdelivr.net/npm//vega@5?noext\",\n",
       "      \"vega-lib\": \"https://cdn.jsdelivr.net/npm//vega-lib?noext\",\n",
       "      \"vega-lite\": \"https://cdn.jsdelivr.net/npm//vega-lite@4.8.1?noext\",\n",
       "      \"vega-embed\": \"https://cdn.jsdelivr.net/npm//vega-embed@6?noext\",\n",
       "    };\n",
       "\n",
       "    function loadScript(lib) {\n",
       "      return new Promise(function(resolve, reject) {\n",
       "        var s = document.createElement('script');\n",
       "        s.src = paths[lib];\n",
       "        s.async = true;\n",
       "        s.onload = () => resolve(paths[lib]);\n",
       "        s.onerror = () => reject(`Error loading script: ${paths[lib]}`);\n",
       "        document.getElementsByTagName(\"head\")[0].appendChild(s);\n",
       "      });\n",
       "    }\n",
       "\n",
       "    function showError(err) {\n",
       "      outputDiv.innerHTML = `<div class=\"error\" style=\"color:red;\">${err}</div>`;\n",
       "      throw err;\n",
       "    }\n",
       "\n",
       "    function displayChart(vegaEmbed) {\n",
       "      vegaEmbed(outputDiv, spec, embedOpt)\n",
       "        .catch(err => showError(`Javascript Error: ${err.message}<br>This usually means there's a typo in your chart specification. See the javascript console for the full traceback.`));\n",
       "    }\n",
       "\n",
       "    if(typeof define === \"function\" && define.amd) {\n",
       "      requirejs.config({paths});\n",
       "      require([\"vega-embed\"], displayChart, err => showError(`Error loading script: ${err.message}`));\n",
       "    } else if (typeof vegaEmbed === \"function\") {\n",
       "      displayChart(vegaEmbed);\n",
       "    } else {\n",
       "      loadScript(\"vega\")\n",
       "        .then(() => loadScript(\"vega-lite\"))\n",
       "        .then(() => loadScript(\"vega-embed\"))\n",
       "        .catch(showError)\n",
       "        .then(() => displayChart(vegaEmbed));\n",
       "    }\n",
       "  })({\"config\": {\"view\": {\"continuousWidth\": 400, \"continuousHeight\": 300}}, \"data\": {\"name\": \"data-9c1d6ab0f9ff15493c19951d946590d6\"}, \"mark\": {\"type\": \"bar\", \"opacity\": 0.8}, \"encoding\": {\"color\": {\"condition\": {\"type\": \"nominal\", \"field\": \"Tahun\", \"scale\": {\"scheme\": \"blues\"}, \"selection\": \"selector001\"}, \"value\": \"lightgray\"}, \"column\": {\"type\": \"ordinal\", \"field\": \"Tahun\", \"title\": \"\"}, \"tooltip\": [{\"type\": \"quantitative\", \"field\": \"Tahun\"}, {\"type\": \"nominal\", \"field\": \"Keterangan\"}, {\"type\": \"quantitative\", \"field\": \"N\"}, {\"type\": \"nominal\", \"field\": \"Satuan\"}], \"x\": {\"type\": \"ordinal\", \"field\": \"Keterangan\", \"title\": \"Kelompok Tenaga Kerja\"}, \"y\": {\"type\": \"quantitative\", \"axis\": {\"tickMinStep\": 1}, \"field\": \"N\", \"title\": \"Orang\"}}, \"resolve\": {\"scale\": {\"x\": \"independent\"}}, \"selection\": {\"selector001\": {\"type\": \"single\", \"encodings\": [\"y\", \"color\"]}, \"selector007\": {\"type\": \"interval\", \"bind\": \"scales\", \"encodings\": [\"x\", \"y\"]}}, \"width\": 300, \"$schema\": \"https://vega.github.io/schema/vega-lite/v4.8.1.json\", \"datasets\": {\"data-9c1d6ab0f9ff15493c19951d946590d6\": [{\"Tahun\": 2017, \"Kode\": 1, \"Data\": \"Kependudukan\", \"Kode Kategori\": 1.6, \"Kategori\": \"Kelompok Tenaga Kerja\", \"Keterangan\": \"10-14 tahun\", \"N\": 182.0, \"Satuan\": \"Orang\"}, {\"Tahun\": 2017, \"Kode\": 1, \"Data\": \"Kependudukan\", \"Kode Kategori\": 1.6, \"Kategori\": \"Kelompok Tenaga Kerja\", \"Keterangan\": \"15-19 tahun\", \"N\": 195.0, \"Satuan\": \"Orang\"}, {\"Tahun\": 2017, \"Kode\": 1, \"Data\": \"Kependudukan\", \"Kode Kategori\": 1.6, \"Kategori\": \"Kelompok Tenaga Kerja\", \"Keterangan\": \"20-26 tahun\", \"N\": 284.0, \"Satuan\": \"Orang\"}, {\"Tahun\": 2017, \"Kode\": 1, \"Data\": \"Kependudukan\", \"Kode Kategori\": 1.6, \"Kategori\": \"Kelompok Tenaga Kerja\", \"Keterangan\": \"27-40 tahun\", \"N\": 855.0, \"Satuan\": \"Orang\"}, {\"Tahun\": 2017, \"Kode\": 1, \"Data\": \"Kependudukan\", \"Kode Kategori\": 1.6, \"Kategori\": \"Kelompok Tenaga Kerja\", \"Keterangan\": \"41-56 tahun\", \"N\": 386.0, \"Satuan\": \"Orang\"}, {\"Tahun\": 2017, \"Kode\": 1, \"Data\": \"Kependudukan\", \"Kode Kategori\": 1.6, \"Kategori\": \"Kelompok Tenaga Kerja\", \"Keterangan\": \"57 tahun keatas\", \"N\": 276.0, \"Satuan\": \"Orang\"}, {\"Tahun\": 2019, \"Kode\": 1, \"Data\": \"Kependudukan\", \"Kode Kategori\": 1.6, \"Kategori\": \"Kelompok Tenaga Kerja\", \"Keterangan\": \"20-24 tahun\", \"N\": 188.0, \"Satuan\": \"Orang\"}, {\"Tahun\": 2019, \"Kode\": 1, \"Data\": \"Kependudukan\", \"Kode Kategori\": 1.6, \"Kategori\": \"Kelompok Tenaga Kerja\", \"Keterangan\": \"25-29 tahun\", \"N\": 189.0, \"Satuan\": \"Orang\"}, {\"Tahun\": 2019, \"Kode\": 1, \"Data\": \"Kependudukan\", \"Kode Kategori\": 1.6, \"Kategori\": \"Kelompok Tenaga Kerja\", \"Keterangan\": \"30-34 tahun\", \"N\": 195.0, \"Satuan\": \"Orang\"}, {\"Tahun\": 2019, \"Kode\": 1, \"Data\": \"Kependudukan\", \"Kode Kategori\": 1.6, \"Kategori\": \"Kelompok Tenaga Kerja\", \"Keterangan\": \"35-39 tahun\", \"N\": 197.0, \"Satuan\": \"Orang\"}, {\"Tahun\": 2019, \"Kode\": 1, \"Data\": \"Kependudukan\", \"Kode Kategori\": 1.6, \"Kategori\": \"Kelompok Tenaga Kerja\", \"Keterangan\": \"40-54 tahun\", \"N\": 503.0, \"Satuan\": \"Orang\"}, {\"Tahun\": 2019, \"Kode\": 1, \"Data\": \"Kependudukan\", \"Kode Kategori\": 1.6, \"Kategori\": \"Kelompok Tenaga Kerja\", \"Keterangan\": \"55 tahun keatas\", \"N\": 664.0, \"Satuan\": \"Orang\"}]}}, {\"mode\": \"vega-lite\"});\n",
       "</script>"
      ],
      "text/plain": [
       "alt.Chart(...)"
      ]
     },
     "execution_count": 13,
     "metadata": {},
     "output_type": "execute_result"
    }
   ],
   "source": [
    "df_4 = data('Kelompok Tenaga Kerja')\n",
    "plot4 = plot_2(df_4,'Orang','Kelompok Tenaga Kerja',300)\n",
    "plot4"
   ]
  },
  {
   "cell_type": "markdown",
   "metadata": {},
   "source": [
    "<h2> Lulusan Pendidikan</h2>"
   ]
  },
  {
   "cell_type": "code",
   "execution_count": 14,
   "metadata": {},
   "outputs": [
    {
     "data": {
      "text/html": [
       "\n",
       "<div id=\"altair-viz-463f95f6785e463ba63769ab08abdcfa\"></div>\n",
       "<script type=\"text/javascript\">\n",
       "  (function(spec, embedOpt){\n",
       "    let outputDiv = document.currentScript.previousElementSibling;\n",
       "    if (outputDiv.id !== \"altair-viz-463f95f6785e463ba63769ab08abdcfa\") {\n",
       "      outputDiv = document.getElementById(\"altair-viz-463f95f6785e463ba63769ab08abdcfa\");\n",
       "    }\n",
       "    const paths = {\n",
       "      \"vega\": \"https://cdn.jsdelivr.net/npm//vega@5?noext\",\n",
       "      \"vega-lib\": \"https://cdn.jsdelivr.net/npm//vega-lib?noext\",\n",
       "      \"vega-lite\": \"https://cdn.jsdelivr.net/npm//vega-lite@4.8.1?noext\",\n",
       "      \"vega-embed\": \"https://cdn.jsdelivr.net/npm//vega-embed@6?noext\",\n",
       "    };\n",
       "\n",
       "    function loadScript(lib) {\n",
       "      return new Promise(function(resolve, reject) {\n",
       "        var s = document.createElement('script');\n",
       "        s.src = paths[lib];\n",
       "        s.async = true;\n",
       "        s.onload = () => resolve(paths[lib]);\n",
       "        s.onerror = () => reject(`Error loading script: ${paths[lib]}`);\n",
       "        document.getElementsByTagName(\"head\")[0].appendChild(s);\n",
       "      });\n",
       "    }\n",
       "\n",
       "    function showError(err) {\n",
       "      outputDiv.innerHTML = `<div class=\"error\" style=\"color:red;\">${err}</div>`;\n",
       "      throw err;\n",
       "    }\n",
       "\n",
       "    function displayChart(vegaEmbed) {\n",
       "      vegaEmbed(outputDiv, spec, embedOpt)\n",
       "        .catch(err => showError(`Javascript Error: ${err.message}<br>This usually means there's a typo in your chart specification. See the javascript console for the full traceback.`));\n",
       "    }\n",
       "\n",
       "    if(typeof define === \"function\" && define.amd) {\n",
       "      requirejs.config({paths});\n",
       "      require([\"vega-embed\"], displayChart, err => showError(`Error loading script: ${err.message}`));\n",
       "    } else if (typeof vegaEmbed === \"function\") {\n",
       "      displayChart(vegaEmbed);\n",
       "    } else {\n",
       "      loadScript(\"vega\")\n",
       "        .then(() => loadScript(\"vega-lite\"))\n",
       "        .then(() => loadScript(\"vega-embed\"))\n",
       "        .catch(showError)\n",
       "        .then(() => displayChart(vegaEmbed));\n",
       "    }\n",
       "  })({\"config\": {\"view\": {\"continuousWidth\": 400, \"continuousHeight\": 300}}, \"layer\": [{\"mark\": {\"type\": \"bar\", \"opacity\": 0.8}, \"encoding\": {\"color\": {\"condition\": {\"type\": \"ordinal\", \"field\": \"Tahun\", \"scale\": {\"scheme\": \"blues\"}, \"selection\": \"selector001\"}, \"value\": \"lightgray\"}, \"x\": {\"type\": \"quantitative\", \"axis\": {\"format\": \".0%\"}, \"field\": \"N\", \"stack\": \"normalize\", \"title\": \"Persentase\"}, \"y\": {\"type\": \"ordinal\", \"field\": \"Keterangan\", \"title\": \"Tingkat Pendidikan\"}}, \"selection\": {\"selector001\": {\"type\": \"single\", \"encodings\": [\"y\", \"color\"]}}}, {\"mark\": {\"type\": \"text\", \"color\": \"white\", \"dx\": -18, \"dy\": 3}, \"encoding\": {\"detail\": {\"type\": \"ordinal\", \"field\": \"Tahun\"}, \"text\": {\"type\": \"ordinal\", \"field\": \"N\"}, \"tooltip\": [{\"type\": \"quantitative\", \"field\": \"Tahun\"}, {\"type\": \"nominal\", \"field\": \"Keterangan\"}, {\"type\": \"quantitative\", \"field\": \"N\"}, {\"type\": \"nominal\", \"field\": \"Satuan\"}], \"x\": {\"type\": \"quantitative\", \"field\": \"N\", \"stack\": \"normalize\"}, \"y\": {\"type\": \"ordinal\", \"field\": \"Keterangan\"}}, \"selection\": {\"selector008\": {\"type\": \"interval\", \"bind\": \"scales\", \"encodings\": [\"x\", \"y\"]}}}], \"data\": {\"name\": \"data-e4efca60f8f51d259289dc62570b2b7b\"}, \"width\": 500, \"$schema\": \"https://vega.github.io/schema/vega-lite/v4.8.1.json\", \"datasets\": {\"data-e4efca60f8f51d259289dc62570b2b7b\": [{\"Tahun\": 2017, \"Kode\": 1, \"Data\": \"Kependudukan\", \"Kode Kategori\": 1.7, \"Kategori\": \"Penduduk menurut Tingkat Pendidikan\", \"Keterangan\": \"Taman Kanak-kanak\", \"N\": 93.0, \"Satuan\": \"Orang\"}, {\"Tahun\": 2017, \"Kode\": 1, \"Data\": \"Kependudukan\", \"Kode Kategori\": 1.7, \"Kategori\": \"Penduduk menurut Tingkat Pendidikan\", \"Keterangan\": \"Sekolah Dasar\", \"N\": 811.0, \"Satuan\": \"Orang\"}, {\"Tahun\": 2017, \"Kode\": 1, \"Data\": \"Kependudukan\", \"Kode Kategori\": 1.7, \"Kategori\": \"Penduduk menurut Tingkat Pendidikan\", \"Keterangan\": \"SMP/SLTP\", \"N\": 640.0, \"Satuan\": \"Orang\"}, {\"Tahun\": 2017, \"Kode\": 1, \"Data\": \"Kependudukan\", \"Kode Kategori\": 1.7, \"Kategori\": \"Penduduk menurut Tingkat Pendidikan\", \"Keterangan\": \"SMA/SLTA\", \"N\": 602.0, \"Satuan\": \"Orang\"}, {\"Tahun\": 2017, \"Kode\": 1, \"Data\": \"Kependudukan\", \"Kode Kategori\": 1.7, \"Kategori\": \"Penduduk menurut Tingkat Pendidikan\", \"Keterangan\": \"Akademi (DI-D3)\", \"N\": 35.0, \"Satuan\": \"Orang\"}, {\"Tahun\": 2017, \"Kode\": 1, \"Data\": \"Kependudukan\", \"Kode Kategori\": 1.7, \"Kategori\": \"Penduduk menurut Tingkat Pendidikan\", \"Keterangan\": \"Sarjana (S1-S3)\", \"N\": 8.0, \"Satuan\": \"Orang\"}, {\"Tahun\": 2017, \"Kode\": 1, \"Data\": \"Kependudukan\", \"Kode Kategori\": 1.7, \"Kategori\": \"Penduduk menurut Tingkat Pendidikan\", \"Keterangan\": \"Sekolah Luar Biasa\", \"N\": 3.0, \"Satuan\": \"Orang\"}, {\"Tahun\": 2019, \"Kode\": 1, \"Data\": \"Kependudukan\", \"Kode Kategori\": 1.7, \"Kategori\": \"Penduduk menurut Tingkat Pendidikan\", \"Keterangan\": \"Taman Kanak-kanak\", \"N\": 237.0, \"Satuan\": \"Orang\"}, {\"Tahun\": 2019, \"Kode\": 1, \"Data\": \"Kependudukan\", \"Kode Kategori\": 1.7, \"Kategori\": \"Penduduk menurut Tingkat Pendidikan\", \"Keterangan\": \"Sekolah Dasar\", \"N\": 722.0, \"Satuan\": \"Orang\"}, {\"Tahun\": 2019, \"Kode\": 1, \"Data\": \"Kependudukan\", \"Kode Kategori\": 1.7, \"Kategori\": \"Penduduk menurut Tingkat Pendidikan\", \"Keterangan\": \"SMP/SLTP\", \"N\": 426.0, \"Satuan\": \"Orang\"}, {\"Tahun\": 2019, \"Kode\": 1, \"Data\": \"Kependudukan\", \"Kode Kategori\": 1.7, \"Kategori\": \"Penduduk menurut Tingkat Pendidikan\", \"Keterangan\": \"SMA/SLTA\", \"N\": 641.0, \"Satuan\": \"Orang\"}, {\"Tahun\": 2019, \"Kode\": 1, \"Data\": \"Kependudukan\", \"Kode Kategori\": 1.7, \"Kategori\": \"Penduduk menurut Tingkat Pendidikan\", \"Keterangan\": \"Akademi (DI-D3)\", \"N\": 26.0, \"Satuan\": \"Orang\"}, {\"Tahun\": 2019, \"Kode\": 1, \"Data\": \"Kependudukan\", \"Kode Kategori\": 1.7, \"Kategori\": \"Penduduk menurut Tingkat Pendidikan\", \"Keterangan\": \"Sarjana (S1-S3)\", \"N\": 54.0, \"Satuan\": \"Orang\"}, {\"Tahun\": 2019, \"Kode\": 1, \"Data\": \"Kependudukan\", \"Kode Kategori\": 1.7, \"Kategori\": \"Penduduk menurut Tingkat Pendidikan\", \"Keterangan\": \"Sekolah Luar Biasa\", \"N\": null, \"Satuan\": \"Orang\"}]}}, {\"mode\": \"vega-lite\"});\n",
       "</script>"
      ],
      "text/plain": [
       "alt.LayerChart(...)"
      ]
     },
     "execution_count": 14,
     "metadata": {},
     "output_type": "execute_result"
    }
   ],
   "source": [
    "df_5 = data('Penduduk menurut Tingkat Pendidikan')\n",
    "plot5 = plot_1(df_5,'Persentase','Tingkat Pendidikan',500)\n",
    "plot5"
   ]
  },
  {
   "cell_type": "markdown",
   "metadata": {},
   "source": [
    "<h2> Kependudukan Berdasarkan Mata Pencaharian</h2>"
   ]
  },
  {
   "cell_type": "code",
   "execution_count": 15,
   "metadata": {},
   "outputs": [
    {
     "data": {
      "text/html": [
       "\n",
       "<div id=\"altair-viz-e8547365911246b3acbdaf2cf46ac842\"></div>\n",
       "<script type=\"text/javascript\">\n",
       "  (function(spec, embedOpt){\n",
       "    let outputDiv = document.currentScript.previousElementSibling;\n",
       "    if (outputDiv.id !== \"altair-viz-e8547365911246b3acbdaf2cf46ac842\") {\n",
       "      outputDiv = document.getElementById(\"altair-viz-e8547365911246b3acbdaf2cf46ac842\");\n",
       "    }\n",
       "    const paths = {\n",
       "      \"vega\": \"https://cdn.jsdelivr.net/npm//vega@5?noext\",\n",
       "      \"vega-lib\": \"https://cdn.jsdelivr.net/npm//vega-lib?noext\",\n",
       "      \"vega-lite\": \"https://cdn.jsdelivr.net/npm//vega-lite@4.8.1?noext\",\n",
       "      \"vega-embed\": \"https://cdn.jsdelivr.net/npm//vega-embed@6?noext\",\n",
       "    };\n",
       "\n",
       "    function loadScript(lib) {\n",
       "      return new Promise(function(resolve, reject) {\n",
       "        var s = document.createElement('script');\n",
       "        s.src = paths[lib];\n",
       "        s.async = true;\n",
       "        s.onload = () => resolve(paths[lib]);\n",
       "        s.onerror = () => reject(`Error loading script: ${paths[lib]}`);\n",
       "        document.getElementsByTagName(\"head\")[0].appendChild(s);\n",
       "      });\n",
       "    }\n",
       "\n",
       "    function showError(err) {\n",
       "      outputDiv.innerHTML = `<div class=\"error\" style=\"color:red;\">${err}</div>`;\n",
       "      throw err;\n",
       "    }\n",
       "\n",
       "    function displayChart(vegaEmbed) {\n",
       "      vegaEmbed(outputDiv, spec, embedOpt)\n",
       "        .catch(err => showError(`Javascript Error: ${err.message}<br>This usually means there's a typo in your chart specification. See the javascript console for the full traceback.`));\n",
       "    }\n",
       "\n",
       "    if(typeof define === \"function\" && define.amd) {\n",
       "      requirejs.config({paths});\n",
       "      require([\"vega-embed\"], displayChart, err => showError(`Error loading script: ${err.message}`));\n",
       "    } else if (typeof vegaEmbed === \"function\") {\n",
       "      displayChart(vegaEmbed);\n",
       "    } else {\n",
       "      loadScript(\"vega\")\n",
       "        .then(() => loadScript(\"vega-lite\"))\n",
       "        .then(() => loadScript(\"vega-embed\"))\n",
       "        .catch(showError)\n",
       "        .then(() => displayChart(vegaEmbed));\n",
       "    }\n",
       "  })({\"config\": {\"view\": {\"continuousWidth\": 400, \"continuousHeight\": 300}}, \"data\": {\"name\": \"data-24693cff9a4fe87a614adec81f37bab3\"}, \"mark\": {\"type\": \"bar\", \"opacity\": 0.8}, \"encoding\": {\"color\": {\"condition\": {\"type\": \"nominal\", \"field\": \"Tahun\", \"scale\": {\"scheme\": \"blues\"}, \"selection\": \"selector001\"}, \"value\": \"lightgray\"}, \"column\": {\"type\": \"ordinal\", \"field\": \"Tahun\", \"title\": \"\"}, \"tooltip\": [{\"type\": \"quantitative\", \"field\": \"Tahun\"}, {\"type\": \"nominal\", \"field\": \"Keterangan\"}, {\"type\": \"quantitative\", \"field\": \"N\"}, {\"type\": \"nominal\", \"field\": \"Satuan\"}], \"x\": {\"type\": \"ordinal\", \"field\": \"Keterangan\", \"title\": \"Mata Pencaharian\"}, \"y\": {\"type\": \"quantitative\", \"axis\": {\"tickMinStep\": 1}, \"field\": \"N\", \"title\": \"Orang\"}}, \"resolve\": {\"scale\": {\"x\": \"independent\"}}, \"selection\": {\"selector001\": {\"type\": \"single\", \"encodings\": [\"y\", \"color\"]}, \"selector009\": {\"type\": \"interval\", \"bind\": \"scales\", \"encodings\": [\"x\", \"y\"]}}, \"width\": 300, \"$schema\": \"https://vega.github.io/schema/vega-lite/v4.8.1.json\", \"datasets\": {\"data-24693cff9a4fe87a614adec81f37bab3\": [{\"Tahun\": 2017, \"Kode\": 1, \"Data\": \"Kependudukan\", \"Kode Kategori\": 1.8, \"Kategori\": \"Penduduk menurut Mata Pencaharian\", \"Keterangan\": \"PNS\", \"N\": 10.0, \"Satuan\": \"Orang\"}, {\"Tahun\": 2017, \"Kode\": 1, \"Data\": \"Kependudukan\", \"Kode Kategori\": 1.8, \"Kategori\": \"Penduduk menurut Mata Pencaharian\", \"Keterangan\": \"ABRI\", \"N\": 2.0, \"Satuan\": \"Orang\"}, {\"Tahun\": 2017, \"Kode\": 1, \"Data\": \"Kependudukan\", \"Kode Kategori\": 1.8, \"Kategori\": \"Penduduk menurut Mata Pencaharian\", \"Keterangan\": \"Karyawan Swasta\", \"N\": 48.0, \"Satuan\": \"Orang\"}, {\"Tahun\": 2017, \"Kode\": 1, \"Data\": \"Kependudukan\", \"Kode Kategori\": 1.8, \"Kategori\": \"Penduduk menurut Mata Pencaharian\", \"Keterangan\": \"Wiraswasta/Pedagang\", \"N\": 125.0, \"Satuan\": \"Orang\"}, {\"Tahun\": 2017, \"Kode\": 1, \"Data\": \"Kependudukan\", \"Kode Kategori\": 1.8, \"Kategori\": \"Penduduk menurut Mata Pencaharian\", \"Keterangan\": \"Tani\", \"N\": 195.0, \"Satuan\": \"Orang\"}, {\"Tahun\": 2017, \"Kode\": 1, \"Data\": \"Kependudukan\", \"Kode Kategori\": 1.8, \"Kategori\": \"Penduduk menurut Mata Pencaharian\", \"Keterangan\": \"Pertukangan\", \"N\": 58.0, \"Satuan\": \"Orang\"}, {\"Tahun\": 2017, \"Kode\": 1, \"Data\": \"Kependudukan\", \"Kode Kategori\": 1.8, \"Kategori\": \"Penduduk menurut Mata Pencaharian\", \"Keterangan\": \"Buruh Tani\", \"N\": 254.0, \"Satuan\": \"Orang\"}, {\"Tahun\": 2017, \"Kode\": 1, \"Data\": \"Kependudukan\", \"Kode Kategori\": 1.8, \"Kategori\": \"Penduduk menurut Mata Pencaharian\", \"Keterangan\": \"Pensiunan\", \"N\": 14.0, \"Satuan\": \"Orang\"}, {\"Tahun\": 2017, \"Kode\": 1, \"Data\": \"Kependudukan\", \"Kode Kategori\": 1.8, \"Kategori\": \"Penduduk menurut Mata Pencaharian\", \"Keterangan\": \"Nelayan\", \"N\": null, \"Satuan\": \"Orang\"}, {\"Tahun\": 2017, \"Kode\": 1, \"Data\": \"Kependudukan\", \"Kode Kategori\": 1.8, \"Kategori\": \"Penduduk menurut Mata Pencaharian\", \"Keterangan\": \"Pemulung\", \"N\": 2.0, \"Satuan\": \"Orang\"}, {\"Tahun\": 2017, \"Kode\": 1, \"Data\": \"Kependudukan\", \"Kode Kategori\": 1.8, \"Kategori\": \"Penduduk menurut Mata Pencaharian\", \"Keterangan\": \"Jasa\", \"N\": 4.0, \"Satuan\": \"Orang\"}, {\"Tahun\": 2019, \"Kode\": 1, \"Data\": \"Kependudukan\", \"Kode Kategori\": 1.8, \"Kategori\": \"Penduduk menurut Mata Pencaharian\", \"Keterangan\": \"PNS\", \"N\": 16.0, \"Satuan\": \"Orang\"}, {\"Tahun\": 2019, \"Kode\": 1, \"Data\": \"Kependudukan\", \"Kode Kategori\": 1.8, \"Kategori\": \"Penduduk menurut Mata Pencaharian\", \"Keterangan\": \"ABRI\", \"N\": 2.0, \"Satuan\": \"Orang\"}, {\"Tahun\": 2019, \"Kode\": 1, \"Data\": \"Kependudukan\", \"Kode Kategori\": 1.8, \"Kategori\": \"Penduduk menurut Mata Pencaharian\", \"Keterangan\": \"Karyawan Swasta\", \"N\": 195.0, \"Satuan\": \"Orang\"}, {\"Tahun\": 2019, \"Kode\": 1, \"Data\": \"Kependudukan\", \"Kode Kategori\": 1.8, \"Kategori\": \"Penduduk menurut Mata Pencaharian\", \"Keterangan\": \"Wiraswasta/Pedagang\", \"N\": 100.0, \"Satuan\": \"Orang\"}, {\"Tahun\": 2019, \"Kode\": 1, \"Data\": \"Kependudukan\", \"Kode Kategori\": 1.8, \"Kategori\": \"Penduduk menurut Mata Pencaharian\", \"Keterangan\": \"Tani\", \"N\": 9.0, \"Satuan\": \"Orang\"}, {\"Tahun\": 2019, \"Kode\": 1, \"Data\": \"Kependudukan\", \"Kode Kategori\": 1.8, \"Kategori\": \"Penduduk menurut Mata Pencaharian\", \"Keterangan\": \"Pertukangan\", \"N\": 5.0, \"Satuan\": \"Orang\"}, {\"Tahun\": 2019, \"Kode\": 1, \"Data\": \"Kependudukan\", \"Kode Kategori\": 1.8, \"Kategori\": \"Penduduk menurut Mata Pencaharian\", \"Keterangan\": \"Buruh Tani\", \"N\": 19.0, \"Satuan\": \"Orang\"}, {\"Tahun\": 2019, \"Kode\": 1, \"Data\": \"Kependudukan\", \"Kode Kategori\": 1.8, \"Kategori\": \"Penduduk menurut Mata Pencaharian\", \"Keterangan\": \"Pensiunan\", \"N\": 15.0, \"Satuan\": \"Orang\"}, {\"Tahun\": 2019, \"Kode\": 1, \"Data\": \"Kependudukan\", \"Kode Kategori\": 1.8, \"Kategori\": \"Penduduk menurut Mata Pencaharian\", \"Keterangan\": \"Nelayan\", \"N\": 2.0, \"Satuan\": \"Orang\"}, {\"Tahun\": 2019, \"Kode\": 1, \"Data\": \"Kependudukan\", \"Kode Kategori\": 1.8, \"Kategori\": \"Penduduk menurut Mata Pencaharian\", \"Keterangan\": \"Pemulung\", \"N\": 2.0, \"Satuan\": \"Orang\"}, {\"Tahun\": 2019, \"Kode\": 1, \"Data\": \"Kependudukan\", \"Kode Kategori\": 1.8, \"Kategori\": \"Penduduk menurut Mata Pencaharian\", \"Keterangan\": \"BUMN\", \"N\": 2.0, \"Satuan\": \"Orang\"}, {\"Tahun\": 2019, \"Kode\": 1, \"Data\": \"Kependudukan\", \"Kode Kategori\": 1.8, \"Kategori\": \"Penduduk menurut Mata Pencaharian\", \"Keterangan\": \"Honorer\", \"N\": 2.0, \"Satuan\": \"Orang\"}, {\"Tahun\": 2019, \"Kode\": 1, \"Data\": \"Kependudukan\", \"Kode Kategori\": 1.8, \"Kategori\": \"Penduduk menurut Mata Pencaharian\", \"Keterangan\": \"Guru\", \"N\": 5.0, \"Satuan\": \"Orang\"}, {\"Tahun\": 2019, \"Kode\": 1, \"Data\": \"Kependudukan\", \"Kode Kategori\": 1.8, \"Kategori\": \"Penduduk menurut Mata Pencaharian\", \"Keterangan\": \"Bidan\", \"N\": 1.0, \"Satuan\": \"Orang\"}, {\"Tahun\": 2019, \"Kode\": 1, \"Data\": \"Kependudukan\", \"Kode Kategori\": 1.8, \"Kategori\": \"Penduduk menurut Mata Pencaharian\", \"Keterangan\": \"Perawat\", \"N\": 2.0, \"Satuan\": \"Orang\"}, {\"Tahun\": 2019, \"Kode\": 1, \"Data\": \"Kependudukan\", \"Kode Kategori\": 1.8, \"Kategori\": \"Penduduk menurut Mata Pencaharian\", \"Keterangan\": \"Pendeta\", \"N\": 2.0, \"Satuan\": \"Orang\"}, {\"Tahun\": 2019, \"Kode\": 1, \"Data\": \"Kependudukan\", \"Kode Kategori\": 1.8, \"Kategori\": \"Penduduk menurut Mata Pencaharian\", \"Keterangan\": \"Seniman\", \"N\": 2.0, \"Satuan\": \"Orang\"}, {\"Tahun\": 2019, \"Kode\": 1, \"Data\": \"Kependudukan\", \"Kode Kategori\": 1.8, \"Kategori\": \"Penduduk menurut Mata Pencaharian\", \"Keterangan\": \"Mekanik\", \"N\": 2.0, \"Satuan\": \"Orang\"}, {\"Tahun\": 2019, \"Kode\": 1, \"Data\": \"Kependudukan\", \"Kode Kategori\": 1.8, \"Kategori\": \"Penduduk menurut Mata Pencaharian\", \"Keterangan\": \"Kepala Desa\", \"N\": 1.0, \"Satuan\": \"Orang\"}, {\"Tahun\": 2019, \"Kode\": 1, \"Data\": \"Kependudukan\", \"Kode Kategori\": 1.8, \"Kategori\": \"Penduduk menurut Mata Pencaharian\", \"Keterangan\": \"Perangkat Desa\", \"N\": 6.0, \"Satuan\": \"Orang\"}, {\"Tahun\": 2019, \"Kode\": 1, \"Data\": \"Kependudukan\", \"Kode Kategori\": 1.8, \"Kategori\": \"Penduduk menurut Mata Pencaharian\", \"Keterangan\": \"Lainnya\", \"N\": 44.0, \"Satuan\": \"Orang\"}]}}, {\"mode\": \"vega-lite\"});\n",
       "</script>"
      ],
      "text/plain": [
       "alt.Chart(...)"
      ]
     },
     "execution_count": 15,
     "metadata": {},
     "output_type": "execute_result"
    }
   ],
   "source": [
    "df_6 = data('Penduduk menurut Mata Pencaharian')\n",
    "plot6 = plot_2(df_6,'Orang','Mata Pencaharian',300)\n",
    "plot6"
   ]
  },
  {
   "cell_type": "markdown",
   "metadata": {},
   "source": [
    "<h2> Penyandang Tuna</h2>"
   ]
  },
  {
   "cell_type": "code",
   "execution_count": 16,
   "metadata": {},
   "outputs": [
    {
     "data": {
      "text/html": [
       "\n",
       "<div id=\"altair-viz-945d798da1ca4be18bf0f0070bf84514\"></div>\n",
       "<script type=\"text/javascript\">\n",
       "  (function(spec, embedOpt){\n",
       "    let outputDiv = document.currentScript.previousElementSibling;\n",
       "    if (outputDiv.id !== \"altair-viz-945d798da1ca4be18bf0f0070bf84514\") {\n",
       "      outputDiv = document.getElementById(\"altair-viz-945d798da1ca4be18bf0f0070bf84514\");\n",
       "    }\n",
       "    const paths = {\n",
       "      \"vega\": \"https://cdn.jsdelivr.net/npm//vega@5?noext\",\n",
       "      \"vega-lib\": \"https://cdn.jsdelivr.net/npm//vega-lib?noext\",\n",
       "      \"vega-lite\": \"https://cdn.jsdelivr.net/npm//vega-lite@4.8.1?noext\",\n",
       "      \"vega-embed\": \"https://cdn.jsdelivr.net/npm//vega-embed@6?noext\",\n",
       "    };\n",
       "\n",
       "    function loadScript(lib) {\n",
       "      return new Promise(function(resolve, reject) {\n",
       "        var s = document.createElement('script');\n",
       "        s.src = paths[lib];\n",
       "        s.async = true;\n",
       "        s.onload = () => resolve(paths[lib]);\n",
       "        s.onerror = () => reject(`Error loading script: ${paths[lib]}`);\n",
       "        document.getElementsByTagName(\"head\")[0].appendChild(s);\n",
       "      });\n",
       "    }\n",
       "\n",
       "    function showError(err) {\n",
       "      outputDiv.innerHTML = `<div class=\"error\" style=\"color:red;\">${err}</div>`;\n",
       "      throw err;\n",
       "    }\n",
       "\n",
       "    function displayChart(vegaEmbed) {\n",
       "      vegaEmbed(outputDiv, spec, embedOpt)\n",
       "        .catch(err => showError(`Javascript Error: ${err.message}<br>This usually means there's a typo in your chart specification. See the javascript console for the full traceback.`));\n",
       "    }\n",
       "\n",
       "    if(typeof define === \"function\" && define.amd) {\n",
       "      requirejs.config({paths});\n",
       "      require([\"vega-embed\"], displayChart, err => showError(`Error loading script: ${err.message}`));\n",
       "    } else if (typeof vegaEmbed === \"function\") {\n",
       "      displayChart(vegaEmbed);\n",
       "    } else {\n",
       "      loadScript(\"vega\")\n",
       "        .then(() => loadScript(\"vega-lite\"))\n",
       "        .then(() => loadScript(\"vega-embed\"))\n",
       "        .catch(showError)\n",
       "        .then(() => displayChart(vegaEmbed));\n",
       "    }\n",
       "  })({\"config\": {\"view\": {\"continuousWidth\": 400, \"continuousHeight\": 300}}, \"data\": {\"name\": \"data-0d939ca247a884e6ce47cf9f2be27a62\"}, \"mark\": {\"type\": \"bar\", \"opacity\": 0.8}, \"encoding\": {\"color\": {\"condition\": {\"type\": \"nominal\", \"field\": \"Tahun\", \"scale\": {\"scheme\": \"blues\"}, \"selection\": \"selector001\"}, \"value\": \"lightgray\"}, \"column\": {\"type\": \"ordinal\", \"field\": \"Tahun\", \"title\": \"\"}, \"tooltip\": [{\"type\": \"quantitative\", \"field\": \"Tahun\"}, {\"type\": \"nominal\", \"field\": \"Keterangan\"}, {\"type\": \"quantitative\", \"field\": \"N\"}, {\"type\": \"nominal\", \"field\": \"Satuan\"}], \"x\": {\"type\": \"ordinal\", \"field\": \"Keterangan\", \"title\": \"Penyandang Tuna\"}, \"y\": {\"type\": \"quantitative\", \"axis\": {\"tickMinStep\": 1}, \"field\": \"N\", \"title\": \"Orang\"}}, \"resolve\": {\"scale\": {\"x\": \"independent\"}}, \"selection\": {\"selector001\": {\"type\": \"single\", \"encodings\": [\"y\", \"color\"]}, \"selector010\": {\"type\": \"interval\", \"bind\": \"scales\", \"encodings\": [\"x\", \"y\"]}}, \"width\": 200, \"$schema\": \"https://vega.github.io/schema/vega-lite/v4.8.1.json\", \"datasets\": {\"data-0d939ca247a884e6ce47cf9f2be27a62\": [{\"Tahun\": 2017, \"Kode\": 1, \"Data\": \"Kependudukan\", \"Kode Kategori\": 1.9, \"Kategori\": \"Penyandang Tuna\", \"Keterangan\": \"Tuna Netra\", \"N\": 4.0, \"Satuan\": \"Orang\"}, {\"Tahun\": 2017, \"Kode\": 1, \"Data\": \"Kependudukan\", \"Kode Kategori\": 1.9, \"Kategori\": \"Penyandang Tuna\", \"Keterangan\": \"Tuna Rungu\", \"N\": 3.0, \"Satuan\": \"Orang\"}, {\"Tahun\": 2017, \"Kode\": 1, \"Data\": \"Kependudukan\", \"Kode Kategori\": 1.9, \"Kategori\": \"Penyandang Tuna\", \"Keterangan\": \"Tuna Grahita\", \"N\": null, \"Satuan\": \"Orang\"}, {\"Tahun\": 2017, \"Kode\": 1, \"Data\": \"Kependudukan\", \"Kode Kategori\": 1.9, \"Kategori\": \"Penyandang Tuna\", \"Keterangan\": \"Tuna Daksa\", \"N\": 3.0, \"Satuan\": \"Orang\"}, {\"Tahun\": 2017, \"Kode\": 1, \"Data\": \"Kependudukan\", \"Kode Kategori\": 1.9, \"Kategori\": \"Penyandang Tuna\", \"Keterangan\": \"Tuna Susila\", \"N\": null, \"Satuan\": \"Orang\"}, {\"Tahun\": 2019, \"Kode\": 1, \"Data\": \"Kependudukan\", \"Kode Kategori\": 1.9, \"Kategori\": \"Penyandang Tuna\", \"Keterangan\": \"Tuna Netra\", \"N\": 4.0, \"Satuan\": \"Orang\"}, {\"Tahun\": 2019, \"Kode\": 1, \"Data\": \"Kependudukan\", \"Kode Kategori\": 1.9, \"Kategori\": \"Penyandang Tuna\", \"Keterangan\": \"Tuna Rungu\", \"N\": 3.0, \"Satuan\": \"Orang\"}, {\"Tahun\": 2019, \"Kode\": 1, \"Data\": \"Kependudukan\", \"Kode Kategori\": 1.9, \"Kategori\": \"Penyandang Tuna\", \"Keterangan\": \"Tuna Grahita\", \"N\": null, \"Satuan\": \"Orang\"}, {\"Tahun\": 2019, \"Kode\": 1, \"Data\": \"Kependudukan\", \"Kode Kategori\": 1.9, \"Kategori\": \"Penyandang Tuna\", \"Keterangan\": \"Tuna Daksa\", \"N\": 3.0, \"Satuan\": \"Orang\"}, {\"Tahun\": 2019, \"Kode\": 1, \"Data\": \"Kependudukan\", \"Kode Kategori\": 1.9, \"Kategori\": \"Penyandang Tuna\", \"Keterangan\": \"Tuna Susila\", \"N\": null, \"Satuan\": \"Orang\"}, {\"Tahun\": 2019, \"Kode\": 1, \"Data\": \"Kependudukan\", \"Kode Kategori\": 1.9, \"Kategori\": \"Penyandang Tuna\", \"Keterangan\": \"Tuna Wisma\", \"N\": 1.0, \"Satuan\": \"Orang\"}, {\"Tahun\": 2019, \"Kode\": 1, \"Data\": \"Kependudukan\", \"Kode Kategori\": 1.9, \"Kategori\": \"Penyandang Tuna\", \"Keterangan\": \"Tuna Wicara\", \"N\": 3.0, \"Satuan\": \"Orang\"}]}}, {\"mode\": \"vega-lite\"});\n",
       "</script>"
      ],
      "text/plain": [
       "alt.Chart(...)"
      ]
     },
     "execution_count": 16,
     "metadata": {},
     "output_type": "execute_result"
    }
   ],
   "source": [
    "df_7 = data('Penyandang Tuna')\n",
    "plot7 = plot_2(df_7,'Orang','Penyandang Tuna',200)\n",
    "plot7"
   ]
  },
  {
   "cell_type": "markdown",
   "metadata": {},
   "source": [
    "<h2> Status Pernikahan</h2>"
   ]
  },
  {
   "cell_type": "code",
   "execution_count": 17,
   "metadata": {},
   "outputs": [
    {
     "data": {
      "text/html": [
       "\n",
       "<div id=\"altair-viz-79d9c0b333ab458cae622e1e925ef723\"></div>\n",
       "<script type=\"text/javascript\">\n",
       "  (function(spec, embedOpt){\n",
       "    let outputDiv = document.currentScript.previousElementSibling;\n",
       "    if (outputDiv.id !== \"altair-viz-79d9c0b333ab458cae622e1e925ef723\") {\n",
       "      outputDiv = document.getElementById(\"altair-viz-79d9c0b333ab458cae622e1e925ef723\");\n",
       "    }\n",
       "    const paths = {\n",
       "      \"vega\": \"https://cdn.jsdelivr.net/npm//vega@5?noext\",\n",
       "      \"vega-lib\": \"https://cdn.jsdelivr.net/npm//vega-lib?noext\",\n",
       "      \"vega-lite\": \"https://cdn.jsdelivr.net/npm//vega-lite@4.8.1?noext\",\n",
       "      \"vega-embed\": \"https://cdn.jsdelivr.net/npm//vega-embed@6?noext\",\n",
       "    };\n",
       "\n",
       "    function loadScript(lib) {\n",
       "      return new Promise(function(resolve, reject) {\n",
       "        var s = document.createElement('script');\n",
       "        s.src = paths[lib];\n",
       "        s.async = true;\n",
       "        s.onload = () => resolve(paths[lib]);\n",
       "        s.onerror = () => reject(`Error loading script: ${paths[lib]}`);\n",
       "        document.getElementsByTagName(\"head\")[0].appendChild(s);\n",
       "      });\n",
       "    }\n",
       "\n",
       "    function showError(err) {\n",
       "      outputDiv.innerHTML = `<div class=\"error\" style=\"color:red;\">${err}</div>`;\n",
       "      throw err;\n",
       "    }\n",
       "\n",
       "    function displayChart(vegaEmbed) {\n",
       "      vegaEmbed(outputDiv, spec, embedOpt)\n",
       "        .catch(err => showError(`Javascript Error: ${err.message}<br>This usually means there's a typo in your chart specification. See the javascript console for the full traceback.`));\n",
       "    }\n",
       "\n",
       "    if(typeof define === \"function\" && define.amd) {\n",
       "      requirejs.config({paths});\n",
       "      require([\"vega-embed\"], displayChart, err => showError(`Error loading script: ${err.message}`));\n",
       "    } else if (typeof vegaEmbed === \"function\") {\n",
       "      displayChart(vegaEmbed);\n",
       "    } else {\n",
       "      loadScript(\"vega\")\n",
       "        .then(() => loadScript(\"vega-lite\"))\n",
       "        .then(() => loadScript(\"vega-embed\"))\n",
       "        .catch(showError)\n",
       "        .then(() => displayChart(vegaEmbed));\n",
       "    }\n",
       "  })({\"config\": {\"view\": {\"continuousWidth\": 400, \"continuousHeight\": 300}}, \"data\": {\"name\": \"data-77a71e88107705433e5d43acff70b37d\"}, \"mark\": {\"type\": \"bar\", \"opacity\": 0.8}, \"encoding\": {\"color\": {\"condition\": {\"type\": \"nominal\", \"field\": \"Tahun\", \"scale\": {\"scheme\": \"blues\"}, \"selection\": \"selector001\"}, \"value\": \"lightgray\"}, \"column\": {\"type\": \"nominal\", \"field\": \"Keterangan\", \"title\": \"Status Pernikahan\"}, \"tooltip\": [{\"type\": \"quantitative\", \"field\": \"Tahun\"}, {\"type\": \"nominal\", \"field\": \"Keterangan\"}, {\"type\": \"quantitative\", \"field\": \"N\"}, {\"type\": \"nominal\", \"field\": \"Satuan\"}], \"x\": {\"type\": \"ordinal\", \"field\": \"Tahun\", \"title\": \"\"}, \"y\": {\"type\": \"quantitative\", \"axis\": {\"tickMinStep\": 1}, \"field\": \"N\", \"title\": \"Orang\"}}, \"resolve\": {\"scale\": {\"x\": \"independent\"}}, \"selection\": {\"selector001\": {\"type\": \"single\", \"encodings\": [\"y\", \"color\"]}, \"selector011\": {\"type\": \"interval\", \"bind\": \"scales\", \"encodings\": [\"x\", \"y\"]}}, \"width\": 120, \"$schema\": \"https://vega.github.io/schema/vega-lite/v4.8.1.json\", \"datasets\": {\"data-77a71e88107705433e5d43acff70b37d\": [{\"Tahun\": 2017, \"Kode\": 1, \"Data\": \"Kependudukan\", \"Kode Kategori\": 1.11, \"Kategori\": \"Status Pernikahan\", \"Keterangan\": \"Nikah\", \"N\": 36.0, \"Satuan\": \"Orang\"}, {\"Tahun\": 2017, \"Kode\": 1, \"Data\": \"Kependudukan\", \"Kode Kategori\": 1.11, \"Kategori\": \"Status Pernikahan\", \"Keterangan\": \"Talak\", \"N\": null, \"Satuan\": \"Orang\"}, {\"Tahun\": 2017, \"Kode\": 1, \"Data\": \"Kependudukan\", \"Kode Kategori\": 1.11, \"Kategori\": \"Status Pernikahan\", \"Keterangan\": \"Cerai\", \"N\": 1.0, \"Satuan\": \"Orang\"}, {\"Tahun\": 2017, \"Kode\": 1, \"Data\": \"Kependudukan\", \"Kode Kategori\": 1.11, \"Kategori\": \"Status Pernikahan\", \"Keterangan\": \"Rujuk\", \"N\": null, \"Satuan\": \"Orang\"}, {\"Tahun\": 2019, \"Kode\": 1, \"Data\": \"Kependudukan\", \"Kode Kategori\": 1.11, \"Kategori\": \"Status Pernikahan\", \"Keterangan\": \"Nikah\", \"N\": 9.0, \"Satuan\": \"Orang\"}, {\"Tahun\": 2019, \"Kode\": 1, \"Data\": \"Kependudukan\", \"Kode Kategori\": 1.11, \"Kategori\": \"Status Pernikahan\", \"Keterangan\": \"Talak\", \"N\": 2.0, \"Satuan\": \"Orang\"}, {\"Tahun\": 2019, \"Kode\": 1, \"Data\": \"Kependudukan\", \"Kode Kategori\": 1.11, \"Kategori\": \"Status Pernikahan\", \"Keterangan\": \"Cerai\", \"N\": null, \"Satuan\": \"Orang\"}, {\"Tahun\": 2019, \"Kode\": 1, \"Data\": \"Kependudukan\", \"Kode Kategori\": 1.11, \"Kategori\": \"Status Pernikahan\", \"Keterangan\": \"Rujuk\", \"N\": null, \"Satuan\": \"Orang\"}]}}, {\"mode\": \"vega-lite\"});\n",
       "</script>"
      ],
      "text/plain": [
       "alt.Chart(...)"
      ]
     },
     "execution_count": 17,
     "metadata": {},
     "output_type": "execute_result"
    }
   ],
   "source": [
    "df_8 = data('Status Pernikahan')\n",
    "plot8 = plot_3(df_8,'Orang','Status Pernikahan',120)\n",
    "plot8"
   ]
  },
  {
   "cell_type": "markdown",
   "metadata": {},
   "source": [
    "<h2> Kesenian dan Budaya</h2>"
   ]
  },
  {
   "cell_type": "code",
   "execution_count": 18,
   "metadata": {},
   "outputs": [
    {
     "data": {
      "text/html": [
       "\n",
       "<div id=\"altair-viz-446466a7ac4941a295d5add51780cfcc\"></div>\n",
       "<script type=\"text/javascript\">\n",
       "  (function(spec, embedOpt){\n",
       "    let outputDiv = document.currentScript.previousElementSibling;\n",
       "    if (outputDiv.id !== \"altair-viz-446466a7ac4941a295d5add51780cfcc\") {\n",
       "      outputDiv = document.getElementById(\"altair-viz-446466a7ac4941a295d5add51780cfcc\");\n",
       "    }\n",
       "    const paths = {\n",
       "      \"vega\": \"https://cdn.jsdelivr.net/npm//vega@5?noext\",\n",
       "      \"vega-lib\": \"https://cdn.jsdelivr.net/npm//vega-lib?noext\",\n",
       "      \"vega-lite\": \"https://cdn.jsdelivr.net/npm//vega-lite@4.8.1?noext\",\n",
       "      \"vega-embed\": \"https://cdn.jsdelivr.net/npm//vega-embed@6?noext\",\n",
       "    };\n",
       "\n",
       "    function loadScript(lib) {\n",
       "      return new Promise(function(resolve, reject) {\n",
       "        var s = document.createElement('script');\n",
       "        s.src = paths[lib];\n",
       "        s.async = true;\n",
       "        s.onload = () => resolve(paths[lib]);\n",
       "        s.onerror = () => reject(`Error loading script: ${paths[lib]}`);\n",
       "        document.getElementsByTagName(\"head\")[0].appendChild(s);\n",
       "      });\n",
       "    }\n",
       "\n",
       "    function showError(err) {\n",
       "      outputDiv.innerHTML = `<div class=\"error\" style=\"color:red;\">${err}</div>`;\n",
       "      throw err;\n",
       "    }\n",
       "\n",
       "    function displayChart(vegaEmbed) {\n",
       "      vegaEmbed(outputDiv, spec, embedOpt)\n",
       "        .catch(err => showError(`Javascript Error: ${err.message}<br>This usually means there's a typo in your chart specification. See the javascript console for the full traceback.`));\n",
       "    }\n",
       "\n",
       "    if(typeof define === \"function\" && define.amd) {\n",
       "      requirejs.config({paths});\n",
       "      require([\"vega-embed\"], displayChart, err => showError(`Error loading script: ${err.message}`));\n",
       "    } else if (typeof vegaEmbed === \"function\") {\n",
       "      displayChart(vegaEmbed);\n",
       "    } else {\n",
       "      loadScript(\"vega\")\n",
       "        .then(() => loadScript(\"vega-lite\"))\n",
       "        .then(() => loadScript(\"vega-embed\"))\n",
       "        .catch(showError)\n",
       "        .then(() => displayChart(vegaEmbed));\n",
       "    }\n",
       "  })({\"config\": {\"view\": {\"continuousWidth\": 400, \"continuousHeight\": 300}}, \"data\": {\"name\": \"data-2aeefac89979d20e04b705cb80bec9f2\"}, \"mark\": {\"type\": \"bar\", \"opacity\": 0.8}, \"encoding\": {\"color\": {\"condition\": {\"type\": \"nominal\", \"field\": \"Tahun\", \"scale\": {\"scheme\": \"blues\"}, \"selection\": \"selector001\"}, \"value\": \"lightgray\"}, \"column\": {\"type\": \"nominal\", \"field\": \"Keterangan\", \"title\": \"Kesenian & Kebudayaan\"}, \"tooltip\": [{\"type\": \"quantitative\", \"field\": \"Tahun\"}, {\"type\": \"nominal\", \"field\": \"Keterangan\"}, {\"type\": \"quantitative\", \"field\": \"N\"}, {\"type\": \"nominal\", \"field\": \"Satuan\"}], \"x\": {\"type\": \"ordinal\", \"field\": \"Tahun\", \"title\": \"\"}, \"y\": {\"type\": \"quantitative\", \"axis\": {\"tickMinStep\": 1}, \"field\": \"N\", \"title\": \"Unit/Kelompok\"}}, \"resolve\": {\"scale\": {\"x\": \"independent\"}}, \"selection\": {\"selector001\": {\"type\": \"single\", \"encodings\": [\"y\", \"color\"]}, \"selector012\": {\"type\": \"interval\", \"bind\": \"scales\", \"encodings\": [\"x\", \"y\"]}}, \"width\": 120, \"$schema\": \"https://vega.github.io/schema/vega-lite/v4.8.1.json\", \"datasets\": {\"data-2aeefac89979d20e04b705cb80bec9f2\": [{\"Tahun\": 2017, \"Kode\": 9, \"Data\": \"Sarana Prasarana\", \"Kode Kategori\": 9.2, \"Kategori\": \"Kesenian/Kebudayaan\", \"Keterangan\": \"Sarana Krida\", \"N\": null, \"Satuan\": \"Unit\"}, {\"Tahun\": 2017, \"Kode\": 9, \"Data\": \"Sarana Prasarana\", \"Kode Kategori\": 9.2, \"Kategori\": \"Kesenian/Kebudayaan\", \"Keterangan\": \"Gelanggang Remaja\", \"N\": 1.0, \"Satuan\": \"Unit\"}, {\"Tahun\": 2017, \"Kode\": 9, \"Data\": \"Sarana Prasarana\", \"Kode Kategori\": 9.2, \"Kategori\": \"Kesenian/Kebudayaan\", \"Keterangan\": \"Gedung Kesenian\", \"N\": null, \"Satuan\": \"Unit\"}, {\"Tahun\": 2017, \"Kode\": 9, \"Data\": \"Sarana Prasarana\", \"Kode Kategori\": 9.2, \"Kategori\": \"Kesenian/Kebudayaan\", \"Keterangan\": \"Gedung Bioskop\", \"N\": null, \"Satuan\": \"Unit\"}, {\"Tahun\": 2017, \"Kode\": 9, \"Data\": \"Sarana Prasarana\", \"Kode Kategori\": 9.2, \"Kategori\": \"Kesenian/Kebudayaan\", \"Keterangan\": \"Diskotik/Klub Malam\", \"N\": null, \"Satuan\": \"Unit\"}, {\"Tahun\": 2017, \"Kode\": 9, \"Data\": \"Sarana Prasarana\", \"Kode Kategori\": 9.2, \"Kategori\": \"Kesenian/Kebudayaan\", \"Keterangan\": \"Gd. Sandiwara/ Teater\", \"N\": null, \"Satuan\": \"Unit\"}, {\"Tahun\": 2017, \"Kode\": 20, \"Data\": \"Kelompok Masyarakat\", \"Kode Kategori\": 20.2, \"Kategori\": \"Kesenian/Kebudayaan\", \"Keterangan\": \"Paduan Suara\", \"N\": null, \"Satuan\": \"Kelompok\"}, {\"Tahun\": 2017, \"Kode\": 20, \"Data\": \"Kelompok Masyarakat\", \"Kode Kategori\": 20.2, \"Kategori\": \"Kesenian/Kebudayaan\", \"Keterangan\": \"Orkes Melayu\", \"N\": null, \"Satuan\": \"Kelompok\"}, {\"Tahun\": 2017, \"Kode\": 20, \"Data\": \"Kelompok Masyarakat\", \"Kode Kategori\": 20.2, \"Kategori\": \"Kesenian/Kebudayaan\", \"Keterangan\": \"Kesenian Daerah\", \"N\": 3.0, \"Satuan\": \"Kelompok\"}, {\"Tahun\": 2017, \"Kode\": 20, \"Data\": \"Kelompok Masyarakat\", \"Kode Kategori\": 20.2, \"Kategori\": \"Kesenian/Kebudayaan\", \"Keterangan\": \"Band\", \"N\": null, \"Satuan\": \"Kelompok\"}, {\"Tahun\": 2017, \"Kode\": 20, \"Data\": \"Kelompok Masyarakat\", \"Kode Kategori\": 20.2, \"Kategori\": \"Kesenian/Kebudayaan\", \"Keterangan\": \"Kdondong\", \"N\": null, \"Satuan\": \"Kelompok\"}, {\"Tahun\": 2017, \"Kode\": 20, \"Data\": \"Kelompok Masyarakat\", \"Kode Kategori\": 20.2, \"Kategori\": \"Kesenian/Kebudayaan\", \"Keterangan\": \"Kosidah\", \"N\": 2.0, \"Satuan\": \"Kelompok\"}, {\"Tahun\": 2017, \"Kode\": 20, \"Data\": \"Kelompok Masyarakat\", \"Kode Kategori\": 20.2, \"Kategori\": \"Kesenian/Kebudayaan\", \"Keterangan\": \"Wayang\", \"N\": null, \"Satuan\": \"Kelompok\"}, {\"Tahun\": 2019, \"Kode\": 9, \"Data\": \"Sarana Prasarana\", \"Kode Kategori\": 9.2, \"Kategori\": \"Kesenian/Kebudayaan\", \"Keterangan\": \"Sarana Krida\", \"N\": null, \"Satuan\": \"Unit\"}, {\"Tahun\": 2019, \"Kode\": 9, \"Data\": \"Sarana Prasarana\", \"Kode Kategori\": 9.2, \"Kategori\": \"Kesenian/Kebudayaan\", \"Keterangan\": \"Gelanggang Remaja\", \"N\": 1.0, \"Satuan\": \"Unit\"}, {\"Tahun\": 2019, \"Kode\": 9, \"Data\": \"Sarana Prasarana\", \"Kode Kategori\": 9.2, \"Kategori\": \"Kesenian/Kebudayaan\", \"Keterangan\": \"Gedung Kesenian\", \"N\": null, \"Satuan\": \"Unit\"}, {\"Tahun\": 2019, \"Kode\": 9, \"Data\": \"Sarana Prasarana\", \"Kode Kategori\": 9.2, \"Kategori\": \"Kesenian/Kebudayaan\", \"Keterangan\": \"Gedung Bioskop\", \"N\": null, \"Satuan\": \"Unit\"}, {\"Tahun\": 2019, \"Kode\": 9, \"Data\": \"Sarana Prasarana\", \"Kode Kategori\": 9.2, \"Kategori\": \"Kesenian/Kebudayaan\", \"Keterangan\": \"Diskotik/Klub Malam\", \"N\": null, \"Satuan\": \"Unit\"}, {\"Tahun\": 2019, \"Kode\": 9, \"Data\": \"Sarana Prasarana\", \"Kode Kategori\": 9.2, \"Kategori\": \"Kesenian/Kebudayaan\", \"Keterangan\": \"Gd. Sandiwara/ Teater\", \"N\": null, \"Satuan\": \"Unit\"}, {\"Tahun\": 2019, \"Kode\": 20, \"Data\": \"Kelompok Masyarakat\", \"Kode Kategori\": 20.2, \"Kategori\": \"Kesenian/Kebudayaan\", \"Keterangan\": \"Paduan Suara\", \"N\": null, \"Satuan\": \"Kelompok\"}, {\"Tahun\": 2019, \"Kode\": 20, \"Data\": \"Kelompok Masyarakat\", \"Kode Kategori\": 20.2, \"Kategori\": \"Kesenian/Kebudayaan\", \"Keterangan\": \"Orkes Melayu\", \"N\": null, \"Satuan\": \"Kelompok\"}, {\"Tahun\": 2019, \"Kode\": 20, \"Data\": \"Kelompok Masyarakat\", \"Kode Kategori\": 20.2, \"Kategori\": \"Kesenian/Kebudayaan\", \"Keterangan\": \"Kesenian Daerah\", \"N\": 3.0, \"Satuan\": \"Kelompok\"}, {\"Tahun\": 2019, \"Kode\": 20, \"Data\": \"Kelompok Masyarakat\", \"Kode Kategori\": 20.2, \"Kategori\": \"Kesenian/Kebudayaan\", \"Keterangan\": \"Band\", \"N\": null, \"Satuan\": \"Kelompok\"}, {\"Tahun\": 2019, \"Kode\": 20, \"Data\": \"Kelompok Masyarakat\", \"Kode Kategori\": 20.2, \"Kategori\": \"Kesenian/Kebudayaan\", \"Keterangan\": \"Kdondong\", \"N\": null, \"Satuan\": \"Kelompok\"}, {\"Tahun\": 2019, \"Kode\": 20, \"Data\": \"Kelompok Masyarakat\", \"Kode Kategori\": 20.2, \"Kategori\": \"Kesenian/Kebudayaan\", \"Keterangan\": \"Kosidah\", \"N\": 4.0, \"Satuan\": \"Kelompok\"}, {\"Tahun\": 2019, \"Kode\": 20, \"Data\": \"Kelompok Masyarakat\", \"Kode Kategori\": 20.2, \"Kategori\": \"Kesenian/Kebudayaan\", \"Keterangan\": \"Wayang\", \"N\": null, \"Satuan\": \"Kelompok\"}]}}, {\"mode\": \"vega-lite\"});\n",
       "</script>"
      ],
      "text/plain": [
       "alt.Chart(...)"
      ]
     },
     "execution_count": 18,
     "metadata": {},
     "output_type": "execute_result"
    }
   ],
   "source": [
    "df_9 = data('Kesenian/Kebudayaan')\n",
    "plot9 = plot_3(df_9,'Unit/Kelompok', 'Kesenian & Kebudayaan',120)\n",
    "plot9"
   ]
  },
  {
   "cell_type": "markdown",
   "metadata": {},
   "source": [
    "<h2> Pendidikan Umum</h2>"
   ]
  },
  {
   "cell_type": "code",
   "execution_count": 20,
   "metadata": {},
   "outputs": [],
   "source": [
    "df_10 = df.loc[df['Data']=='Pendidikan Umum']\n",
    "df_10_tk = df.loc[df['Kategori']=='TK']\n",
    "df_10_sd = df.loc[df['Kategori']=='SD/MI']"
   ]
  },
  {
   "cell_type": "code",
   "execution_count": 21,
   "metadata": {},
   "outputs": [
    {
     "data": {
      "text/html": [
       "\n",
       "<div id=\"altair-viz-a2c8698fd8a84a13b2ee599e25a244cf\"></div>\n",
       "<script type=\"text/javascript\">\n",
       "  (function(spec, embedOpt){\n",
       "    let outputDiv = document.currentScript.previousElementSibling;\n",
       "    if (outputDiv.id !== \"altair-viz-a2c8698fd8a84a13b2ee599e25a244cf\") {\n",
       "      outputDiv = document.getElementById(\"altair-viz-a2c8698fd8a84a13b2ee599e25a244cf\");\n",
       "    }\n",
       "    const paths = {\n",
       "      \"vega\": \"https://cdn.jsdelivr.net/npm//vega@5?noext\",\n",
       "      \"vega-lib\": \"https://cdn.jsdelivr.net/npm//vega-lib?noext\",\n",
       "      \"vega-lite\": \"https://cdn.jsdelivr.net/npm//vega-lite@4.8.1?noext\",\n",
       "      \"vega-embed\": \"https://cdn.jsdelivr.net/npm//vega-embed@6?noext\",\n",
       "    };\n",
       "\n",
       "    function loadScript(lib) {\n",
       "      return new Promise(function(resolve, reject) {\n",
       "        var s = document.createElement('script');\n",
       "        s.src = paths[lib];\n",
       "        s.async = true;\n",
       "        s.onload = () => resolve(paths[lib]);\n",
       "        s.onerror = () => reject(`Error loading script: ${paths[lib]}`);\n",
       "        document.getElementsByTagName(\"head\")[0].appendChild(s);\n",
       "      });\n",
       "    }\n",
       "\n",
       "    function showError(err) {\n",
       "      outputDiv.innerHTML = `<div class=\"error\" style=\"color:red;\">${err}</div>`;\n",
       "      throw err;\n",
       "    }\n",
       "\n",
       "    function displayChart(vegaEmbed) {\n",
       "      vegaEmbed(outputDiv, spec, embedOpt)\n",
       "        .catch(err => showError(`Javascript Error: ${err.message}<br>This usually means there's a typo in your chart specification. See the javascript console for the full traceback.`));\n",
       "    }\n",
       "\n",
       "    if(typeof define === \"function\" && define.amd) {\n",
       "      requirejs.config({paths});\n",
       "      require([\"vega-embed\"], displayChart, err => showError(`Error loading script: ${err.message}`));\n",
       "    } else if (typeof vegaEmbed === \"function\") {\n",
       "      displayChart(vegaEmbed);\n",
       "    } else {\n",
       "      loadScript(\"vega\")\n",
       "        .then(() => loadScript(\"vega-lite\"))\n",
       "        .then(() => loadScript(\"vega-embed\"))\n",
       "        .catch(showError)\n",
       "        .then(() => displayChart(vegaEmbed));\n",
       "    }\n",
       "  })({\"config\": {\"view\": {\"continuousWidth\": 400, \"continuousHeight\": 300}}, \"data\": {\"name\": \"data-9d17db6456288cfc61c54399a6262070\"}, \"mark\": {\"type\": \"bar\", \"opacity\": 0.8}, \"encoding\": {\"color\": {\"condition\": {\"type\": \"nominal\", \"field\": \"Tahun\", \"scale\": {\"scheme\": \"blues\"}, \"selection\": \"selector001\"}, \"value\": \"lightgray\"}, \"column\": {\"type\": \"nominal\", \"field\": \"Keterangan\", \"title\": \"TK\"}, \"tooltip\": [{\"type\": \"quantitative\", \"field\": \"Tahun\"}, {\"type\": \"nominal\", \"field\": \"Keterangan\"}, {\"type\": \"quantitative\", \"field\": \"N\"}, {\"type\": \"nominal\", \"field\": \"Satuan\"}], \"x\": {\"type\": \"ordinal\", \"field\": \"Tahun\", \"title\": \"\"}, \"y\": {\"type\": \"quantitative\", \"axis\": {\"tickMinStep\": 1}, \"field\": \"N\", \"title\": \"Unit/Orang\"}}, \"resolve\": {\"scale\": {\"x\": \"independent\"}}, \"selection\": {\"selector001\": {\"type\": \"single\", \"encodings\": [\"y\", \"color\"]}, \"selector013\": {\"type\": \"interval\", \"bind\": \"scales\", \"encodings\": [\"x\", \"y\"]}}, \"width\": 120, \"$schema\": \"https://vega.github.io/schema/vega-lite/v4.8.1.json\", \"datasets\": {\"data-9d17db6456288cfc61c54399a6262070\": [{\"Tahun\": 2017, \"Kode\": 8, \"Data\": \"Pendidikan Umum\", \"Kode Kategori\": 8.1, \"Kategori\": \"TK\", \"Keterangan\": \"Gedung\", \"N\": 2.0, \"Satuan\": \"Unit\"}, {\"Tahun\": 2017, \"Kode\": 8, \"Data\": \"Pendidikan Umum\", \"Kode Kategori\": 8.1, \"Kategori\": \"TK\", \"Keterangan\": \"Guru\", \"N\": 7.0, \"Satuan\": \"Orang\"}, {\"Tahun\": 2017, \"Kode\": 8, \"Data\": \"Pendidikan Umum\", \"Kode Kategori\": 8.1, \"Kategori\": \"TK\", \"Keterangan\": \"Murid\", \"N\": 50.0, \"Satuan\": \"Orang\"}, {\"Tahun\": 2019, \"Kode\": 8, \"Data\": \"Pendidikan Umum\", \"Kode Kategori\": 8.1, \"Kategori\": \"TK\", \"Keterangan\": \"Gedung\", \"N\": 3.0, \"Satuan\": \"Unit\"}, {\"Tahun\": 2019, \"Kode\": 8, \"Data\": \"Pendidikan Umum\", \"Kode Kategori\": 8.1, \"Kategori\": \"TK\", \"Keterangan\": \"Guru\", \"N\": 9.0, \"Satuan\": \"Orang\"}, {\"Tahun\": 2019, \"Kode\": 8, \"Data\": \"Pendidikan Umum\", \"Kode Kategori\": 8.1, \"Kategori\": \"TK\", \"Keterangan\": \"Murid\", \"N\": 65.0, \"Satuan\": \"Orang\"}]}}, {\"mode\": \"vega-lite\"});\n",
       "</script>"
      ],
      "text/plain": [
       "alt.Chart(...)"
      ]
     },
     "execution_count": 21,
     "metadata": {},
     "output_type": "execute_result"
    }
   ],
   "source": [
    "plot10_1 = plot_3(df_10_tk,'Unit/Orang', 'TK',120)\n",
    "plot10_1"
   ]
  },
  {
   "cell_type": "code",
   "execution_count": 22,
   "metadata": {},
   "outputs": [
    {
     "data": {
      "text/html": [
       "\n",
       "<div id=\"altair-viz-9fb2fbe655794ac3a58d2cba0ecd214a\"></div>\n",
       "<script type=\"text/javascript\">\n",
       "  (function(spec, embedOpt){\n",
       "    let outputDiv = document.currentScript.previousElementSibling;\n",
       "    if (outputDiv.id !== \"altair-viz-9fb2fbe655794ac3a58d2cba0ecd214a\") {\n",
       "      outputDiv = document.getElementById(\"altair-viz-9fb2fbe655794ac3a58d2cba0ecd214a\");\n",
       "    }\n",
       "    const paths = {\n",
       "      \"vega\": \"https://cdn.jsdelivr.net/npm//vega@5?noext\",\n",
       "      \"vega-lib\": \"https://cdn.jsdelivr.net/npm//vega-lib?noext\",\n",
       "      \"vega-lite\": \"https://cdn.jsdelivr.net/npm//vega-lite@4.8.1?noext\",\n",
       "      \"vega-embed\": \"https://cdn.jsdelivr.net/npm//vega-embed@6?noext\",\n",
       "    };\n",
       "\n",
       "    function loadScript(lib) {\n",
       "      return new Promise(function(resolve, reject) {\n",
       "        var s = document.createElement('script');\n",
       "        s.src = paths[lib];\n",
       "        s.async = true;\n",
       "        s.onload = () => resolve(paths[lib]);\n",
       "        s.onerror = () => reject(`Error loading script: ${paths[lib]}`);\n",
       "        document.getElementsByTagName(\"head\")[0].appendChild(s);\n",
       "      });\n",
       "    }\n",
       "\n",
       "    function showError(err) {\n",
       "      outputDiv.innerHTML = `<div class=\"error\" style=\"color:red;\">${err}</div>`;\n",
       "      throw err;\n",
       "    }\n",
       "\n",
       "    function displayChart(vegaEmbed) {\n",
       "      vegaEmbed(outputDiv, spec, embedOpt)\n",
       "        .catch(err => showError(`Javascript Error: ${err.message}<br>This usually means there's a typo in your chart specification. See the javascript console for the full traceback.`));\n",
       "    }\n",
       "\n",
       "    if(typeof define === \"function\" && define.amd) {\n",
       "      requirejs.config({paths});\n",
       "      require([\"vega-embed\"], displayChart, err => showError(`Error loading script: ${err.message}`));\n",
       "    } else if (typeof vegaEmbed === \"function\") {\n",
       "      displayChart(vegaEmbed);\n",
       "    } else {\n",
       "      loadScript(\"vega\")\n",
       "        .then(() => loadScript(\"vega-lite\"))\n",
       "        .then(() => loadScript(\"vega-embed\"))\n",
       "        .catch(showError)\n",
       "        .then(() => displayChart(vegaEmbed));\n",
       "    }\n",
       "  })({\"config\": {\"view\": {\"continuousWidth\": 400, \"continuousHeight\": 300}}, \"data\": {\"name\": \"data-1f836b07521ed79fb1a7324af2681ccc\"}, \"mark\": {\"type\": \"bar\", \"opacity\": 0.8}, \"encoding\": {\"color\": {\"condition\": {\"type\": \"nominal\", \"field\": \"Tahun\", \"scale\": {\"scheme\": \"blues\"}, \"selection\": \"selector001\"}, \"value\": \"lightgray\"}, \"column\": {\"type\": \"nominal\", \"field\": \"Keterangan\", \"title\": \"SD/MI\"}, \"tooltip\": [{\"type\": \"quantitative\", \"field\": \"Tahun\"}, {\"type\": \"nominal\", \"field\": \"Keterangan\"}, {\"type\": \"quantitative\", \"field\": \"N\"}, {\"type\": \"nominal\", \"field\": \"Satuan\"}], \"x\": {\"type\": \"ordinal\", \"field\": \"Tahun\", \"title\": \"\"}, \"y\": {\"type\": \"quantitative\", \"axis\": {\"tickMinStep\": 1}, \"field\": \"N\", \"title\": \"Unit/Orang\"}}, \"resolve\": {\"scale\": {\"x\": \"independent\"}}, \"selection\": {\"selector001\": {\"type\": \"single\", \"encodings\": [\"y\", \"color\"]}, \"selector014\": {\"type\": \"interval\", \"bind\": \"scales\", \"encodings\": [\"x\", \"y\"]}}, \"width\": 120, \"$schema\": \"https://vega.github.io/schema/vega-lite/v4.8.1.json\", \"datasets\": {\"data-1f836b07521ed79fb1a7324af2681ccc\": [{\"Tahun\": 2017, \"Kode\": 8, \"Data\": \"Pendidikan Umum\", \"Kode Kategori\": 8.2, \"Kategori\": \"SD/MI\", \"Keterangan\": \"Gedung\", \"N\": 2.0, \"Satuan\": \"Unit\"}, {\"Tahun\": 2017, \"Kode\": 8, \"Data\": \"Pendidikan Umum\", \"Kode Kategori\": 8.2, \"Kategori\": \"SD/MI\", \"Keterangan\": \"Guru\", \"N\": 18.0, \"Satuan\": \"Orang\"}, {\"Tahun\": 2017, \"Kode\": 8, \"Data\": \"Pendidikan Umum\", \"Kode Kategori\": 8.2, \"Kategori\": \"SD/MI\", \"Keterangan\": \"Murid\", \"N\": 203.0, \"Satuan\": \"Orang\"}, {\"Tahun\": 2019, \"Kode\": 8, \"Data\": \"Pendidikan Umum\", \"Kode Kategori\": 8.2, \"Kategori\": \"SD/MI\", \"Keterangan\": \"Gedung\", \"N\": 2.0, \"Satuan\": \"Unit\"}, {\"Tahun\": 2019, \"Kode\": 8, \"Data\": \"Pendidikan Umum\", \"Kode Kategori\": 8.2, \"Kategori\": \"SD/MI\", \"Keterangan\": \"Guru\", \"N\": 22.0, \"Satuan\": \"Orang\"}, {\"Tahun\": 2019, \"Kode\": 8, \"Data\": \"Pendidikan Umum\", \"Kode Kategori\": 8.2, \"Kategori\": \"SD/MI\", \"Keterangan\": \"Murid\", \"N\": 163.0, \"Satuan\": \"Orang\"}]}}, {\"mode\": \"vega-lite\"});\n",
       "</script>"
      ],
      "text/plain": [
       "alt.Chart(...)"
      ]
     },
     "execution_count": 22,
     "metadata": {},
     "output_type": "execute_result"
    }
   ],
   "source": [
    "plot10_2 = plot_3(df_10_sd,'Unit/Orang', 'SD/MI',120)\n",
    "plot10_2"
   ]
  },
  {
   "cell_type": "code",
   "execution_count": 18,
   "metadata": {},
   "outputs": [
    {
     "ename": "NameError",
     "evalue": "name 'plot3' is not defined",
     "output_type": "error",
     "traceback": [
      "\u001b[1;31m---------------------------------------------------------------------------\u001b[0m",
      "\u001b[1;31mNameError\u001b[0m                                 Traceback (most recent call last)",
      "\u001b[1;32m<ipython-input-18-f87fabc89866>\u001b[0m in \u001b[0;36m<module>\u001b[1;34m\u001b[0m\n\u001b[0;32m      2\u001b[0m \u001b[0mplot1\u001b[0m\u001b[1;33m.\u001b[0m\u001b[0msave\u001b[0m\u001b[1;33m(\u001b[0m\u001b[1;34m'jenis_kelamin.json'\u001b[0m\u001b[1;33m)\u001b[0m\u001b[1;33m\u001b[0m\u001b[1;33m\u001b[0m\u001b[0m\n\u001b[0;32m      3\u001b[0m \u001b[0mplot2\u001b[0m\u001b[1;33m.\u001b[0m\u001b[0msave\u001b[0m\u001b[1;33m(\u001b[0m\u001b[1;34m'agama.json'\u001b[0m\u001b[1;33m)\u001b[0m\u001b[1;33m\u001b[0m\u001b[1;33m\u001b[0m\u001b[0m\n\u001b[1;32m----> 4\u001b[1;33m \u001b[0mplot3\u001b[0m\u001b[1;33m.\u001b[0m\u001b[0msave\u001b[0m\u001b[1;33m(\u001b[0m\u001b[1;34m'usia_pendidikan.json'\u001b[0m\u001b[1;33m)\u001b[0m\u001b[1;33m\u001b[0m\u001b[1;33m\u001b[0m\u001b[0m\n\u001b[0m\u001b[0;32m      5\u001b[0m \u001b[0mplot4\u001b[0m\u001b[1;33m.\u001b[0m\u001b[0msave\u001b[0m\u001b[1;33m(\u001b[0m\u001b[1;34m'usia_tenaga_kerja.json'\u001b[0m\u001b[1;33m)\u001b[0m\u001b[1;33m\u001b[0m\u001b[1;33m\u001b[0m\u001b[0m\n\u001b[0;32m      6\u001b[0m \u001b[0mplot5\u001b[0m\u001b[1;33m.\u001b[0m\u001b[0msave\u001b[0m\u001b[1;33m(\u001b[0m\u001b[1;34m'lulusan_pendidikan.json'\u001b[0m\u001b[1;33m)\u001b[0m\u001b[1;33m\u001b[0m\u001b[1;33m\u001b[0m\u001b[0m\n",
      "\u001b[1;31mNameError\u001b[0m: name 'plot3' is not defined"
     ]
    }
   ],
   "source": [
    "# Save file\n",
    "plot1.save('jenis_kelamin.json')\n",
    "plot2.save('agama.json')\n",
    "plot3.save('usia_pendidikan.json')\n",
    "plot4.save('usia_tenaga_kerja.json')\n",
    "plot5.save('lulusan_pendidikan.json')\n",
    "plot6.save('mata_pencaharian.json')\n",
    "plot7.save('penyandang_tuna.json')\n",
    "plot8.save('status_pernikahan.json')\n",
    "plot9.save('kesenian_kebudayaan.json')\n",
    "plot10_1.save('pendidikan_umum_tk.json')\n",
    "plot10_2.save('pendidikan_umum_sd.json')"
   ]
  },
  {
   "cell_type": "code",
   "execution_count": null,
   "metadata": {},
   "outputs": [],
   "source": []
  }
 ],
 "metadata": {
  "kernelspec": {
   "display_name": "Python 3",
   "language": "python",
   "name": "python3"
  },
  "language_info": {
   "codemirror_mode": {
    "name": "ipython",
    "version": 3
   },
   "file_extension": ".py",
   "mimetype": "text/x-python",
   "name": "python",
   "nbconvert_exporter": "python",
   "pygments_lexer": "ipython3",
   "version": "3.7.6"
  }
 },
 "nbformat": 4,
 "nbformat_minor": 4
}
