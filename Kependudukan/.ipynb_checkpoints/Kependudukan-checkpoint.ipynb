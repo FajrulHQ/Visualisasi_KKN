{
 "cells": [
  {
   "cell_type": "code",
   "execution_count": 6,
   "metadata": {},
   "outputs": [],
   "source": [
    "import pandas as pd\n",
    "import altair as alt\n",
    "import matplotlib.pyplot as plt\n",
    "import numpy as np"
   ]
  },
  {
   "cell_type": "code",
   "execution_count": 7,
   "metadata": {},
   "outputs": [],
   "source": [
    "df_2019 = pd.read_csv('D:\\Fajrul\\KKN\\Move to KEBON\\Statistik_Kebon\\Visualisasi_KKN\\data_2019_S2.csv')\n",
    "\n",
    "df_2017 = pd.read_csv('D:\\Fajrul\\KKN\\Move to KEBON\\Statistik_Kebon\\Visualisasi_KKN\\data_2017_S2.csv')\n",
    "\n",
    "df = pd.concat([df_2017,df_2019])"
   ]
  },
  {
   "cell_type": "code",
   "execution_count": 8,
   "metadata": {},
   "outputs": [],
   "source": [
    "def data(a):\n",
    "    data = df.loc[df['Kategori']==a]\n",
    "    return data"
   ]
  },
  {
   "cell_type": "code",
   "execution_count": 28,
   "metadata": {},
   "outputs": [],
   "source": [
    "import math\n",
    "\n",
    "millnames = ['',' Ribu',' Juta',' Miliar',' Triliun']\n",
    "\n",
    "def millify(n):\n",
    "    n = float(n)\n",
    "    millidx = max(0,min(len(millnames)-1,\n",
    "                        int(math.floor(0 if n == 0 else math.log10(abs(n))/3))))\n",
    "\n",
    "    return '{:.0f}{}'.format(n / 10**(3 * millidx), millnames[millidx])"
   ]
  },
  {
   "cell_type": "code",
   "execution_count": 36,
   "metadata": {},
   "outputs": [],
   "source": [
    "def plot_1(data,x,y,width):\n",
    "    selector = alt.selection_single(encodings=['x', 'color'])\n",
    "    bars = alt.Chart(data).mark_bar(opacity=0.8).encode(\n",
    "        x=alt.X('N:Q',stack='normalize', title=x, axis=alt.Axis(format='.0%')),\n",
    "        y=alt.Y('Keterangan:O',title=y),\n",
    "        color=alt.condition(selector, 'Tahun:O', alt.value('lightgray'))\n",
    "    ).add_selection(\n",
    "        selector\n",
    "    )\n",
    "    \n",
    "    text = alt.Chart(data).mark_text(dx=-18, dy=3, color='white').encode(\n",
    "        x=alt.X('N:Q', stack='normalize'),\n",
    "        y=alt.Y('Keterangan:O'),\n",
    "        detail='Tahun:O',\n",
    "        text=alt.Text('N:O'),\n",
    "        tooltip = ['Tahun','Keterangan','N','Satuan']\n",
    "    ).interactive()\n",
    "    return (bars+text).properties(width=width)"
   ]
  },
  {
   "cell_type": "code",
   "execution_count": 10,
   "metadata": {},
   "outputs": [],
   "source": [
    "def plot_2(data,x,y,width):\n",
    "    selector = alt.selection_single(encodings=['x', 'color'])\n",
    "    bars = alt.Chart(data).mark_bar(opacity=0.8).encode(\n",
    "        alt.X('Keterangan:O', title=y),\n",
    "        alt.Y('N:Q',title=x, axis=alt.Axis(tickMinStep=1)),\n",
    "        alt.Column('Tahun:O', title=''),\n",
    "        color=alt.condition(selector, 'Tahun:O', alt.value('lightgray')),\n",
    "        tooltip = ['Tahun','Keterangan','N','Satuan']\n",
    "    ).add_selection(selector\n",
    "    ).interactive(\n",
    "    ).resolve_scale(x='independent')\n",
    "    \n",
    "    return bars.properties(width=width\n",
    "    )"
   ]
  },
  {
   "cell_type": "code",
   "execution_count": 11,
   "metadata": {},
   "outputs": [],
   "source": [
    "def plot_3(data,x,y,width):\n",
    "    selector = alt.selection_single(encodings=['x', 'color'])\n",
    "    bars = alt.Chart(data).mark_bar(opacity=0.8).encode(\n",
    "        alt.X('Tahun:O', title=''),\n",
    "        alt.Y('N:Q', title=x, axis=alt.Axis(tickMinStep=1)),\n",
    "        alt.Column('Keterangan:N', title=y),color=alt.condition(selector, 'Tahun:O', alt.value('lightgray')),\n",
    "        tooltip = ['Tahun','Keterangan','N','Satuan']\n",
    "    ).add_selection(selector\n",
    "    ).interactive(\n",
    "    ).resolve_scale(x='independent')\n",
    "    \n",
    "    return bars.properties(width=width\n",
    "    )"
   ]
  },
  {
   "cell_type": "markdown",
   "metadata": {},
   "source": [
    "<h1>Visualisasi monografi desa</h1><br>\n",
    "Sumber data : <b>Monografi desa</b> <i>2017 S.2</i> dan <i>2019 S.2</i> <br>(data bisa diupdate jika terdapat data monografi desa disetiap semester dan tahun tertentu)"
   ]
  },
  {
   "cell_type": "markdown",
   "metadata": {},
   "source": [
    "<h2> Kependudukan Berdasarkan Jenis Kelamin</h2>"
   ]
  },
  {
   "cell_type": "code",
   "execution_count": 12,
   "metadata": {
    "scrolled": false
   },
   "outputs": [
    {
     "data": {
      "text/html": [
       "\n",
       "<div id=\"altair-viz-65c219f5d9db44dd9da8533031bc3640\"></div>\n",
       "<script type=\"text/javascript\">\n",
       "  (function(spec, embedOpt){\n",
       "    let outputDiv = document.currentScript.previousElementSibling;\n",
       "    if (outputDiv.id !== \"altair-viz-65c219f5d9db44dd9da8533031bc3640\") {\n",
       "      outputDiv = document.getElementById(\"altair-viz-65c219f5d9db44dd9da8533031bc3640\");\n",
       "    }\n",
       "    const paths = {\n",
       "      \"vega\": \"https://cdn.jsdelivr.net/npm//vega@5?noext\",\n",
       "      \"vega-lib\": \"https://cdn.jsdelivr.net/npm//vega-lib?noext\",\n",
       "      \"vega-lite\": \"https://cdn.jsdelivr.net/npm//vega-lite@4.8.1?noext\",\n",
       "      \"vega-embed\": \"https://cdn.jsdelivr.net/npm//vega-embed@6?noext\",\n",
       "    };\n",
       "\n",
       "    function loadScript(lib) {\n",
       "      return new Promise(function(resolve, reject) {\n",
       "        var s = document.createElement('script');\n",
       "        s.src = paths[lib];\n",
       "        s.async = true;\n",
       "        s.onload = () => resolve(paths[lib]);\n",
       "        s.onerror = () => reject(`Error loading script: ${paths[lib]}`);\n",
       "        document.getElementsByTagName(\"head\")[0].appendChild(s);\n",
       "      });\n",
       "    }\n",
       "\n",
       "    function showError(err) {\n",
       "      outputDiv.innerHTML = `<div class=\"error\" style=\"color:red;\">${err}</div>`;\n",
       "      throw err;\n",
       "    }\n",
       "\n",
       "    function displayChart(vegaEmbed) {\n",
       "      vegaEmbed(outputDiv, spec, embedOpt)\n",
       "        .catch(err => showError(`Javascript Error: ${err.message}<br>This usually means there's a typo in your chart specification. See the javascript console for the full traceback.`));\n",
       "    }\n",
       "\n",
       "    if(typeof define === \"function\" && define.amd) {\n",
       "      requirejs.config({paths});\n",
       "      require([\"vega-embed\"], displayChart, err => showError(`Error loading script: ${err.message}`));\n",
       "    } else if (typeof vegaEmbed === \"function\") {\n",
       "      displayChart(vegaEmbed);\n",
       "    } else {\n",
       "      loadScript(\"vega\")\n",
       "        .then(() => loadScript(\"vega-lite\"))\n",
       "        .then(() => loadScript(\"vega-embed\"))\n",
       "        .catch(showError)\n",
       "        .then(() => displayChart(vegaEmbed));\n",
       "    }\n",
       "  })({\"config\": {\"view\": {\"continuousWidth\": 400, \"continuousHeight\": 300}}, \"data\": {\"name\": \"data-630bf22b04fd81e05834d46a37900972\"}, \"mark\": {\"type\": \"bar\", \"opacity\": 0.8}, \"encoding\": {\"color\": {\"condition\": {\"type\": \"ordinal\", \"field\": \"Tahun\", \"selection\": \"selector001\"}, \"value\": \"lightgray\"}, \"column\": {\"type\": \"nominal\", \"field\": \"Keterangan\", \"title\": \"Jenis Kelamin\"}, \"tooltip\": [{\"type\": \"quantitative\", \"field\": \"Tahun\"}, {\"type\": \"nominal\", \"field\": \"Keterangan\"}, {\"type\": \"nominal\", \"field\": \"N\"}, {\"type\": \"nominal\", \"field\": \"Satuan\"}], \"x\": {\"type\": \"ordinal\", \"field\": \"Tahun\", \"title\": \"\"}, \"y\": {\"type\": \"quantitative\", \"axis\": {\"tickMinStep\": 1}, \"field\": \"N\", \"title\": \"Orang\"}}, \"resolve\": {\"scale\": {\"x\": \"independent\"}}, \"selection\": {\"selector001\": {\"type\": \"single\", \"encodings\": [\"x\", \"color\"]}, \"selector002\": {\"type\": \"interval\", \"bind\": \"scales\", \"encodings\": [\"x\", \"y\"]}}, \"width\": 80, \"$schema\": \"https://vega.github.io/schema/vega-lite/v4.8.1.json\", \"datasets\": {\"data-630bf22b04fd81e05834d46a37900972\": [{\"Tahun\": 2017, \"Kode\": 1, \"Data\": \"Kependudukan\", \"Kode Kategori\": 1.1, \"Kategori\": \"Jenis Kelamin\", \"Keterangan\": \"Laki-laki\", \"N\": \"1582\", \"Satuan\": \"Orang\"}, {\"Tahun\": 2017, \"Kode\": 1, \"Data\": \"Kependudukan\", \"Kode Kategori\": 1.1, \"Kategori\": \"Jenis Kelamin\", \"Keterangan\": \"Perempuan\", \"N\": \"1599\", \"Satuan\": \"Orang\"}, {\"Tahun\": 2019, \"Kode\": 1, \"Data\": \"Kependudukan\", \"Kode Kategori\": 1.1, \"Kategori\": \"Jenis Kelamin\", \"Keterangan\": \"Laki-laki\", \"N\": 1341.0, \"Satuan\": \"Orang\"}, {\"Tahun\": 2019, \"Kode\": 1, \"Data\": \"Kependudukan\", \"Kode Kategori\": 1.1, \"Kategori\": \"Jenis Kelamin\", \"Keterangan\": \"Perempuan\", \"N\": 1325.0, \"Satuan\": \"Orang\"}]}}, {\"mode\": \"vega-lite\"});\n",
       "</script>"
      ],
      "text/plain": [
       "alt.Chart(...)"
      ]
     },
     "execution_count": 12,
     "metadata": {},
     "output_type": "execute_result"
    }
   ],
   "source": [
    "df_1 = data('Jenis Kelamin')\n",
    "plot1 = plot_3(df_1,'Orang','Jenis Kelamin',80)\n",
    "plot1"
   ]
  },
  {
   "cell_type": "markdown",
   "metadata": {},
   "source": [
    "<h2> Kependudukan Berdasarkan Agama</h2>"
   ]
  },
  {
   "cell_type": "code",
   "execution_count": 34,
   "metadata": {
    "scrolled": false
   },
   "outputs": [
    {
     "data": {
      "text/html": [
       "\n",
       "<div id=\"altair-viz-75b160e227e848edb1806824adb4061e\"></div>\n",
       "<script type=\"text/javascript\">\n",
       "  (function(spec, embedOpt){\n",
       "    let outputDiv = document.currentScript.previousElementSibling;\n",
       "    if (outputDiv.id !== \"altair-viz-75b160e227e848edb1806824adb4061e\") {\n",
       "      outputDiv = document.getElementById(\"altair-viz-75b160e227e848edb1806824adb4061e\");\n",
       "    }\n",
       "    const paths = {\n",
       "      \"vega\": \"https://cdn.jsdelivr.net/npm//vega@5?noext\",\n",
       "      \"vega-lib\": \"https://cdn.jsdelivr.net/npm//vega-lib?noext\",\n",
       "      \"vega-lite\": \"https://cdn.jsdelivr.net/npm//vega-lite@4.8.1?noext\",\n",
       "      \"vega-embed\": \"https://cdn.jsdelivr.net/npm//vega-embed@6?noext\",\n",
       "    };\n",
       "\n",
       "    function loadScript(lib) {\n",
       "      return new Promise(function(resolve, reject) {\n",
       "        var s = document.createElement('script');\n",
       "        s.src = paths[lib];\n",
       "        s.async = true;\n",
       "        s.onload = () => resolve(paths[lib]);\n",
       "        s.onerror = () => reject(`Error loading script: ${paths[lib]}`);\n",
       "        document.getElementsByTagName(\"head\")[0].appendChild(s);\n",
       "      });\n",
       "    }\n",
       "\n",
       "    function showError(err) {\n",
       "      outputDiv.innerHTML = `<div class=\"error\" style=\"color:red;\">${err}</div>`;\n",
       "      throw err;\n",
       "    }\n",
       "\n",
       "    function displayChart(vegaEmbed) {\n",
       "      vegaEmbed(outputDiv, spec, embedOpt)\n",
       "        .catch(err => showError(`Javascript Error: ${err.message}<br>This usually means there's a typo in your chart specification. See the javascript console for the full traceback.`));\n",
       "    }\n",
       "\n",
       "    if(typeof define === \"function\" && define.amd) {\n",
       "      requirejs.config({paths});\n",
       "      require([\"vega-embed\"], displayChart, err => showError(`Error loading script: ${err.message}`));\n",
       "    } else if (typeof vegaEmbed === \"function\") {\n",
       "      displayChart(vegaEmbed);\n",
       "    } else {\n",
       "      loadScript(\"vega\")\n",
       "        .then(() => loadScript(\"vega-lite\"))\n",
       "        .then(() => loadScript(\"vega-embed\"))\n",
       "        .catch(showError)\n",
       "        .then(() => displayChart(vegaEmbed));\n",
       "    }\n",
       "  })({\"config\": {\"view\": {\"continuousWidth\": 400, \"continuousHeight\": 300}}, \"layer\": [{\"mark\": {\"type\": \"bar\", \"opacity\": 0.8}, \"encoding\": {\"color\": {\"condition\": {\"type\": \"ordinal\", \"field\": \"Tahun\", \"selection\": \"selector028\"}, \"value\": \"lightgray\"}, \"x\": {\"type\": \"quantitative\", \"axis\": {\"format\": \".0%\"}, \"field\": \"N\", \"stack\": \"normalize\", \"title\": \"Persentase\"}, \"y\": {\"type\": \"ordinal\", \"field\": \"Keterangan\", \"title\": \"Agama\"}}, \"selection\": {\"selector028\": {\"type\": \"single\", \"encodings\": [\"x\", \"color\"]}}}, {\"mark\": {\"type\": \"text\", \"color\": \"white\", \"dx\": -18, \"dy\": 3}, \"encoding\": {\"detail\": {\"type\": \"ordinal\", \"field\": \"Tahun\"}, \"text\": {\"type\": \"ordinal\", \"field\": \"N\"}, \"tooltip\": [{\"type\": \"quantitative\", \"field\": \"Tahun\"}, {\"type\": \"nominal\", \"field\": \"Keterangan\"}, {\"type\": \"nominal\", \"field\": \"N\"}, {\"type\": \"nominal\", \"field\": \"Satuan\"}], \"x\": {\"type\": \"quantitative\", \"field\": \"N\", \"stack\": \"normalize\"}, \"y\": {\"type\": \"ordinal\", \"field\": \"Keterangan\"}}, \"selection\": {\"selector029\": {\"type\": \"interval\", \"bind\": \"scales\", \"encodings\": [\"x\", \"y\"]}}}], \"data\": {\"name\": \"data-50248103becf72c1d223767a31794841\"}, \"width\": 600, \"$schema\": \"https://vega.github.io/schema/vega-lite/v4.8.1.json\", \"datasets\": {\"data-50248103becf72c1d223767a31794841\": [{\"Tahun\": 2017, \"Kode\": 1, \"Data\": \"Kependudukan\", \"Kode Kategori\": 1.4, \"Kategori\": \"Agama\", \"Keterangan\": \"Islam\", \"N\": \"2961\", \"Satuan\": \"Orang\"}, {\"Tahun\": 2017, \"Kode\": 1, \"Data\": \"Kependudukan\", \"Kode Kategori\": 1.4, \"Kategori\": \"Agama\", \"Keterangan\": \"Kristen\", \"N\": \"70\", \"Satuan\": \"Orang\"}, {\"Tahun\": 2017, \"Kode\": 1, \"Data\": \"Kependudukan\", \"Kode Kategori\": 1.4, \"Kategori\": \"Agama\", \"Keterangan\": \"Katolik\", \"N\": \"145\", \"Satuan\": \"Orang\"}, {\"Tahun\": 2017, \"Kode\": 1, \"Data\": \"Kependudukan\", \"Kode Kategori\": 1.4, \"Kategori\": \"Agama\", \"Keterangan\": \"Hindu\", \"N\": \"5\", \"Satuan\": \"Orang\"}, {\"Tahun\": 2017, \"Kode\": 1, \"Data\": \"Kependudukan\", \"Kode Kategori\": 1.4, \"Kategori\": \"Agama\", \"Keterangan\": \"Budha\", \"N\": null, \"Satuan\": \"Orang\"}, {\"Tahun\": 2017, \"Kode\": 7, \"Data\": \"Bidang Pembangunan\", \"Kode Kategori\": 7.1, \"Kategori\": \"Agama\", \"Keterangan\": \"Masjid\", \"N\": \"8\", \"Satuan\": \"Unit\"}, {\"Tahun\": 2017, \"Kode\": 7, \"Data\": \"Bidang Pembangunan\", \"Kode Kategori\": 7.1, \"Kategori\": \"Agama\", \"Keterangan\": \"Mushola\", \"N\": \"1\", \"Satuan\": \"Unit\"}, {\"Tahun\": 2017, \"Kode\": 7, \"Data\": \"Bidang Pembangunan\", \"Kode Kategori\": 7.1, \"Kategori\": \"Agama\", \"Keterangan\": \"Gereja\", \"N\": \"1\", \"Satuan\": \"Unit\"}, {\"Tahun\": 2017, \"Kode\": 7, \"Data\": \"Bidang Pembangunan\", \"Kode Kategori\": 7.1, \"Kategori\": \"Agama\", \"Keterangan\": \"Vihara\", \"N\": null, \"Satuan\": \"Unit\"}, {\"Tahun\": 2017, \"Kode\": 7, \"Data\": \"Bidang Pembangunan\", \"Kode Kategori\": 7.1, \"Kategori\": \"Agama\", \"Keterangan\": \"Pura\", \"N\": null, \"Satuan\": \"Unit\"}, {\"Tahun\": 2019, \"Kode\": 1, \"Data\": \"Kependudukan\", \"Kode Kategori\": 1.4, \"Kategori\": \"Agama\", \"Keterangan\": \"Islam\", \"N\": 2467.0, \"Satuan\": \"Orang\"}, {\"Tahun\": 2019, \"Kode\": 1, \"Data\": \"Kependudukan\", \"Kode Kategori\": 1.4, \"Kategori\": \"Agama\", \"Keterangan\": \"Kristen\", \"N\": 62.0, \"Satuan\": \"Orang\"}, {\"Tahun\": 2019, \"Kode\": 1, \"Data\": \"Kependudukan\", \"Kode Kategori\": 1.4, \"Kategori\": \"Agama\", \"Keterangan\": \"Katolik\", \"N\": 133.0, \"Satuan\": \"Orang\"}, {\"Tahun\": 2019, \"Kode\": 1, \"Data\": \"Kependudukan\", \"Kode Kategori\": 1.4, \"Kategori\": \"Agama\", \"Keterangan\": \"Hindu\", \"N\": 3.0, \"Satuan\": \"Orang\"}, {\"Tahun\": 2019, \"Kode\": 1, \"Data\": \"Kependudukan\", \"Kode Kategori\": 1.4, \"Kategori\": \"Agama\", \"Keterangan\": \"Budha\", \"N\": null, \"Satuan\": \"Orang\"}, {\"Tahun\": 2019, \"Kode\": 7, \"Data\": \"Bidang Pembangunan\", \"Kode Kategori\": 7.1, \"Kategori\": \"Agama\", \"Keterangan\": \"Masjid\", \"N\": 8.0, \"Satuan\": \"Unit\"}, {\"Tahun\": 2019, \"Kode\": 7, \"Data\": \"Bidang Pembangunan\", \"Kode Kategori\": 7.1, \"Kategori\": \"Agama\", \"Keterangan\": \"Mushola\", \"N\": 1.0, \"Satuan\": \"Unit\"}, {\"Tahun\": 2019, \"Kode\": 7, \"Data\": \"Bidang Pembangunan\", \"Kode Kategori\": 7.1, \"Kategori\": \"Agama\", \"Keterangan\": \"Gereja\", \"N\": 1.0, \"Satuan\": \"Unit\"}, {\"Tahun\": 2019, \"Kode\": 7, \"Data\": \"Bidang Pembangunan\", \"Kode Kategori\": 7.1, \"Kategori\": \"Agama\", \"Keterangan\": \"Vihara\", \"N\": null, \"Satuan\": \"Unit\"}, {\"Tahun\": 2019, \"Kode\": 7, \"Data\": \"Bidang Pembangunan\", \"Kode Kategori\": 7.1, \"Kategori\": \"Agama\", \"Keterangan\": \"Pura\", \"N\": null, \"Satuan\": \"Unit\"}]}}, {\"mode\": \"vega-lite\"});\n",
       "</script>"
      ],
      "text/plain": [
       "alt.LayerChart(...)"
      ]
     },
     "execution_count": 34,
     "metadata": {},
     "output_type": "execute_result"
    }
   ],
   "source": [
    "df_2 = data('Agama')\n",
    "plot2 = plot_1(df_2,'Persentase','Agama',600)\n",
    "plot2"
   ]
  },
  {
   "cell_type": "markdown",
   "metadata": {},
   "source": [
    "<h2> Kelompok Usia Pendidikan</h2>"
   ]
  },
  {
   "cell_type": "code",
   "execution_count": 14,
   "metadata": {},
   "outputs": [
    {
     "data": {
      "text/html": [
       "\n",
       "<div id=\"altair-viz-95543d2ecb3b4aadb280bee68a960ac8\"></div>\n",
       "<script type=\"text/javascript\">\n",
       "  (function(spec, embedOpt){\n",
       "    let outputDiv = document.currentScript.previousElementSibling;\n",
       "    if (outputDiv.id !== \"altair-viz-95543d2ecb3b4aadb280bee68a960ac8\") {\n",
       "      outputDiv = document.getElementById(\"altair-viz-95543d2ecb3b4aadb280bee68a960ac8\");\n",
       "    }\n",
       "    const paths = {\n",
       "      \"vega\": \"https://cdn.jsdelivr.net/npm//vega@5?noext\",\n",
       "      \"vega-lib\": \"https://cdn.jsdelivr.net/npm//vega-lib?noext\",\n",
       "      \"vega-lite\": \"https://cdn.jsdelivr.net/npm//vega-lite@4.8.1?noext\",\n",
       "      \"vega-embed\": \"https://cdn.jsdelivr.net/npm//vega-embed@6?noext\",\n",
       "    };\n",
       "\n",
       "    function loadScript(lib) {\n",
       "      return new Promise(function(resolve, reject) {\n",
       "        var s = document.createElement('script');\n",
       "        s.src = paths[lib];\n",
       "        s.async = true;\n",
       "        s.onload = () => resolve(paths[lib]);\n",
       "        s.onerror = () => reject(`Error loading script: ${paths[lib]}`);\n",
       "        document.getElementsByTagName(\"head\")[0].appendChild(s);\n",
       "      });\n",
       "    }\n",
       "\n",
       "    function showError(err) {\n",
       "      outputDiv.innerHTML = `<div class=\"error\" style=\"color:red;\">${err}</div>`;\n",
       "      throw err;\n",
       "    }\n",
       "\n",
       "    function displayChart(vegaEmbed) {\n",
       "      vegaEmbed(outputDiv, spec, embedOpt)\n",
       "        .catch(err => showError(`Javascript Error: ${err.message}<br>This usually means there's a typo in your chart specification. See the javascript console for the full traceback.`));\n",
       "    }\n",
       "\n",
       "    if(typeof define === \"function\" && define.amd) {\n",
       "      requirejs.config({paths});\n",
       "      require([\"vega-embed\"], displayChart, err => showError(`Error loading script: ${err.message}`));\n",
       "    } else if (typeof vegaEmbed === \"function\") {\n",
       "      displayChart(vegaEmbed);\n",
       "    } else {\n",
       "      loadScript(\"vega\")\n",
       "        .then(() => loadScript(\"vega-lite\"))\n",
       "        .then(() => loadScript(\"vega-embed\"))\n",
       "        .catch(showError)\n",
       "        .then(() => displayChart(vegaEmbed));\n",
       "    }\n",
       "  })({\"config\": {\"view\": {\"continuousWidth\": 400, \"continuousHeight\": 300}}, \"data\": {\"name\": \"data-b70030e8608b220fcc15d87adb2cdbd0\"}, \"mark\": {\"type\": \"bar\", \"opacity\": 0.8}, \"encoding\": {\"color\": {\"condition\": {\"type\": \"ordinal\", \"field\": \"Tahun\", \"selection\": \"selector005\"}, \"value\": \"lightgray\"}, \"column\": {\"type\": \"ordinal\", \"field\": \"Tahun\", \"title\": \"\"}, \"tooltip\": [{\"type\": \"quantitative\", \"field\": \"Tahun\"}, {\"type\": \"nominal\", \"field\": \"Keterangan\"}, {\"type\": \"nominal\", \"field\": \"N\"}, {\"type\": \"nominal\", \"field\": \"Satuan\"}], \"x\": {\"type\": \"ordinal\", \"field\": \"Keterangan\", \"title\": \"Kelompok Pendidikan\"}, \"y\": {\"type\": \"quantitative\", \"axis\": {\"tickMinStep\": 1}, \"field\": \"N\", \"title\": \"Orang\"}}, \"resolve\": {\"scale\": {\"x\": \"independent\"}}, \"selection\": {\"selector005\": {\"type\": \"single\", \"encodings\": [\"x\", \"color\"]}, \"selector006\": {\"type\": \"interval\", \"bind\": \"scales\", \"encodings\": [\"x\", \"y\"]}}, \"width\": 300, \"$schema\": \"https://vega.github.io/schema/vega-lite/v4.8.1.json\", \"datasets\": {\"data-b70030e8608b220fcc15d87adb2cdbd0\": [{\"Tahun\": 2017, \"Kode\": 1, \"Data\": \"Kependudukan\", \"Kode Kategori\": 1.5, \"Kategori\": \"Kelompok Pendidikan\", \"Keterangan\": \"00-03 tahun\", \"N\": \"141\", \"Satuan\": \"Orang\"}, {\"Tahun\": 2017, \"Kode\": 1, \"Data\": \"Kependudukan\", \"Kode Kategori\": 1.5, \"Kategori\": \"Kelompok Pendidikan\", \"Keterangan\": \"04-06 tahun\", \"N\": \"111\", \"Satuan\": \"Orang\"}, {\"Tahun\": 2017, \"Kode\": 1, \"Data\": \"Kependudukan\", \"Kode Kategori\": 1.5, \"Kategori\": \"Kelompok Pendidikan\", \"Keterangan\": \"07-12 tahun\", \"N\": \"239\", \"Satuan\": \"Orang\"}, {\"Tahun\": 2017, \"Kode\": 1, \"Data\": \"Kependudukan\", \"Kode Kategori\": 1.5, \"Kategori\": \"Kelompok Pendidikan\", \"Keterangan\": \"13-15 tahun\", \"N\": \"112\", \"Satuan\": \"Orang\"}, {\"Tahun\": 2017, \"Kode\": 1, \"Data\": \"Kependudukan\", \"Kode Kategori\": 1.5, \"Kategori\": \"Kelompok Pendidikan\", \"Keterangan\": \"16-18 tahun\", \"N\": \"116\", \"Satuan\": \"Orang\"}, {\"Tahun\": 2017, \"Kode\": 1, \"Data\": \"Kependudukan\", \"Kode Kategori\": 1.5, \"Kategori\": \"Kelompok Pendidikan\", \"Keterangan\": \"19 tahu keatas\", \"N\": \"2420\", \"Satuan\": \"Orang\"}, {\"Tahun\": 2019, \"Kode\": 1, \"Data\": \"Kependudukan\", \"Kode Kategori\": 1.5, \"Kategori\": \"Kelompok Pendidikan\", \"Keterangan\": \"00-04 tahun\", \"N\": 170.0, \"Satuan\": \"Orang\"}, {\"Tahun\": 2019, \"Kode\": 1, \"Data\": \"Kependudukan\", \"Kode Kategori\": 1.5, \"Kategori\": \"Kelompok Pendidikan\", \"Keterangan\": \"05-09 tahun\", \"N\": 190.0, \"Satuan\": \"Orang\"}, {\"Tahun\": 2019, \"Kode\": 1, \"Data\": \"Kependudukan\", \"Kode Kategori\": 1.5, \"Kategori\": \"Kelompok Pendidikan\", \"Keterangan\": \"10-14 tahun\", \"N\": 187.0, \"Satuan\": \"Orang\"}, {\"Tahun\": 2019, \"Kode\": 1, \"Data\": \"Kependudukan\", \"Kode Kategori\": 1.5, \"Kategori\": \"Kelompok Pendidikan\", \"Keterangan\": \"15-19 tahun\", \"N\": 183.0, \"Satuan\": \"Orang\"}, {\"Tahun\": 2019, \"Kode\": 1, \"Data\": \"Kependudukan\", \"Kode Kategori\": 1.5, \"Kategori\": \"Kelompok Pendidikan\", \"Keterangan\": \"19 tahu keatas\", \"N\": 1936.0, \"Satuan\": \"Orang\"}]}}, {\"mode\": \"vega-lite\"});\n",
       "</script>"
      ],
      "text/plain": [
       "alt.Chart(...)"
      ]
     },
     "execution_count": 14,
     "metadata": {},
     "output_type": "execute_result"
    }
   ],
   "source": [
    "df_3 = data('Kelompok Pendidikan')\n",
    "plot3 = plot_2(df_3,'Orang','Kelompok Pendidikan',300)\n",
    "plot3"
   ]
  },
  {
   "cell_type": "markdown",
   "metadata": {},
   "source": [
    "<h2> Kelompok Usia Tenaga Kerja</h2>"
   ]
  },
  {
   "cell_type": "code",
   "execution_count": 15,
   "metadata": {},
   "outputs": [
    {
     "data": {
      "text/html": [
       "\n",
       "<div id=\"altair-viz-97cc9d26f6a24e9587204e9d2bfe4e7e\"></div>\n",
       "<script type=\"text/javascript\">\n",
       "  (function(spec, embedOpt){\n",
       "    let outputDiv = document.currentScript.previousElementSibling;\n",
       "    if (outputDiv.id !== \"altair-viz-97cc9d26f6a24e9587204e9d2bfe4e7e\") {\n",
       "      outputDiv = document.getElementById(\"altair-viz-97cc9d26f6a24e9587204e9d2bfe4e7e\");\n",
       "    }\n",
       "    const paths = {\n",
       "      \"vega\": \"https://cdn.jsdelivr.net/npm//vega@5?noext\",\n",
       "      \"vega-lib\": \"https://cdn.jsdelivr.net/npm//vega-lib?noext\",\n",
       "      \"vega-lite\": \"https://cdn.jsdelivr.net/npm//vega-lite@4.8.1?noext\",\n",
       "      \"vega-embed\": \"https://cdn.jsdelivr.net/npm//vega-embed@6?noext\",\n",
       "    };\n",
       "\n",
       "    function loadScript(lib) {\n",
       "      return new Promise(function(resolve, reject) {\n",
       "        var s = document.createElement('script');\n",
       "        s.src = paths[lib];\n",
       "        s.async = true;\n",
       "        s.onload = () => resolve(paths[lib]);\n",
       "        s.onerror = () => reject(`Error loading script: ${paths[lib]}`);\n",
       "        document.getElementsByTagName(\"head\")[0].appendChild(s);\n",
       "      });\n",
       "    }\n",
       "\n",
       "    function showError(err) {\n",
       "      outputDiv.innerHTML = `<div class=\"error\" style=\"color:red;\">${err}</div>`;\n",
       "      throw err;\n",
       "    }\n",
       "\n",
       "    function displayChart(vegaEmbed) {\n",
       "      vegaEmbed(outputDiv, spec, embedOpt)\n",
       "        .catch(err => showError(`Javascript Error: ${err.message}<br>This usually means there's a typo in your chart specification. See the javascript console for the full traceback.`));\n",
       "    }\n",
       "\n",
       "    if(typeof define === \"function\" && define.amd) {\n",
       "      requirejs.config({paths});\n",
       "      require([\"vega-embed\"], displayChart, err => showError(`Error loading script: ${err.message}`));\n",
       "    } else if (typeof vegaEmbed === \"function\") {\n",
       "      displayChart(vegaEmbed);\n",
       "    } else {\n",
       "      loadScript(\"vega\")\n",
       "        .then(() => loadScript(\"vega-lite\"))\n",
       "        .then(() => loadScript(\"vega-embed\"))\n",
       "        .catch(showError)\n",
       "        .then(() => displayChart(vegaEmbed));\n",
       "    }\n",
       "  })({\"config\": {\"view\": {\"continuousWidth\": 400, \"continuousHeight\": 300}}, \"data\": {\"name\": \"data-6d3ac26be3dd7f8b352474f53d988d1d\"}, \"mark\": {\"type\": \"bar\", \"opacity\": 0.8}, \"encoding\": {\"color\": {\"condition\": {\"type\": \"ordinal\", \"field\": \"Tahun\", \"selection\": \"selector007\"}, \"value\": \"lightgray\"}, \"column\": {\"type\": \"ordinal\", \"field\": \"Tahun\", \"title\": \"\"}, \"tooltip\": [{\"type\": \"quantitative\", \"field\": \"Tahun\"}, {\"type\": \"nominal\", \"field\": \"Keterangan\"}, {\"type\": \"nominal\", \"field\": \"N\"}, {\"type\": \"nominal\", \"field\": \"Satuan\"}], \"x\": {\"type\": \"ordinal\", \"field\": \"Keterangan\", \"title\": \"Kelompok Tenaga Kerja\"}, \"y\": {\"type\": \"quantitative\", \"axis\": {\"tickMinStep\": 1}, \"field\": \"N\", \"title\": \"Orang\"}}, \"resolve\": {\"scale\": {\"x\": \"independent\"}}, \"selection\": {\"selector007\": {\"type\": \"single\", \"encodings\": [\"x\", \"color\"]}, \"selector008\": {\"type\": \"interval\", \"bind\": \"scales\", \"encodings\": [\"x\", \"y\"]}}, \"width\": 300, \"$schema\": \"https://vega.github.io/schema/vega-lite/v4.8.1.json\", \"datasets\": {\"data-6d3ac26be3dd7f8b352474f53d988d1d\": [{\"Tahun\": 2017, \"Kode\": 1, \"Data\": \"Kependudukan\", \"Kode Kategori\": 1.6, \"Kategori\": \"Kelompok Tenaga Kerja\", \"Keterangan\": \"10-14 tahun\", \"N\": \"182\", \"Satuan\": \"Orang\"}, {\"Tahun\": 2017, \"Kode\": 1, \"Data\": \"Kependudukan\", \"Kode Kategori\": 1.6, \"Kategori\": \"Kelompok Tenaga Kerja\", \"Keterangan\": \"15-19 tahun\", \"N\": \"195\", \"Satuan\": \"Orang\"}, {\"Tahun\": 2017, \"Kode\": 1, \"Data\": \"Kependudukan\", \"Kode Kategori\": 1.6, \"Kategori\": \"Kelompok Tenaga Kerja\", \"Keterangan\": \"20-26 tahun\", \"N\": \"284\", \"Satuan\": \"Orang\"}, {\"Tahun\": 2017, \"Kode\": 1, \"Data\": \"Kependudukan\", \"Kode Kategori\": 1.6, \"Kategori\": \"Kelompok Tenaga Kerja\", \"Keterangan\": \"27-40 tahun\", \"N\": \"855\", \"Satuan\": \"Orang\"}, {\"Tahun\": 2017, \"Kode\": 1, \"Data\": \"Kependudukan\", \"Kode Kategori\": 1.6, \"Kategori\": \"Kelompok Tenaga Kerja\", \"Keterangan\": \"41-56 tahun\", \"N\": \"386\", \"Satuan\": \"Orang\"}, {\"Tahun\": 2017, \"Kode\": 1, \"Data\": \"Kependudukan\", \"Kode Kategori\": 1.6, \"Kategori\": \"Kelompok Tenaga Kerja\", \"Keterangan\": \"57 tahun keatas\", \"N\": \"276\", \"Satuan\": \"Orang\"}, {\"Tahun\": 2019, \"Kode\": 1, \"Data\": \"Kependudukan\", \"Kode Kategori\": 1.6, \"Kategori\": \"Kelompok Tenaga Kerja\", \"Keterangan\": \"20-24 tahun\", \"N\": 188.0, \"Satuan\": \"Orang\"}, {\"Tahun\": 2019, \"Kode\": 1, \"Data\": \"Kependudukan\", \"Kode Kategori\": 1.6, \"Kategori\": \"Kelompok Tenaga Kerja\", \"Keterangan\": \"25-29 tahun\", \"N\": 189.0, \"Satuan\": \"Orang\"}, {\"Tahun\": 2019, \"Kode\": 1, \"Data\": \"Kependudukan\", \"Kode Kategori\": 1.6, \"Kategori\": \"Kelompok Tenaga Kerja\", \"Keterangan\": \"30-34 tahun\", \"N\": 195.0, \"Satuan\": \"Orang\"}, {\"Tahun\": 2019, \"Kode\": 1, \"Data\": \"Kependudukan\", \"Kode Kategori\": 1.6, \"Kategori\": \"Kelompok Tenaga Kerja\", \"Keterangan\": \"35-39 tahun\", \"N\": 197.0, \"Satuan\": \"Orang\"}, {\"Tahun\": 2019, \"Kode\": 1, \"Data\": \"Kependudukan\", \"Kode Kategori\": 1.6, \"Kategori\": \"Kelompok Tenaga Kerja\", \"Keterangan\": \"40-54 tahun\", \"N\": 503.0, \"Satuan\": \"Orang\"}, {\"Tahun\": 2019, \"Kode\": 1, \"Data\": \"Kependudukan\", \"Kode Kategori\": 1.6, \"Kategori\": \"Kelompok Tenaga Kerja\", \"Keterangan\": \"55 tahun keatas\", \"N\": 664.0, \"Satuan\": \"Orang\"}]}}, {\"mode\": \"vega-lite\"});\n",
       "</script>"
      ],
      "text/plain": [
       "alt.Chart(...)"
      ]
     },
     "execution_count": 15,
     "metadata": {},
     "output_type": "execute_result"
    }
   ],
   "source": [
    "df_4 = data('Kelompok Tenaga Kerja')\n",
    "plot4 = plot_2(df_4,'Orang','Kelompok Tenaga Kerja',300)\n",
    "plot4"
   ]
  },
  {
   "cell_type": "markdown",
   "metadata": {},
   "source": [
    "<h2> Lulusan Pendidikan</h2>"
   ]
  },
  {
   "cell_type": "code",
   "execution_count": 35,
   "metadata": {},
   "outputs": [
    {
     "data": {
      "text/html": [
       "\n",
       "<div id=\"altair-viz-57c60870f8f948e68e2e69823cd47404\"></div>\n",
       "<script type=\"text/javascript\">\n",
       "  (function(spec, embedOpt){\n",
       "    let outputDiv = document.currentScript.previousElementSibling;\n",
       "    if (outputDiv.id !== \"altair-viz-57c60870f8f948e68e2e69823cd47404\") {\n",
       "      outputDiv = document.getElementById(\"altair-viz-57c60870f8f948e68e2e69823cd47404\");\n",
       "    }\n",
       "    const paths = {\n",
       "      \"vega\": \"https://cdn.jsdelivr.net/npm//vega@5?noext\",\n",
       "      \"vega-lib\": \"https://cdn.jsdelivr.net/npm//vega-lib?noext\",\n",
       "      \"vega-lite\": \"https://cdn.jsdelivr.net/npm//vega-lite@4.8.1?noext\",\n",
       "      \"vega-embed\": \"https://cdn.jsdelivr.net/npm//vega-embed@6?noext\",\n",
       "    };\n",
       "\n",
       "    function loadScript(lib) {\n",
       "      return new Promise(function(resolve, reject) {\n",
       "        var s = document.createElement('script');\n",
       "        s.src = paths[lib];\n",
       "        s.async = true;\n",
       "        s.onload = () => resolve(paths[lib]);\n",
       "        s.onerror = () => reject(`Error loading script: ${paths[lib]}`);\n",
       "        document.getElementsByTagName(\"head\")[0].appendChild(s);\n",
       "      });\n",
       "    }\n",
       "\n",
       "    function showError(err) {\n",
       "      outputDiv.innerHTML = `<div class=\"error\" style=\"color:red;\">${err}</div>`;\n",
       "      throw err;\n",
       "    }\n",
       "\n",
       "    function displayChart(vegaEmbed) {\n",
       "      vegaEmbed(outputDiv, spec, embedOpt)\n",
       "        .catch(err => showError(`Javascript Error: ${err.message}<br>This usually means there's a typo in your chart specification. See the javascript console for the full traceback.`));\n",
       "    }\n",
       "\n",
       "    if(typeof define === \"function\" && define.amd) {\n",
       "      requirejs.config({paths});\n",
       "      require([\"vega-embed\"], displayChart, err => showError(`Error loading script: ${err.message}`));\n",
       "    } else if (typeof vegaEmbed === \"function\") {\n",
       "      displayChart(vegaEmbed);\n",
       "    } else {\n",
       "      loadScript(\"vega\")\n",
       "        .then(() => loadScript(\"vega-lite\"))\n",
       "        .then(() => loadScript(\"vega-embed\"))\n",
       "        .catch(showError)\n",
       "        .then(() => displayChart(vegaEmbed));\n",
       "    }\n",
       "  })({\"config\": {\"view\": {\"continuousWidth\": 400, \"continuousHeight\": 300}}, \"layer\": [{\"mark\": {\"type\": \"bar\", \"opacity\": 0.8}, \"encoding\": {\"color\": {\"condition\": {\"type\": \"ordinal\", \"field\": \"Tahun\", \"selection\": \"selector030\"}, \"value\": \"lightgray\"}, \"x\": {\"type\": \"quantitative\", \"axis\": {\"format\": \".0%\"}, \"field\": \"N\", \"stack\": \"normalize\", \"title\": \"Persentase\"}, \"y\": {\"type\": \"ordinal\", \"field\": \"Keterangan\", \"title\": \"Tingkat Pendidikan\"}}, \"selection\": {\"selector030\": {\"type\": \"single\", \"encodings\": [\"x\", \"color\"]}}}, {\"mark\": {\"type\": \"text\", \"color\": \"white\", \"dx\": -18, \"dy\": 3}, \"encoding\": {\"detail\": {\"type\": \"ordinal\", \"field\": \"Tahun\"}, \"text\": {\"type\": \"ordinal\", \"field\": \"N\"}, \"tooltip\": [{\"type\": \"quantitative\", \"field\": \"Tahun\"}, {\"type\": \"nominal\", \"field\": \"Keterangan\"}, {\"type\": \"nominal\", \"field\": \"N\"}, {\"type\": \"nominal\", \"field\": \"Satuan\"}], \"x\": {\"type\": \"quantitative\", \"field\": \"N\", \"stack\": \"normalize\"}, \"y\": {\"type\": \"ordinal\", \"field\": \"Keterangan\"}}, \"selection\": {\"selector031\": {\"type\": \"interval\", \"bind\": \"scales\", \"encodings\": [\"x\", \"y\"]}}}], \"data\": {\"name\": \"data-7d40e4d1a9b30cab6972cd2fbc2a2adf\"}, \"width\": 600, \"$schema\": \"https://vega.github.io/schema/vega-lite/v4.8.1.json\", \"datasets\": {\"data-7d40e4d1a9b30cab6972cd2fbc2a2adf\": [{\"Tahun\": 2017, \"Kode\": 1, \"Data\": \"Kependudukan\", \"Kode Kategori\": 1.7, \"Kategori\": \"Penduduk menurut Tingkat Pendidikan\", \"Keterangan\": \"Taman Kanak-kanak\", \"N\": \"93\", \"Satuan\": \"Orang\"}, {\"Tahun\": 2017, \"Kode\": 1, \"Data\": \"Kependudukan\", \"Kode Kategori\": 1.7, \"Kategori\": \"Penduduk menurut Tingkat Pendidikan\", \"Keterangan\": \"Sekolah Dasar\", \"N\": \"811\", \"Satuan\": \"Orang\"}, {\"Tahun\": 2017, \"Kode\": 1, \"Data\": \"Kependudukan\", \"Kode Kategori\": 1.7, \"Kategori\": \"Penduduk menurut Tingkat Pendidikan\", \"Keterangan\": \"SMP/SLTP\", \"N\": \"640\", \"Satuan\": \"Orang\"}, {\"Tahun\": 2017, \"Kode\": 1, \"Data\": \"Kependudukan\", \"Kode Kategori\": 1.7, \"Kategori\": \"Penduduk menurut Tingkat Pendidikan\", \"Keterangan\": \"SMA/SLTA\", \"N\": \"602\", \"Satuan\": \"Orang\"}, {\"Tahun\": 2017, \"Kode\": 1, \"Data\": \"Kependudukan\", \"Kode Kategori\": 1.7, \"Kategori\": \"Penduduk menurut Tingkat Pendidikan\", \"Keterangan\": \"Akademi (DI-D3)\", \"N\": \"35\", \"Satuan\": \"Orang\"}, {\"Tahun\": 2017, \"Kode\": 1, \"Data\": \"Kependudukan\", \"Kode Kategori\": 1.7, \"Kategori\": \"Penduduk menurut Tingkat Pendidikan\", \"Keterangan\": \"Sarjana (S1-S3)\", \"N\": \"8\", \"Satuan\": \"Orang\"}, {\"Tahun\": 2017, \"Kode\": 1, \"Data\": \"Kependudukan\", \"Kode Kategori\": 1.7, \"Kategori\": \"Penduduk menurut Tingkat Pendidikan\", \"Keterangan\": \"Sekolah Luar Biasa\", \"N\": \"3\", \"Satuan\": \"Orang\"}, {\"Tahun\": 2019, \"Kode\": 1, \"Data\": \"Kependudukan\", \"Kode Kategori\": 1.7, \"Kategori\": \"Penduduk menurut Tingkat Pendidikan\", \"Keterangan\": \"Taman Kanak-kanak\", \"N\": 237.0, \"Satuan\": \"Orang\"}, {\"Tahun\": 2019, \"Kode\": 1, \"Data\": \"Kependudukan\", \"Kode Kategori\": 1.7, \"Kategori\": \"Penduduk menurut Tingkat Pendidikan\", \"Keterangan\": \"Sekolah Dasar\", \"N\": 722.0, \"Satuan\": \"Orang\"}, {\"Tahun\": 2019, \"Kode\": 1, \"Data\": \"Kependudukan\", \"Kode Kategori\": 1.7, \"Kategori\": \"Penduduk menurut Tingkat Pendidikan\", \"Keterangan\": \"SMP/SLTP\", \"N\": 426.0, \"Satuan\": \"Orang\"}, {\"Tahun\": 2019, \"Kode\": 1, \"Data\": \"Kependudukan\", \"Kode Kategori\": 1.7, \"Kategori\": \"Penduduk menurut Tingkat Pendidikan\", \"Keterangan\": \"SMA/SLTA\", \"N\": 641.0, \"Satuan\": \"Orang\"}, {\"Tahun\": 2019, \"Kode\": 1, \"Data\": \"Kependudukan\", \"Kode Kategori\": 1.7, \"Kategori\": \"Penduduk menurut Tingkat Pendidikan\", \"Keterangan\": \"Akademi (DI-D3)\", \"N\": 26.0, \"Satuan\": \"Orang\"}, {\"Tahun\": 2019, \"Kode\": 1, \"Data\": \"Kependudukan\", \"Kode Kategori\": 1.7, \"Kategori\": \"Penduduk menurut Tingkat Pendidikan\", \"Keterangan\": \"Sarjana (S1-S3)\", \"N\": 54.0, \"Satuan\": \"Orang\"}, {\"Tahun\": 2019, \"Kode\": 1, \"Data\": \"Kependudukan\", \"Kode Kategori\": 1.7, \"Kategori\": \"Penduduk menurut Tingkat Pendidikan\", \"Keterangan\": \"Sekolah Luar Biasa\", \"N\": null, \"Satuan\": \"Orang\"}]}}, {\"mode\": \"vega-lite\"});\n",
       "</script>"
      ],
      "text/plain": [
       "alt.LayerChart(...)"
      ]
     },
     "execution_count": 35,
     "metadata": {},
     "output_type": "execute_result"
    }
   ],
   "source": [
    "df_5 = data('Penduduk menurut Tingkat Pendidikan')\n",
    "plot5 = plot_1(df_5,'Persentase','Tingkat Pendidikan',600)\n",
    "plot5"
   ]
  },
  {
   "cell_type": "markdown",
   "metadata": {},
   "source": [
    "<h2> Kependudukan Berdasarkan Mata Pencaharian</h2>"
   ]
  },
  {
   "cell_type": "code",
   "execution_count": 17,
   "metadata": {},
   "outputs": [
    {
     "data": {
      "text/html": [
       "\n",
       "<div id=\"altair-viz-1767044ed9ec44c78c68e5f99792f548\"></div>\n",
       "<script type=\"text/javascript\">\n",
       "  (function(spec, embedOpt){\n",
       "    let outputDiv = document.currentScript.previousElementSibling;\n",
       "    if (outputDiv.id !== \"altair-viz-1767044ed9ec44c78c68e5f99792f548\") {\n",
       "      outputDiv = document.getElementById(\"altair-viz-1767044ed9ec44c78c68e5f99792f548\");\n",
       "    }\n",
       "    const paths = {\n",
       "      \"vega\": \"https://cdn.jsdelivr.net/npm//vega@5?noext\",\n",
       "      \"vega-lib\": \"https://cdn.jsdelivr.net/npm//vega-lib?noext\",\n",
       "      \"vega-lite\": \"https://cdn.jsdelivr.net/npm//vega-lite@4.8.1?noext\",\n",
       "      \"vega-embed\": \"https://cdn.jsdelivr.net/npm//vega-embed@6?noext\",\n",
       "    };\n",
       "\n",
       "    function loadScript(lib) {\n",
       "      return new Promise(function(resolve, reject) {\n",
       "        var s = document.createElement('script');\n",
       "        s.src = paths[lib];\n",
       "        s.async = true;\n",
       "        s.onload = () => resolve(paths[lib]);\n",
       "        s.onerror = () => reject(`Error loading script: ${paths[lib]}`);\n",
       "        document.getElementsByTagName(\"head\")[0].appendChild(s);\n",
       "      });\n",
       "    }\n",
       "\n",
       "    function showError(err) {\n",
       "      outputDiv.innerHTML = `<div class=\"error\" style=\"color:red;\">${err}</div>`;\n",
       "      throw err;\n",
       "    }\n",
       "\n",
       "    function displayChart(vegaEmbed) {\n",
       "      vegaEmbed(outputDiv, spec, embedOpt)\n",
       "        .catch(err => showError(`Javascript Error: ${err.message}<br>This usually means there's a typo in your chart specification. See the javascript console for the full traceback.`));\n",
       "    }\n",
       "\n",
       "    if(typeof define === \"function\" && define.amd) {\n",
       "      requirejs.config({paths});\n",
       "      require([\"vega-embed\"], displayChart, err => showError(`Error loading script: ${err.message}`));\n",
       "    } else if (typeof vegaEmbed === \"function\") {\n",
       "      displayChart(vegaEmbed);\n",
       "    } else {\n",
       "      loadScript(\"vega\")\n",
       "        .then(() => loadScript(\"vega-lite\"))\n",
       "        .then(() => loadScript(\"vega-embed\"))\n",
       "        .catch(showError)\n",
       "        .then(() => displayChart(vegaEmbed));\n",
       "    }\n",
       "  })({\"config\": {\"view\": {\"continuousWidth\": 400, \"continuousHeight\": 300}}, \"data\": {\"name\": \"data-7893fa52b3da6e1dd5db8441183faf52\"}, \"mark\": {\"type\": \"bar\", \"opacity\": 0.8}, \"encoding\": {\"color\": {\"condition\": {\"type\": \"ordinal\", \"field\": \"Tahun\", \"selection\": \"selector011\"}, \"value\": \"lightgray\"}, \"column\": {\"type\": \"ordinal\", \"field\": \"Tahun\", \"title\": \"\"}, \"tooltip\": [{\"type\": \"quantitative\", \"field\": \"Tahun\"}, {\"type\": \"nominal\", \"field\": \"Keterangan\"}, {\"type\": \"nominal\", \"field\": \"N\"}, {\"type\": \"nominal\", \"field\": \"Satuan\"}], \"x\": {\"type\": \"ordinal\", \"field\": \"Keterangan\", \"title\": \"Mata Pencaharian\"}, \"y\": {\"type\": \"quantitative\", \"axis\": {\"tickMinStep\": 1}, \"field\": \"N\", \"title\": \"Orang\"}}, \"resolve\": {\"scale\": {\"x\": \"independent\"}}, \"selection\": {\"selector011\": {\"type\": \"single\", \"encodings\": [\"x\", \"color\"]}, \"selector012\": {\"type\": \"interval\", \"bind\": \"scales\", \"encodings\": [\"x\", \"y\"]}}, \"width\": 300, \"$schema\": \"https://vega.github.io/schema/vega-lite/v4.8.1.json\", \"datasets\": {\"data-7893fa52b3da6e1dd5db8441183faf52\": [{\"Tahun\": 2017, \"Kode\": 1, \"Data\": \"Kependudukan\", \"Kode Kategori\": 1.8, \"Kategori\": \"Penduduk menurut Mata Pencaharian\", \"Keterangan\": \"PNS\", \"N\": \"10\", \"Satuan\": \"Orang\"}, {\"Tahun\": 2017, \"Kode\": 1, \"Data\": \"Kependudukan\", \"Kode Kategori\": 1.8, \"Kategori\": \"Penduduk menurut Mata Pencaharian\", \"Keterangan\": \"ABRI\", \"N\": \"2\", \"Satuan\": \"Orang\"}, {\"Tahun\": 2017, \"Kode\": 1, \"Data\": \"Kependudukan\", \"Kode Kategori\": 1.8, \"Kategori\": \"Penduduk menurut Mata Pencaharian\", \"Keterangan\": \"Karyawan Swasta\", \"N\": \"48\", \"Satuan\": \"Orang\"}, {\"Tahun\": 2017, \"Kode\": 1, \"Data\": \"Kependudukan\", \"Kode Kategori\": 1.8, \"Kategori\": \"Penduduk menurut Mata Pencaharian\", \"Keterangan\": \"Wiraswasta/Pedagang\", \"N\": \"125\", \"Satuan\": \"Orang\"}, {\"Tahun\": 2017, \"Kode\": 1, \"Data\": \"Kependudukan\", \"Kode Kategori\": 1.8, \"Kategori\": \"Penduduk menurut Mata Pencaharian\", \"Keterangan\": \"Tani\", \"N\": \"195\", \"Satuan\": \"Orang\"}, {\"Tahun\": 2017, \"Kode\": 1, \"Data\": \"Kependudukan\", \"Kode Kategori\": 1.8, \"Kategori\": \"Penduduk menurut Mata Pencaharian\", \"Keterangan\": \"Pertukangan\", \"N\": \"58\", \"Satuan\": \"Orang\"}, {\"Tahun\": 2017, \"Kode\": 1, \"Data\": \"Kependudukan\", \"Kode Kategori\": 1.8, \"Kategori\": \"Penduduk menurut Mata Pencaharian\", \"Keterangan\": \"Buruh Tani\", \"N\": \"254\", \"Satuan\": \"Orang\"}, {\"Tahun\": 2017, \"Kode\": 1, \"Data\": \"Kependudukan\", \"Kode Kategori\": 1.8, \"Kategori\": \"Penduduk menurut Mata Pencaharian\", \"Keterangan\": \"Pensiunan\", \"N\": \"14\", \"Satuan\": \"Orang\"}, {\"Tahun\": 2017, \"Kode\": 1, \"Data\": \"Kependudukan\", \"Kode Kategori\": 1.8, \"Kategori\": \"Penduduk menurut Mata Pencaharian\", \"Keterangan\": \"Nelayan\", \"N\": null, \"Satuan\": \"Orang\"}, {\"Tahun\": 2017, \"Kode\": 1, \"Data\": \"Kependudukan\", \"Kode Kategori\": 1.8, \"Kategori\": \"Penduduk menurut Mata Pencaharian\", \"Keterangan\": \"Pemulung\", \"N\": \"2\", \"Satuan\": \"Orang\"}, {\"Tahun\": 2017, \"Kode\": 1, \"Data\": \"Kependudukan\", \"Kode Kategori\": 1.8, \"Kategori\": \"Penduduk menurut Mata Pencaharian\", \"Keterangan\": \"Jasa\", \"N\": \"4\", \"Satuan\": \"Orang\"}, {\"Tahun\": 2019, \"Kode\": 1, \"Data\": \"Kependudukan\", \"Kode Kategori\": 1.8, \"Kategori\": \"Penduduk menurut Mata Pencaharian\", \"Keterangan\": \"PNS\", \"N\": 16.0, \"Satuan\": \"Orang\"}, {\"Tahun\": 2019, \"Kode\": 1, \"Data\": \"Kependudukan\", \"Kode Kategori\": 1.8, \"Kategori\": \"Penduduk menurut Mata Pencaharian\", \"Keterangan\": \"ABRI\", \"N\": 2.0, \"Satuan\": \"Orang\"}, {\"Tahun\": 2019, \"Kode\": 1, \"Data\": \"Kependudukan\", \"Kode Kategori\": 1.8, \"Kategori\": \"Penduduk menurut Mata Pencaharian\", \"Keterangan\": \"Karyawan Swasta\", \"N\": 195.0, \"Satuan\": \"Orang\"}, {\"Tahun\": 2019, \"Kode\": 1, \"Data\": \"Kependudukan\", \"Kode Kategori\": 1.8, \"Kategori\": \"Penduduk menurut Mata Pencaharian\", \"Keterangan\": \"Wiraswasta/Pedagang\", \"N\": 100.0, \"Satuan\": \"Orang\"}, {\"Tahun\": 2019, \"Kode\": 1, \"Data\": \"Kependudukan\", \"Kode Kategori\": 1.8, \"Kategori\": \"Penduduk menurut Mata Pencaharian\", \"Keterangan\": \"Tani\", \"N\": 9.0, \"Satuan\": \"Orang\"}, {\"Tahun\": 2019, \"Kode\": 1, \"Data\": \"Kependudukan\", \"Kode Kategori\": 1.8, \"Kategori\": \"Penduduk menurut Mata Pencaharian\", \"Keterangan\": \"Pertukangan\", \"N\": 5.0, \"Satuan\": \"Orang\"}, {\"Tahun\": 2019, \"Kode\": 1, \"Data\": \"Kependudukan\", \"Kode Kategori\": 1.8, \"Kategori\": \"Penduduk menurut Mata Pencaharian\", \"Keterangan\": \"Buruh Tani\", \"N\": 19.0, \"Satuan\": \"Orang\"}, {\"Tahun\": 2019, \"Kode\": 1, \"Data\": \"Kependudukan\", \"Kode Kategori\": 1.8, \"Kategori\": \"Penduduk menurut Mata Pencaharian\", \"Keterangan\": \"Pensiunan\", \"N\": 15.0, \"Satuan\": \"Orang\"}, {\"Tahun\": 2019, \"Kode\": 1, \"Data\": \"Kependudukan\", \"Kode Kategori\": 1.8, \"Kategori\": \"Penduduk menurut Mata Pencaharian\", \"Keterangan\": \"Nelayan\", \"N\": 2.0, \"Satuan\": \"Orang\"}, {\"Tahun\": 2019, \"Kode\": 1, \"Data\": \"Kependudukan\", \"Kode Kategori\": 1.8, \"Kategori\": \"Penduduk menurut Mata Pencaharian\", \"Keterangan\": \"Pemulung\", \"N\": 2.0, \"Satuan\": \"Orang\"}, {\"Tahun\": 2019, \"Kode\": 1, \"Data\": \"Kependudukan\", \"Kode Kategori\": 1.8, \"Kategori\": \"Penduduk menurut Mata Pencaharian\", \"Keterangan\": \"BUMN\", \"N\": 2.0, \"Satuan\": \"Orang\"}, {\"Tahun\": 2019, \"Kode\": 1, \"Data\": \"Kependudukan\", \"Kode Kategori\": 1.8, \"Kategori\": \"Penduduk menurut Mata Pencaharian\", \"Keterangan\": \"Honorer\", \"N\": 2.0, \"Satuan\": \"Orang\"}, {\"Tahun\": 2019, \"Kode\": 1, \"Data\": \"Kependudukan\", \"Kode Kategori\": 1.8, \"Kategori\": \"Penduduk menurut Mata Pencaharian\", \"Keterangan\": \"Guru\", \"N\": 5.0, \"Satuan\": \"Orang\"}, {\"Tahun\": 2019, \"Kode\": 1, \"Data\": \"Kependudukan\", \"Kode Kategori\": 1.8, \"Kategori\": \"Penduduk menurut Mata Pencaharian\", \"Keterangan\": \"Bidan\", \"N\": 1.0, \"Satuan\": \"Orang\"}, {\"Tahun\": 2019, \"Kode\": 1, \"Data\": \"Kependudukan\", \"Kode Kategori\": 1.8, \"Kategori\": \"Penduduk menurut Mata Pencaharian\", \"Keterangan\": \"Perawat\", \"N\": 2.0, \"Satuan\": \"Orang\"}, {\"Tahun\": 2019, \"Kode\": 1, \"Data\": \"Kependudukan\", \"Kode Kategori\": 1.8, \"Kategori\": \"Penduduk menurut Mata Pencaharian\", \"Keterangan\": \"Pendeta\", \"N\": 2.0, \"Satuan\": \"Orang\"}, {\"Tahun\": 2019, \"Kode\": 1, \"Data\": \"Kependudukan\", \"Kode Kategori\": 1.8, \"Kategori\": \"Penduduk menurut Mata Pencaharian\", \"Keterangan\": \"Seniman\", \"N\": 2.0, \"Satuan\": \"Orang\"}, {\"Tahun\": 2019, \"Kode\": 1, \"Data\": \"Kependudukan\", \"Kode Kategori\": 1.8, \"Kategori\": \"Penduduk menurut Mata Pencaharian\", \"Keterangan\": \"Mekanik\", \"N\": 2.0, \"Satuan\": \"Orang\"}, {\"Tahun\": 2019, \"Kode\": 1, \"Data\": \"Kependudukan\", \"Kode Kategori\": 1.8, \"Kategori\": \"Penduduk menurut Mata Pencaharian\", \"Keterangan\": \"Kepala Desa\", \"N\": 1.0, \"Satuan\": \"Orang\"}, {\"Tahun\": 2019, \"Kode\": 1, \"Data\": \"Kependudukan\", \"Kode Kategori\": 1.8, \"Kategori\": \"Penduduk menurut Mata Pencaharian\", \"Keterangan\": \"Perangkat Desa\", \"N\": 6.0, \"Satuan\": \"Orang\"}, {\"Tahun\": 2019, \"Kode\": 1, \"Data\": \"Kependudukan\", \"Kode Kategori\": 1.8, \"Kategori\": \"Penduduk menurut Mata Pencaharian\", \"Keterangan\": \"Lainnya\", \"N\": 44.0, \"Satuan\": \"Orang\"}]}}, {\"mode\": \"vega-lite\"});\n",
       "</script>"
      ],
      "text/plain": [
       "alt.Chart(...)"
      ]
     },
     "execution_count": 17,
     "metadata": {},
     "output_type": "execute_result"
    }
   ],
   "source": [
    "df_6 = data('Penduduk menurut Mata Pencaharian')\n",
    "plot6 = plot_2(df_6,'Orang','Mata Pencaharian',300)\n",
    "plot6"
   ]
  },
  {
   "cell_type": "markdown",
   "metadata": {},
   "source": [
    "<h2> Penyandang Tuna</h2>"
   ]
  },
  {
   "cell_type": "code",
   "execution_count": 18,
   "metadata": {},
   "outputs": [
    {
     "data": {
      "text/html": [
       "\n",
       "<div id=\"altair-viz-4cac8a89b4674ebbb8c6f27f3839388b\"></div>\n",
       "<script type=\"text/javascript\">\n",
       "  (function(spec, embedOpt){\n",
       "    let outputDiv = document.currentScript.previousElementSibling;\n",
       "    if (outputDiv.id !== \"altair-viz-4cac8a89b4674ebbb8c6f27f3839388b\") {\n",
       "      outputDiv = document.getElementById(\"altair-viz-4cac8a89b4674ebbb8c6f27f3839388b\");\n",
       "    }\n",
       "    const paths = {\n",
       "      \"vega\": \"https://cdn.jsdelivr.net/npm//vega@5?noext\",\n",
       "      \"vega-lib\": \"https://cdn.jsdelivr.net/npm//vega-lib?noext\",\n",
       "      \"vega-lite\": \"https://cdn.jsdelivr.net/npm//vega-lite@4.8.1?noext\",\n",
       "      \"vega-embed\": \"https://cdn.jsdelivr.net/npm//vega-embed@6?noext\",\n",
       "    };\n",
       "\n",
       "    function loadScript(lib) {\n",
       "      return new Promise(function(resolve, reject) {\n",
       "        var s = document.createElement('script');\n",
       "        s.src = paths[lib];\n",
       "        s.async = true;\n",
       "        s.onload = () => resolve(paths[lib]);\n",
       "        s.onerror = () => reject(`Error loading script: ${paths[lib]}`);\n",
       "        document.getElementsByTagName(\"head\")[0].appendChild(s);\n",
       "      });\n",
       "    }\n",
       "\n",
       "    function showError(err) {\n",
       "      outputDiv.innerHTML = `<div class=\"error\" style=\"color:red;\">${err}</div>`;\n",
       "      throw err;\n",
       "    }\n",
       "\n",
       "    function displayChart(vegaEmbed) {\n",
       "      vegaEmbed(outputDiv, spec, embedOpt)\n",
       "        .catch(err => showError(`Javascript Error: ${err.message}<br>This usually means there's a typo in your chart specification. See the javascript console for the full traceback.`));\n",
       "    }\n",
       "\n",
       "    if(typeof define === \"function\" && define.amd) {\n",
       "      requirejs.config({paths});\n",
       "      require([\"vega-embed\"], displayChart, err => showError(`Error loading script: ${err.message}`));\n",
       "    } else if (typeof vegaEmbed === \"function\") {\n",
       "      displayChart(vegaEmbed);\n",
       "    } else {\n",
       "      loadScript(\"vega\")\n",
       "        .then(() => loadScript(\"vega-lite\"))\n",
       "        .then(() => loadScript(\"vega-embed\"))\n",
       "        .catch(showError)\n",
       "        .then(() => displayChart(vegaEmbed));\n",
       "    }\n",
       "  })({\"config\": {\"view\": {\"continuousWidth\": 400, \"continuousHeight\": 300}}, \"data\": {\"name\": \"data-127ffeeba4878a723f82772a1817ed0a\"}, \"mark\": {\"type\": \"bar\", \"opacity\": 0.8}, \"encoding\": {\"color\": {\"condition\": {\"type\": \"ordinal\", \"field\": \"Tahun\", \"selection\": \"selector013\"}, \"value\": \"lightgray\"}, \"column\": {\"type\": \"ordinal\", \"field\": \"Tahun\", \"title\": \"\"}, \"tooltip\": [{\"type\": \"quantitative\", \"field\": \"Tahun\"}, {\"type\": \"nominal\", \"field\": \"Keterangan\"}, {\"type\": \"nominal\", \"field\": \"N\"}, {\"type\": \"nominal\", \"field\": \"Satuan\"}], \"x\": {\"type\": \"ordinal\", \"field\": \"Keterangan\", \"title\": \"Penyandang Tuna\"}, \"y\": {\"type\": \"quantitative\", \"axis\": {\"tickMinStep\": 1}, \"field\": \"N\", \"title\": \"Orang\"}}, \"resolve\": {\"scale\": {\"x\": \"independent\"}}, \"selection\": {\"selector013\": {\"type\": \"single\", \"encodings\": [\"x\", \"color\"]}, \"selector014\": {\"type\": \"interval\", \"bind\": \"scales\", \"encodings\": [\"x\", \"y\"]}}, \"width\": 200, \"$schema\": \"https://vega.github.io/schema/vega-lite/v4.8.1.json\", \"datasets\": {\"data-127ffeeba4878a723f82772a1817ed0a\": [{\"Tahun\": 2017, \"Kode\": 1, \"Data\": \"Kependudukan\", \"Kode Kategori\": 1.9, \"Kategori\": \"Penyandang Tuna\", \"Keterangan\": \"Tuna Netra\", \"N\": \"4\", \"Satuan\": \"Orang\"}, {\"Tahun\": 2017, \"Kode\": 1, \"Data\": \"Kependudukan\", \"Kode Kategori\": 1.9, \"Kategori\": \"Penyandang Tuna\", \"Keterangan\": \"Tuna Rungu\", \"N\": \"3\", \"Satuan\": \"Orang\"}, {\"Tahun\": 2017, \"Kode\": 1, \"Data\": \"Kependudukan\", \"Kode Kategori\": 1.9, \"Kategori\": \"Penyandang Tuna\", \"Keterangan\": \"Tuna Grahita\", \"N\": null, \"Satuan\": \"Orang\"}, {\"Tahun\": 2017, \"Kode\": 1, \"Data\": \"Kependudukan\", \"Kode Kategori\": 1.9, \"Kategori\": \"Penyandang Tuna\", \"Keterangan\": \"Tuna Daksa\", \"N\": \"3\", \"Satuan\": \"Orang\"}, {\"Tahun\": 2017, \"Kode\": 1, \"Data\": \"Kependudukan\", \"Kode Kategori\": 1.9, \"Kategori\": \"Penyandang Tuna\", \"Keterangan\": \"Tuna Susila\", \"N\": null, \"Satuan\": \"Orang\"}, {\"Tahun\": 2019, \"Kode\": 1, \"Data\": \"Kependudukan\", \"Kode Kategori\": 1.9, \"Kategori\": \"Penyandang Tuna\", \"Keterangan\": \"Tuna Netra\", \"N\": 4.0, \"Satuan\": \"Orang\"}, {\"Tahun\": 2019, \"Kode\": 1, \"Data\": \"Kependudukan\", \"Kode Kategori\": 1.9, \"Kategori\": \"Penyandang Tuna\", \"Keterangan\": \"Tuna Rungu\", \"N\": 3.0, \"Satuan\": \"Orang\"}, {\"Tahun\": 2019, \"Kode\": 1, \"Data\": \"Kependudukan\", \"Kode Kategori\": 1.9, \"Kategori\": \"Penyandang Tuna\", \"Keterangan\": \"Tuna Grahita\", \"N\": null, \"Satuan\": \"Orang\"}, {\"Tahun\": 2019, \"Kode\": 1, \"Data\": \"Kependudukan\", \"Kode Kategori\": 1.9, \"Kategori\": \"Penyandang Tuna\", \"Keterangan\": \"Tuna Daksa\", \"N\": 3.0, \"Satuan\": \"Orang\"}, {\"Tahun\": 2019, \"Kode\": 1, \"Data\": \"Kependudukan\", \"Kode Kategori\": 1.9, \"Kategori\": \"Penyandang Tuna\", \"Keterangan\": \"Tuna Susila\", \"N\": null, \"Satuan\": \"Orang\"}, {\"Tahun\": 2019, \"Kode\": 1, \"Data\": \"Kependudukan\", \"Kode Kategori\": 1.9, \"Kategori\": \"Penyandang Tuna\", \"Keterangan\": \"Tuna Wisma\", \"N\": 1.0, \"Satuan\": \"Orang\"}, {\"Tahun\": 2019, \"Kode\": 1, \"Data\": \"Kependudukan\", \"Kode Kategori\": 1.9, \"Kategori\": \"Penyandang Tuna\", \"Keterangan\": \"Tuna Wicara\", \"N\": 3.0, \"Satuan\": \"Orang\"}]}}, {\"mode\": \"vega-lite\"});\n",
       "</script>"
      ],
      "text/plain": [
       "alt.Chart(...)"
      ]
     },
     "execution_count": 18,
     "metadata": {},
     "output_type": "execute_result"
    }
   ],
   "source": [
    "df_7 = data('Penyandang Tuna')\n",
    "plot7 = plot_2(df_7,'Orang','Penyandang Tuna',200)\n",
    "plot7"
   ]
  },
  {
   "cell_type": "markdown",
   "metadata": {},
   "source": [
    "<h2> Status Pernikahan</h2>"
   ]
  },
  {
   "cell_type": "code",
   "execution_count": 19,
   "metadata": {},
   "outputs": [
    {
     "data": {
      "text/html": [
       "\n",
       "<div id=\"altair-viz-69a574501aea456b913ca16ba586c9e2\"></div>\n",
       "<script type=\"text/javascript\">\n",
       "  (function(spec, embedOpt){\n",
       "    let outputDiv = document.currentScript.previousElementSibling;\n",
       "    if (outputDiv.id !== \"altair-viz-69a574501aea456b913ca16ba586c9e2\") {\n",
       "      outputDiv = document.getElementById(\"altair-viz-69a574501aea456b913ca16ba586c9e2\");\n",
       "    }\n",
       "    const paths = {\n",
       "      \"vega\": \"https://cdn.jsdelivr.net/npm//vega@5?noext\",\n",
       "      \"vega-lib\": \"https://cdn.jsdelivr.net/npm//vega-lib?noext\",\n",
       "      \"vega-lite\": \"https://cdn.jsdelivr.net/npm//vega-lite@4.8.1?noext\",\n",
       "      \"vega-embed\": \"https://cdn.jsdelivr.net/npm//vega-embed@6?noext\",\n",
       "    };\n",
       "\n",
       "    function loadScript(lib) {\n",
       "      return new Promise(function(resolve, reject) {\n",
       "        var s = document.createElement('script');\n",
       "        s.src = paths[lib];\n",
       "        s.async = true;\n",
       "        s.onload = () => resolve(paths[lib]);\n",
       "        s.onerror = () => reject(`Error loading script: ${paths[lib]}`);\n",
       "        document.getElementsByTagName(\"head\")[0].appendChild(s);\n",
       "      });\n",
       "    }\n",
       "\n",
       "    function showError(err) {\n",
       "      outputDiv.innerHTML = `<div class=\"error\" style=\"color:red;\">${err}</div>`;\n",
       "      throw err;\n",
       "    }\n",
       "\n",
       "    function displayChart(vegaEmbed) {\n",
       "      vegaEmbed(outputDiv, spec, embedOpt)\n",
       "        .catch(err => showError(`Javascript Error: ${err.message}<br>This usually means there's a typo in your chart specification. See the javascript console for the full traceback.`));\n",
       "    }\n",
       "\n",
       "    if(typeof define === \"function\" && define.amd) {\n",
       "      requirejs.config({paths});\n",
       "      require([\"vega-embed\"], displayChart, err => showError(`Error loading script: ${err.message}`));\n",
       "    } else if (typeof vegaEmbed === \"function\") {\n",
       "      displayChart(vegaEmbed);\n",
       "    } else {\n",
       "      loadScript(\"vega\")\n",
       "        .then(() => loadScript(\"vega-lite\"))\n",
       "        .then(() => loadScript(\"vega-embed\"))\n",
       "        .catch(showError)\n",
       "        .then(() => displayChart(vegaEmbed));\n",
       "    }\n",
       "  })({\"config\": {\"view\": {\"continuousWidth\": 400, \"continuousHeight\": 300}}, \"data\": {\"name\": \"data-ad8b07959a626ac1ccee041f111d1f9f\"}, \"mark\": {\"type\": \"bar\", \"opacity\": 0.8}, \"encoding\": {\"color\": {\"condition\": {\"type\": \"ordinal\", \"field\": \"Tahun\", \"selection\": \"selector015\"}, \"value\": \"lightgray\"}, \"column\": {\"type\": \"nominal\", \"field\": \"Keterangan\", \"title\": \"Status Pernikahan\"}, \"tooltip\": [{\"type\": \"quantitative\", \"field\": \"Tahun\"}, {\"type\": \"nominal\", \"field\": \"Keterangan\"}, {\"type\": \"nominal\", \"field\": \"N\"}, {\"type\": \"nominal\", \"field\": \"Satuan\"}], \"x\": {\"type\": \"ordinal\", \"field\": \"Tahun\", \"title\": \"\"}, \"y\": {\"type\": \"quantitative\", \"axis\": {\"tickMinStep\": 1}, \"field\": \"N\", \"title\": \"Orang\"}}, \"resolve\": {\"scale\": {\"x\": \"independent\"}}, \"selection\": {\"selector015\": {\"type\": \"single\", \"encodings\": [\"x\", \"color\"]}, \"selector016\": {\"type\": \"interval\", \"bind\": \"scales\", \"encodings\": [\"x\", \"y\"]}}, \"width\": 80, \"$schema\": \"https://vega.github.io/schema/vega-lite/v4.8.1.json\", \"datasets\": {\"data-ad8b07959a626ac1ccee041f111d1f9f\": [{\"Tahun\": 2017, \"Kode\": 1, \"Data\": \"Kependudukan\", \"Kode Kategori\": 1.11, \"Kategori\": \"Status Pernikahan\", \"Keterangan\": \"Nikah\", \"N\": \"36\", \"Satuan\": \"Orang\"}, {\"Tahun\": 2017, \"Kode\": 1, \"Data\": \"Kependudukan\", \"Kode Kategori\": 1.11, \"Kategori\": \"Status Pernikahan\", \"Keterangan\": \"Talak\", \"N\": null, \"Satuan\": \"Orang\"}, {\"Tahun\": 2017, \"Kode\": 1, \"Data\": \"Kependudukan\", \"Kode Kategori\": 1.11, \"Kategori\": \"Status Pernikahan\", \"Keterangan\": \"Cerai\", \"N\": \"1\", \"Satuan\": \"Orang\"}, {\"Tahun\": 2017, \"Kode\": 1, \"Data\": \"Kependudukan\", \"Kode Kategori\": 1.11, \"Kategori\": \"Status Pernikahan\", \"Keterangan\": \"Rujuk\", \"N\": null, \"Satuan\": \"Orang\"}, {\"Tahun\": 2019, \"Kode\": 1, \"Data\": \"Kependudukan\", \"Kode Kategori\": 1.11, \"Kategori\": \"Status Pernikahan\", \"Keterangan\": \"Nikah\", \"N\": 9.0, \"Satuan\": \"Orang\"}, {\"Tahun\": 2019, \"Kode\": 1, \"Data\": \"Kependudukan\", \"Kode Kategori\": 1.11, \"Kategori\": \"Status Pernikahan\", \"Keterangan\": \"Talak\", \"N\": 2.0, \"Satuan\": \"Orang\"}, {\"Tahun\": 2019, \"Kode\": 1, \"Data\": \"Kependudukan\", \"Kode Kategori\": 1.11, \"Kategori\": \"Status Pernikahan\", \"Keterangan\": \"Cerai\", \"N\": null, \"Satuan\": \"Orang\"}, {\"Tahun\": 2019, \"Kode\": 1, \"Data\": \"Kependudukan\", \"Kode Kategori\": 1.11, \"Kategori\": \"Status Pernikahan\", \"Keterangan\": \"Rujuk\", \"N\": null, \"Satuan\": \"Orang\"}]}}, {\"mode\": \"vega-lite\"});\n",
       "</script>"
      ],
      "text/plain": [
       "alt.Chart(...)"
      ]
     },
     "execution_count": 19,
     "metadata": {},
     "output_type": "execute_result"
    }
   ],
   "source": [
    "df_8 = data('Status Pernikahan')\n",
    "plot8 = plot_3(df_8,'Orang','Status Pernikahan',80)\n",
    "plot8"
   ]
  },
  {
   "cell_type": "markdown",
   "metadata": {},
   "source": [
    "<h2> Kesenian dan Budaya</h2>"
   ]
  },
  {
   "cell_type": "code",
   "execution_count": 20,
   "metadata": {},
   "outputs": [
    {
     "data": {
      "text/html": [
       "\n",
       "<div id=\"altair-viz-8a9c36877a79420e87c705ef70edd1ce\"></div>\n",
       "<script type=\"text/javascript\">\n",
       "  (function(spec, embedOpt){\n",
       "    let outputDiv = document.currentScript.previousElementSibling;\n",
       "    if (outputDiv.id !== \"altair-viz-8a9c36877a79420e87c705ef70edd1ce\") {\n",
       "      outputDiv = document.getElementById(\"altair-viz-8a9c36877a79420e87c705ef70edd1ce\");\n",
       "    }\n",
       "    const paths = {\n",
       "      \"vega\": \"https://cdn.jsdelivr.net/npm//vega@5?noext\",\n",
       "      \"vega-lib\": \"https://cdn.jsdelivr.net/npm//vega-lib?noext\",\n",
       "      \"vega-lite\": \"https://cdn.jsdelivr.net/npm//vega-lite@4.8.1?noext\",\n",
       "      \"vega-embed\": \"https://cdn.jsdelivr.net/npm//vega-embed@6?noext\",\n",
       "    };\n",
       "\n",
       "    function loadScript(lib) {\n",
       "      return new Promise(function(resolve, reject) {\n",
       "        var s = document.createElement('script');\n",
       "        s.src = paths[lib];\n",
       "        s.async = true;\n",
       "        s.onload = () => resolve(paths[lib]);\n",
       "        s.onerror = () => reject(`Error loading script: ${paths[lib]}`);\n",
       "        document.getElementsByTagName(\"head\")[0].appendChild(s);\n",
       "      });\n",
       "    }\n",
       "\n",
       "    function showError(err) {\n",
       "      outputDiv.innerHTML = `<div class=\"error\" style=\"color:red;\">${err}</div>`;\n",
       "      throw err;\n",
       "    }\n",
       "\n",
       "    function displayChart(vegaEmbed) {\n",
       "      vegaEmbed(outputDiv, spec, embedOpt)\n",
       "        .catch(err => showError(`Javascript Error: ${err.message}<br>This usually means there's a typo in your chart specification. See the javascript console for the full traceback.`));\n",
       "    }\n",
       "\n",
       "    if(typeof define === \"function\" && define.amd) {\n",
       "      requirejs.config({paths});\n",
       "      require([\"vega-embed\"], displayChart, err => showError(`Error loading script: ${err.message}`));\n",
       "    } else if (typeof vegaEmbed === \"function\") {\n",
       "      displayChart(vegaEmbed);\n",
       "    } else {\n",
       "      loadScript(\"vega\")\n",
       "        .then(() => loadScript(\"vega-lite\"))\n",
       "        .then(() => loadScript(\"vega-embed\"))\n",
       "        .catch(showError)\n",
       "        .then(() => displayChart(vegaEmbed));\n",
       "    }\n",
       "  })({\"config\": {\"view\": {\"continuousWidth\": 400, \"continuousHeight\": 300}}, \"data\": {\"name\": \"data-83d4c4ae2f6692b452ef7e2242b79b48\"}, \"mark\": {\"type\": \"bar\", \"opacity\": 0.8}, \"encoding\": {\"color\": {\"condition\": {\"type\": \"ordinal\", \"field\": \"Tahun\", \"selection\": \"selector017\"}, \"value\": \"lightgray\"}, \"column\": {\"type\": \"nominal\", \"field\": \"Keterangan\", \"title\": \"Kesenian & Kebudayaan\"}, \"tooltip\": [{\"type\": \"quantitative\", \"field\": \"Tahun\"}, {\"type\": \"nominal\", \"field\": \"Keterangan\"}, {\"type\": \"nominal\", \"field\": \"N\"}, {\"type\": \"nominal\", \"field\": \"Satuan\"}], \"x\": {\"type\": \"ordinal\", \"field\": \"Tahun\", \"title\": \"\"}, \"y\": {\"type\": \"quantitative\", \"axis\": {\"tickMinStep\": 1}, \"field\": \"N\", \"title\": \"Unit/Kelompok\"}}, \"resolve\": {\"scale\": {\"x\": \"independent\"}}, \"selection\": {\"selector017\": {\"type\": \"single\", \"encodings\": [\"x\", \"color\"]}, \"selector018\": {\"type\": \"interval\", \"bind\": \"scales\", \"encodings\": [\"x\", \"y\"]}}, \"width\": 80, \"$schema\": \"https://vega.github.io/schema/vega-lite/v4.8.1.json\", \"datasets\": {\"data-83d4c4ae2f6692b452ef7e2242b79b48\": [{\"Tahun\": 2017, \"Kode\": 9, \"Data\": \"Sarana Prasarana\", \"Kode Kategori\": 9.2, \"Kategori\": \"Kesenian/Kebudayaan\", \"Keterangan\": \"Sarana Krida\", \"N\": null, \"Satuan\": \"Unit\"}, {\"Tahun\": 2017, \"Kode\": 9, \"Data\": \"Sarana Prasarana\", \"Kode Kategori\": 9.2, \"Kategori\": \"Kesenian/Kebudayaan\", \"Keterangan\": \"Gelanggang Remaja\", \"N\": \"1\", \"Satuan\": \"Unit\"}, {\"Tahun\": 2017, \"Kode\": 9, \"Data\": \"Sarana Prasarana\", \"Kode Kategori\": 9.2, \"Kategori\": \"Kesenian/Kebudayaan\", \"Keterangan\": \"Gedung Kesenian\", \"N\": null, \"Satuan\": \"Unit\"}, {\"Tahun\": 2017, \"Kode\": 9, \"Data\": \"Sarana Prasarana\", \"Kode Kategori\": 9.2, \"Kategori\": \"Kesenian/Kebudayaan\", \"Keterangan\": \"Gedung Bioskop\", \"N\": null, \"Satuan\": \"Unit\"}, {\"Tahun\": 2017, \"Kode\": 9, \"Data\": \"Sarana Prasarana\", \"Kode Kategori\": 9.2, \"Kategori\": \"Kesenian/Kebudayaan\", \"Keterangan\": \"Diskotik/Klub Malam\", \"N\": null, \"Satuan\": \"Unit\"}, {\"Tahun\": 2017, \"Kode\": 9, \"Data\": \"Sarana Prasarana\", \"Kode Kategori\": 9.2, \"Kategori\": \"Kesenian/Kebudayaan\", \"Keterangan\": \"Gd. Sandiwara/ Teater\", \"N\": null, \"Satuan\": \"Unit\"}, {\"Tahun\": 2017, \"Kode\": 20, \"Data\": \"Kelompok Masyarakat\", \"Kode Kategori\": 20.2, \"Kategori\": \"Kesenian/Kebudayaan\", \"Keterangan\": \"Paduan Suara\", \"N\": null, \"Satuan\": \"Kelompok\"}, {\"Tahun\": 2017, \"Kode\": 20, \"Data\": \"Kelompok Masyarakat\", \"Kode Kategori\": 20.2, \"Kategori\": \"Kesenian/Kebudayaan\", \"Keterangan\": \"Orkes Melayu\", \"N\": null, \"Satuan\": \"Kelompok\"}, {\"Tahun\": 2017, \"Kode\": 20, \"Data\": \"Kelompok Masyarakat\", \"Kode Kategori\": 20.2, \"Kategori\": \"Kesenian/Kebudayaan\", \"Keterangan\": \"Kesenian Daerah\", \"N\": \"3\", \"Satuan\": \"Kelompok\"}, {\"Tahun\": 2017, \"Kode\": 20, \"Data\": \"Kelompok Masyarakat\", \"Kode Kategori\": 20.2, \"Kategori\": \"Kesenian/Kebudayaan\", \"Keterangan\": \"Band\", \"N\": null, \"Satuan\": \"Kelompok\"}, {\"Tahun\": 2017, \"Kode\": 20, \"Data\": \"Kelompok Masyarakat\", \"Kode Kategori\": 20.2, \"Kategori\": \"Kesenian/Kebudayaan\", \"Keterangan\": \"Kdondong\", \"N\": null, \"Satuan\": \"Kelompok\"}, {\"Tahun\": 2017, \"Kode\": 20, \"Data\": \"Kelompok Masyarakat\", \"Kode Kategori\": 20.2, \"Kategori\": \"Kesenian/Kebudayaan\", \"Keterangan\": \"Kosidah\", \"N\": \"2\", \"Satuan\": \"Kelompok\"}, {\"Tahun\": 2017, \"Kode\": 20, \"Data\": \"Kelompok Masyarakat\", \"Kode Kategori\": 20.2, \"Kategori\": \"Kesenian/Kebudayaan\", \"Keterangan\": \"Wayang\", \"N\": null, \"Satuan\": \"Kelompok\"}, {\"Tahun\": 2019, \"Kode\": 9, \"Data\": \"Sarana Prasarana\", \"Kode Kategori\": 9.2, \"Kategori\": \"Kesenian/Kebudayaan\", \"Keterangan\": \"Sarana Krida\", \"N\": null, \"Satuan\": \"Unit\"}, {\"Tahun\": 2019, \"Kode\": 9, \"Data\": \"Sarana Prasarana\", \"Kode Kategori\": 9.2, \"Kategori\": \"Kesenian/Kebudayaan\", \"Keterangan\": \"Gelanggang Remaja\", \"N\": 1.0, \"Satuan\": \"Unit\"}, {\"Tahun\": 2019, \"Kode\": 9, \"Data\": \"Sarana Prasarana\", \"Kode Kategori\": 9.2, \"Kategori\": \"Kesenian/Kebudayaan\", \"Keterangan\": \"Gedung Kesenian\", \"N\": null, \"Satuan\": \"Unit\"}, {\"Tahun\": 2019, \"Kode\": 9, \"Data\": \"Sarana Prasarana\", \"Kode Kategori\": 9.2, \"Kategori\": \"Kesenian/Kebudayaan\", \"Keterangan\": \"Gedung Bioskop\", \"N\": null, \"Satuan\": \"Unit\"}, {\"Tahun\": 2019, \"Kode\": 9, \"Data\": \"Sarana Prasarana\", \"Kode Kategori\": 9.2, \"Kategori\": \"Kesenian/Kebudayaan\", \"Keterangan\": \"Diskotik/Klub Malam\", \"N\": null, \"Satuan\": \"Unit\"}, {\"Tahun\": 2019, \"Kode\": 9, \"Data\": \"Sarana Prasarana\", \"Kode Kategori\": 9.2, \"Kategori\": \"Kesenian/Kebudayaan\", \"Keterangan\": \"Gd. Sandiwara/ Teater\", \"N\": null, \"Satuan\": \"Unit\"}, {\"Tahun\": 2019, \"Kode\": 20, \"Data\": \"Kelompok Masyarakat\", \"Kode Kategori\": 20.2, \"Kategori\": \"Kesenian/Kebudayaan\", \"Keterangan\": \"Paduan Suara\", \"N\": null, \"Satuan\": \"Kelompok\"}, {\"Tahun\": 2019, \"Kode\": 20, \"Data\": \"Kelompok Masyarakat\", \"Kode Kategori\": 20.2, \"Kategori\": \"Kesenian/Kebudayaan\", \"Keterangan\": \"Orkes Melayu\", \"N\": null, \"Satuan\": \"Kelompok\"}, {\"Tahun\": 2019, \"Kode\": 20, \"Data\": \"Kelompok Masyarakat\", \"Kode Kategori\": 20.2, \"Kategori\": \"Kesenian/Kebudayaan\", \"Keterangan\": \"Kesenian Daerah\", \"N\": 3.0, \"Satuan\": \"Kelompok\"}, {\"Tahun\": 2019, \"Kode\": 20, \"Data\": \"Kelompok Masyarakat\", \"Kode Kategori\": 20.2, \"Kategori\": \"Kesenian/Kebudayaan\", \"Keterangan\": \"Band\", \"N\": null, \"Satuan\": \"Kelompok\"}, {\"Tahun\": 2019, \"Kode\": 20, \"Data\": \"Kelompok Masyarakat\", \"Kode Kategori\": 20.2, \"Kategori\": \"Kesenian/Kebudayaan\", \"Keterangan\": \"Kdondong\", \"N\": null, \"Satuan\": \"Kelompok\"}, {\"Tahun\": 2019, \"Kode\": 20, \"Data\": \"Kelompok Masyarakat\", \"Kode Kategori\": 20.2, \"Kategori\": \"Kesenian/Kebudayaan\", \"Keterangan\": \"Kosidah\", \"N\": 4.0, \"Satuan\": \"Kelompok\"}, {\"Tahun\": 2019, \"Kode\": 20, \"Data\": \"Kelompok Masyarakat\", \"Kode Kategori\": 20.2, \"Kategori\": \"Kesenian/Kebudayaan\", \"Keterangan\": \"Wayang\", \"N\": null, \"Satuan\": \"Kelompok\"}]}}, {\"mode\": \"vega-lite\"});\n",
       "</script>"
      ],
      "text/plain": [
       "alt.Chart(...)"
      ]
     },
     "execution_count": 20,
     "metadata": {},
     "output_type": "execute_result"
    }
   ],
   "source": [
    "df_9 = data('Kesenian/Kebudayaan')\n",
    "plot9 = plot_3(df_9,'Unit/Kelompok', 'Kesenian & Kebudayaan',80)\n",
    "plot9"
   ]
  },
  {
   "cell_type": "markdown",
   "metadata": {},
   "source": [
    "<h2> Pendidikan Umum</h2>"
   ]
  },
  {
   "cell_type": "code",
   "execution_count": 21,
   "metadata": {},
   "outputs": [],
   "source": [
    "df_10 = df.loc[df['Data']=='Pendidikan Umum']\n",
    "df_10_tk = df.loc[df['Kategori']=='TK']\n",
    "df_10_sd = df.loc[df['Kategori']=='SD/MI']"
   ]
  },
  {
   "cell_type": "code",
   "execution_count": 22,
   "metadata": {},
   "outputs": [
    {
     "data": {
      "text/html": [
       "\n",
       "<div id=\"altair-viz-be1f2274463648a380b1b445ea2a7d90\"></div>\n",
       "<script type=\"text/javascript\">\n",
       "  (function(spec, embedOpt){\n",
       "    let outputDiv = document.currentScript.previousElementSibling;\n",
       "    if (outputDiv.id !== \"altair-viz-be1f2274463648a380b1b445ea2a7d90\") {\n",
       "      outputDiv = document.getElementById(\"altair-viz-be1f2274463648a380b1b445ea2a7d90\");\n",
       "    }\n",
       "    const paths = {\n",
       "      \"vega\": \"https://cdn.jsdelivr.net/npm//vega@5?noext\",\n",
       "      \"vega-lib\": \"https://cdn.jsdelivr.net/npm//vega-lib?noext\",\n",
       "      \"vega-lite\": \"https://cdn.jsdelivr.net/npm//vega-lite@4.8.1?noext\",\n",
       "      \"vega-embed\": \"https://cdn.jsdelivr.net/npm//vega-embed@6?noext\",\n",
       "    };\n",
       "\n",
       "    function loadScript(lib) {\n",
       "      return new Promise(function(resolve, reject) {\n",
       "        var s = document.createElement('script');\n",
       "        s.src = paths[lib];\n",
       "        s.async = true;\n",
       "        s.onload = () => resolve(paths[lib]);\n",
       "        s.onerror = () => reject(`Error loading script: ${paths[lib]}`);\n",
       "        document.getElementsByTagName(\"head\")[0].appendChild(s);\n",
       "      });\n",
       "    }\n",
       "\n",
       "    function showError(err) {\n",
       "      outputDiv.innerHTML = `<div class=\"error\" style=\"color:red;\">${err}</div>`;\n",
       "      throw err;\n",
       "    }\n",
       "\n",
       "    function displayChart(vegaEmbed) {\n",
       "      vegaEmbed(outputDiv, spec, embedOpt)\n",
       "        .catch(err => showError(`Javascript Error: ${err.message}<br>This usually means there's a typo in your chart specification. See the javascript console for the full traceback.`));\n",
       "    }\n",
       "\n",
       "    if(typeof define === \"function\" && define.amd) {\n",
       "      requirejs.config({paths});\n",
       "      require([\"vega-embed\"], displayChart, err => showError(`Error loading script: ${err.message}`));\n",
       "    } else if (typeof vegaEmbed === \"function\") {\n",
       "      displayChart(vegaEmbed);\n",
       "    } else {\n",
       "      loadScript(\"vega\")\n",
       "        .then(() => loadScript(\"vega-lite\"))\n",
       "        .then(() => loadScript(\"vega-embed\"))\n",
       "        .catch(showError)\n",
       "        .then(() => displayChart(vegaEmbed));\n",
       "    }\n",
       "  })({\"config\": {\"view\": {\"continuousWidth\": 400, \"continuousHeight\": 300}}, \"data\": {\"name\": \"data-6996bd9e7d18a76a37cbf0de5c40c5d7\"}, \"mark\": {\"type\": \"bar\", \"opacity\": 0.8}, \"encoding\": {\"color\": {\"condition\": {\"type\": \"ordinal\", \"field\": \"Tahun\", \"selection\": \"selector019\"}, \"value\": \"lightgray\"}, \"column\": {\"type\": \"nominal\", \"field\": \"Keterangan\", \"title\": \"TK\"}, \"tooltip\": [{\"type\": \"quantitative\", \"field\": \"Tahun\"}, {\"type\": \"nominal\", \"field\": \"Keterangan\"}, {\"type\": \"nominal\", \"field\": \"N\"}, {\"type\": \"nominal\", \"field\": \"Satuan\"}], \"x\": {\"type\": \"ordinal\", \"field\": \"Tahun\", \"title\": \"\"}, \"y\": {\"type\": \"quantitative\", \"axis\": {\"tickMinStep\": 1}, \"field\": \"N\", \"title\": \"Unit/Orang\"}}, \"resolve\": {\"scale\": {\"x\": \"independent\"}}, \"selection\": {\"selector019\": {\"type\": \"single\", \"encodings\": [\"x\", \"color\"]}, \"selector020\": {\"type\": \"interval\", \"bind\": \"scales\", \"encodings\": [\"x\", \"y\"]}}, \"width\": 80, \"$schema\": \"https://vega.github.io/schema/vega-lite/v4.8.1.json\", \"datasets\": {\"data-6996bd9e7d18a76a37cbf0de5c40c5d7\": [{\"Tahun\": 2017, \"Kode\": 8, \"Data\": \"Pendidikan Umum\", \"Kode Kategori\": 8.1, \"Kategori\": \"TK\", \"Keterangan\": \"Gedung\", \"N\": \"2\", \"Satuan\": \"Unit\"}, {\"Tahun\": 2017, \"Kode\": 8, \"Data\": \"Pendidikan Umum\", \"Kode Kategori\": 8.1, \"Kategori\": \"TK\", \"Keterangan\": \"Guru\", \"N\": \"7\", \"Satuan\": \"Orang\"}, {\"Tahun\": 2017, \"Kode\": 8, \"Data\": \"Pendidikan Umum\", \"Kode Kategori\": 8.1, \"Kategori\": \"TK\", \"Keterangan\": \"Murid\", \"N\": \"50\", \"Satuan\": \"Orang\"}, {\"Tahun\": 2019, \"Kode\": 8, \"Data\": \"Pendidikan Umum\", \"Kode Kategori\": 8.1, \"Kategori\": \"TK\", \"Keterangan\": \"Gedung\", \"N\": 3.0, \"Satuan\": \"Unit\"}, {\"Tahun\": 2019, \"Kode\": 8, \"Data\": \"Pendidikan Umum\", \"Kode Kategori\": 8.1, \"Kategori\": \"TK\", \"Keterangan\": \"Guru\", \"N\": 9.0, \"Satuan\": \"Orang\"}, {\"Tahun\": 2019, \"Kode\": 8, \"Data\": \"Pendidikan Umum\", \"Kode Kategori\": 8.1, \"Kategori\": \"TK\", \"Keterangan\": \"Murid\", \"N\": 65.0, \"Satuan\": \"Orang\"}]}}, {\"mode\": \"vega-lite\"});\n",
       "</script>"
      ],
      "text/plain": [
       "alt.Chart(...)"
      ]
     },
     "execution_count": 22,
     "metadata": {},
     "output_type": "execute_result"
    }
   ],
   "source": [
    "plot10_1 = plot_3(df_10_tk,'Unit/Orang', 'TK',80)\n",
    "plot10_1"
   ]
  },
  {
   "cell_type": "code",
   "execution_count": 23,
   "metadata": {},
   "outputs": [
    {
     "data": {
      "text/html": [
       "\n",
       "<div id=\"altair-viz-63b2e024a98e43639a3839a009efc3f8\"></div>\n",
       "<script type=\"text/javascript\">\n",
       "  (function(spec, embedOpt){\n",
       "    let outputDiv = document.currentScript.previousElementSibling;\n",
       "    if (outputDiv.id !== \"altair-viz-63b2e024a98e43639a3839a009efc3f8\") {\n",
       "      outputDiv = document.getElementById(\"altair-viz-63b2e024a98e43639a3839a009efc3f8\");\n",
       "    }\n",
       "    const paths = {\n",
       "      \"vega\": \"https://cdn.jsdelivr.net/npm//vega@5?noext\",\n",
       "      \"vega-lib\": \"https://cdn.jsdelivr.net/npm//vega-lib?noext\",\n",
       "      \"vega-lite\": \"https://cdn.jsdelivr.net/npm//vega-lite@4.8.1?noext\",\n",
       "      \"vega-embed\": \"https://cdn.jsdelivr.net/npm//vega-embed@6?noext\",\n",
       "    };\n",
       "\n",
       "    function loadScript(lib) {\n",
       "      return new Promise(function(resolve, reject) {\n",
       "        var s = document.createElement('script');\n",
       "        s.src = paths[lib];\n",
       "        s.async = true;\n",
       "        s.onload = () => resolve(paths[lib]);\n",
       "        s.onerror = () => reject(`Error loading script: ${paths[lib]}`);\n",
       "        document.getElementsByTagName(\"head\")[0].appendChild(s);\n",
       "      });\n",
       "    }\n",
       "\n",
       "    function showError(err) {\n",
       "      outputDiv.innerHTML = `<div class=\"error\" style=\"color:red;\">${err}</div>`;\n",
       "      throw err;\n",
       "    }\n",
       "\n",
       "    function displayChart(vegaEmbed) {\n",
       "      vegaEmbed(outputDiv, spec, embedOpt)\n",
       "        .catch(err => showError(`Javascript Error: ${err.message}<br>This usually means there's a typo in your chart specification. See the javascript console for the full traceback.`));\n",
       "    }\n",
       "\n",
       "    if(typeof define === \"function\" && define.amd) {\n",
       "      requirejs.config({paths});\n",
       "      require([\"vega-embed\"], displayChart, err => showError(`Error loading script: ${err.message}`));\n",
       "    } else if (typeof vegaEmbed === \"function\") {\n",
       "      displayChart(vegaEmbed);\n",
       "    } else {\n",
       "      loadScript(\"vega\")\n",
       "        .then(() => loadScript(\"vega-lite\"))\n",
       "        .then(() => loadScript(\"vega-embed\"))\n",
       "        .catch(showError)\n",
       "        .then(() => displayChart(vegaEmbed));\n",
       "    }\n",
       "  })({\"config\": {\"view\": {\"continuousWidth\": 400, \"continuousHeight\": 300}}, \"data\": {\"name\": \"data-65ef19c44b66bd0a3ffef8825439bf58\"}, \"mark\": {\"type\": \"bar\", \"opacity\": 0.8}, \"encoding\": {\"color\": {\"condition\": {\"type\": \"ordinal\", \"field\": \"Tahun\", \"selection\": \"selector021\"}, \"value\": \"lightgray\"}, \"column\": {\"type\": \"nominal\", \"field\": \"Keterangan\", \"title\": \"SD/MI\"}, \"tooltip\": [{\"type\": \"quantitative\", \"field\": \"Tahun\"}, {\"type\": \"nominal\", \"field\": \"Keterangan\"}, {\"type\": \"nominal\", \"field\": \"N\"}, {\"type\": \"nominal\", \"field\": \"Satuan\"}], \"x\": {\"type\": \"ordinal\", \"field\": \"Tahun\", \"title\": \"\"}, \"y\": {\"type\": \"quantitative\", \"axis\": {\"tickMinStep\": 1}, \"field\": \"N\", \"title\": \"Unit/Orang\"}}, \"resolve\": {\"scale\": {\"x\": \"independent\"}}, \"selection\": {\"selector021\": {\"type\": \"single\", \"encodings\": [\"x\", \"color\"]}, \"selector022\": {\"type\": \"interval\", \"bind\": \"scales\", \"encodings\": [\"x\", \"y\"]}}, \"width\": 80, \"$schema\": \"https://vega.github.io/schema/vega-lite/v4.8.1.json\", \"datasets\": {\"data-65ef19c44b66bd0a3ffef8825439bf58\": [{\"Tahun\": 2017, \"Kode\": 8, \"Data\": \"Pendidikan Umum\", \"Kode Kategori\": 8.2, \"Kategori\": \"SD/MI\", \"Keterangan\": \"Gedung\", \"N\": \"2\", \"Satuan\": \"Unit\"}, {\"Tahun\": 2017, \"Kode\": 8, \"Data\": \"Pendidikan Umum\", \"Kode Kategori\": 8.2, \"Kategori\": \"SD/MI\", \"Keterangan\": \"Guru\", \"N\": \"18\", \"Satuan\": \"Orang\"}, {\"Tahun\": 2017, \"Kode\": 8, \"Data\": \"Pendidikan Umum\", \"Kode Kategori\": 8.2, \"Kategori\": \"SD/MI\", \"Keterangan\": \"Murid\", \"N\": \"203\", \"Satuan\": \"Orang\"}, {\"Tahun\": 2019, \"Kode\": 8, \"Data\": \"Pendidikan Umum\", \"Kode Kategori\": 8.2, \"Kategori\": \"SD/MI\", \"Keterangan\": \"Gedung\", \"N\": 2.0, \"Satuan\": \"Unit\"}, {\"Tahun\": 2019, \"Kode\": 8, \"Data\": \"Pendidikan Umum\", \"Kode Kategori\": 8.2, \"Kategori\": \"SD/MI\", \"Keterangan\": \"Guru\", \"N\": 22.0, \"Satuan\": \"Orang\"}, {\"Tahun\": 2019, \"Kode\": 8, \"Data\": \"Pendidikan Umum\", \"Kode Kategori\": 8.2, \"Kategori\": \"SD/MI\", \"Keterangan\": \"Murid\", \"N\": 163.0, \"Satuan\": \"Orang\"}]}}, {\"mode\": \"vega-lite\"});\n",
       "</script>"
      ],
      "text/plain": [
       "alt.Chart(...)"
      ]
     },
     "execution_count": 23,
     "metadata": {},
     "output_type": "execute_result"
    }
   ],
   "source": [
    "plot10_2 = plot_3(df_10_sd,'Unit/Orang', 'SD/MI',80)\n",
    "plot10_2"
   ]
  },
  {
   "cell_type": "code",
   "execution_count": 24,
   "metadata": {},
   "outputs": [],
   "source": [
    "# Save file\n",
    "#plot1.save('jenis_kelamin.json')\n",
    "#plot2.save('agama.json')\n",
    "#plot3.save('usia_pendidikan.json')\n",
    "#plot4.save('usia_tenaga_kerja.json')\n",
    "#plot5.save('lulusan_pendidikan.json')\n",
    "#plot6.save('mata_pencaharian.json')\n",
    "#plot7.save('penyandang_tuna.json')\n",
    "#plot8.save('status_pernikahan.json')\n",
    "#plot9.save('kesenian_kebudayaan.json')\n",
    "#plot10_1.save('pendidikan_umum_tk.json')\n",
    "#plot10_2.save('pendidikan_umum_sd.json')"
   ]
  },
  {
   "cell_type": "code",
   "execution_count": null,
   "metadata": {},
   "outputs": [],
   "source": []
  }
 ],
 "metadata": {
  "kernelspec": {
   "display_name": "Python 3",
   "language": "python",
   "name": "python3"
  },
  "language_info": {
   "codemirror_mode": {
    "name": "ipython",
    "version": 3
   },
   "file_extension": ".py",
   "mimetype": "text/x-python",
   "name": "python",
   "nbconvert_exporter": "python",
   "pygments_lexer": "ipython3",
   "version": "3.7.6"
  }
 },
 "nbformat": 4,
 "nbformat_minor": 4
}
