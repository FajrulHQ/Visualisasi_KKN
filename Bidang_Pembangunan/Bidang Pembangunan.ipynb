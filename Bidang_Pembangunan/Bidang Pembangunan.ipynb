{
 "cells": [
  {
   "cell_type": "code",
   "execution_count": 1,
   "metadata": {},
   "outputs": [],
   "source": [
    "import pandas as pd\n",
    "import altair as alt\n",
    "import matplotlib.pyplot as plt\n",
    "import numpy as np"
   ]
  },
  {
   "cell_type": "code",
   "execution_count": 2,
   "metadata": {},
   "outputs": [],
   "source": [
    "df_2019 = pd.read_csv('D:\\Fajrul\\KKN\\Move to KEBON\\Statistik_Kebon\\Visualisasi_KKN\\data_2019_S2.csv')\n",
    "\n",
    "df_2017 = pd.read_csv('D:\\Fajrul\\KKN\\Move to KEBON\\Statistik_Kebon\\Visualisasi_KKN\\data_2017_S2.csv')\n",
    "\n",
    "df = pd.concat([df_2017,df_2019])"
   ]
  },
  {
   "cell_type": "code",
   "execution_count": 3,
   "metadata": {},
   "outputs": [],
   "source": [
    "def data1(a):\n",
    "    data = df.loc[df['Data']==a]\n",
    "    return data\n",
    "\n",
    "def data2(a):\n",
    "    data = df.loc[df['Kategori']==a]\n",
    "    return data"
   ]
  },
  {
   "cell_type": "code",
   "execution_count": 4,
   "metadata": {},
   "outputs": [],
   "source": [
    "# Set color and selector interactive\n",
    "palette = alt.Scale(scheme='purples')\n",
    "selector = alt.selection_single(encodings=['y', 'color'])"
   ]
  },
  {
   "cell_type": "code",
   "execution_count": 5,
   "metadata": {},
   "outputs": [],
   "source": [
    "def plot_1(data,x,y,width,title):\n",
    "    bars = alt.Chart(data).mark_bar(opacity=0.8).encode(\n",
    "        x=alt.X('N:Q',stack='normalize', title=x, axis=alt.Axis(format='.0%')),\n",
    "        y=alt.Y('Keterangan:O',title=y),\n",
    "        color=alt.condition(selector, 'Tahun:O', alt.value('lightgray'), scale=palette)\n",
    "    ).add_selection(\n",
    "        selector\n",
    "    )\n",
    "    \n",
    "    text = alt.Chart(data).mark_text(dx=-18, dy=3, color='white').encode(\n",
    "        x=alt.X('N:Q', stack='normalize'),\n",
    "        y=alt.Y('Keterangan:O'),\n",
    "        detail='Tahun:O',\n",
    "        text=alt.Text('N:O'),\n",
    "        tooltip = ['Tahun','Kategori','Keterangan','N','Satuan']\n",
    "    ).interactive()\n",
    "    return (bars+text).properties(width=width,title=title)"
   ]
  },
  {
   "cell_type": "code",
   "execution_count": 10,
   "metadata": {},
   "outputs": [],
   "source": [
    "def plot_2(data,x,y,width):\n",
    "    bars = alt.Chart(data).mark_bar(opacity=0.8).encode(\n",
    "        alt.X('Keterangan:O', title=y),\n",
    "        alt.Y('N:Q',title=x, axis=alt.Axis(tickMinStep=1)),\n",
    "        alt.Column('Tahun:O', title=''),\n",
    "        color=alt.condition(selector, 'Tahun:N', alt.value('lightgray'), scale=palette),\n",
    "        tooltip = ['Tahun','Keterangan','N','Satuan']\n",
    "    ).add_selection(selector\n",
    "    ).interactive(\n",
    "    ).resolve_scale(x='independent')\n",
    "    \n",
    "    return bars.properties(width=width\n",
    "    )"
   ]
  },
  {
   "cell_type": "code",
   "execution_count": 11,
   "metadata": {},
   "outputs": [],
   "source": [
    "def plot_3(data,x,y,width):\n",
    "    bars = alt.Chart(data).mark_bar(opacity=0.8).encode(\n",
    "        alt.X('Tahun:O', title=''),\n",
    "        alt.Y('N:Q', title=x, axis=alt.Axis(tickMinStep=1)),\n",
    "        alt.Column('Keterangan:N', title=y),\n",
    "        color=alt.condition(selector, 'Tahun:N', alt.value('lightgray'), scale=palette),\n",
    "        tooltip = ['Tahun','Keterangan','N','Satuan']\n",
    "    ).add_selection(selector\n",
    "    ).interactive(\n",
    "    ).resolve_scale(x='independent')\n",
    "    \n",
    "    return bars.properties(width=width\n",
    "    )"
   ]
  },
  {
   "cell_type": "code",
   "execution_count": 12,
   "metadata": {},
   "outputs": [],
   "source": [
    "def plot_4(data,x,y,width,title):\n",
    "    bars = alt.Chart(data).mark_bar(opacity=0.8).encode(\n",
    "        alt.X('N:Q', title=x, axis=alt.Axis(tickMinStep=1)),\n",
    "        alt.Y('Keterangan:O', title=y, sort='-x'),\n",
    "        color=alt.condition(selector, 'Keterangan:O', alt.value('lightgray'),sort='x', scale=palette)\n",
    "    )\n",
    "\n",
    "    text = bars.mark_text(\n",
    "        align='left',\n",
    "        baseline='middle',\n",
    "        dx=3  # Nudges text to right so it doesn't appear on top of the bar\n",
    "    ).encode(\n",
    "        text='N:Q',\n",
    "        tooltip = ['Tahun','Keterangan','N','Satuan']\n",
    "    ).interactive(\n",
    "    ).add_selection(selector\n",
    "    )\n",
    "\n",
    "    return (bars + text).properties(width=width,title=title)"
   ]
  },
  {
   "cell_type": "markdown",
   "metadata": {},
   "source": [
    "<h2>Sarana Pembangunan</h2>"
   ]
  },
  {
   "cell_type": "code",
   "execution_count": 7,
   "metadata": {},
   "outputs": [
    {
     "data": {
      "text/html": [
       "\n",
       "<div id=\"altair-viz-9e7feda4c53f4697b3c5f5c422f8b573\"></div>\n",
       "<script type=\"text/javascript\">\n",
       "  (function(spec, embedOpt){\n",
       "    let outputDiv = document.currentScript.previousElementSibling;\n",
       "    if (outputDiv.id !== \"altair-viz-9e7feda4c53f4697b3c5f5c422f8b573\") {\n",
       "      outputDiv = document.getElementById(\"altair-viz-9e7feda4c53f4697b3c5f5c422f8b573\");\n",
       "    }\n",
       "    const paths = {\n",
       "      \"vega\": \"https://cdn.jsdelivr.net/npm//vega@5?noext\",\n",
       "      \"vega-lib\": \"https://cdn.jsdelivr.net/npm//vega-lib?noext\",\n",
       "      \"vega-lite\": \"https://cdn.jsdelivr.net/npm//vega-lite@4.8.1?noext\",\n",
       "      \"vega-embed\": \"https://cdn.jsdelivr.net/npm//vega-embed@6?noext\",\n",
       "    };\n",
       "\n",
       "    function loadScript(lib) {\n",
       "      return new Promise(function(resolve, reject) {\n",
       "        var s = document.createElement('script');\n",
       "        s.src = paths[lib];\n",
       "        s.async = true;\n",
       "        s.onload = () => resolve(paths[lib]);\n",
       "        s.onerror = () => reject(`Error loading script: ${paths[lib]}`);\n",
       "        document.getElementsByTagName(\"head\")[0].appendChild(s);\n",
       "      });\n",
       "    }\n",
       "\n",
       "    function showError(err) {\n",
       "      outputDiv.innerHTML = `<div class=\"error\" style=\"color:red;\">${err}</div>`;\n",
       "      throw err;\n",
       "    }\n",
       "\n",
       "    function displayChart(vegaEmbed) {\n",
       "      vegaEmbed(outputDiv, spec, embedOpt)\n",
       "        .catch(err => showError(`Javascript Error: ${err.message}<br>This usually means there's a typo in your chart specification. See the javascript console for the full traceback.`));\n",
       "    }\n",
       "\n",
       "    if(typeof define === \"function\" && define.amd) {\n",
       "      requirejs.config({paths});\n",
       "      require([\"vega-embed\"], displayChart, err => showError(`Error loading script: ${err.message}`));\n",
       "    } else if (typeof vegaEmbed === \"function\") {\n",
       "      displayChart(vegaEmbed);\n",
       "    } else {\n",
       "      loadScript(\"vega\")\n",
       "        .then(() => loadScript(\"vega-lite\"))\n",
       "        .then(() => loadScript(\"vega-embed\"))\n",
       "        .catch(showError)\n",
       "        .then(() => displayChart(vegaEmbed));\n",
       "    }\n",
       "  })({\"config\": {\"view\": {\"continuousWidth\": 400, \"continuousHeight\": 300}, \"title\": {\"color\": \"purple\", \"fontSize\": 14}}, \"layer\": [{\"mark\": {\"type\": \"bar\", \"opacity\": 0.8}, \"encoding\": {\"color\": {\"condition\": {\"type\": \"ordinal\", \"field\": \"Keterangan\", \"scale\": {\"scheme\": \"purples\"}, \"sort\": \"x\", \"selection\": \"selector001\"}, \"value\": \"lightgray\"}, \"x\": {\"type\": \"quantitative\", \"axis\": {\"tickMinStep\": 1}, \"field\": \"N\", \"title\": \"Unit\"}, \"y\": {\"type\": \"ordinal\", \"field\": \"Keterangan\", \"sort\": \"-x\", \"title\": \"\"}}}, {\"mark\": {\"type\": \"text\", \"align\": \"left\", \"baseline\": \"middle\", \"dx\": 3}, \"encoding\": {\"color\": {\"condition\": {\"type\": \"ordinal\", \"field\": \"Keterangan\", \"scale\": {\"scheme\": \"purples\"}, \"sort\": \"x\", \"selection\": \"selector001\"}, \"value\": \"lightgray\"}, \"text\": {\"type\": \"quantitative\", \"field\": \"N\"}, \"tooltip\": [{\"type\": \"quantitative\", \"field\": \"Tahun\"}, {\"type\": \"nominal\", \"field\": \"Keterangan\"}, {\"type\": \"quantitative\", \"field\": \"N\"}, {\"type\": \"nominal\", \"field\": \"Satuan\"}], \"x\": {\"type\": \"quantitative\", \"axis\": {\"tickMinStep\": 1}, \"field\": \"N\", \"title\": \"Unit\"}, \"y\": {\"type\": \"ordinal\", \"field\": \"Keterangan\", \"sort\": \"-x\", \"title\": \"\"}}, \"selection\": {\"selector002\": {\"type\": \"interval\", \"bind\": \"scales\", \"encodings\": [\"x\", \"y\"]}, \"selector001\": {\"type\": \"single\", \"encodings\": [\"y\", \"color\"]}}}], \"data\": {\"name\": \"data-129c5d45828f4d148028c274b3766a61\"}, \"title\": \"Fasilitas Umum\", \"width\": 500, \"$schema\": \"https://vega.github.io/schema/vega-lite/v4.8.1.json\", \"datasets\": {\"data-129c5d45828f4d148028c274b3766a61\": [{\"Tahun\": 2017, \"Kode\": 7, \"Data\": \"Bidang Pembangunan\", \"Kode Kategori\": 7.1, \"Kategori\": \"Agama\", \"Keterangan\": \"Masjid\", \"N\": 8.0, \"Satuan\": \"Unit\"}, {\"Tahun\": 2017, \"Kode\": 7, \"Data\": \"Bidang Pembangunan\", \"Kode Kategori\": 7.1, \"Kategori\": \"Agama\", \"Keterangan\": \"Mushola\", \"N\": 1.0, \"Satuan\": \"Unit\"}, {\"Tahun\": 2017, \"Kode\": 7, \"Data\": \"Bidang Pembangunan\", \"Kode Kategori\": 7.1, \"Kategori\": \"Agama\", \"Keterangan\": \"Gereja\", \"N\": 1.0, \"Satuan\": \"Unit\"}, {\"Tahun\": 2017, \"Kode\": 7, \"Data\": \"Bidang Pembangunan\", \"Kode Kategori\": 7.2, \"Kategori\": \"Kesehatan\", \"Keterangan\": \"Poliklinik/Balai Pelayanan Masyarakat\", \"N\": 1.0, \"Satuan\": \"Unit\"}, {\"Tahun\": 2019, \"Kode\": 7, \"Data\": \"Bidang Pembangunan\", \"Kode Kategori\": 7.1, \"Kategori\": \"Agama\", \"Keterangan\": \"Masjid\", \"N\": 8.0, \"Satuan\": \"Unit\"}, {\"Tahun\": 2019, \"Kode\": 7, \"Data\": \"Bidang Pembangunan\", \"Kode Kategori\": 7.1, \"Kategori\": \"Agama\", \"Keterangan\": \"Mushola\", \"N\": 1.0, \"Satuan\": \"Unit\"}, {\"Tahun\": 2019, \"Kode\": 7, \"Data\": \"Bidang Pembangunan\", \"Kode Kategori\": 7.1, \"Kategori\": \"Agama\", \"Keterangan\": \"Gereja\", \"N\": 1.0, \"Satuan\": \"Unit\"}, {\"Tahun\": 2019, \"Kode\": 7, \"Data\": \"Bidang Pembangunan\", \"Kode Kategori\": 7.2, \"Kategori\": \"Kesehatan\", \"Keterangan\": \"Poliklinik/Balai Pelayanan Masyarakat\", \"N\": 1.0, \"Satuan\": \"Unit\"}]}}, {\"mode\": \"vega-lite\"});\n",
       "</script>"
      ],
      "text/plain": [
       "alt.LayerChart(...)"
      ]
     },
     "execution_count": 7,
     "metadata": {},
     "output_type": "execute_result"
    }
   ],
   "source": [
    "df1 = data1('Bidang Pembangunan')\n",
    "df1 = df1.dropna()\n",
    "plot1 = plot_4(df1,'Unit','',500,'Fasilitas Umum').configure_title(fontSize=14,color='purple')\n",
    "plot1"
   ]
  },
  {
   "cell_type": "code",
   "execution_count": 8,
   "metadata": {},
   "outputs": [
    {
     "data": {
      "text/html": [
       "\n",
       "<div id=\"altair-viz-5c03c39695c1445e9d3b5306f735ee9e\"></div>\n",
       "<script type=\"text/javascript\">\n",
       "  (function(spec, embedOpt){\n",
       "    let outputDiv = document.currentScript.previousElementSibling;\n",
       "    if (outputDiv.id !== \"altair-viz-5c03c39695c1445e9d3b5306f735ee9e\") {\n",
       "      outputDiv = document.getElementById(\"altair-viz-5c03c39695c1445e9d3b5306f735ee9e\");\n",
       "    }\n",
       "    const paths = {\n",
       "      \"vega\": \"https://cdn.jsdelivr.net/npm//vega@5?noext\",\n",
       "      \"vega-lib\": \"https://cdn.jsdelivr.net/npm//vega-lib?noext\",\n",
       "      \"vega-lite\": \"https://cdn.jsdelivr.net/npm//vega-lite@4.8.1?noext\",\n",
       "      \"vega-embed\": \"https://cdn.jsdelivr.net/npm//vega-embed@6?noext\",\n",
       "    };\n",
       "\n",
       "    function loadScript(lib) {\n",
       "      return new Promise(function(resolve, reject) {\n",
       "        var s = document.createElement('script');\n",
       "        s.src = paths[lib];\n",
       "        s.async = true;\n",
       "        s.onload = () => resolve(paths[lib]);\n",
       "        s.onerror = () => reject(`Error loading script: ${paths[lib]}`);\n",
       "        document.getElementsByTagName(\"head\")[0].appendChild(s);\n",
       "      });\n",
       "    }\n",
       "\n",
       "    function showError(err) {\n",
       "      outputDiv.innerHTML = `<div class=\"error\" style=\"color:red;\">${err}</div>`;\n",
       "      throw err;\n",
       "    }\n",
       "\n",
       "    function displayChart(vegaEmbed) {\n",
       "      vegaEmbed(outputDiv, spec, embedOpt)\n",
       "        .catch(err => showError(`Javascript Error: ${err.message}<br>This usually means there's a typo in your chart specification. See the javascript console for the full traceback.`));\n",
       "    }\n",
       "\n",
       "    if(typeof define === \"function\" && define.amd) {\n",
       "      requirejs.config({paths});\n",
       "      require([\"vega-embed\"], displayChart, err => showError(`Error loading script: ${err.message}`));\n",
       "    } else if (typeof vegaEmbed === \"function\") {\n",
       "      displayChart(vegaEmbed);\n",
       "    } else {\n",
       "      loadScript(\"vega\")\n",
       "        .then(() => loadScript(\"vega-lite\"))\n",
       "        .then(() => loadScript(\"vega-embed\"))\n",
       "        .catch(showError)\n",
       "        .then(() => displayChart(vegaEmbed));\n",
       "    }\n",
       "  })({\"config\": {\"view\": {\"continuousWidth\": 400, \"continuousHeight\": 300}, \"title\": {\"color\": \"purple\", \"fontSize\": 14}}, \"layer\": [{\"mark\": {\"type\": \"bar\", \"opacity\": 0.8}, \"encoding\": {\"color\": {\"condition\": {\"type\": \"ordinal\", \"field\": \"Keterangan\", \"scale\": {\"scheme\": \"purples\"}, \"sort\": \"x\", \"selection\": \"selector001\"}, \"value\": \"lightgray\"}, \"x\": {\"type\": \"quantitative\", \"axis\": {\"tickMinStep\": 1}, \"field\": \"N\", \"title\": \"Unit\"}, \"y\": {\"type\": \"ordinal\", \"field\": \"Keterangan\", \"sort\": \"-x\", \"title\": \"Jalan\"}}}, {\"mark\": {\"type\": \"text\", \"align\": \"left\", \"baseline\": \"middle\", \"dx\": 3}, \"encoding\": {\"color\": {\"condition\": {\"type\": \"ordinal\", \"field\": \"Keterangan\", \"scale\": {\"scheme\": \"purples\"}, \"sort\": \"x\", \"selection\": \"selector001\"}, \"value\": \"lightgray\"}, \"text\": {\"type\": \"quantitative\", \"field\": \"N\"}, \"tooltip\": [{\"type\": \"quantitative\", \"field\": \"Tahun\"}, {\"type\": \"nominal\", \"field\": \"Keterangan\"}, {\"type\": \"quantitative\", \"field\": \"N\"}, {\"type\": \"nominal\", \"field\": \"Satuan\"}], \"x\": {\"type\": \"quantitative\", \"axis\": {\"tickMinStep\": 1}, \"field\": \"N\", \"title\": \"Unit\"}, \"y\": {\"type\": \"ordinal\", \"field\": \"Keterangan\", \"sort\": \"-x\", \"title\": \"Jalan\"}}, \"selection\": {\"selector003\": {\"type\": \"interval\", \"bind\": \"scales\", \"encodings\": [\"x\", \"y\"]}, \"selector001\": {\"type\": \"single\", \"encodings\": [\"y\", \"color\"]}}}], \"data\": {\"name\": \"data-90151c8b933a162c12b798ce0610955f\"}, \"title\": \"Jalan Umum\", \"width\": 500, \"$schema\": \"https://vega.github.io/schema/vega-lite/v4.8.1.json\", \"datasets\": {\"data-90151c8b933a162c12b798ce0610955f\": [{\"Tahun\": 2017, \"Kode\": 9, \"Data\": \"Sarana Prasarana\", \"Kode Kategori\": 9.4, \"Kategori\": \"Jalan\", \"Keterangan\": \"Dusun\", \"N\": 8.0, \"Satuan\": \"Unit\"}, {\"Tahun\": 2017, \"Kode\": 9, \"Data\": \"Sarana Prasarana\", \"Kode Kategori\": 9.4, \"Kategori\": \"Jalan\", \"Keterangan\": \"Desa\", \"N\": 3.0, \"Satuan\": \"Unit\"}, {\"Tahun\": 2017, \"Kode\": 9, \"Data\": \"Sarana Prasarana\", \"Kode Kategori\": 9.4, \"Kategori\": \"Jalan\", \"Keterangan\": \"Ekonomi\", \"N\": 2.0, \"Satuan\": \"Unit\"}, {\"Tahun\": 2017, \"Kode\": 9, \"Data\": \"Sarana Prasarana\", \"Kode Kategori\": 9.4, \"Kategori\": \"Jalan\", \"Keterangan\": \"Produksi\", \"N\": 1.0, \"Satuan\": \"Unit\"}, {\"Tahun\": 2019, \"Kode\": 9, \"Data\": \"Sarana Prasarana\", \"Kode Kategori\": 9.4, \"Kategori\": \"Jalan\", \"Keterangan\": \"Dusun\", \"N\": 8.0, \"Satuan\": \"Unit\"}, {\"Tahun\": 2019, \"Kode\": 9, \"Data\": \"Sarana Prasarana\", \"Kode Kategori\": 9.4, \"Kategori\": \"Jalan\", \"Keterangan\": \"Desa\", \"N\": 3.0, \"Satuan\": \"Unit\"}, {\"Tahun\": 2019, \"Kode\": 9, \"Data\": \"Sarana Prasarana\", \"Kode Kategori\": 9.4, \"Kategori\": \"Jalan\", \"Keterangan\": \"Ekonomi\", \"N\": 2.0, \"Satuan\": \"Unit\"}, {\"Tahun\": 2019, \"Kode\": 9, \"Data\": \"Sarana Prasarana\", \"Kode Kategori\": 9.4, \"Kategori\": \"Jalan\", \"Keterangan\": \"Produksi\", \"N\": 1.0, \"Satuan\": \"Unit\"}]}}, {\"mode\": \"vega-lite\"});\n",
       "</script>"
      ],
      "text/plain": [
       "alt.LayerChart(...)"
      ]
     },
     "execution_count": 8,
     "metadata": {},
     "output_type": "execute_result"
    }
   ],
   "source": [
    "df1_3 = data2('Jalan')\n",
    "df1_3 = df1_3.dropna()\n",
    "plot1_2 = plot_4(df1_3,'Unit','Jalan',500,'Jalan Umum').configure_title(fontSize=14,color='purple')\n",
    "plot1_2"
   ]
  },
  {
   "cell_type": "code",
   "execution_count": 13,
   "metadata": {},
   "outputs": [
    {
     "data": {
      "text/html": [
       "\n",
       "<div id=\"altair-viz-19e2f525ac704e248ab44e5a208c8387\"></div>\n",
       "<script type=\"text/javascript\">\n",
       "  (function(spec, embedOpt){\n",
       "    let outputDiv = document.currentScript.previousElementSibling;\n",
       "    if (outputDiv.id !== \"altair-viz-19e2f525ac704e248ab44e5a208c8387\") {\n",
       "      outputDiv = document.getElementById(\"altair-viz-19e2f525ac704e248ab44e5a208c8387\");\n",
       "    }\n",
       "    const paths = {\n",
       "      \"vega\": \"https://cdn.jsdelivr.net/npm//vega@5?noext\",\n",
       "      \"vega-lib\": \"https://cdn.jsdelivr.net/npm//vega-lib?noext\",\n",
       "      \"vega-lite\": \"https://cdn.jsdelivr.net/npm//vega-lite@4.8.1?noext\",\n",
       "      \"vega-embed\": \"https://cdn.jsdelivr.net/npm//vega-embed@6?noext\",\n",
       "    };\n",
       "\n",
       "    function loadScript(lib) {\n",
       "      return new Promise(function(resolve, reject) {\n",
       "        var s = document.createElement('script');\n",
       "        s.src = paths[lib];\n",
       "        s.async = true;\n",
       "        s.onload = () => resolve(paths[lib]);\n",
       "        s.onerror = () => reject(`Error loading script: ${paths[lib]}`);\n",
       "        document.getElementsByTagName(\"head\")[0].appendChild(s);\n",
       "      });\n",
       "    }\n",
       "\n",
       "    function showError(err) {\n",
       "      outputDiv.innerHTML = `<div class=\"error\" style=\"color:red;\">${err}</div>`;\n",
       "      throw err;\n",
       "    }\n",
       "\n",
       "    function displayChart(vegaEmbed) {\n",
       "      vegaEmbed(outputDiv, spec, embedOpt)\n",
       "        .catch(err => showError(`Javascript Error: ${err.message}<br>This usually means there's a typo in your chart specification. See the javascript console for the full traceback.`));\n",
       "    }\n",
       "\n",
       "    if(typeof define === \"function\" && define.amd) {\n",
       "      requirejs.config({paths});\n",
       "      require([\"vega-embed\"], displayChart, err => showError(`Error loading script: ${err.message}`));\n",
       "    } else if (typeof vegaEmbed === \"function\") {\n",
       "      displayChart(vegaEmbed);\n",
       "    } else {\n",
       "      loadScript(\"vega\")\n",
       "        .then(() => loadScript(\"vega-lite\"))\n",
       "        .then(() => loadScript(\"vega-embed\"))\n",
       "        .catch(showError)\n",
       "        .then(() => displayChart(vegaEmbed));\n",
       "    }\n",
       "  })({\"config\": {\"view\": {\"continuousWidth\": 400, \"continuousHeight\": 300}, \"header\": {\"labelColor\": \"purple\", \"labelFontSize\": 9, \"titleColor\": \"purple\", \"titleFontSize\": 14}}, \"data\": {\"name\": \"data-2c49e386afbe6acb1597a3afd2107c20\"}, \"mark\": {\"type\": \"bar\", \"opacity\": 0.8}, \"encoding\": {\"color\": {\"condition\": {\"type\": \"nominal\", \"field\": \"Tahun\", \"scale\": {\"scheme\": \"purples\"}, \"selection\": \"selector001\"}, \"value\": \"lightgray\"}, \"column\": {\"type\": \"nominal\", \"field\": \"Keterangan\", \"title\": \"Fasilitas Telekomunikasi\"}, \"tooltip\": [{\"type\": \"quantitative\", \"field\": \"Tahun\"}, {\"type\": \"nominal\", \"field\": \"Keterangan\"}, {\"type\": \"quantitative\", \"field\": \"N\"}, {\"type\": \"nominal\", \"field\": \"Satuan\"}], \"x\": {\"type\": \"ordinal\", \"field\": \"Tahun\", \"title\": \"\"}, \"y\": {\"type\": \"quantitative\", \"axis\": {\"tickMinStep\": 1}, \"field\": \"N\", \"title\": \"Unit\"}}, \"resolve\": {\"scale\": {\"x\": \"independent\"}}, \"selection\": {\"selector001\": {\"type\": \"single\", \"encodings\": [\"y\", \"color\"]}, \"selector004\": {\"type\": \"interval\", \"bind\": \"scales\", \"encodings\": [\"x\", \"y\"]}}, \"width\": 120, \"$schema\": \"https://vega.github.io/schema/vega-lite/v4.8.1.json\", \"datasets\": {\"data-2c49e386afbe6acb1597a3afd2107c20\": [{\"Tahun\": 2017, \"Kode\": 9, \"Data\": \"Sarana Prasarana\", \"Kode Kategori\": 9.6, \"Kategori\": \"Telekomunikasi\", \"Keterangan\": \"Pesawat Telepon/ HP\", \"N\": 345.0, \"Satuan\": \"Unit\"}, {\"Tahun\": 2017, \"Kode\": 9, \"Data\": \"Sarana Prasarana\", \"Kode Kategori\": 9.6, \"Kategori\": \"Telekomunikasi\", \"Keterangan\": \"Pesawat TV\", \"N\": 220.0, \"Satuan\": \"Unit\"}, {\"Tahun\": 2017, \"Kode\": 9, \"Data\": \"Sarana Prasarana\", \"Kode Kategori\": 9.6, \"Kategori\": \"Telekomunikasi\", \"Keterangan\": \"Pesawat Radio\", \"N\": 50.0, \"Satuan\": \"Unit\"}, {\"Tahun\": 2019, \"Kode\": 9, \"Data\": \"Sarana Prasarana\", \"Kode Kategori\": 9.6, \"Kategori\": \"Telekomunikasi\", \"Keterangan\": \"Pesawat Telepon/ HP\", \"N\": 357.0, \"Satuan\": \"Unit\"}, {\"Tahun\": 2019, \"Kode\": 9, \"Data\": \"Sarana Prasarana\", \"Kode Kategori\": 9.6, \"Kategori\": \"Telekomunikasi\", \"Keterangan\": \"Pesawat TV\", \"N\": 232.0, \"Satuan\": \"Unit\"}, {\"Tahun\": 2019, \"Kode\": 9, \"Data\": \"Sarana Prasarana\", \"Kode Kategori\": 9.6, \"Kategori\": \"Telekomunikasi\", \"Keterangan\": \"Pesawat Radio\", \"N\": 50.0, \"Satuan\": \"Unit\"}]}}, {\"mode\": \"vega-lite\"});\n",
       "</script>"
      ],
      "text/plain": [
       "alt.Chart(...)"
      ]
     },
     "execution_count": 13,
     "metadata": {},
     "output_type": "execute_result"
    }
   ],
   "source": [
    "df1_4 = data2('Telekomunikasi')\n",
    "df1_4 = df1_4.dropna()\n",
    "plot1_3 = plot_3(df1_4,'Unit','Fasilitas Telekomunikasi',120).configure_header(titleColor='purple',titleFontSize=14, labelColor='purple', labelFontSize=9)\n",
    "plot1_3"
   ]
  },
  {
   "cell_type": "code",
   "execution_count": 15,
   "metadata": {},
   "outputs": [
    {
     "data": {
      "text/html": [
       "\n",
       "<div id=\"altair-viz-2395722d0741493ea7ac276ff05c9090\"></div>\n",
       "<script type=\"text/javascript\">\n",
       "  (function(spec, embedOpt){\n",
       "    let outputDiv = document.currentScript.previousElementSibling;\n",
       "    if (outputDiv.id !== \"altair-viz-2395722d0741493ea7ac276ff05c9090\") {\n",
       "      outputDiv = document.getElementById(\"altair-viz-2395722d0741493ea7ac276ff05c9090\");\n",
       "    }\n",
       "    const paths = {\n",
       "      \"vega\": \"https://cdn.jsdelivr.net/npm//vega@5?noext\",\n",
       "      \"vega-lib\": \"https://cdn.jsdelivr.net/npm//vega-lib?noext\",\n",
       "      \"vega-lite\": \"https://cdn.jsdelivr.net/npm//vega-lite@4.8.1?noext\",\n",
       "      \"vega-embed\": \"https://cdn.jsdelivr.net/npm//vega-embed@6?noext\",\n",
       "    };\n",
       "\n",
       "    function loadScript(lib) {\n",
       "      return new Promise(function(resolve, reject) {\n",
       "        var s = document.createElement('script');\n",
       "        s.src = paths[lib];\n",
       "        s.async = true;\n",
       "        s.onload = () => resolve(paths[lib]);\n",
       "        s.onerror = () => reject(`Error loading script: ${paths[lib]}`);\n",
       "        document.getElementsByTagName(\"head\")[0].appendChild(s);\n",
       "      });\n",
       "    }\n",
       "\n",
       "    function showError(err) {\n",
       "      outputDiv.innerHTML = `<div class=\"error\" style=\"color:red;\">${err}</div>`;\n",
       "      throw err;\n",
       "    }\n",
       "\n",
       "    function displayChart(vegaEmbed) {\n",
       "      vegaEmbed(outputDiv, spec, embedOpt)\n",
       "        .catch(err => showError(`Javascript Error: ${err.message}<br>This usually means there's a typo in your chart specification. See the javascript console for the full traceback.`));\n",
       "    }\n",
       "\n",
       "    if(typeof define === \"function\" && define.amd) {\n",
       "      requirejs.config({paths});\n",
       "      require([\"vega-embed\"], displayChart, err => showError(`Error loading script: ${err.message}`));\n",
       "    } else if (typeof vegaEmbed === \"function\") {\n",
       "      displayChart(vegaEmbed);\n",
       "    } else {\n",
       "      loadScript(\"vega\")\n",
       "        .then(() => loadScript(\"vega-lite\"))\n",
       "        .then(() => loadScript(\"vega-embed\"))\n",
       "        .catch(showError)\n",
       "        .then(() => displayChart(vegaEmbed));\n",
       "    }\n",
       "  })({\"config\": {\"view\": {\"continuousWidth\": 400, \"continuousHeight\": 300}, \"title\": {\"color\": \"purple\", \"fontSize\": 14}}, \"layer\": [{\"mark\": {\"type\": \"bar\", \"opacity\": 0.8}, \"encoding\": {\"color\": {\"condition\": {\"type\": \"ordinal\", \"field\": \"Tahun\", \"scale\": {\"scheme\": \"purples\"}, \"selection\": \"selector001\"}, \"value\": \"lightgray\"}, \"x\": {\"type\": \"quantitative\", \"axis\": {\"format\": \".0%\"}, \"field\": \"N\", \"stack\": \"normalize\", \"title\": \"Persentase\"}, \"y\": {\"type\": \"ordinal\", \"field\": \"Keterangan\", \"title\": \"\"}}, \"selection\": {\"selector001\": {\"type\": \"single\", \"encodings\": [\"y\", \"color\"]}}}, {\"mark\": {\"type\": \"text\", \"color\": \"white\", \"dx\": -18, \"dy\": 3}, \"encoding\": {\"detail\": {\"type\": \"ordinal\", \"field\": \"Tahun\"}, \"text\": {\"type\": \"ordinal\", \"field\": \"N\"}, \"tooltip\": [{\"type\": \"quantitative\", \"field\": \"Tahun\"}, {\"type\": \"nominal\", \"field\": \"Kategori\"}, {\"type\": \"nominal\", \"field\": \"Keterangan\"}, {\"type\": \"quantitative\", \"field\": \"N\"}, {\"type\": \"nominal\", \"field\": \"Satuan\"}], \"x\": {\"type\": \"quantitative\", \"field\": \"N\", \"stack\": \"normalize\"}, \"y\": {\"type\": \"ordinal\", \"field\": \"Keterangan\"}}, \"selection\": {\"selector005\": {\"type\": \"interval\", \"bind\": \"scales\", \"encodings\": [\"x\", \"y\"]}}}], \"data\": {\"name\": \"data-15a0934fdcc8507869bfbda629e78993\"}, \"title\": \"Alat Transportasi\", \"width\": 500, \"$schema\": \"https://vega.github.io/schema/vega-lite/v4.8.1.json\", \"datasets\": {\"data-15a0934fdcc8507869bfbda629e78993\": [{\"Tahun\": 2017, \"Kode\": 9, \"Data\": \"Sarana Prasarana\", \"Kode Kategori\": 9.7, \"Kategori\": \"Alat Transportasi\", \"Keterangan\": \"Sepeda\", \"N\": 617.0, \"Satuan\": \"Unit\"}, {\"Tahun\": 2017, \"Kode\": 9, \"Data\": \"Sarana Prasarana\", \"Kode Kategori\": 9.7, \"Kategori\": \"Alat Transportasi\", \"Keterangan\": \"Gerobak\", \"N\": 8.0, \"Satuan\": \"Unit\"}, {\"Tahun\": 2017, \"Kode\": 9, \"Data\": \"Sarana Prasarana\", \"Kode Kategori\": 9.7, \"Kategori\": \"Alat Transportasi\", \"Keterangan\": \"Kendaraan Roda 3\", \"N\": 1.0, \"Satuan\": \"Unit\"}, {\"Tahun\": 2017, \"Kode\": 9, \"Data\": \"Sarana Prasarana\", \"Kode Kategori\": 9.7, \"Kategori\": \"Alat Transportasi\", \"Keterangan\": \"Sepeda Motor\", \"N\": 283.0, \"Satuan\": \"Unit\"}, {\"Tahun\": 2017, \"Kode\": 9, \"Data\": \"Sarana Prasarana\", \"Kode Kategori\": 9.7, \"Kategori\": \"Alat Transportasi\", \"Keterangan\": \"Mobil Pribadi\", \"N\": 10.0, \"Satuan\": \"Unit\"}, {\"Tahun\": 2017, \"Kode\": 9, \"Data\": \"Sarana Prasarana\", \"Kode Kategori\": 9.7, \"Kategori\": \"Alat Transportasi\", \"Keterangan\": \"Truk\", \"N\": 2.0, \"Satuan\": \"Unit\"}, {\"Tahun\": 2019, \"Kode\": 9, \"Data\": \"Sarana Prasarana\", \"Kode Kategori\": 9.7, \"Kategori\": \"Alat Transportasi\", \"Keterangan\": \"Sepeda\", \"N\": 629.0, \"Satuan\": \"Unit\"}, {\"Tahun\": 2019, \"Kode\": 9, \"Data\": \"Sarana Prasarana\", \"Kode Kategori\": 9.7, \"Kategori\": \"Alat Transportasi\", \"Keterangan\": \"Gerobak\", \"N\": 8.0, \"Satuan\": \"Unit\"}, {\"Tahun\": 2019, \"Kode\": 9, \"Data\": \"Sarana Prasarana\", \"Kode Kategori\": 9.7, \"Kategori\": \"Alat Transportasi\", \"Keterangan\": \"Kendaraan Roda 3\", \"N\": 1.0, \"Satuan\": \"Unit\"}, {\"Tahun\": 2019, \"Kode\": 9, \"Data\": \"Sarana Prasarana\", \"Kode Kategori\": 9.7, \"Kategori\": \"Alat Transportasi\", \"Keterangan\": \"Sepeda Motor\", \"N\": 295.0, \"Satuan\": \"Unit\"}, {\"Tahun\": 2019, \"Kode\": 9, \"Data\": \"Sarana Prasarana\", \"Kode Kategori\": 9.7, \"Kategori\": \"Alat Transportasi\", \"Keterangan\": \"Mobil Pribadi\", \"N\": 14.0, \"Satuan\": \"Unit\"}, {\"Tahun\": 2019, \"Kode\": 9, \"Data\": \"Sarana Prasarana\", \"Kode Kategori\": 9.7, \"Kategori\": \"Alat Transportasi\", \"Keterangan\": \"Truk\", \"N\": 2.0, \"Satuan\": \"Unit\"}]}}, {\"mode\": \"vega-lite\"});\n",
       "</script>"
      ],
      "text/plain": [
       "alt.LayerChart(...)"
      ]
     },
     "execution_count": 15,
     "metadata": {},
     "output_type": "execute_result"
    }
   ],
   "source": [
    "df1_4 = data2('Alat Transportasi')\n",
    "df1_4 = df1_4.dropna()\n",
    "plot1_4 = plot_1(df1_4,'Persentase','',500, 'Alat Transportasi').configure_title(fontSize=14,color='purple')\n",
    "plot1_4"
   ]
  },
  {
   "cell_type": "code",
   "execution_count": 16,
   "metadata": {},
   "outputs": [
    {
     "data": {
      "text/html": [
       "\n",
       "<div id=\"altair-viz-3fa25b431b024bbe99eb731fe9803962\"></div>\n",
       "<script type=\"text/javascript\">\n",
       "  (function(spec, embedOpt){\n",
       "    let outputDiv = document.currentScript.previousElementSibling;\n",
       "    if (outputDiv.id !== \"altair-viz-3fa25b431b024bbe99eb731fe9803962\") {\n",
       "      outputDiv = document.getElementById(\"altair-viz-3fa25b431b024bbe99eb731fe9803962\");\n",
       "    }\n",
       "    const paths = {\n",
       "      \"vega\": \"https://cdn.jsdelivr.net/npm//vega@5?noext\",\n",
       "      \"vega-lib\": \"https://cdn.jsdelivr.net/npm//vega-lib?noext\",\n",
       "      \"vega-lite\": \"https://cdn.jsdelivr.net/npm//vega-lite@4.8.1?noext\",\n",
       "      \"vega-embed\": \"https://cdn.jsdelivr.net/npm//vega-embed@6?noext\",\n",
       "    };\n",
       "\n",
       "    function loadScript(lib) {\n",
       "      return new Promise(function(resolve, reject) {\n",
       "        var s = document.createElement('script');\n",
       "        s.src = paths[lib];\n",
       "        s.async = true;\n",
       "        s.onload = () => resolve(paths[lib]);\n",
       "        s.onerror = () => reject(`Error loading script: ${paths[lib]}`);\n",
       "        document.getElementsByTagName(\"head\")[0].appendChild(s);\n",
       "      });\n",
       "    }\n",
       "\n",
       "    function showError(err) {\n",
       "      outputDiv.innerHTML = `<div class=\"error\" style=\"color:red;\">${err}</div>`;\n",
       "      throw err;\n",
       "    }\n",
       "\n",
       "    function displayChart(vegaEmbed) {\n",
       "      vegaEmbed(outputDiv, spec, embedOpt)\n",
       "        .catch(err => showError(`Javascript Error: ${err.message}<br>This usually means there's a typo in your chart specification. See the javascript console for the full traceback.`));\n",
       "    }\n",
       "\n",
       "    if(typeof define === \"function\" && define.amd) {\n",
       "      requirejs.config({paths});\n",
       "      require([\"vega-embed\"], displayChart, err => showError(`Error loading script: ${err.message}`));\n",
       "    } else if (typeof vegaEmbed === \"function\") {\n",
       "      displayChart(vegaEmbed);\n",
       "    } else {\n",
       "      loadScript(\"vega\")\n",
       "        .then(() => loadScript(\"vega-lite\"))\n",
       "        .then(() => loadScript(\"vega-embed\"))\n",
       "        .catch(showError)\n",
       "        .then(() => displayChart(vegaEmbed));\n",
       "    }\n",
       "  })({\"config\": {\"view\": {\"continuousWidth\": 400, \"continuousHeight\": 300}, \"title\": {\"color\": \"purple\", \"fontSize\": 14}}, \"layer\": [{\"mark\": {\"type\": \"bar\", \"opacity\": 0.8}, \"encoding\": {\"color\": {\"condition\": {\"type\": \"ordinal\", \"field\": \"Keterangan\", \"scale\": {\"scheme\": \"purples\"}, \"sort\": \"x\", \"selection\": \"selector001\"}, \"value\": \"lightgray\"}, \"x\": {\"type\": \"quantitative\", \"axis\": {\"tickMinStep\": 1}, \"field\": \"N\", \"title\": \"Unit\"}, \"y\": {\"type\": \"ordinal\", \"field\": \"Keterangan\", \"sort\": \"-x\", \"title\": \"Industri\"}}}, {\"mark\": {\"type\": \"text\", \"align\": \"left\", \"baseline\": \"middle\", \"dx\": 3}, \"encoding\": {\"color\": {\"condition\": {\"type\": \"ordinal\", \"field\": \"Keterangan\", \"scale\": {\"scheme\": \"purples\"}, \"sort\": \"x\", \"selection\": \"selector001\"}, \"value\": \"lightgray\"}, \"text\": {\"type\": \"quantitative\", \"field\": \"N\"}, \"tooltip\": [{\"type\": \"quantitative\", \"field\": \"Tahun\"}, {\"type\": \"nominal\", \"field\": \"Keterangan\"}, {\"type\": \"quantitative\", \"field\": \"N\"}, {\"type\": \"nominal\", \"field\": \"Satuan\"}], \"x\": {\"type\": \"quantitative\", \"axis\": {\"tickMinStep\": 1}, \"field\": \"N\", \"title\": \"Unit\"}, \"y\": {\"type\": \"ordinal\", \"field\": \"Keterangan\", \"sort\": \"-x\", \"title\": \"Industri\"}}, \"selection\": {\"selector006\": {\"type\": \"interval\", \"bind\": \"scales\", \"encodings\": [\"x\", \"y\"]}, \"selector001\": {\"type\": \"single\", \"encodings\": [\"y\", \"color\"]}}}], \"data\": {\"name\": \"data-9586809ae6e31d09b3f4e89f5e29e2c5\"}, \"title\": \"Unit Industri\", \"width\": 500, \"$schema\": \"https://vega.github.io/schema/vega-lite/v4.8.1.json\", \"datasets\": {\"data-9586809ae6e31d09b3f4e89f5e29e2c5\": [{\"Tahun\": 2017, \"Kode\": 9, \"Data\": \"Sarana Prasarana\", \"Kode Kategori\": 9.8, \"Kategori\": \"Industri\", \"Keterangan\": \"Kecil\", \"N\": 1.0, \"Satuan\": \"Unit\"}, {\"Tahun\": 2017, \"Kode\": 9, \"Data\": \"Sarana Prasarana\", \"Kode Kategori\": 9.8, \"Kategori\": \"Industri\", \"Keterangan\": \"Rumah Tangga\", \"N\": 132.0, \"Satuan\": \"Unit\"}, {\"Tahun\": 2019, \"Kode\": 9, \"Data\": \"Sarana Prasarana\", \"Kode Kategori\": 9.8, \"Kategori\": \"Industri\", \"Keterangan\": \"Kecil\", \"N\": 1.0, \"Satuan\": \"Unit\"}, {\"Tahun\": 2019, \"Kode\": 9, \"Data\": \"Sarana Prasarana\", \"Kode Kategori\": 9.8, \"Kategori\": \"Industri\", \"Keterangan\": \"Rumah Tangga\", \"N\": 132.0, \"Satuan\": \"Unit\"}]}}, {\"mode\": \"vega-lite\"});\n",
       "</script>"
      ],
      "text/plain": [
       "alt.LayerChart(...)"
      ]
     },
     "execution_count": 16,
     "metadata": {},
     "output_type": "execute_result"
    }
   ],
   "source": [
    "df1_5 = data2('Industri')\n",
    "df1_5 = df1_5.dropna()\n",
    "plot1_5 = plot_4(df1_5,'Unit','Industri',500,'Unit Industri').configure_title(fontSize=14,color='purple')\n",
    "plot1_5"
   ]
  },
  {
   "cell_type": "markdown",
   "metadata": {},
   "source": [
    "<h2>Sarana Pariwisata</h2>"
   ]
  },
  {
   "cell_type": "code",
   "execution_count": 17,
   "metadata": {},
   "outputs": [
    {
     "data": {
      "text/html": [
       "\n",
       "<div id=\"altair-viz-1f1d1ea29f614ceabc49a919327dabda\"></div>\n",
       "<script type=\"text/javascript\">\n",
       "  (function(spec, embedOpt){\n",
       "    let outputDiv = document.currentScript.previousElementSibling;\n",
       "    if (outputDiv.id !== \"altair-viz-1f1d1ea29f614ceabc49a919327dabda\") {\n",
       "      outputDiv = document.getElementById(\"altair-viz-1f1d1ea29f614ceabc49a919327dabda\");\n",
       "    }\n",
       "    const paths = {\n",
       "      \"vega\": \"https://cdn.jsdelivr.net/npm//vega@5?noext\",\n",
       "      \"vega-lib\": \"https://cdn.jsdelivr.net/npm//vega-lib?noext\",\n",
       "      \"vega-lite\": \"https://cdn.jsdelivr.net/npm//vega-lite@4.8.1?noext\",\n",
       "      \"vega-embed\": \"https://cdn.jsdelivr.net/npm//vega-embed@6?noext\",\n",
       "    };\n",
       "\n",
       "    function loadScript(lib) {\n",
       "      return new Promise(function(resolve, reject) {\n",
       "        var s = document.createElement('script');\n",
       "        s.src = paths[lib];\n",
       "        s.async = true;\n",
       "        s.onload = () => resolve(paths[lib]);\n",
       "        s.onerror = () => reject(`Error loading script: ${paths[lib]}`);\n",
       "        document.getElementsByTagName(\"head\")[0].appendChild(s);\n",
       "      });\n",
       "    }\n",
       "\n",
       "    function showError(err) {\n",
       "      outputDiv.innerHTML = `<div class=\"error\" style=\"color:red;\">${err}</div>`;\n",
       "      throw err;\n",
       "    }\n",
       "\n",
       "    function displayChart(vegaEmbed) {\n",
       "      vegaEmbed(outputDiv, spec, embedOpt)\n",
       "        .catch(err => showError(`Javascript Error: ${err.message}<br>This usually means there's a typo in your chart specification. See the javascript console for the full traceback.`));\n",
       "    }\n",
       "\n",
       "    if(typeof define === \"function\" && define.amd) {\n",
       "      requirejs.config({paths});\n",
       "      require([\"vega-embed\"], displayChart, err => showError(`Error loading script: ${err.message}`));\n",
       "    } else if (typeof vegaEmbed === \"function\") {\n",
       "      displayChart(vegaEmbed);\n",
       "    } else {\n",
       "      loadScript(\"vega\")\n",
       "        .then(() => loadScript(\"vega-lite\"))\n",
       "        .then(() => loadScript(\"vega-embed\"))\n",
       "        .catch(showError)\n",
       "        .then(() => displayChart(vegaEmbed));\n",
       "    }\n",
       "  })({\"config\": {\"view\": {\"continuousWidth\": 400, \"continuousHeight\": 300}, \"title\": {\"color\": \"purple\", \"fontSize\": 14}}, \"layer\": [{\"mark\": {\"type\": \"bar\", \"opacity\": 0.8}, \"encoding\": {\"color\": {\"condition\": {\"type\": \"ordinal\", \"field\": \"Keterangan\", \"scale\": {\"scheme\": \"purples\"}, \"sort\": \"x\", \"selection\": \"selector001\"}, \"value\": \"lightgray\"}, \"x\": {\"type\": \"quantitative\", \"axis\": {\"tickMinStep\": 1}, \"field\": \"N\", \"title\": \"Unit\"}, \"y\": {\"type\": \"ordinal\", \"field\": \"Keterangan\", \"sort\": \"-x\", \"title\": \"\"}}}, {\"mark\": {\"type\": \"text\", \"align\": \"left\", \"baseline\": \"middle\", \"dx\": 3}, \"encoding\": {\"color\": {\"condition\": {\"type\": \"ordinal\", \"field\": \"Keterangan\", \"scale\": {\"scheme\": \"purples\"}, \"sort\": \"x\", \"selection\": \"selector001\"}, \"value\": \"lightgray\"}, \"text\": {\"type\": \"quantitative\", \"field\": \"N\"}, \"tooltip\": [{\"type\": \"quantitative\", \"field\": \"Tahun\"}, {\"type\": \"nominal\", \"field\": \"Keterangan\"}, {\"type\": \"quantitative\", \"field\": \"N\"}, {\"type\": \"nominal\", \"field\": \"Satuan\"}], \"x\": {\"type\": \"quantitative\", \"axis\": {\"tickMinStep\": 1}, \"field\": \"N\", \"title\": \"Unit\"}, \"y\": {\"type\": \"ordinal\", \"field\": \"Keterangan\", \"sort\": \"-x\", \"title\": \"\"}}, \"selection\": {\"selector007\": {\"type\": \"interval\", \"bind\": \"scales\", \"encodings\": [\"x\", \"y\"]}, \"selector001\": {\"type\": \"single\", \"encodings\": [\"y\", \"color\"]}}}], \"data\": {\"name\": \"data-ba9740e4422f3c3ed1d82a1dd74577df\"}, \"title\": \"Sarana Pariwisata\", \"width\": 500, \"$schema\": \"https://vega.github.io/schema/vega-lite/v4.8.1.json\", \"datasets\": {\"data-ba9740e4422f3c3ed1d82a1dd74577df\": [{\"Tahun\": 2017, \"Kode\": 9, \"Data\": \"Sarana Prasarana\", \"Kode Kategori\": 9.9, \"Kategori\": \"Pariwisata\", \"Keterangan\": \"Tempat Rekreasi\", \"N\": 0.0, \"Satuan\": \"Unit\"}, {\"Tahun\": 2017, \"Kode\": 9, \"Data\": \"Sarana Prasarana\", \"Kode Kategori\": 9.9, \"Kategori\": \"Pariwisata\", \"Keterangan\": \"Hotel\", \"N\": 0.0, \"Satuan\": \"Unit\"}, {\"Tahun\": 2017, \"Kode\": 9, \"Data\": \"Sarana Prasarana\", \"Kode Kategori\": 9.9, \"Kategori\": \"Pariwisata\", \"Keterangan\": \"Motel\", \"N\": 0.0, \"Satuan\": \"Unit\"}, {\"Tahun\": 2017, \"Kode\": 9, \"Data\": \"Sarana Prasarana\", \"Kode Kategori\": 9.9, \"Kategori\": \"Pariwisata\", \"Keterangan\": \"Losmen\", \"N\": 0.0, \"Satuan\": \"Unit\"}, {\"Tahun\": 2017, \"Kode\": 9, \"Data\": \"Sarana Prasarana\", \"Kode Kategori\": 9.9, \"Kategori\": \"Pariwisata\", \"Keterangan\": \"Restauran\", \"N\": 0.0, \"Satuan\": \"Unit\"}, {\"Tahun\": 2017, \"Kode\": 9, \"Data\": \"Sarana Prasarana\", \"Kode Kategori\": 9.9, \"Kategori\": \"Pariwisata\", \"Keterangan\": \"Musium Sejarah\", \"N\": 0.0, \"Satuan\": \"Unit\"}, {\"Tahun\": 2019, \"Kode\": 9, \"Data\": \"Sarana Prasarana\", \"Kode Kategori\": 9.9, \"Kategori\": \"Pariwisata\", \"Keterangan\": \"Tempat Rekreasi\", \"N\": 2.0, \"Satuan\": \"Unit\"}, {\"Tahun\": 2019, \"Kode\": 9, \"Data\": \"Sarana Prasarana\", \"Kode Kategori\": 9.9, \"Kategori\": \"Pariwisata\", \"Keterangan\": \"Hotel\", \"N\": 0.0, \"Satuan\": \"Unit\"}, {\"Tahun\": 2019, \"Kode\": 9, \"Data\": \"Sarana Prasarana\", \"Kode Kategori\": 9.9, \"Kategori\": \"Pariwisata\", \"Keterangan\": \"Motel\", \"N\": 0.0, \"Satuan\": \"Unit\"}, {\"Tahun\": 2019, \"Kode\": 9, \"Data\": \"Sarana Prasarana\", \"Kode Kategori\": 9.9, \"Kategori\": \"Pariwisata\", \"Keterangan\": \"Losmen\", \"N\": 0.0, \"Satuan\": \"Unit\"}, {\"Tahun\": 2019, \"Kode\": 9, \"Data\": \"Sarana Prasarana\", \"Kode Kategori\": 9.9, \"Kategori\": \"Pariwisata\", \"Keterangan\": \"Restauran\", \"N\": 0.0, \"Satuan\": \"Unit\"}, {\"Tahun\": 2019, \"Kode\": 9, \"Data\": \"Sarana Prasarana\", \"Kode Kategori\": 9.9, \"Kategori\": \"Pariwisata\", \"Keterangan\": \"Musium Sejarah\", \"N\": 0.0, \"Satuan\": \"Unit\"}]}}, {\"mode\": \"vega-lite\"});\n",
       "</script>"
      ],
      "text/plain": [
       "alt.LayerChart(...)"
      ]
     },
     "execution_count": 17,
     "metadata": {},
     "output_type": "execute_result"
    }
   ],
   "source": [
    "df2 = data2('Pariwisata')\n",
    "df2 = df2.fillna(0)\n",
    "plot2 = plot_4(df2,'Unit','',500,'Sarana Pariwisata').configure_title(fontSize=14,color='purple')\n",
    "plot2"
   ]
  },
  {
   "cell_type": "markdown",
   "metadata": {},
   "source": [
    "<h2>Sumber Pertanian</h2>"
   ]
  },
  {
   "cell_type": "code",
   "execution_count": 18,
   "metadata": {},
   "outputs": [
    {
     "data": {
      "text/html": [
       "\n",
       "<div id=\"altair-viz-ed3a3d8297b94f858623459e8b6e726d\"></div>\n",
       "<script type=\"text/javascript\">\n",
       "  (function(spec, embedOpt){\n",
       "    let outputDiv = document.currentScript.previousElementSibling;\n",
       "    if (outputDiv.id !== \"altair-viz-ed3a3d8297b94f858623459e8b6e726d\") {\n",
       "      outputDiv = document.getElementById(\"altair-viz-ed3a3d8297b94f858623459e8b6e726d\");\n",
       "    }\n",
       "    const paths = {\n",
       "      \"vega\": \"https://cdn.jsdelivr.net/npm//vega@5?noext\",\n",
       "      \"vega-lib\": \"https://cdn.jsdelivr.net/npm//vega-lib?noext\",\n",
       "      \"vega-lite\": \"https://cdn.jsdelivr.net/npm//vega-lite@4.8.1?noext\",\n",
       "      \"vega-embed\": \"https://cdn.jsdelivr.net/npm//vega-embed@6?noext\",\n",
       "    };\n",
       "\n",
       "    function loadScript(lib) {\n",
       "      return new Promise(function(resolve, reject) {\n",
       "        var s = document.createElement('script');\n",
       "        s.src = paths[lib];\n",
       "        s.async = true;\n",
       "        s.onload = () => resolve(paths[lib]);\n",
       "        s.onerror = () => reject(`Error loading script: ${paths[lib]}`);\n",
       "        document.getElementsByTagName(\"head\")[0].appendChild(s);\n",
       "      });\n",
       "    }\n",
       "\n",
       "    function showError(err) {\n",
       "      outputDiv.innerHTML = `<div class=\"error\" style=\"color:red;\">${err}</div>`;\n",
       "      throw err;\n",
       "    }\n",
       "\n",
       "    function displayChart(vegaEmbed) {\n",
       "      vegaEmbed(outputDiv, spec, embedOpt)\n",
       "        .catch(err => showError(`Javascript Error: ${err.message}<br>This usually means there's a typo in your chart specification. See the javascript console for the full traceback.`));\n",
       "    }\n",
       "\n",
       "    if(typeof define === \"function\" && define.amd) {\n",
       "      requirejs.config({paths});\n",
       "      require([\"vega-embed\"], displayChart, err => showError(`Error loading script: ${err.message}`));\n",
       "    } else if (typeof vegaEmbed === \"function\") {\n",
       "      displayChart(vegaEmbed);\n",
       "    } else {\n",
       "      loadScript(\"vega\")\n",
       "        .then(() => loadScript(\"vega-lite\"))\n",
       "        .then(() => loadScript(\"vega-embed\"))\n",
       "        .catch(showError)\n",
       "        .then(() => displayChart(vegaEmbed));\n",
       "    }\n",
       "  })({\"config\": {\"view\": {\"continuousWidth\": 400, \"continuousHeight\": 300}, \"title\": {\"color\": \"purple\", \"fontSize\": 14}}, \"layer\": [{\"mark\": {\"type\": \"bar\", \"opacity\": 0.8}, \"encoding\": {\"color\": {\"condition\": {\"type\": \"ordinal\", \"field\": \"Keterangan\", \"scale\": {\"scheme\": \"purples\"}, \"sort\": \"x\", \"selection\": \"selector001\"}, \"value\": \"lightgray\"}, \"x\": {\"type\": \"quantitative\", \"axis\": {\"tickMinStep\": 1}, \"field\": \"N\", \"title\": \"Luas(Ha)\"}, \"y\": {\"type\": \"ordinal\", \"field\": \"Keterangan\", \"sort\": \"-x\", \"title\": \"\"}}}, {\"mark\": {\"type\": \"text\", \"align\": \"left\", \"baseline\": \"middle\", \"dx\": 3}, \"encoding\": {\"color\": {\"condition\": {\"type\": \"ordinal\", \"field\": \"Keterangan\", \"scale\": {\"scheme\": \"purples\"}, \"sort\": \"x\", \"selection\": \"selector001\"}, \"value\": \"lightgray\"}, \"text\": {\"type\": \"quantitative\", \"field\": \"N\"}, \"tooltip\": [{\"type\": \"quantitative\", \"field\": \"Tahun\"}, {\"type\": \"nominal\", \"field\": \"Keterangan\"}, {\"type\": \"quantitative\", \"field\": \"N\"}, {\"type\": \"nominal\", \"field\": \"Satuan\"}], \"x\": {\"type\": \"quantitative\", \"axis\": {\"tickMinStep\": 1}, \"field\": \"N\", \"title\": \"Luas(Ha)\"}, \"y\": {\"type\": \"ordinal\", \"field\": \"Keterangan\", \"sort\": \"-x\", \"title\": \"\"}}, \"selection\": {\"selector008\": {\"type\": \"interval\", \"bind\": \"scales\", \"encodings\": [\"x\", \"y\"]}, \"selector001\": {\"type\": \"single\", \"encodings\": [\"y\", \"color\"]}}}], \"data\": {\"name\": \"data-e090c75a9ea88f12d21a07a5b4989389\"}, \"title\": \"Luas Lahan\", \"width\": 500, \"$schema\": \"https://vega.github.io/schema/vega-lite/v4.8.1.json\", \"datasets\": {\"data-e090c75a9ea88f12d21a07a5b4989389\": [{\"Tahun\": 2017, \"Kode\": 10, \"Data\": \"Luas Pertanian\", \"Kode Kategori\": 10.1, \"Kategori\": \"Padi dan Palawija\", \"Keterangan\": \"Padi\", \"N\": 40764.0, \"Satuan\": \"Ha\"}, {\"Tahun\": 2017, \"Kode\": 10, \"Data\": \"Luas Pertanian\", \"Kode Kategori\": 10.1, \"Kategori\": \"Padi dan Palawija\", \"Keterangan\": \"Jagung\", \"N\": 4.0, \"Satuan\": \"Ha\"}, {\"Tahun\": 2017, \"Kode\": 10, \"Data\": \"Luas Pertanian\", \"Kode Kategori\": 10.1, \"Kategori\": \"Padi dan Palawija\", \"Keterangan\": \"Ketela Pohon\", \"N\": 5.0, \"Satuan\": \"Ha\"}, {\"Tahun\": 2017, \"Kode\": 10, \"Data\": \"Luas Pertanian\", \"Kode Kategori\": 10.3, \"Kategori\": \"Buah\", \"Keterangan\": \"Pisang\", \"N\": 2.0, \"Satuan\": \"Ha\"}, {\"Tahun\": 2017, \"Kode\": 10, \"Data\": \"Luas Pertanian\", \"Kode Kategori\": 10.3, \"Kategori\": \"Buah\", \"Keterangan\": \"Mangga\", \"N\": 5.0, \"Satuan\": \"Ha\"}, {\"Tahun\": 2017, \"Kode\": 10, \"Data\": \"Luas Pertanian\", \"Kode Kategori\": 10.3, \"Kategori\": \"Buah\", \"Keterangan\": \"Rambutan\", \"N\": 1.0, \"Satuan\": \"Ha\"}, {\"Tahun\": 2017, \"Kode\": 10, \"Data\": \"Luas Pertanian\", \"Kode Kategori\": 10.4, \"Kategori\": \"Perkebunan\", \"Keterangan\": \"Kelapa\", \"N\": 4.0, \"Satuan\": \"Ha\"}, {\"Tahun\": 2019, \"Kode\": 10, \"Data\": \"Luas Pertanian\", \"Kode Kategori\": 10.1, \"Kategori\": \"Padi dan Palawija\", \"Keterangan\": \"Padi\", \"N\": 40764.0, \"Satuan\": \"Ha\"}, {\"Tahun\": 2019, \"Kode\": 10, \"Data\": \"Luas Pertanian\", \"Kode Kategori\": 10.1, \"Kategori\": \"Padi dan Palawija\", \"Keterangan\": \"Jagung\", \"N\": 4.0, \"Satuan\": \"Ha\"}, {\"Tahun\": 2019, \"Kode\": 10, \"Data\": \"Luas Pertanian\", \"Kode Kategori\": 10.1, \"Kategori\": \"Padi dan Palawija\", \"Keterangan\": \"Ketela Pohon\", \"N\": 5.0, \"Satuan\": \"Ha\"}, {\"Tahun\": 2019, \"Kode\": 10, \"Data\": \"Luas Pertanian\", \"Kode Kategori\": 10.3, \"Kategori\": \"Buah\", \"Keterangan\": \"Pisang\", \"N\": 2.0, \"Satuan\": \"Ha\"}, {\"Tahun\": 2019, \"Kode\": 10, \"Data\": \"Luas Pertanian\", \"Kode Kategori\": 10.3, \"Kategori\": \"Buah\", \"Keterangan\": \"Pepaya\", \"N\": 2.0, \"Satuan\": \"Ha\"}, {\"Tahun\": 2019, \"Kode\": 10, \"Data\": \"Luas Pertanian\", \"Kode Kategori\": 10.3, \"Kategori\": \"Buah\", \"Keterangan\": \"Mangga\", \"N\": 5.0, \"Satuan\": \"Ha\"}, {\"Tahun\": 2019, \"Kode\": 10, \"Data\": \"Luas Pertanian\", \"Kode Kategori\": 10.3, \"Kategori\": \"Buah\", \"Keterangan\": \"Rambutan\", \"N\": 1.0, \"Satuan\": \"Ha\"}, {\"Tahun\": 2019, \"Kode\": 10, \"Data\": \"Luas Pertanian\", \"Kode Kategori\": 10.4, \"Kategori\": \"Perkebunan\", \"Keterangan\": \"Kelapa\", \"N\": 4.0, \"Satuan\": \"Ha\"}]}}, {\"mode\": \"vega-lite\"});\n",
       "</script>"
      ],
      "text/plain": [
       "alt.LayerChart(...)"
      ]
     },
     "execution_count": 18,
     "metadata": {},
     "output_type": "execute_result"
    }
   ],
   "source": [
    "df3 = data1('Luas Pertanian')\n",
    "df3 = df3.dropna()\n",
    "plot3 = plot_4(df3,'Luas(Ha)','',500,'Luas Lahan').configure_title(fontSize=14,color='purple')\n",
    "plot3"
   ]
  },
  {
   "cell_type": "code",
   "execution_count": 19,
   "metadata": {},
   "outputs": [
    {
     "data": {
      "text/html": [
       "\n",
       "<div id=\"altair-viz-281e2df988274ff8b947eadf91850453\"></div>\n",
       "<script type=\"text/javascript\">\n",
       "  (function(spec, embedOpt){\n",
       "    let outputDiv = document.currentScript.previousElementSibling;\n",
       "    if (outputDiv.id !== \"altair-viz-281e2df988274ff8b947eadf91850453\") {\n",
       "      outputDiv = document.getElementById(\"altair-viz-281e2df988274ff8b947eadf91850453\");\n",
       "    }\n",
       "    const paths = {\n",
       "      \"vega\": \"https://cdn.jsdelivr.net/npm//vega@5?noext\",\n",
       "      \"vega-lib\": \"https://cdn.jsdelivr.net/npm//vega-lib?noext\",\n",
       "      \"vega-lite\": \"https://cdn.jsdelivr.net/npm//vega-lite@4.8.1?noext\",\n",
       "      \"vega-embed\": \"https://cdn.jsdelivr.net/npm//vega-embed@6?noext\",\n",
       "    };\n",
       "\n",
       "    function loadScript(lib) {\n",
       "      return new Promise(function(resolve, reject) {\n",
       "        var s = document.createElement('script');\n",
       "        s.src = paths[lib];\n",
       "        s.async = true;\n",
       "        s.onload = () => resolve(paths[lib]);\n",
       "        s.onerror = () => reject(`Error loading script: ${paths[lib]}`);\n",
       "        document.getElementsByTagName(\"head\")[0].appendChild(s);\n",
       "      });\n",
       "    }\n",
       "\n",
       "    function showError(err) {\n",
       "      outputDiv.innerHTML = `<div class=\"error\" style=\"color:red;\">${err}</div>`;\n",
       "      throw err;\n",
       "    }\n",
       "\n",
       "    function displayChart(vegaEmbed) {\n",
       "      vegaEmbed(outputDiv, spec, embedOpt)\n",
       "        .catch(err => showError(`Javascript Error: ${err.message}<br>This usually means there's a typo in your chart specification. See the javascript console for the full traceback.`));\n",
       "    }\n",
       "\n",
       "    if(typeof define === \"function\" && define.amd) {\n",
       "      requirejs.config({paths});\n",
       "      require([\"vega-embed\"], displayChart, err => showError(`Error loading script: ${err.message}`));\n",
       "    } else if (typeof vegaEmbed === \"function\") {\n",
       "      displayChart(vegaEmbed);\n",
       "    } else {\n",
       "      loadScript(\"vega\")\n",
       "        .then(() => loadScript(\"vega-lite\"))\n",
       "        .then(() => loadScript(\"vega-embed\"))\n",
       "        .catch(showError)\n",
       "        .then(() => displayChart(vegaEmbed));\n",
       "    }\n",
       "  })({\"config\": {\"view\": {\"continuousWidth\": 400, \"continuousHeight\": 300}, \"title\": {\"color\": \"purple\", \"fontSize\": 14}}, \"layer\": [{\"mark\": {\"type\": \"bar\", \"opacity\": 0.8}, \"encoding\": {\"color\": {\"condition\": {\"type\": \"ordinal\", \"field\": \"Keterangan\", \"scale\": {\"scheme\": \"purples\"}, \"sort\": \"x\", \"selection\": \"selector001\"}, \"value\": \"lightgray\"}, \"x\": {\"type\": \"quantitative\", \"axis\": {\"tickMinStep\": 1}, \"field\": \"N\", \"title\": \"Hasil(Ton)\"}, \"y\": {\"type\": \"ordinal\", \"field\": \"Keterangan\", \"sort\": \"-x\", \"title\": \"\"}}}, {\"mark\": {\"type\": \"text\", \"align\": \"left\", \"baseline\": \"middle\", \"dx\": 3}, \"encoding\": {\"color\": {\"condition\": {\"type\": \"ordinal\", \"field\": \"Keterangan\", \"scale\": {\"scheme\": \"purples\"}, \"sort\": \"x\", \"selection\": \"selector001\"}, \"value\": \"lightgray\"}, \"text\": {\"type\": \"quantitative\", \"field\": \"N\"}, \"tooltip\": [{\"type\": \"quantitative\", \"field\": \"Tahun\"}, {\"type\": \"nominal\", \"field\": \"Keterangan\"}, {\"type\": \"quantitative\", \"field\": \"N\"}, {\"type\": \"nominal\", \"field\": \"Satuan\"}], \"x\": {\"type\": \"quantitative\", \"axis\": {\"tickMinStep\": 1}, \"field\": \"N\", \"title\": \"Hasil(Ton)\"}, \"y\": {\"type\": \"ordinal\", \"field\": \"Keterangan\", \"sort\": \"-x\", \"title\": \"\"}}, \"selection\": {\"selector009\": {\"type\": \"interval\", \"bind\": \"scales\", \"encodings\": [\"x\", \"y\"]}, \"selector001\": {\"type\": \"single\", \"encodings\": [\"y\", \"color\"]}}}], \"data\": {\"name\": \"data-4ab599c2b0e6fc1e49e27c06ef57f3d9\"}, \"title\": \"Hasil Pertanian\", \"width\": 500, \"$schema\": \"https://vega.github.io/schema/vega-lite/v4.8.1.json\", \"datasets\": {\"data-4ab599c2b0e6fc1e49e27c06ef57f3d9\": [{\"Tahun\": 2017, \"Kode\": 11, \"Data\": \"Hasil Petanian\", \"Kode Kategori\": 11.1, \"Kategori\": \"Padi dan Palawija\", \"Keterangan\": \"Padi\", \"N\": 210.0, \"Satuan\": \"Ton\"}, {\"Tahun\": 2017, \"Kode\": 11, \"Data\": \"Hasil Petanian\", \"Kode Kategori\": 11.1, \"Kategori\": \"Padi dan Palawija\", \"Keterangan\": \"Jagung\", \"N\": 22.0, \"Satuan\": \"Ton\"}, {\"Tahun\": 2017, \"Kode\": 11, \"Data\": \"Hasil Petanian\", \"Kode Kategori\": 11.1, \"Kategori\": \"Padi dan Palawija\", \"Keterangan\": \"Ketela Pohon\", \"N\": 20.0, \"Satuan\": \"Ton\"}, {\"Tahun\": 2017, \"Kode\": 11, \"Data\": \"Hasil Petanian\", \"Kode Kategori\": 11.3, \"Kategori\": \"Buah\", \"Keterangan\": \"Pisang\", \"N\": 4.0, \"Satuan\": \"Ton\"}, {\"Tahun\": 2017, \"Kode\": 11, \"Data\": \"Hasil Petanian\", \"Kode Kategori\": 11.3, \"Kategori\": \"Buah\", \"Keterangan\": \"Mangga\", \"N\": 10.0, \"Satuan\": \"Ton\"}, {\"Tahun\": 2017, \"Kode\": 11, \"Data\": \"Hasil Petanian\", \"Kode Kategori\": 11.3, \"Kategori\": \"Buah\", \"Keterangan\": \"Rambutan\", \"N\": 3.0, \"Satuan\": \"Ton\"}, {\"Tahun\": 2017, \"Kode\": 11, \"Data\": \"Hasil Petanian\", \"Kode Kategori\": 11.4, \"Kategori\": \"Perkebunan\", \"Keterangan\": \"Kelapa\", \"N\": 6.0, \"Satuan\": \"Ton\"}, {\"Tahun\": 2019, \"Kode\": 11, \"Data\": \"Hasil Petanian\", \"Kode Kategori\": 11.1, \"Kategori\": \"Padi dan Palawija\", \"Keterangan\": \"Padi\", \"N\": 210.0, \"Satuan\": \"Ton\"}, {\"Tahun\": 2019, \"Kode\": 11, \"Data\": \"Hasil Petanian\", \"Kode Kategori\": 11.1, \"Kategori\": \"Padi dan Palawija\", \"Keterangan\": \"Jagung\", \"N\": 22.0, \"Satuan\": \"Ton\"}, {\"Tahun\": 2019, \"Kode\": 11, \"Data\": \"Hasil Petanian\", \"Kode Kategori\": 11.1, \"Kategori\": \"Padi dan Palawija\", \"Keterangan\": \"Ketela Pohon\", \"N\": 20.0, \"Satuan\": \"Ton\"}, {\"Tahun\": 2019, \"Kode\": 11, \"Data\": \"Hasil Petanian\", \"Kode Kategori\": 11.3, \"Kategori\": \"Buah\", \"Keterangan\": \"Pisang\", \"N\": 4.0, \"Satuan\": \"Ton\"}, {\"Tahun\": 2019, \"Kode\": 11, \"Data\": \"Hasil Petanian\", \"Kode Kategori\": 11.3, \"Kategori\": \"Buah\", \"Keterangan\": \"Pepaya\", \"N\": 4.0, \"Satuan\": \"Ton\"}, {\"Tahun\": 2019, \"Kode\": 11, \"Data\": \"Hasil Petanian\", \"Kode Kategori\": 11.3, \"Kategori\": \"Buah\", \"Keterangan\": \"Mangga\", \"N\": 10.0, \"Satuan\": \"Ton\"}, {\"Tahun\": 2019, \"Kode\": 11, \"Data\": \"Hasil Petanian\", \"Kode Kategori\": 11.3, \"Kategori\": \"Buah\", \"Keterangan\": \"Rambutan\", \"N\": 3.0, \"Satuan\": \"Ton\"}, {\"Tahun\": 2019, \"Kode\": 11, \"Data\": \"Hasil Petanian\", \"Kode Kategori\": 11.4, \"Kategori\": \"Perkebunan\", \"Keterangan\": \"Kelapa\", \"N\": 6.0, \"Satuan\": \"Ton\"}]}}, {\"mode\": \"vega-lite\"});\n",
       "</script>"
      ],
      "text/plain": [
       "alt.LayerChart(...)"
      ]
     },
     "execution_count": 19,
     "metadata": {},
     "output_type": "execute_result"
    }
   ],
   "source": [
    "df3_2 = data1('Hasil Petanian')\n",
    "df3_2 = df3_2.dropna()\n",
    "plot3_2 = plot_4(df3_2,'Hasil(Ton)','',500,'Hasil Pertanian').configure_title(fontSize=14,color='purple')\n",
    "plot3_2"
   ]
  },
  {
   "cell_type": "markdown",
   "metadata": {},
   "source": [
    "<h2>Perternakan</h2>"
   ]
  },
  {
   "cell_type": "code",
   "execution_count": 20,
   "metadata": {},
   "outputs": [
    {
     "data": {
      "text/html": [
       "\n",
       "<div id=\"altair-viz-3e822f35a0c74d0a830450c71b6a3911\"></div>\n",
       "<script type=\"text/javascript\">\n",
       "  (function(spec, embedOpt){\n",
       "    let outputDiv = document.currentScript.previousElementSibling;\n",
       "    if (outputDiv.id !== \"altair-viz-3e822f35a0c74d0a830450c71b6a3911\") {\n",
       "      outputDiv = document.getElementById(\"altair-viz-3e822f35a0c74d0a830450c71b6a3911\");\n",
       "    }\n",
       "    const paths = {\n",
       "      \"vega\": \"https://cdn.jsdelivr.net/npm//vega@5?noext\",\n",
       "      \"vega-lib\": \"https://cdn.jsdelivr.net/npm//vega-lib?noext\",\n",
       "      \"vega-lite\": \"https://cdn.jsdelivr.net/npm//vega-lite@4.8.1?noext\",\n",
       "      \"vega-embed\": \"https://cdn.jsdelivr.net/npm//vega-embed@6?noext\",\n",
       "    };\n",
       "\n",
       "    function loadScript(lib) {\n",
       "      return new Promise(function(resolve, reject) {\n",
       "        var s = document.createElement('script');\n",
       "        s.src = paths[lib];\n",
       "        s.async = true;\n",
       "        s.onload = () => resolve(paths[lib]);\n",
       "        s.onerror = () => reject(`Error loading script: ${paths[lib]}`);\n",
       "        document.getElementsByTagName(\"head\")[0].appendChild(s);\n",
       "      });\n",
       "    }\n",
       "\n",
       "    function showError(err) {\n",
       "      outputDiv.innerHTML = `<div class=\"error\" style=\"color:red;\">${err}</div>`;\n",
       "      throw err;\n",
       "    }\n",
       "\n",
       "    function displayChart(vegaEmbed) {\n",
       "      vegaEmbed(outputDiv, spec, embedOpt)\n",
       "        .catch(err => showError(`Javascript Error: ${err.message}<br>This usually means there's a typo in your chart specification. See the javascript console for the full traceback.`));\n",
       "    }\n",
       "\n",
       "    if(typeof define === \"function\" && define.amd) {\n",
       "      requirejs.config({paths});\n",
       "      require([\"vega-embed\"], displayChart, err => showError(`Error loading script: ${err.message}`));\n",
       "    } else if (typeof vegaEmbed === \"function\") {\n",
       "      displayChart(vegaEmbed);\n",
       "    } else {\n",
       "      loadScript(\"vega\")\n",
       "        .then(() => loadScript(\"vega-lite\"))\n",
       "        .then(() => loadScript(\"vega-embed\"))\n",
       "        .catch(showError)\n",
       "        .then(() => displayChart(vegaEmbed));\n",
       "    }\n",
       "  })({\"config\": {\"view\": {\"continuousWidth\": 400, \"continuousHeight\": 300}, \"title\": {\"color\": \"purple\", \"fontSize\": 14}}, \"layer\": [{\"mark\": {\"type\": \"bar\", \"opacity\": 0.8}, \"encoding\": {\"color\": {\"condition\": {\"type\": \"ordinal\", \"field\": \"Keterangan\", \"scale\": {\"scheme\": \"purples\"}, \"sort\": \"x\", \"selection\": \"selector001\"}, \"value\": \"lightgray\"}, \"x\": {\"type\": \"quantitative\", \"axis\": {\"tickMinStep\": 1}, \"field\": \"N\", \"title\": \"Ekor\"}, \"y\": {\"type\": \"ordinal\", \"field\": \"Keterangan\", \"sort\": \"-x\", \"title\": \"\"}}}, {\"mark\": {\"type\": \"text\", \"align\": \"left\", \"baseline\": \"middle\", \"dx\": 3}, \"encoding\": {\"color\": {\"condition\": {\"type\": \"ordinal\", \"field\": \"Keterangan\", \"scale\": {\"scheme\": \"purples\"}, \"sort\": \"x\", \"selection\": \"selector001\"}, \"value\": \"lightgray\"}, \"text\": {\"type\": \"quantitative\", \"field\": \"N\"}, \"tooltip\": [{\"type\": \"quantitative\", \"field\": \"Tahun\"}, {\"type\": \"nominal\", \"field\": \"Keterangan\"}, {\"type\": \"quantitative\", \"field\": \"N\"}, {\"type\": \"nominal\", \"field\": \"Satuan\"}], \"x\": {\"type\": \"quantitative\", \"axis\": {\"tickMinStep\": 1}, \"field\": \"N\", \"title\": \"Ekor\"}, \"y\": {\"type\": \"ordinal\", \"field\": \"Keterangan\", \"sort\": \"-x\", \"title\": \"\"}}, \"selection\": {\"selector010\": {\"type\": \"interval\", \"bind\": \"scales\", \"encodings\": [\"x\", \"y\"]}, \"selector001\": {\"type\": \"single\", \"encodings\": [\"y\", \"color\"]}}}], \"data\": {\"name\": \"data-ad95c02fff1df92b178f6dfb1e4157ea\"}, \"title\": \"Hewan Ternak\", \"width\": 500, \"$schema\": \"https://vega.github.io/schema/vega-lite/v4.8.1.json\", \"datasets\": {\"data-ad95c02fff1df92b178f6dfb1e4157ea\": [{\"Tahun\": 2017, \"Kode\": 15, \"Data\": \"Peternakan\", \"Kode Kategori\": 15.1, \"Kategori\": \"Ternak\", \"Keterangan\": \"Ayam Kampung\", \"N\": 1875.0, \"Satuan\": \"Ekor\"}, {\"Tahun\": 2017, \"Kode\": 15, \"Data\": \"Peternakan\", \"Kode Kategori\": 15.1, \"Kategori\": \"Ternak\", \"Keterangan\": \"Ayam Ras\", \"N\": 0.0, \"Satuan\": \"Ekor\"}, {\"Tahun\": 2017, \"Kode\": 15, \"Data\": \"Peternakan\", \"Kode Kategori\": 15.1, \"Kategori\": \"Ternak\", \"Keterangan\": \"Itik\", \"N\": 1200.0, \"Satuan\": \"Ekor\"}, {\"Tahun\": 2017, \"Kode\": 15, \"Data\": \"Peternakan\", \"Kode Kategori\": 15.1, \"Kategori\": \"Ternak\", \"Keterangan\": \"Kambing\", \"N\": 135.0, \"Satuan\": \"Ekor\"}, {\"Tahun\": 2017, \"Kode\": 15, \"Data\": \"Peternakan\", \"Kode Kategori\": 15.1, \"Kategori\": \"Ternak\", \"Keterangan\": \"Domba\", \"N\": 0.0, \"Satuan\": \"Ekor\"}, {\"Tahun\": 2017, \"Kode\": 15, \"Data\": \"Peternakan\", \"Kode Kategori\": 15.1, \"Kategori\": \"Ternak\", \"Keterangan\": \"Sapi Perah\", \"N\": 0.0, \"Satuan\": \"Ekor\"}, {\"Tahun\": 2017, \"Kode\": 15, \"Data\": \"Peternakan\", \"Kode Kategori\": 15.1, \"Kategori\": \"Ternak\", \"Keterangan\": \"Sapi Biasa\", \"N\": 125.0, \"Satuan\": \"Ekor\"}, {\"Tahun\": 2017, \"Kode\": 15, \"Data\": \"Peternakan\", \"Kode Kategori\": 15.1, \"Kategori\": \"Ternak\", \"Keterangan\": \"Kerbau\", \"N\": 0.0, \"Satuan\": \"Ekor\"}, {\"Tahun\": 2017, \"Kode\": 15, \"Data\": \"Peternakan\", \"Kode Kategori\": 15.1, \"Kategori\": \"Ternak\", \"Keterangan\": \"Kuda\", \"N\": 0.0, \"Satuan\": \"Ekor\"}, {\"Tahun\": 2017, \"Kode\": 15, \"Data\": \"Peternakan\", \"Kode Kategori\": 15.1, \"Kategori\": \"Ternak\", \"Keterangan\": \"Babi\", \"N\": 0.0, \"Satuan\": \"Ekor\"}, {\"Tahun\": 2017, \"Kode\": 15, \"Data\": \"Peternakan\", \"Kode Kategori\": 15.1, \"Kategori\": \"Ternak\", \"Keterangan\": \"Buaya\", \"N\": 0.0, \"Satuan\": \"Ekor\"}, {\"Tahun\": 2017, \"Kode\": 15, \"Data\": \"Peternakan\", \"Kode Kategori\": 15.1, \"Kategori\": \"Ternak\", \"Keterangan\": \"Lain-lain\", \"N\": 0.0, \"Satuan\": \"Ekor\"}, {\"Tahun\": 2019, \"Kode\": 15, \"Data\": \"Peternakan\", \"Kode Kategori\": 15.1, \"Kategori\": \"Ternak\", \"Keterangan\": \"Ayam Kampung\", \"N\": 1875.0, \"Satuan\": \"Ekor\"}, {\"Tahun\": 2019, \"Kode\": 15, \"Data\": \"Peternakan\", \"Kode Kategori\": 15.1, \"Kategori\": \"Ternak\", \"Keterangan\": \"Ayam Ras\", \"N\": 0.0, \"Satuan\": \"Ekor\"}, {\"Tahun\": 2019, \"Kode\": 15, \"Data\": \"Peternakan\", \"Kode Kategori\": 15.1, \"Kategori\": \"Ternak\", \"Keterangan\": \"Itik\", \"N\": 1200.0, \"Satuan\": \"Ekor\"}, {\"Tahun\": 2019, \"Kode\": 15, \"Data\": \"Peternakan\", \"Kode Kategori\": 15.1, \"Kategori\": \"Ternak\", \"Keterangan\": \"Kambing\", \"N\": 135.0, \"Satuan\": \"Ekor\"}, {\"Tahun\": 2019, \"Kode\": 15, \"Data\": \"Peternakan\", \"Kode Kategori\": 15.1, \"Kategori\": \"Ternak\", \"Keterangan\": \"Domba\", \"N\": 0.0, \"Satuan\": \"Ekor\"}, {\"Tahun\": 2019, \"Kode\": 15, \"Data\": \"Peternakan\", \"Kode Kategori\": 15.1, \"Kategori\": \"Ternak\", \"Keterangan\": \"Sapi Perah\", \"N\": 0.0, \"Satuan\": \"Ekor\"}, {\"Tahun\": 2019, \"Kode\": 15, \"Data\": \"Peternakan\", \"Kode Kategori\": 15.1, \"Kategori\": \"Ternak\", \"Keterangan\": \"Sapi Biasa\", \"N\": 125.0, \"Satuan\": \"Ekor\"}, {\"Tahun\": 2019, \"Kode\": 15, \"Data\": \"Peternakan\", \"Kode Kategori\": 15.1, \"Kategori\": \"Ternak\", \"Keterangan\": \"Kerbau\", \"N\": 0.0, \"Satuan\": \"Ekor\"}, {\"Tahun\": 2019, \"Kode\": 15, \"Data\": \"Peternakan\", \"Kode Kategori\": 15.1, \"Kategori\": \"Ternak\", \"Keterangan\": \"Kuda\", \"N\": 0.0, \"Satuan\": \"Ekor\"}, {\"Tahun\": 2019, \"Kode\": 15, \"Data\": \"Peternakan\", \"Kode Kategori\": 15.1, \"Kategori\": \"Ternak\", \"Keterangan\": \"Babi\", \"N\": 0.0, \"Satuan\": \"Ekor\"}, {\"Tahun\": 2019, \"Kode\": 15, \"Data\": \"Peternakan\", \"Kode Kategori\": 15.1, \"Kategori\": \"Ternak\", \"Keterangan\": \"Buaya\", \"N\": 0.0, \"Satuan\": \"Ekor\"}, {\"Tahun\": 2019, \"Kode\": 15, \"Data\": \"Peternakan\", \"Kode Kategori\": 15.1, \"Kategori\": \"Ternak\", \"Keterangan\": \"Lain-lain\", \"N\": 0.0, \"Satuan\": \"Ekor\"}]}}, {\"mode\": \"vega-lite\"});\n",
       "</script>"
      ],
      "text/plain": [
       "alt.LayerChart(...)"
      ]
     },
     "execution_count": 20,
     "metadata": {},
     "output_type": "execute_result"
    }
   ],
   "source": [
    "df4 = data1('Peternakan')\n",
    "df4 = df4.fillna(0)\n",
    "plot4 = plot_4(df4,'Ekor','',500,'Hewan Ternak').configure_title(fontSize=14,color='purple')\n",
    "plot4"
   ]
  },
  {
   "cell_type": "markdown",
   "metadata": {},
   "source": [
    "<h2>Kondisi Perumahan</h2>"
   ]
  },
  {
   "cell_type": "code",
   "execution_count": 21,
   "metadata": {},
   "outputs": [
    {
     "data": {
      "text/html": [
       "\n",
       "<div id=\"altair-viz-4feb745f564340569e1bb82b96b35fe5\"></div>\n",
       "<script type=\"text/javascript\">\n",
       "  (function(spec, embedOpt){\n",
       "    let outputDiv = document.currentScript.previousElementSibling;\n",
       "    if (outputDiv.id !== \"altair-viz-4feb745f564340569e1bb82b96b35fe5\") {\n",
       "      outputDiv = document.getElementById(\"altair-viz-4feb745f564340569e1bb82b96b35fe5\");\n",
       "    }\n",
       "    const paths = {\n",
       "      \"vega\": \"https://cdn.jsdelivr.net/npm//vega@5?noext\",\n",
       "      \"vega-lib\": \"https://cdn.jsdelivr.net/npm//vega-lib?noext\",\n",
       "      \"vega-lite\": \"https://cdn.jsdelivr.net/npm//vega-lite@4.8.1?noext\",\n",
       "      \"vega-embed\": \"https://cdn.jsdelivr.net/npm//vega-embed@6?noext\",\n",
       "    };\n",
       "\n",
       "    function loadScript(lib) {\n",
       "      return new Promise(function(resolve, reject) {\n",
       "        var s = document.createElement('script');\n",
       "        s.src = paths[lib];\n",
       "        s.async = true;\n",
       "        s.onload = () => resolve(paths[lib]);\n",
       "        s.onerror = () => reject(`Error loading script: ${paths[lib]}`);\n",
       "        document.getElementsByTagName(\"head\")[0].appendChild(s);\n",
       "      });\n",
       "    }\n",
       "\n",
       "    function showError(err) {\n",
       "      outputDiv.innerHTML = `<div class=\"error\" style=\"color:red;\">${err}</div>`;\n",
       "      throw err;\n",
       "    }\n",
       "\n",
       "    function displayChart(vegaEmbed) {\n",
       "      vegaEmbed(outputDiv, spec, embedOpt)\n",
       "        .catch(err => showError(`Javascript Error: ${err.message}<br>This usually means there's a typo in your chart specification. See the javascript console for the full traceback.`));\n",
       "    }\n",
       "\n",
       "    if(typeof define === \"function\" && define.amd) {\n",
       "      requirejs.config({paths});\n",
       "      require([\"vega-embed\"], displayChart, err => showError(`Error loading script: ${err.message}`));\n",
       "    } else if (typeof vegaEmbed === \"function\") {\n",
       "      displayChart(vegaEmbed);\n",
       "    } else {\n",
       "      loadScript(\"vega\")\n",
       "        .then(() => loadScript(\"vega-lite\"))\n",
       "        .then(() => loadScript(\"vega-embed\"))\n",
       "        .catch(showError)\n",
       "        .then(() => displayChart(vegaEmbed));\n",
       "    }\n",
       "  })({\"config\": {\"view\": {\"continuousWidth\": 400, \"continuousHeight\": 300}, \"title\": {\"color\": \"purple\", \"fontSize\": 14}}, \"layer\": [{\"mark\": {\"type\": \"bar\", \"opacity\": 0.8}, \"encoding\": {\"color\": {\"condition\": {\"type\": \"ordinal\", \"field\": \"Keterangan\", \"scale\": {\"scheme\": \"purples\"}, \"sort\": \"x\", \"selection\": \"selector001\"}, \"value\": \"lightgray\"}, \"x\": {\"type\": \"quantitative\", \"axis\": {\"tickMinStep\": 1}, \"field\": \"N\", \"title\": \"Unit\"}, \"y\": {\"type\": \"ordinal\", \"field\": \"Keterangan\", \"sort\": \"-x\", \"title\": \"\"}}}, {\"mark\": {\"type\": \"text\", \"align\": \"left\", \"baseline\": \"middle\", \"dx\": 3}, \"encoding\": {\"color\": {\"condition\": {\"type\": \"ordinal\", \"field\": \"Keterangan\", \"scale\": {\"scheme\": \"purples\"}, \"sort\": \"x\", \"selection\": \"selector001\"}, \"value\": \"lightgray\"}, \"text\": {\"type\": \"quantitative\", \"field\": \"N\"}, \"tooltip\": [{\"type\": \"quantitative\", \"field\": \"Tahun\"}, {\"type\": \"nominal\", \"field\": \"Keterangan\"}, {\"type\": \"quantitative\", \"field\": \"N\"}, {\"type\": \"nominal\", \"field\": \"Satuan\"}], \"x\": {\"type\": \"quantitative\", \"axis\": {\"tickMinStep\": 1}, \"field\": \"N\", \"title\": \"Unit\"}, \"y\": {\"type\": \"ordinal\", \"field\": \"Keterangan\", \"sort\": \"-x\", \"title\": \"\"}}, \"selection\": {\"selector011\": {\"type\": \"interval\", \"bind\": \"scales\", \"encodings\": [\"x\", \"y\"]}, \"selector001\": {\"type\": \"single\", \"encodings\": [\"y\", \"color\"]}}}], \"data\": {\"name\": \"data-c93f878db4c7170cb91242b30c668293\"}, \"title\": \"Unit Rumah\", \"width\": 500, \"$schema\": \"https://vega.github.io/schema/vega-lite/v4.8.1.json\", \"datasets\": {\"data-c93f878db4c7170cb91242b30c668293\": [{\"Tahun\": 2017, \"Kode\": 19, \"Data\": \"Perumahan\", \"Kode Kategori\": 19.1, \"Kategori\": \"Perumahan\", \"Keterangan\": \"Rumah Permanen\", \"N\": 625.0, \"Satuan\": \"Unit\"}, {\"Tahun\": 2017, \"Kode\": 19, \"Data\": \"Perumahan\", \"Kode Kategori\": 19.1, \"Kategori\": \"Perumahan\", \"Keterangan\": \"Rumah Semi Permanen\", \"N\": 175.0, \"Satuan\": \"Unit\"}, {\"Tahun\": 2017, \"Kode\": 19, \"Data\": \"Perumahan\", \"Kode Kategori\": 19.1, \"Kategori\": \"Perumahan\", \"Keterangan\": \"Rumah Non Permanen\", \"N\": 89.0, \"Satuan\": \"Unit\"}, {\"Tahun\": 2017, \"Kode\": 19, \"Data\": \"Perumahan\", \"Kode Kategori\": 19.1, \"Kategori\": \"Pemukiman\", \"Keterangan\": \"BTN\", \"N\": 0.0, \"Satuan\": \"Unit\"}, {\"Tahun\": 2017, \"Kode\": 19, \"Data\": \"Perumahan\", \"Kode Kategori\": 19.1, \"Kategori\": \"Pemukiman\", \"Keterangan\": \"Real Estate\", \"N\": 0.0, \"Satuan\": \"Unit\"}, {\"Tahun\": 2017, \"Kode\": 19, \"Data\": \"Perumahan\", \"Kode Kategori\": 19.1, \"Kategori\": \"Pemukiman\", \"Keterangan\": \"PERUMNAS\", \"N\": 0.0, \"Satuan\": \"Unit\"}, {\"Tahun\": 2019, \"Kode\": 19, \"Data\": \"Perumahan\", \"Kode Kategori\": 19.1, \"Kategori\": \"Perumahan\", \"Keterangan\": \"Rumah Permanen\", \"N\": 625.0, \"Satuan\": \"Unit\"}, {\"Tahun\": 2019, \"Kode\": 19, \"Data\": \"Perumahan\", \"Kode Kategori\": 19.1, \"Kategori\": \"Perumahan\", \"Keterangan\": \"Rumah Semi Permanen\", \"N\": 175.0, \"Satuan\": \"Unit\"}, {\"Tahun\": 2019, \"Kode\": 19, \"Data\": \"Perumahan\", \"Kode Kategori\": 19.1, \"Kategori\": \"Perumahan\", \"Keterangan\": \"Rumah Non Permanen\", \"N\": 89.0, \"Satuan\": \"Unit\"}, {\"Tahun\": 2019, \"Kode\": 19, \"Data\": \"Perumahan\", \"Kode Kategori\": 19.1, \"Kategori\": \"Pemukiman\", \"Keterangan\": \"BTN\", \"N\": 0.0, \"Satuan\": \"Unit\"}, {\"Tahun\": 2019, \"Kode\": 19, \"Data\": \"Perumahan\", \"Kode Kategori\": 19.1, \"Kategori\": \"Pemukiman\", \"Keterangan\": \"Real Estate\", \"N\": 0.0, \"Satuan\": \"Unit\"}, {\"Tahun\": 2019, \"Kode\": 19, \"Data\": \"Perumahan\", \"Kode Kategori\": 19.1, \"Kategori\": \"Pemukiman\", \"Keterangan\": \"PERUMNAS\", \"N\": 0.0, \"Satuan\": \"Unit\"}]}}, {\"mode\": \"vega-lite\"});\n",
       "</script>"
      ],
      "text/plain": [
       "alt.LayerChart(...)"
      ]
     },
     "execution_count": 21,
     "metadata": {},
     "output_type": "execute_result"
    }
   ],
   "source": [
    "df5 = data1('Perumahan')\n",
    "df5 = df5.fillna(0)\n",
    "plot5 = plot_4(df5,'Unit','',500,'Unit Rumah').configure_title(fontSize=14,color='purple')\n",
    "plot5"
   ]
  },
  {
   "cell_type": "code",
   "execution_count": 22,
   "metadata": {},
   "outputs": [],
   "source": [
    "# Save File\n",
    "plot1.save('sarana_pembangunan_1.json')\n",
    "plot1_2.save('sarana_pembangunan_2.json')\n",
    "plot1_3.save('sarana_pembangunan_3.json')\n",
    "plot1_4.save('sarana_pembangunan_4.json')\n",
    "plot1_5.save('sarana_pembangunan_5.json')\n",
    "plot2.save('pariwisata.json')\n",
    "plot3.save('pertanian_1.json')\n",
    "plot3_2.save('pertanian_2.json')\n",
    "plot4.save('perternakan.json')\n",
    "plot5.save('perumahan.json')"
   ]
  },
  {
   "cell_type": "code",
   "execution_count": null,
   "metadata": {},
   "outputs": [],
   "source": []
  }
 ],
 "metadata": {
  "kernelspec": {
   "display_name": "Python 3",
   "language": "python",
   "name": "python3"
  },
  "language_info": {
   "codemirror_mode": {
    "name": "ipython",
    "version": 3
   },
   "file_extension": ".py",
   "mimetype": "text/x-python",
   "name": "python",
   "nbconvert_exporter": "python",
   "pygments_lexer": "ipython3",
   "version": "3.7.6"
  }
 },
 "nbformat": 4,
 "nbformat_minor": 4
}
