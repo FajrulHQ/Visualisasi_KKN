{
 "cells": [
  {
   "cell_type": "code",
   "execution_count": 2,
   "metadata": {},
   "outputs": [],
   "source": [
    "import pandas as pd\n",
    "import altair as alt\n",
    "import matplotlib.pyplot as plt\n",
    "import numpy as np"
   ]
  },
  {
   "cell_type": "code",
   "execution_count": 3,
   "metadata": {},
   "outputs": [
    {
     "data": {
      "text/html": [
       "<div>\n",
       "<style scoped>\n",
       "    .dataframe tbody tr th:only-of-type {\n",
       "        vertical-align: middle;\n",
       "    }\n",
       "\n",
       "    .dataframe tbody tr th {\n",
       "        vertical-align: top;\n",
       "    }\n",
       "\n",
       "    .dataframe thead th {\n",
       "        text-align: right;\n",
       "    }\n",
       "</style>\n",
       "<table border=\"1\" class=\"dataframe\">\n",
       "  <thead>\n",
       "    <tr style=\"text-align: right;\">\n",
       "      <th></th>\n",
       "      <th>Tahun</th>\n",
       "      <th>Kode</th>\n",
       "      <th>Data</th>\n",
       "      <th>Kode Kategori</th>\n",
       "      <th>Kategori</th>\n",
       "      <th>Keterangan</th>\n",
       "      <th>N</th>\n",
       "      <th>Satuan</th>\n",
       "    </tr>\n",
       "  </thead>\n",
       "  <tbody>\n",
       "    <tr>\n",
       "      <th>0</th>\n",
       "      <td>2017</td>\n",
       "      <td>1</td>\n",
       "      <td>Kependudukan</td>\n",
       "      <td>1.1</td>\n",
       "      <td>Jenis Kelamin</td>\n",
       "      <td>Laki-laki</td>\n",
       "      <td>1582</td>\n",
       "      <td>Orang</td>\n",
       "    </tr>\n",
       "    <tr>\n",
       "      <th>1</th>\n",
       "      <td>2017</td>\n",
       "      <td>1</td>\n",
       "      <td>Kependudukan</td>\n",
       "      <td>1.1</td>\n",
       "      <td>Jenis Kelamin</td>\n",
       "      <td>Perempuan</td>\n",
       "      <td>1599</td>\n",
       "      <td>Orang</td>\n",
       "    </tr>\n",
       "    <tr>\n",
       "      <th>2</th>\n",
       "      <td>2017</td>\n",
       "      <td>1</td>\n",
       "      <td>Kependudukan</td>\n",
       "      <td>1.2</td>\n",
       "      <td>Kepala Kaluarga</td>\n",
       "      <td>Kepala Kaluarga</td>\n",
       "      <td>971</td>\n",
       "      <td>Orang</td>\n",
       "    </tr>\n",
       "    <tr>\n",
       "      <th>3</th>\n",
       "      <td>2017</td>\n",
       "      <td>1</td>\n",
       "      <td>Kependudukan</td>\n",
       "      <td>1.3</td>\n",
       "      <td>Kewarganegaraan WNI</td>\n",
       "      <td>Laki-laki</td>\n",
       "      <td>1582</td>\n",
       "      <td>Orang</td>\n",
       "    </tr>\n",
       "    <tr>\n",
       "      <th>4</th>\n",
       "      <td>2017</td>\n",
       "      <td>1</td>\n",
       "      <td>Kependudukan</td>\n",
       "      <td>1.3</td>\n",
       "      <td>Kewarganegaraan WNI</td>\n",
       "      <td>Perempuan</td>\n",
       "      <td>1599</td>\n",
       "      <td>Orang</td>\n",
       "    </tr>\n",
       "    <tr>\n",
       "      <th>...</th>\n",
       "      <td>...</td>\n",
       "      <td>...</td>\n",
       "      <td>...</td>\n",
       "      <td>...</td>\n",
       "      <td>...</td>\n",
       "      <td>...</td>\n",
       "      <td>...</td>\n",
       "      <td>...</td>\n",
       "    </tr>\n",
       "    <tr>\n",
       "      <th>421</th>\n",
       "      <td>2019</td>\n",
       "      <td>21</td>\n",
       "      <td>Pemilihan Umum</td>\n",
       "      <td>21.3</td>\n",
       "      <td>Hasil Pemilihan Umum</td>\n",
       "      <td>Partai Amanat Nasional</td>\n",
       "      <td>34</td>\n",
       "      <td>Orang</td>\n",
       "    </tr>\n",
       "    <tr>\n",
       "      <th>422</th>\n",
       "      <td>2019</td>\n",
       "      <td>21</td>\n",
       "      <td>Pemilihan Umum</td>\n",
       "      <td>21.3</td>\n",
       "      <td>Hasil Pemilihan Umum</td>\n",
       "      <td>Partai Hanura</td>\n",
       "      <td>NaN</td>\n",
       "      <td>Orang</td>\n",
       "    </tr>\n",
       "    <tr>\n",
       "      <th>423</th>\n",
       "      <td>2019</td>\n",
       "      <td>21</td>\n",
       "      <td>Pemilihan Umum</td>\n",
       "      <td>21.3</td>\n",
       "      <td>Hasil Pemilihan Umum</td>\n",
       "      <td>Partai Demokrat</td>\n",
       "      <td>201</td>\n",
       "      <td>Orang</td>\n",
       "    </tr>\n",
       "    <tr>\n",
       "      <th>424</th>\n",
       "      <td>2019</td>\n",
       "      <td>21</td>\n",
       "      <td>Pemilihan Umum</td>\n",
       "      <td>21.3</td>\n",
       "      <td>Hasil Pemilihan Umum</td>\n",
       "      <td>Partai Bulan Bintang</td>\n",
       "      <td>1</td>\n",
       "      <td>Orang</td>\n",
       "    </tr>\n",
       "    <tr>\n",
       "      <th>425</th>\n",
       "      <td>2019</td>\n",
       "      <td>21</td>\n",
       "      <td>Pemilihan Umum</td>\n",
       "      <td>21.3</td>\n",
       "      <td>Hasil Pemilihan Umum</td>\n",
       "      <td>Partai Keadilan dan Persatuan Indonesia</td>\n",
       "      <td>NaN</td>\n",
       "      <td>Orang</td>\n",
       "    </tr>\n",
       "  </tbody>\n",
       "</table>\n",
       "<p>823 rows × 8 columns</p>\n",
       "</div>"
      ],
      "text/plain": [
       "     Tahun  Kode            Data  Kode Kategori              Kategori  \\\n",
       "0     2017     1    Kependudukan            1.1         Jenis Kelamin   \n",
       "1     2017     1    Kependudukan            1.1         Jenis Kelamin   \n",
       "2     2017     1    Kependudukan            1.2       Kepala Kaluarga   \n",
       "3     2017     1    Kependudukan            1.3   Kewarganegaraan WNI   \n",
       "4     2017     1    Kependudukan            1.3   Kewarganegaraan WNI   \n",
       "..     ...   ...             ...            ...                   ...   \n",
       "421   2019    21  Pemilihan Umum           21.3  Hasil Pemilihan Umum   \n",
       "422   2019    21  Pemilihan Umum           21.3  Hasil Pemilihan Umum   \n",
       "423   2019    21  Pemilihan Umum           21.3  Hasil Pemilihan Umum   \n",
       "424   2019    21  Pemilihan Umum           21.3  Hasil Pemilihan Umum   \n",
       "425   2019    21  Pemilihan Umum           21.3  Hasil Pemilihan Umum   \n",
       "\n",
       "                                  Keterangan     N Satuan  \n",
       "0                                  Laki-laki  1582  Orang  \n",
       "1                                  Perempuan  1599  Orang  \n",
       "2                            Kepala Kaluarga   971  Orang  \n",
       "3                                  Laki-laki  1582  Orang  \n",
       "4                                  Perempuan  1599  Orang  \n",
       "..                                       ...   ...    ...  \n",
       "421                   Partai Amanat Nasional    34  Orang  \n",
       "422                            Partai Hanura   NaN  Orang  \n",
       "423                          Partai Demokrat   201  Orang  \n",
       "424                     Partai Bulan Bintang     1  Orang  \n",
       "425  Partai Keadilan dan Persatuan Indonesia   NaN  Orang  \n",
       "\n",
       "[823 rows x 8 columns]"
      ]
     },
     "execution_count": 3,
     "metadata": {},
     "output_type": "execute_result"
    }
   ],
   "source": [
    "df_2019 = pd.read_csv('data_2019_S2.csv')\n",
    "\n",
    "df_2017 = pd.read_csv('data_2017_S2.csv')\n",
    "\n",
    "df = pd.concat([df_2017,df_2019])\n",
    "df"
   ]
  },
  {
   "cell_type": "code",
   "execution_count": 65,
   "metadata": {},
   "outputs": [],
   "source": [
    "def data(a):\n",
    "    data = df.loc[df['Kategori']==a]\n",
    "    return data"
   ]
  },
  {
   "cell_type": "code",
   "execution_count": 66,
   "metadata": {},
   "outputs": [],
   "source": [
    "def plot_1(data,x,y,width):\n",
    "    selector = alt.selection_single(encodings=['x', 'color'])\n",
    "    bars = alt.Chart(data).mark_bar(opacity=0.8).encode(\n",
    "        x=alt.X('N:Q',stack='normalize', title=x),\n",
    "        y=alt.Y('Keterangan:O',title=y),\n",
    "        color=alt.condition(selector, 'Tahun:O', alt.value('lightgray'))\n",
    "    ).add_selection(\n",
    "        selector\n",
    "    )\n",
    "    \n",
    "    text = alt.Chart(data).mark_text(dx=-18, dy=3, color='white').encode(\n",
    "        x=alt.X('N:Q', stack='normalize'),\n",
    "        y=alt.Y('Keterangan:O'),\n",
    "        detail='Tahun:O',\n",
    "        text=alt.Text('N:O'),\n",
    "        tooltip = ['Tahun','Keterangan','N','Satuan']\n",
    "    ).interactive()\n",
    "    return (bars+text).properties(width=width)"
   ]
  },
  {
   "cell_type": "code",
   "execution_count": 67,
   "metadata": {},
   "outputs": [],
   "source": [
    "def plot_2(data,x,y,width):\n",
    "    selector = alt.selection_single(encodings=['x', 'color'])\n",
    "    bars = alt.Chart(data).mark_bar(opacity=0.8).encode(\n",
    "        alt.X('Keterangan:O', title=y),\n",
    "        alt.Y('N:Q',title=x),\n",
    "        alt.Column('Tahun:O'),\n",
    "        color=alt.condition(selector, 'Tahun:O', alt.value('lightgray')),\n",
    "        tooltip = ['Tahun','Keterangan','N','Satuan']\n",
    "    ).add_selection(selector\n",
    "    ).interactive(\n",
    "    ).resolve_scale(x='independent')\n",
    "    \n",
    "    return bars.properties(width=width\n",
    "    )"
   ]
  },
  {
   "cell_type": "markdown",
   "metadata": {},
   "source": [
    "<h2> Kependudukan Berdasarkan Jenis Kelamin</h2>"
   ]
  },
  {
   "cell_type": "code",
   "execution_count": 80,
   "metadata": {
    "scrolled": false
   },
   "outputs": [
    {
     "data": {
      "text/html": [
       "\n",
       "<div id=\"altair-viz-fd1e9254f4794b9eaeddd5c50f4a0149\"></div>\n",
       "<script type=\"text/javascript\">\n",
       "  (function(spec, embedOpt){\n",
       "    let outputDiv = document.currentScript.previousElementSibling;\n",
       "    if (outputDiv.id !== \"altair-viz-fd1e9254f4794b9eaeddd5c50f4a0149\") {\n",
       "      outputDiv = document.getElementById(\"altair-viz-fd1e9254f4794b9eaeddd5c50f4a0149\");\n",
       "    }\n",
       "    const paths = {\n",
       "      \"vega\": \"https://cdn.jsdelivr.net/npm//vega@5?noext\",\n",
       "      \"vega-lib\": \"https://cdn.jsdelivr.net/npm//vega-lib?noext\",\n",
       "      \"vega-lite\": \"https://cdn.jsdelivr.net/npm//vega-lite@4.8.1?noext\",\n",
       "      \"vega-embed\": \"https://cdn.jsdelivr.net/npm//vega-embed@6?noext\",\n",
       "    };\n",
       "\n",
       "    function loadScript(lib) {\n",
       "      return new Promise(function(resolve, reject) {\n",
       "        var s = document.createElement('script');\n",
       "        s.src = paths[lib];\n",
       "        s.async = true;\n",
       "        s.onload = () => resolve(paths[lib]);\n",
       "        s.onerror = () => reject(`Error loading script: ${paths[lib]}`);\n",
       "        document.getElementsByTagName(\"head\")[0].appendChild(s);\n",
       "      });\n",
       "    }\n",
       "\n",
       "    function showError(err) {\n",
       "      outputDiv.innerHTML = `<div class=\"error\" style=\"color:red;\">${err}</div>`;\n",
       "      throw err;\n",
       "    }\n",
       "\n",
       "    function displayChart(vegaEmbed) {\n",
       "      vegaEmbed(outputDiv, spec, embedOpt)\n",
       "        .catch(err => showError(`Javascript Error: ${err.message}<br>This usually means there's a typo in your chart specification. See the javascript console for the full traceback.`));\n",
       "    }\n",
       "\n",
       "    if(typeof define === \"function\" && define.amd) {\n",
       "      requirejs.config({paths});\n",
       "      require([\"vega-embed\"], displayChart, err => showError(`Error loading script: ${err.message}`));\n",
       "    } else if (typeof vegaEmbed === \"function\") {\n",
       "      displayChart(vegaEmbed);\n",
       "    } else {\n",
       "      loadScript(\"vega\")\n",
       "        .then(() => loadScript(\"vega-lite\"))\n",
       "        .then(() => loadScript(\"vega-embed\"))\n",
       "        .catch(showError)\n",
       "        .then(() => displayChart(vegaEmbed));\n",
       "    }\n",
       "  })({\"config\": {\"view\": {\"continuousWidth\": 400, \"continuousHeight\": 300}}, \"layer\": [{\"mark\": {\"type\": \"bar\", \"opacity\": 0.8}, \"encoding\": {\"color\": {\"condition\": {\"type\": \"ordinal\", \"field\": \"Tahun\", \"selection\": \"selector113\"}, \"value\": \"lightgray\"}, \"x\": {\"type\": \"quantitative\", \"field\": \"N\", \"stack\": \"normalize\", \"title\": \"Orang\"}, \"y\": {\"type\": \"ordinal\", \"field\": \"Keterangan\", \"title\": \"Jenis Kelamin\"}}, \"selection\": {\"selector113\": {\"type\": \"single\", \"encodings\": [\"x\", \"color\"]}}}, {\"mark\": {\"type\": \"text\", \"color\": \"white\", \"dx\": -18, \"dy\": 3}, \"encoding\": {\"detail\": {\"type\": \"ordinal\", \"field\": \"Tahun\"}, \"text\": {\"type\": \"ordinal\", \"field\": \"N\"}, \"tooltip\": [{\"type\": \"quantitative\", \"field\": \"Tahun\"}, {\"type\": \"nominal\", \"field\": \"Keterangan\"}, {\"type\": \"nominal\", \"field\": \"N\"}, {\"type\": \"nominal\", \"field\": \"Satuan\"}], \"x\": {\"type\": \"quantitative\", \"field\": \"N\", \"stack\": \"normalize\"}, \"y\": {\"type\": \"ordinal\", \"field\": \"Keterangan\"}}, \"selection\": {\"selector114\": {\"type\": \"interval\", \"bind\": \"scales\", \"encodings\": [\"x\", \"y\"]}}}], \"data\": {\"name\": \"data-630bf22b04fd81e05834d46a37900972\"}, \"width\": 600, \"$schema\": \"https://vega.github.io/schema/vega-lite/v4.8.1.json\", \"datasets\": {\"data-630bf22b04fd81e05834d46a37900972\": [{\"Tahun\": 2017, \"Kode\": 1, \"Data\": \"Kependudukan\", \"Kode Kategori\": 1.1, \"Kategori\": \"Jenis Kelamin\", \"Keterangan\": \"Laki-laki\", \"N\": \"1582\", \"Satuan\": \"Orang\"}, {\"Tahun\": 2017, \"Kode\": 1, \"Data\": \"Kependudukan\", \"Kode Kategori\": 1.1, \"Kategori\": \"Jenis Kelamin\", \"Keterangan\": \"Perempuan\", \"N\": \"1599\", \"Satuan\": \"Orang\"}, {\"Tahun\": 2019, \"Kode\": 1, \"Data\": \"Kependudukan\", \"Kode Kategori\": 1.1, \"Kategori\": \"Jenis Kelamin\", \"Keterangan\": \"Laki-laki\", \"N\": 1341.0, \"Satuan\": \"Orang\"}, {\"Tahun\": 2019, \"Kode\": 1, \"Data\": \"Kependudukan\", \"Kode Kategori\": 1.1, \"Kategori\": \"Jenis Kelamin\", \"Keterangan\": \"Perempuan\", \"N\": 1325.0, \"Satuan\": \"Orang\"}]}}, {\"mode\": \"vega-lite\"});\n",
       "</script>"
      ],
      "text/plain": [
       "alt.LayerChart(...)"
      ]
     },
     "execution_count": 80,
     "metadata": {},
     "output_type": "execute_result"
    }
   ],
   "source": [
    "df_1 = data('Jenis Kelamin')\n",
    "plot_1(df_1,'Orang','Jenis Kelamin',600)"
   ]
  },
  {
   "cell_type": "markdown",
   "metadata": {},
   "source": [
    "<h2> Kependudukan Berdasarkan Agama</h2>"
   ]
  },
  {
   "cell_type": "code",
   "execution_count": 81,
   "metadata": {
    "scrolled": false
   },
   "outputs": [
    {
     "data": {
      "text/html": [
       "\n",
       "<div id=\"altair-viz-078c4ddd0aa44e1d8fb485d645bb2e68\"></div>\n",
       "<script type=\"text/javascript\">\n",
       "  (function(spec, embedOpt){\n",
       "    let outputDiv = document.currentScript.previousElementSibling;\n",
       "    if (outputDiv.id !== \"altair-viz-078c4ddd0aa44e1d8fb485d645bb2e68\") {\n",
       "      outputDiv = document.getElementById(\"altair-viz-078c4ddd0aa44e1d8fb485d645bb2e68\");\n",
       "    }\n",
       "    const paths = {\n",
       "      \"vega\": \"https://cdn.jsdelivr.net/npm//vega@5?noext\",\n",
       "      \"vega-lib\": \"https://cdn.jsdelivr.net/npm//vega-lib?noext\",\n",
       "      \"vega-lite\": \"https://cdn.jsdelivr.net/npm//vega-lite@4.8.1?noext\",\n",
       "      \"vega-embed\": \"https://cdn.jsdelivr.net/npm//vega-embed@6?noext\",\n",
       "    };\n",
       "\n",
       "    function loadScript(lib) {\n",
       "      return new Promise(function(resolve, reject) {\n",
       "        var s = document.createElement('script');\n",
       "        s.src = paths[lib];\n",
       "        s.async = true;\n",
       "        s.onload = () => resolve(paths[lib]);\n",
       "        s.onerror = () => reject(`Error loading script: ${paths[lib]}`);\n",
       "        document.getElementsByTagName(\"head\")[0].appendChild(s);\n",
       "      });\n",
       "    }\n",
       "\n",
       "    function showError(err) {\n",
       "      outputDiv.innerHTML = `<div class=\"error\" style=\"color:red;\">${err}</div>`;\n",
       "      throw err;\n",
       "    }\n",
       "\n",
       "    function displayChart(vegaEmbed) {\n",
       "      vegaEmbed(outputDiv, spec, embedOpt)\n",
       "        .catch(err => showError(`Javascript Error: ${err.message}<br>This usually means there's a typo in your chart specification. See the javascript console for the full traceback.`));\n",
       "    }\n",
       "\n",
       "    if(typeof define === \"function\" && define.amd) {\n",
       "      requirejs.config({paths});\n",
       "      require([\"vega-embed\"], displayChart, err => showError(`Error loading script: ${err.message}`));\n",
       "    } else if (typeof vegaEmbed === \"function\") {\n",
       "      displayChart(vegaEmbed);\n",
       "    } else {\n",
       "      loadScript(\"vega\")\n",
       "        .then(() => loadScript(\"vega-lite\"))\n",
       "        .then(() => loadScript(\"vega-embed\"))\n",
       "        .catch(showError)\n",
       "        .then(() => displayChart(vegaEmbed));\n",
       "    }\n",
       "  })({\"config\": {\"view\": {\"continuousWidth\": 400, \"continuousHeight\": 300}}, \"layer\": [{\"mark\": {\"type\": \"bar\", \"opacity\": 0.8}, \"encoding\": {\"color\": {\"condition\": {\"type\": \"ordinal\", \"field\": \"Tahun\", \"selection\": \"selector115\"}, \"value\": \"lightgray\"}, \"x\": {\"type\": \"quantitative\", \"field\": \"N\", \"stack\": \"normalize\", \"title\": \"Orang\"}, \"y\": {\"type\": \"ordinal\", \"field\": \"Keterangan\", \"title\": \"Agama\"}}, \"selection\": {\"selector115\": {\"type\": \"single\", \"encodings\": [\"x\", \"color\"]}}}, {\"mark\": {\"type\": \"text\", \"color\": \"white\", \"dx\": -18, \"dy\": 3}, \"encoding\": {\"detail\": {\"type\": \"ordinal\", \"field\": \"Tahun\"}, \"text\": {\"type\": \"ordinal\", \"field\": \"N\"}, \"tooltip\": [{\"type\": \"quantitative\", \"field\": \"Tahun\"}, {\"type\": \"nominal\", \"field\": \"Keterangan\"}, {\"type\": \"nominal\", \"field\": \"N\"}, {\"type\": \"nominal\", \"field\": \"Satuan\"}], \"x\": {\"type\": \"quantitative\", \"field\": \"N\", \"stack\": \"normalize\"}, \"y\": {\"type\": \"ordinal\", \"field\": \"Keterangan\"}}, \"selection\": {\"selector116\": {\"type\": \"interval\", \"bind\": \"scales\", \"encodings\": [\"x\", \"y\"]}}}], \"data\": {\"name\": \"data-50248103becf72c1d223767a31794841\"}, \"width\": 600, \"$schema\": \"https://vega.github.io/schema/vega-lite/v4.8.1.json\", \"datasets\": {\"data-50248103becf72c1d223767a31794841\": [{\"Tahun\": 2017, \"Kode\": 1, \"Data\": \"Kependudukan\", \"Kode Kategori\": 1.4, \"Kategori\": \"Agama\", \"Keterangan\": \"Islam\", \"N\": \"2961\", \"Satuan\": \"Orang\"}, {\"Tahun\": 2017, \"Kode\": 1, \"Data\": \"Kependudukan\", \"Kode Kategori\": 1.4, \"Kategori\": \"Agama\", \"Keterangan\": \"Kristen\", \"N\": \"70\", \"Satuan\": \"Orang\"}, {\"Tahun\": 2017, \"Kode\": 1, \"Data\": \"Kependudukan\", \"Kode Kategori\": 1.4, \"Kategori\": \"Agama\", \"Keterangan\": \"Katolik\", \"N\": \"145\", \"Satuan\": \"Orang\"}, {\"Tahun\": 2017, \"Kode\": 1, \"Data\": \"Kependudukan\", \"Kode Kategori\": 1.4, \"Kategori\": \"Agama\", \"Keterangan\": \"Hindu\", \"N\": \"5\", \"Satuan\": \"Orang\"}, {\"Tahun\": 2017, \"Kode\": 1, \"Data\": \"Kependudukan\", \"Kode Kategori\": 1.4, \"Kategori\": \"Agama\", \"Keterangan\": \"Budha\", \"N\": null, \"Satuan\": \"Orang\"}, {\"Tahun\": 2017, \"Kode\": 7, \"Data\": \"Bidang Pembangunan\", \"Kode Kategori\": 7.1, \"Kategori\": \"Agama\", \"Keterangan\": \"Masjid\", \"N\": \"8\", \"Satuan\": \"Unit\"}, {\"Tahun\": 2017, \"Kode\": 7, \"Data\": \"Bidang Pembangunan\", \"Kode Kategori\": 7.1, \"Kategori\": \"Agama\", \"Keterangan\": \"Mushola\", \"N\": \"1\", \"Satuan\": \"Unit\"}, {\"Tahun\": 2017, \"Kode\": 7, \"Data\": \"Bidang Pembangunan\", \"Kode Kategori\": 7.1, \"Kategori\": \"Agama\", \"Keterangan\": \"Gereja\", \"N\": \"1\", \"Satuan\": \"Unit\"}, {\"Tahun\": 2017, \"Kode\": 7, \"Data\": \"Bidang Pembangunan\", \"Kode Kategori\": 7.1, \"Kategori\": \"Agama\", \"Keterangan\": \"Vihara\", \"N\": null, \"Satuan\": \"Unit\"}, {\"Tahun\": 2017, \"Kode\": 7, \"Data\": \"Bidang Pembangunan\", \"Kode Kategori\": 7.1, \"Kategori\": \"Agama\", \"Keterangan\": \"Pura\", \"N\": null, \"Satuan\": \"Unit\"}, {\"Tahun\": 2019, \"Kode\": 1, \"Data\": \"Kependudukan\", \"Kode Kategori\": 1.4, \"Kategori\": \"Agama\", \"Keterangan\": \"Islam\", \"N\": 2467.0, \"Satuan\": \"Orang\"}, {\"Tahun\": 2019, \"Kode\": 1, \"Data\": \"Kependudukan\", \"Kode Kategori\": 1.4, \"Kategori\": \"Agama\", \"Keterangan\": \"Kristen\", \"N\": 62.0, \"Satuan\": \"Orang\"}, {\"Tahun\": 2019, \"Kode\": 1, \"Data\": \"Kependudukan\", \"Kode Kategori\": 1.4, \"Kategori\": \"Agama\", \"Keterangan\": \"Katolik\", \"N\": 133.0, \"Satuan\": \"Orang\"}, {\"Tahun\": 2019, \"Kode\": 1, \"Data\": \"Kependudukan\", \"Kode Kategori\": 1.4, \"Kategori\": \"Agama\", \"Keterangan\": \"Hindu\", \"N\": 3.0, \"Satuan\": \"Orang\"}, {\"Tahun\": 2019, \"Kode\": 1, \"Data\": \"Kependudukan\", \"Kode Kategori\": 1.4, \"Kategori\": \"Agama\", \"Keterangan\": \"Budha\", \"N\": null, \"Satuan\": \"Orang\"}, {\"Tahun\": 2019, \"Kode\": 7, \"Data\": \"Bidang Pembangunan\", \"Kode Kategori\": 7.1, \"Kategori\": \"Agama\", \"Keterangan\": \"Masjid\", \"N\": 8.0, \"Satuan\": \"Unit\"}, {\"Tahun\": 2019, \"Kode\": 7, \"Data\": \"Bidang Pembangunan\", \"Kode Kategori\": 7.1, \"Kategori\": \"Agama\", \"Keterangan\": \"Mushola\", \"N\": 1.0, \"Satuan\": \"Unit\"}, {\"Tahun\": 2019, \"Kode\": 7, \"Data\": \"Bidang Pembangunan\", \"Kode Kategori\": 7.1, \"Kategori\": \"Agama\", \"Keterangan\": \"Gereja\", \"N\": 1.0, \"Satuan\": \"Unit\"}, {\"Tahun\": 2019, \"Kode\": 7, \"Data\": \"Bidang Pembangunan\", \"Kode Kategori\": 7.1, \"Kategori\": \"Agama\", \"Keterangan\": \"Vihara\", \"N\": null, \"Satuan\": \"Unit\"}, {\"Tahun\": 2019, \"Kode\": 7, \"Data\": \"Bidang Pembangunan\", \"Kode Kategori\": 7.1, \"Kategori\": \"Agama\", \"Keterangan\": \"Pura\", \"N\": null, \"Satuan\": \"Unit\"}]}}, {\"mode\": \"vega-lite\"});\n",
       "</script>"
      ],
      "text/plain": [
       "alt.LayerChart(...)"
      ]
     },
     "execution_count": 81,
     "metadata": {},
     "output_type": "execute_result"
    }
   ],
   "source": [
    "df_2 = data('Agama')\n",
    "plot_1(df_2,'Orang','Agama',600)"
   ]
  },
  {
   "cell_type": "markdown",
   "metadata": {},
   "source": [
    "<h2> Kelompok Usia Pendidikan</h2>"
   ]
  },
  {
   "cell_type": "code",
   "execution_count": 82,
   "metadata": {},
   "outputs": [
    {
     "data": {
      "text/html": [
       "\n",
       "<div id=\"altair-viz-b51d00a4c455412fb933715c18e7670e\"></div>\n",
       "<script type=\"text/javascript\">\n",
       "  (function(spec, embedOpt){\n",
       "    let outputDiv = document.currentScript.previousElementSibling;\n",
       "    if (outputDiv.id !== \"altair-viz-b51d00a4c455412fb933715c18e7670e\") {\n",
       "      outputDiv = document.getElementById(\"altair-viz-b51d00a4c455412fb933715c18e7670e\");\n",
       "    }\n",
       "    const paths = {\n",
       "      \"vega\": \"https://cdn.jsdelivr.net/npm//vega@5?noext\",\n",
       "      \"vega-lib\": \"https://cdn.jsdelivr.net/npm//vega-lib?noext\",\n",
       "      \"vega-lite\": \"https://cdn.jsdelivr.net/npm//vega-lite@4.8.1?noext\",\n",
       "      \"vega-embed\": \"https://cdn.jsdelivr.net/npm//vega-embed@6?noext\",\n",
       "    };\n",
       "\n",
       "    function loadScript(lib) {\n",
       "      return new Promise(function(resolve, reject) {\n",
       "        var s = document.createElement('script');\n",
       "        s.src = paths[lib];\n",
       "        s.async = true;\n",
       "        s.onload = () => resolve(paths[lib]);\n",
       "        s.onerror = () => reject(`Error loading script: ${paths[lib]}`);\n",
       "        document.getElementsByTagName(\"head\")[0].appendChild(s);\n",
       "      });\n",
       "    }\n",
       "\n",
       "    function showError(err) {\n",
       "      outputDiv.innerHTML = `<div class=\"error\" style=\"color:red;\">${err}</div>`;\n",
       "      throw err;\n",
       "    }\n",
       "\n",
       "    function displayChart(vegaEmbed) {\n",
       "      vegaEmbed(outputDiv, spec, embedOpt)\n",
       "        .catch(err => showError(`Javascript Error: ${err.message}<br>This usually means there's a typo in your chart specification. See the javascript console for the full traceback.`));\n",
       "    }\n",
       "\n",
       "    if(typeof define === \"function\" && define.amd) {\n",
       "      requirejs.config({paths});\n",
       "      require([\"vega-embed\"], displayChart, err => showError(`Error loading script: ${err.message}`));\n",
       "    } else if (typeof vegaEmbed === \"function\") {\n",
       "      displayChart(vegaEmbed);\n",
       "    } else {\n",
       "      loadScript(\"vega\")\n",
       "        .then(() => loadScript(\"vega-lite\"))\n",
       "        .then(() => loadScript(\"vega-embed\"))\n",
       "        .catch(showError)\n",
       "        .then(() => displayChart(vegaEmbed));\n",
       "    }\n",
       "  })({\"config\": {\"view\": {\"continuousWidth\": 400, \"continuousHeight\": 300}}, \"data\": {\"name\": \"data-b70030e8608b220fcc15d87adb2cdbd0\"}, \"mark\": {\"type\": \"bar\", \"opacity\": 0.8}, \"encoding\": {\"color\": {\"condition\": {\"type\": \"ordinal\", \"field\": \"Tahun\", \"selection\": \"selector117\"}, \"value\": \"lightgray\"}, \"column\": {\"type\": \"ordinal\", \"field\": \"Tahun\"}, \"tooltip\": [{\"type\": \"quantitative\", \"field\": \"Tahun\"}, {\"type\": \"nominal\", \"field\": \"Keterangan\"}, {\"type\": \"nominal\", \"field\": \"N\"}, {\"type\": \"nominal\", \"field\": \"Satuan\"}], \"x\": {\"type\": \"ordinal\", \"field\": \"Keterangan\", \"title\": \"Kelompok Pendidikan\"}, \"y\": {\"type\": \"quantitative\", \"field\": \"N\", \"title\": \"Orang\"}}, \"resolve\": {\"scale\": {\"x\": \"independent\"}}, \"selection\": {\"selector117\": {\"type\": \"single\", \"encodings\": [\"x\", \"color\"]}, \"selector118\": {\"type\": \"interval\", \"bind\": \"scales\", \"encodings\": [\"x\", \"y\"]}}, \"width\": 300, \"$schema\": \"https://vega.github.io/schema/vega-lite/v4.8.1.json\", \"datasets\": {\"data-b70030e8608b220fcc15d87adb2cdbd0\": [{\"Tahun\": 2017, \"Kode\": 1, \"Data\": \"Kependudukan\", \"Kode Kategori\": 1.5, \"Kategori\": \"Kelompok Pendidikan\", \"Keterangan\": \"00-03 tahun\", \"N\": \"141\", \"Satuan\": \"Orang\"}, {\"Tahun\": 2017, \"Kode\": 1, \"Data\": \"Kependudukan\", \"Kode Kategori\": 1.5, \"Kategori\": \"Kelompok Pendidikan\", \"Keterangan\": \"04-06 tahun\", \"N\": \"111\", \"Satuan\": \"Orang\"}, {\"Tahun\": 2017, \"Kode\": 1, \"Data\": \"Kependudukan\", \"Kode Kategori\": 1.5, \"Kategori\": \"Kelompok Pendidikan\", \"Keterangan\": \"07-12 tahun\", \"N\": \"239\", \"Satuan\": \"Orang\"}, {\"Tahun\": 2017, \"Kode\": 1, \"Data\": \"Kependudukan\", \"Kode Kategori\": 1.5, \"Kategori\": \"Kelompok Pendidikan\", \"Keterangan\": \"13-15 tahun\", \"N\": \"112\", \"Satuan\": \"Orang\"}, {\"Tahun\": 2017, \"Kode\": 1, \"Data\": \"Kependudukan\", \"Kode Kategori\": 1.5, \"Kategori\": \"Kelompok Pendidikan\", \"Keterangan\": \"16-18 tahun\", \"N\": \"116\", \"Satuan\": \"Orang\"}, {\"Tahun\": 2017, \"Kode\": 1, \"Data\": \"Kependudukan\", \"Kode Kategori\": 1.5, \"Kategori\": \"Kelompok Pendidikan\", \"Keterangan\": \"19 tahu keatas\", \"N\": \"2420\", \"Satuan\": \"Orang\"}, {\"Tahun\": 2019, \"Kode\": 1, \"Data\": \"Kependudukan\", \"Kode Kategori\": 1.5, \"Kategori\": \"Kelompok Pendidikan\", \"Keterangan\": \"00-04 tahun\", \"N\": 170.0, \"Satuan\": \"Orang\"}, {\"Tahun\": 2019, \"Kode\": 1, \"Data\": \"Kependudukan\", \"Kode Kategori\": 1.5, \"Kategori\": \"Kelompok Pendidikan\", \"Keterangan\": \"05-09 tahun\", \"N\": 190.0, \"Satuan\": \"Orang\"}, {\"Tahun\": 2019, \"Kode\": 1, \"Data\": \"Kependudukan\", \"Kode Kategori\": 1.5, \"Kategori\": \"Kelompok Pendidikan\", \"Keterangan\": \"10-14 tahun\", \"N\": 187.0, \"Satuan\": \"Orang\"}, {\"Tahun\": 2019, \"Kode\": 1, \"Data\": \"Kependudukan\", \"Kode Kategori\": 1.5, \"Kategori\": \"Kelompok Pendidikan\", \"Keterangan\": \"15-19 tahun\", \"N\": 183.0, \"Satuan\": \"Orang\"}, {\"Tahun\": 2019, \"Kode\": 1, \"Data\": \"Kependudukan\", \"Kode Kategori\": 1.5, \"Kategori\": \"Kelompok Pendidikan\", \"Keterangan\": \"19 tahu keatas\", \"N\": 1936.0, \"Satuan\": \"Orang\"}]}}, {\"mode\": \"vega-lite\"});\n",
       "</script>"
      ],
      "text/plain": [
       "alt.Chart(...)"
      ]
     },
     "execution_count": 82,
     "metadata": {},
     "output_type": "execute_result"
    }
   ],
   "source": [
    "df_3 = data('Kelompok Pendidikan')\n",
    "plot_2(df_3,'Orang','Kelompok Pendidikan',300)"
   ]
  },
  {
   "cell_type": "markdown",
   "metadata": {},
   "source": [
    "<h2> Kelompok Usia Tenaga Kerja</h2>"
   ]
  },
  {
   "cell_type": "code",
   "execution_count": 83,
   "metadata": {},
   "outputs": [
    {
     "data": {
      "text/html": [
       "\n",
       "<div id=\"altair-viz-995e11f12e2f4eea9e0f008715c5c613\"></div>\n",
       "<script type=\"text/javascript\">\n",
       "  (function(spec, embedOpt){\n",
       "    let outputDiv = document.currentScript.previousElementSibling;\n",
       "    if (outputDiv.id !== \"altair-viz-995e11f12e2f4eea9e0f008715c5c613\") {\n",
       "      outputDiv = document.getElementById(\"altair-viz-995e11f12e2f4eea9e0f008715c5c613\");\n",
       "    }\n",
       "    const paths = {\n",
       "      \"vega\": \"https://cdn.jsdelivr.net/npm//vega@5?noext\",\n",
       "      \"vega-lib\": \"https://cdn.jsdelivr.net/npm//vega-lib?noext\",\n",
       "      \"vega-lite\": \"https://cdn.jsdelivr.net/npm//vega-lite@4.8.1?noext\",\n",
       "      \"vega-embed\": \"https://cdn.jsdelivr.net/npm//vega-embed@6?noext\",\n",
       "    };\n",
       "\n",
       "    function loadScript(lib) {\n",
       "      return new Promise(function(resolve, reject) {\n",
       "        var s = document.createElement('script');\n",
       "        s.src = paths[lib];\n",
       "        s.async = true;\n",
       "        s.onload = () => resolve(paths[lib]);\n",
       "        s.onerror = () => reject(`Error loading script: ${paths[lib]}`);\n",
       "        document.getElementsByTagName(\"head\")[0].appendChild(s);\n",
       "      });\n",
       "    }\n",
       "\n",
       "    function showError(err) {\n",
       "      outputDiv.innerHTML = `<div class=\"error\" style=\"color:red;\">${err}</div>`;\n",
       "      throw err;\n",
       "    }\n",
       "\n",
       "    function displayChart(vegaEmbed) {\n",
       "      vegaEmbed(outputDiv, spec, embedOpt)\n",
       "        .catch(err => showError(`Javascript Error: ${err.message}<br>This usually means there's a typo in your chart specification. See the javascript console for the full traceback.`));\n",
       "    }\n",
       "\n",
       "    if(typeof define === \"function\" && define.amd) {\n",
       "      requirejs.config({paths});\n",
       "      require([\"vega-embed\"], displayChart, err => showError(`Error loading script: ${err.message}`));\n",
       "    } else if (typeof vegaEmbed === \"function\") {\n",
       "      displayChart(vegaEmbed);\n",
       "    } else {\n",
       "      loadScript(\"vega\")\n",
       "        .then(() => loadScript(\"vega-lite\"))\n",
       "        .then(() => loadScript(\"vega-embed\"))\n",
       "        .catch(showError)\n",
       "        .then(() => displayChart(vegaEmbed));\n",
       "    }\n",
       "  })({\"config\": {\"view\": {\"continuousWidth\": 400, \"continuousHeight\": 300}}, \"data\": {\"name\": \"data-6d3ac26be3dd7f8b352474f53d988d1d\"}, \"mark\": {\"type\": \"bar\", \"opacity\": 0.8}, \"encoding\": {\"color\": {\"condition\": {\"type\": \"ordinal\", \"field\": \"Tahun\", \"selection\": \"selector119\"}, \"value\": \"lightgray\"}, \"column\": {\"type\": \"ordinal\", \"field\": \"Tahun\"}, \"tooltip\": [{\"type\": \"quantitative\", \"field\": \"Tahun\"}, {\"type\": \"nominal\", \"field\": \"Keterangan\"}, {\"type\": \"nominal\", \"field\": \"N\"}, {\"type\": \"nominal\", \"field\": \"Satuan\"}], \"x\": {\"type\": \"ordinal\", \"field\": \"Keterangan\", \"title\": \"Kelompok Tenaga Kerja\"}, \"y\": {\"type\": \"quantitative\", \"field\": \"N\", \"title\": \"Orang\"}}, \"resolve\": {\"scale\": {\"x\": \"independent\"}}, \"selection\": {\"selector119\": {\"type\": \"single\", \"encodings\": [\"x\", \"color\"]}, \"selector120\": {\"type\": \"interval\", \"bind\": \"scales\", \"encodings\": [\"x\", \"y\"]}}, \"width\": 300, \"$schema\": \"https://vega.github.io/schema/vega-lite/v4.8.1.json\", \"datasets\": {\"data-6d3ac26be3dd7f8b352474f53d988d1d\": [{\"Tahun\": 2017, \"Kode\": 1, \"Data\": \"Kependudukan\", \"Kode Kategori\": 1.6, \"Kategori\": \"Kelompok Tenaga Kerja\", \"Keterangan\": \"10-14 tahun\", \"N\": \"182\", \"Satuan\": \"Orang\"}, {\"Tahun\": 2017, \"Kode\": 1, \"Data\": \"Kependudukan\", \"Kode Kategori\": 1.6, \"Kategori\": \"Kelompok Tenaga Kerja\", \"Keterangan\": \"15-19 tahun\", \"N\": \"195\", \"Satuan\": \"Orang\"}, {\"Tahun\": 2017, \"Kode\": 1, \"Data\": \"Kependudukan\", \"Kode Kategori\": 1.6, \"Kategori\": \"Kelompok Tenaga Kerja\", \"Keterangan\": \"20-26 tahun\", \"N\": \"284\", \"Satuan\": \"Orang\"}, {\"Tahun\": 2017, \"Kode\": 1, \"Data\": \"Kependudukan\", \"Kode Kategori\": 1.6, \"Kategori\": \"Kelompok Tenaga Kerja\", \"Keterangan\": \"27-40 tahun\", \"N\": \"855\", \"Satuan\": \"Orang\"}, {\"Tahun\": 2017, \"Kode\": 1, \"Data\": \"Kependudukan\", \"Kode Kategori\": 1.6, \"Kategori\": \"Kelompok Tenaga Kerja\", \"Keterangan\": \"41-56 tahun\", \"N\": \"386\", \"Satuan\": \"Orang\"}, {\"Tahun\": 2017, \"Kode\": 1, \"Data\": \"Kependudukan\", \"Kode Kategori\": 1.6, \"Kategori\": \"Kelompok Tenaga Kerja\", \"Keterangan\": \"57 tahun keatas\", \"N\": \"276\", \"Satuan\": \"Orang\"}, {\"Tahun\": 2019, \"Kode\": 1, \"Data\": \"Kependudukan\", \"Kode Kategori\": 1.6, \"Kategori\": \"Kelompok Tenaga Kerja\", \"Keterangan\": \"20-24 tahun\", \"N\": 188.0, \"Satuan\": \"Orang\"}, {\"Tahun\": 2019, \"Kode\": 1, \"Data\": \"Kependudukan\", \"Kode Kategori\": 1.6, \"Kategori\": \"Kelompok Tenaga Kerja\", \"Keterangan\": \"25-29 tahun\", \"N\": 189.0, \"Satuan\": \"Orang\"}, {\"Tahun\": 2019, \"Kode\": 1, \"Data\": \"Kependudukan\", \"Kode Kategori\": 1.6, \"Kategori\": \"Kelompok Tenaga Kerja\", \"Keterangan\": \"30-34 tahun\", \"N\": 195.0, \"Satuan\": \"Orang\"}, {\"Tahun\": 2019, \"Kode\": 1, \"Data\": \"Kependudukan\", \"Kode Kategori\": 1.6, \"Kategori\": \"Kelompok Tenaga Kerja\", \"Keterangan\": \"35-39 tahun\", \"N\": 197.0, \"Satuan\": \"Orang\"}, {\"Tahun\": 2019, \"Kode\": 1, \"Data\": \"Kependudukan\", \"Kode Kategori\": 1.6, \"Kategori\": \"Kelompok Tenaga Kerja\", \"Keterangan\": \"40-54 tahun\", \"N\": 503.0, \"Satuan\": \"Orang\"}, {\"Tahun\": 2019, \"Kode\": 1, \"Data\": \"Kependudukan\", \"Kode Kategori\": 1.6, \"Kategori\": \"Kelompok Tenaga Kerja\", \"Keterangan\": \"55 tahun keatas\", \"N\": 664.0, \"Satuan\": \"Orang\"}]}}, {\"mode\": \"vega-lite\"});\n",
       "</script>"
      ],
      "text/plain": [
       "alt.Chart(...)"
      ]
     },
     "execution_count": 83,
     "metadata": {},
     "output_type": "execute_result"
    }
   ],
   "source": [
    "df_4 = data('Kelompok Tenaga Kerja')\n",
    "plot_2(df_4,'Orang','Kelompok Tenaga Kerja',300)"
   ]
  },
  {
   "cell_type": "markdown",
   "metadata": {},
   "source": [
    "<h2> Lulusan Pendidikan</h2>"
   ]
  },
  {
   "cell_type": "code",
   "execution_count": 84,
   "metadata": {},
   "outputs": [
    {
     "data": {
      "text/html": [
       "\n",
       "<div id=\"altair-viz-f04177a2ce2b47eaa4e6c4e894169862\"></div>\n",
       "<script type=\"text/javascript\">\n",
       "  (function(spec, embedOpt){\n",
       "    let outputDiv = document.currentScript.previousElementSibling;\n",
       "    if (outputDiv.id !== \"altair-viz-f04177a2ce2b47eaa4e6c4e894169862\") {\n",
       "      outputDiv = document.getElementById(\"altair-viz-f04177a2ce2b47eaa4e6c4e894169862\");\n",
       "    }\n",
       "    const paths = {\n",
       "      \"vega\": \"https://cdn.jsdelivr.net/npm//vega@5?noext\",\n",
       "      \"vega-lib\": \"https://cdn.jsdelivr.net/npm//vega-lib?noext\",\n",
       "      \"vega-lite\": \"https://cdn.jsdelivr.net/npm//vega-lite@4.8.1?noext\",\n",
       "      \"vega-embed\": \"https://cdn.jsdelivr.net/npm//vega-embed@6?noext\",\n",
       "    };\n",
       "\n",
       "    function loadScript(lib) {\n",
       "      return new Promise(function(resolve, reject) {\n",
       "        var s = document.createElement('script');\n",
       "        s.src = paths[lib];\n",
       "        s.async = true;\n",
       "        s.onload = () => resolve(paths[lib]);\n",
       "        s.onerror = () => reject(`Error loading script: ${paths[lib]}`);\n",
       "        document.getElementsByTagName(\"head\")[0].appendChild(s);\n",
       "      });\n",
       "    }\n",
       "\n",
       "    function showError(err) {\n",
       "      outputDiv.innerHTML = `<div class=\"error\" style=\"color:red;\">${err}</div>`;\n",
       "      throw err;\n",
       "    }\n",
       "\n",
       "    function displayChart(vegaEmbed) {\n",
       "      vegaEmbed(outputDiv, spec, embedOpt)\n",
       "        .catch(err => showError(`Javascript Error: ${err.message}<br>This usually means there's a typo in your chart specification. See the javascript console for the full traceback.`));\n",
       "    }\n",
       "\n",
       "    if(typeof define === \"function\" && define.amd) {\n",
       "      requirejs.config({paths});\n",
       "      require([\"vega-embed\"], displayChart, err => showError(`Error loading script: ${err.message}`));\n",
       "    } else if (typeof vegaEmbed === \"function\") {\n",
       "      displayChart(vegaEmbed);\n",
       "    } else {\n",
       "      loadScript(\"vega\")\n",
       "        .then(() => loadScript(\"vega-lite\"))\n",
       "        .then(() => loadScript(\"vega-embed\"))\n",
       "        .catch(showError)\n",
       "        .then(() => displayChart(vegaEmbed));\n",
       "    }\n",
       "  })({\"config\": {\"view\": {\"continuousWidth\": 400, \"continuousHeight\": 300}}, \"layer\": [{\"mark\": {\"type\": \"bar\", \"opacity\": 0.8}, \"encoding\": {\"color\": {\"condition\": {\"type\": \"ordinal\", \"field\": \"Tahun\", \"selection\": \"selector121\"}, \"value\": \"lightgray\"}, \"x\": {\"type\": \"quantitative\", \"field\": \"N\", \"stack\": \"normalize\", \"title\": \"Orang\"}, \"y\": {\"type\": \"ordinal\", \"field\": \"Keterangan\", \"title\": \"Tingkat Pendidikan\"}}, \"selection\": {\"selector121\": {\"type\": \"single\", \"encodings\": [\"x\", \"color\"]}}}, {\"mark\": {\"type\": \"text\", \"color\": \"white\", \"dx\": -18, \"dy\": 3}, \"encoding\": {\"detail\": {\"type\": \"ordinal\", \"field\": \"Tahun\"}, \"text\": {\"type\": \"ordinal\", \"field\": \"N\"}, \"tooltip\": [{\"type\": \"quantitative\", \"field\": \"Tahun\"}, {\"type\": \"nominal\", \"field\": \"Keterangan\"}, {\"type\": \"nominal\", \"field\": \"N\"}, {\"type\": \"nominal\", \"field\": \"Satuan\"}], \"x\": {\"type\": \"quantitative\", \"field\": \"N\", \"stack\": \"normalize\"}, \"y\": {\"type\": \"ordinal\", \"field\": \"Keterangan\"}}, \"selection\": {\"selector122\": {\"type\": \"interval\", \"bind\": \"scales\", \"encodings\": [\"x\", \"y\"]}}}], \"data\": {\"name\": \"data-7d40e4d1a9b30cab6972cd2fbc2a2adf\"}, \"width\": 600, \"$schema\": \"https://vega.github.io/schema/vega-lite/v4.8.1.json\", \"datasets\": {\"data-7d40e4d1a9b30cab6972cd2fbc2a2adf\": [{\"Tahun\": 2017, \"Kode\": 1, \"Data\": \"Kependudukan\", \"Kode Kategori\": 1.7, \"Kategori\": \"Penduduk menurut Tingkat Pendidikan\", \"Keterangan\": \"Taman Kanak-kanak\", \"N\": \"93\", \"Satuan\": \"Orang\"}, {\"Tahun\": 2017, \"Kode\": 1, \"Data\": \"Kependudukan\", \"Kode Kategori\": 1.7, \"Kategori\": \"Penduduk menurut Tingkat Pendidikan\", \"Keterangan\": \"Sekolah Dasar\", \"N\": \"811\", \"Satuan\": \"Orang\"}, {\"Tahun\": 2017, \"Kode\": 1, \"Data\": \"Kependudukan\", \"Kode Kategori\": 1.7, \"Kategori\": \"Penduduk menurut Tingkat Pendidikan\", \"Keterangan\": \"SMP/SLTP\", \"N\": \"640\", \"Satuan\": \"Orang\"}, {\"Tahun\": 2017, \"Kode\": 1, \"Data\": \"Kependudukan\", \"Kode Kategori\": 1.7, \"Kategori\": \"Penduduk menurut Tingkat Pendidikan\", \"Keterangan\": \"SMA/SLTA\", \"N\": \"602\", \"Satuan\": \"Orang\"}, {\"Tahun\": 2017, \"Kode\": 1, \"Data\": \"Kependudukan\", \"Kode Kategori\": 1.7, \"Kategori\": \"Penduduk menurut Tingkat Pendidikan\", \"Keterangan\": \"Akademi (DI-D3)\", \"N\": \"35\", \"Satuan\": \"Orang\"}, {\"Tahun\": 2017, \"Kode\": 1, \"Data\": \"Kependudukan\", \"Kode Kategori\": 1.7, \"Kategori\": \"Penduduk menurut Tingkat Pendidikan\", \"Keterangan\": \"Sarjana (S1-S3)\", \"N\": \"8\", \"Satuan\": \"Orang\"}, {\"Tahun\": 2017, \"Kode\": 1, \"Data\": \"Kependudukan\", \"Kode Kategori\": 1.7, \"Kategori\": \"Penduduk menurut Tingkat Pendidikan\", \"Keterangan\": \"Sekolah Luar Biasa\", \"N\": \"3\", \"Satuan\": \"Orang\"}, {\"Tahun\": 2019, \"Kode\": 1, \"Data\": \"Kependudukan\", \"Kode Kategori\": 1.7, \"Kategori\": \"Penduduk menurut Tingkat Pendidikan\", \"Keterangan\": \"Taman Kanak-kanak\", \"N\": 237.0, \"Satuan\": \"Orang\"}, {\"Tahun\": 2019, \"Kode\": 1, \"Data\": \"Kependudukan\", \"Kode Kategori\": 1.7, \"Kategori\": \"Penduduk menurut Tingkat Pendidikan\", \"Keterangan\": \"Sekolah Dasar\", \"N\": 722.0, \"Satuan\": \"Orang\"}, {\"Tahun\": 2019, \"Kode\": 1, \"Data\": \"Kependudukan\", \"Kode Kategori\": 1.7, \"Kategori\": \"Penduduk menurut Tingkat Pendidikan\", \"Keterangan\": \"SMP/SLTP\", \"N\": 426.0, \"Satuan\": \"Orang\"}, {\"Tahun\": 2019, \"Kode\": 1, \"Data\": \"Kependudukan\", \"Kode Kategori\": 1.7, \"Kategori\": \"Penduduk menurut Tingkat Pendidikan\", \"Keterangan\": \"SMA/SLTA\", \"N\": 641.0, \"Satuan\": \"Orang\"}, {\"Tahun\": 2019, \"Kode\": 1, \"Data\": \"Kependudukan\", \"Kode Kategori\": 1.7, \"Kategori\": \"Penduduk menurut Tingkat Pendidikan\", \"Keterangan\": \"Akademi (DI-D3)\", \"N\": 26.0, \"Satuan\": \"Orang\"}, {\"Tahun\": 2019, \"Kode\": 1, \"Data\": \"Kependudukan\", \"Kode Kategori\": 1.7, \"Kategori\": \"Penduduk menurut Tingkat Pendidikan\", \"Keterangan\": \"Sarjana (S1-S3)\", \"N\": 54.0, \"Satuan\": \"Orang\"}, {\"Tahun\": 2019, \"Kode\": 1, \"Data\": \"Kependudukan\", \"Kode Kategori\": 1.7, \"Kategori\": \"Penduduk menurut Tingkat Pendidikan\", \"Keterangan\": \"Sekolah Luar Biasa\", \"N\": null, \"Satuan\": \"Orang\"}]}}, {\"mode\": \"vega-lite\"});\n",
       "</script>"
      ],
      "text/plain": [
       "alt.LayerChart(...)"
      ]
     },
     "execution_count": 84,
     "metadata": {},
     "output_type": "execute_result"
    }
   ],
   "source": [
    "df_5 = data('Penduduk menurut Tingkat Pendidikan')\n",
    "plot_1(df_5,'Orang','Tingkat Pendidikan',600)"
   ]
  },
  {
   "cell_type": "markdown",
   "metadata": {},
   "source": [
    "<h2> Kependudukan Berdasarkan Mata Pencaharian</h2>"
   ]
  },
  {
   "cell_type": "code",
   "execution_count": 85,
   "metadata": {},
   "outputs": [
    {
     "data": {
      "text/html": [
       "\n",
       "<div id=\"altair-viz-a494c974111e4433a1741afa06217c59\"></div>\n",
       "<script type=\"text/javascript\">\n",
       "  (function(spec, embedOpt){\n",
       "    let outputDiv = document.currentScript.previousElementSibling;\n",
       "    if (outputDiv.id !== \"altair-viz-a494c974111e4433a1741afa06217c59\") {\n",
       "      outputDiv = document.getElementById(\"altair-viz-a494c974111e4433a1741afa06217c59\");\n",
       "    }\n",
       "    const paths = {\n",
       "      \"vega\": \"https://cdn.jsdelivr.net/npm//vega@5?noext\",\n",
       "      \"vega-lib\": \"https://cdn.jsdelivr.net/npm//vega-lib?noext\",\n",
       "      \"vega-lite\": \"https://cdn.jsdelivr.net/npm//vega-lite@4.8.1?noext\",\n",
       "      \"vega-embed\": \"https://cdn.jsdelivr.net/npm//vega-embed@6?noext\",\n",
       "    };\n",
       "\n",
       "    function loadScript(lib) {\n",
       "      return new Promise(function(resolve, reject) {\n",
       "        var s = document.createElement('script');\n",
       "        s.src = paths[lib];\n",
       "        s.async = true;\n",
       "        s.onload = () => resolve(paths[lib]);\n",
       "        s.onerror = () => reject(`Error loading script: ${paths[lib]}`);\n",
       "        document.getElementsByTagName(\"head\")[0].appendChild(s);\n",
       "      });\n",
       "    }\n",
       "\n",
       "    function showError(err) {\n",
       "      outputDiv.innerHTML = `<div class=\"error\" style=\"color:red;\">${err}</div>`;\n",
       "      throw err;\n",
       "    }\n",
       "\n",
       "    function displayChart(vegaEmbed) {\n",
       "      vegaEmbed(outputDiv, spec, embedOpt)\n",
       "        .catch(err => showError(`Javascript Error: ${err.message}<br>This usually means there's a typo in your chart specification. See the javascript console for the full traceback.`));\n",
       "    }\n",
       "\n",
       "    if(typeof define === \"function\" && define.amd) {\n",
       "      requirejs.config({paths});\n",
       "      require([\"vega-embed\"], displayChart, err => showError(`Error loading script: ${err.message}`));\n",
       "    } else if (typeof vegaEmbed === \"function\") {\n",
       "      displayChart(vegaEmbed);\n",
       "    } else {\n",
       "      loadScript(\"vega\")\n",
       "        .then(() => loadScript(\"vega-lite\"))\n",
       "        .then(() => loadScript(\"vega-embed\"))\n",
       "        .catch(showError)\n",
       "        .then(() => displayChart(vegaEmbed));\n",
       "    }\n",
       "  })({\"config\": {\"view\": {\"continuousWidth\": 400, \"continuousHeight\": 300}}, \"data\": {\"name\": \"data-7893fa52b3da6e1dd5db8441183faf52\"}, \"mark\": {\"type\": \"bar\", \"opacity\": 0.8}, \"encoding\": {\"color\": {\"condition\": {\"type\": \"ordinal\", \"field\": \"Tahun\", \"selection\": \"selector123\"}, \"value\": \"lightgray\"}, \"column\": {\"type\": \"ordinal\", \"field\": \"Tahun\"}, \"tooltip\": [{\"type\": \"quantitative\", \"field\": \"Tahun\"}, {\"type\": \"nominal\", \"field\": \"Keterangan\"}, {\"type\": \"nominal\", \"field\": \"N\"}, {\"type\": \"nominal\", \"field\": \"Satuan\"}], \"x\": {\"type\": \"ordinal\", \"field\": \"Keterangan\", \"title\": \"Mata Pencaharian\"}, \"y\": {\"type\": \"quantitative\", \"field\": \"N\", \"title\": \"Orang\"}}, \"resolve\": {\"scale\": {\"x\": \"independent\"}}, \"selection\": {\"selector123\": {\"type\": \"single\", \"encodings\": [\"x\", \"color\"]}, \"selector124\": {\"type\": \"interval\", \"bind\": \"scales\", \"encodings\": [\"x\", \"y\"]}}, \"width\": 300, \"$schema\": \"https://vega.github.io/schema/vega-lite/v4.8.1.json\", \"datasets\": {\"data-7893fa52b3da6e1dd5db8441183faf52\": [{\"Tahun\": 2017, \"Kode\": 1, \"Data\": \"Kependudukan\", \"Kode Kategori\": 1.8, \"Kategori\": \"Penduduk menurut Mata Pencaharian\", \"Keterangan\": \"PNS\", \"N\": \"10\", \"Satuan\": \"Orang\"}, {\"Tahun\": 2017, \"Kode\": 1, \"Data\": \"Kependudukan\", \"Kode Kategori\": 1.8, \"Kategori\": \"Penduduk menurut Mata Pencaharian\", \"Keterangan\": \"ABRI\", \"N\": \"2\", \"Satuan\": \"Orang\"}, {\"Tahun\": 2017, \"Kode\": 1, \"Data\": \"Kependudukan\", \"Kode Kategori\": 1.8, \"Kategori\": \"Penduduk menurut Mata Pencaharian\", \"Keterangan\": \"Karyawan Swasta\", \"N\": \"48\", \"Satuan\": \"Orang\"}, {\"Tahun\": 2017, \"Kode\": 1, \"Data\": \"Kependudukan\", \"Kode Kategori\": 1.8, \"Kategori\": \"Penduduk menurut Mata Pencaharian\", \"Keterangan\": \"Wiraswasta/Pedagang\", \"N\": \"125\", \"Satuan\": \"Orang\"}, {\"Tahun\": 2017, \"Kode\": 1, \"Data\": \"Kependudukan\", \"Kode Kategori\": 1.8, \"Kategori\": \"Penduduk menurut Mata Pencaharian\", \"Keterangan\": \"Tani\", \"N\": \"195\", \"Satuan\": \"Orang\"}, {\"Tahun\": 2017, \"Kode\": 1, \"Data\": \"Kependudukan\", \"Kode Kategori\": 1.8, \"Kategori\": \"Penduduk menurut Mata Pencaharian\", \"Keterangan\": \"Pertukangan\", \"N\": \"58\", \"Satuan\": \"Orang\"}, {\"Tahun\": 2017, \"Kode\": 1, \"Data\": \"Kependudukan\", \"Kode Kategori\": 1.8, \"Kategori\": \"Penduduk menurut Mata Pencaharian\", \"Keterangan\": \"Buruh Tani\", \"N\": \"254\", \"Satuan\": \"Orang\"}, {\"Tahun\": 2017, \"Kode\": 1, \"Data\": \"Kependudukan\", \"Kode Kategori\": 1.8, \"Kategori\": \"Penduduk menurut Mata Pencaharian\", \"Keterangan\": \"Pensiunan\", \"N\": \"14\", \"Satuan\": \"Orang\"}, {\"Tahun\": 2017, \"Kode\": 1, \"Data\": \"Kependudukan\", \"Kode Kategori\": 1.8, \"Kategori\": \"Penduduk menurut Mata Pencaharian\", \"Keterangan\": \"Nelayan\", \"N\": null, \"Satuan\": \"Orang\"}, {\"Tahun\": 2017, \"Kode\": 1, \"Data\": \"Kependudukan\", \"Kode Kategori\": 1.8, \"Kategori\": \"Penduduk menurut Mata Pencaharian\", \"Keterangan\": \"Pemulung\", \"N\": \"2\", \"Satuan\": \"Orang\"}, {\"Tahun\": 2017, \"Kode\": 1, \"Data\": \"Kependudukan\", \"Kode Kategori\": 1.8, \"Kategori\": \"Penduduk menurut Mata Pencaharian\", \"Keterangan\": \"Jasa\", \"N\": \"4\", \"Satuan\": \"Orang\"}, {\"Tahun\": 2019, \"Kode\": 1, \"Data\": \"Kependudukan\", \"Kode Kategori\": 1.8, \"Kategori\": \"Penduduk menurut Mata Pencaharian\", \"Keterangan\": \"PNS\", \"N\": 16.0, \"Satuan\": \"Orang\"}, {\"Tahun\": 2019, \"Kode\": 1, \"Data\": \"Kependudukan\", \"Kode Kategori\": 1.8, \"Kategori\": \"Penduduk menurut Mata Pencaharian\", \"Keterangan\": \"ABRI\", \"N\": 2.0, \"Satuan\": \"Orang\"}, {\"Tahun\": 2019, \"Kode\": 1, \"Data\": \"Kependudukan\", \"Kode Kategori\": 1.8, \"Kategori\": \"Penduduk menurut Mata Pencaharian\", \"Keterangan\": \"Karyawan Swasta\", \"N\": 195.0, \"Satuan\": \"Orang\"}, {\"Tahun\": 2019, \"Kode\": 1, \"Data\": \"Kependudukan\", \"Kode Kategori\": 1.8, \"Kategori\": \"Penduduk menurut Mata Pencaharian\", \"Keterangan\": \"Wiraswasta/Pedagang\", \"N\": 100.0, \"Satuan\": \"Orang\"}, {\"Tahun\": 2019, \"Kode\": 1, \"Data\": \"Kependudukan\", \"Kode Kategori\": 1.8, \"Kategori\": \"Penduduk menurut Mata Pencaharian\", \"Keterangan\": \"Tani\", \"N\": 9.0, \"Satuan\": \"Orang\"}, {\"Tahun\": 2019, \"Kode\": 1, \"Data\": \"Kependudukan\", \"Kode Kategori\": 1.8, \"Kategori\": \"Penduduk menurut Mata Pencaharian\", \"Keterangan\": \"Pertukangan\", \"N\": 5.0, \"Satuan\": \"Orang\"}, {\"Tahun\": 2019, \"Kode\": 1, \"Data\": \"Kependudukan\", \"Kode Kategori\": 1.8, \"Kategori\": \"Penduduk menurut Mata Pencaharian\", \"Keterangan\": \"Buruh Tani\", \"N\": 19.0, \"Satuan\": \"Orang\"}, {\"Tahun\": 2019, \"Kode\": 1, \"Data\": \"Kependudukan\", \"Kode Kategori\": 1.8, \"Kategori\": \"Penduduk menurut Mata Pencaharian\", \"Keterangan\": \"Pensiunan\", \"N\": 15.0, \"Satuan\": \"Orang\"}, {\"Tahun\": 2019, \"Kode\": 1, \"Data\": \"Kependudukan\", \"Kode Kategori\": 1.8, \"Kategori\": \"Penduduk menurut Mata Pencaharian\", \"Keterangan\": \"Nelayan\", \"N\": 2.0, \"Satuan\": \"Orang\"}, {\"Tahun\": 2019, \"Kode\": 1, \"Data\": \"Kependudukan\", \"Kode Kategori\": 1.8, \"Kategori\": \"Penduduk menurut Mata Pencaharian\", \"Keterangan\": \"Pemulung\", \"N\": 2.0, \"Satuan\": \"Orang\"}, {\"Tahun\": 2019, \"Kode\": 1, \"Data\": \"Kependudukan\", \"Kode Kategori\": 1.8, \"Kategori\": \"Penduduk menurut Mata Pencaharian\", \"Keterangan\": \"BUMN\", \"N\": 2.0, \"Satuan\": \"Orang\"}, {\"Tahun\": 2019, \"Kode\": 1, \"Data\": \"Kependudukan\", \"Kode Kategori\": 1.8, \"Kategori\": \"Penduduk menurut Mata Pencaharian\", \"Keterangan\": \"Honorer\", \"N\": 2.0, \"Satuan\": \"Orang\"}, {\"Tahun\": 2019, \"Kode\": 1, \"Data\": \"Kependudukan\", \"Kode Kategori\": 1.8, \"Kategori\": \"Penduduk menurut Mata Pencaharian\", \"Keterangan\": \"Guru\", \"N\": 5.0, \"Satuan\": \"Orang\"}, {\"Tahun\": 2019, \"Kode\": 1, \"Data\": \"Kependudukan\", \"Kode Kategori\": 1.8, \"Kategori\": \"Penduduk menurut Mata Pencaharian\", \"Keterangan\": \"Bidan\", \"N\": 1.0, \"Satuan\": \"Orang\"}, {\"Tahun\": 2019, \"Kode\": 1, \"Data\": \"Kependudukan\", \"Kode Kategori\": 1.8, \"Kategori\": \"Penduduk menurut Mata Pencaharian\", \"Keterangan\": \"Perawat\", \"N\": 2.0, \"Satuan\": \"Orang\"}, {\"Tahun\": 2019, \"Kode\": 1, \"Data\": \"Kependudukan\", \"Kode Kategori\": 1.8, \"Kategori\": \"Penduduk menurut Mata Pencaharian\", \"Keterangan\": \"Pendeta\", \"N\": 2.0, \"Satuan\": \"Orang\"}, {\"Tahun\": 2019, \"Kode\": 1, \"Data\": \"Kependudukan\", \"Kode Kategori\": 1.8, \"Kategori\": \"Penduduk menurut Mata Pencaharian\", \"Keterangan\": \"Seniman\", \"N\": 2.0, \"Satuan\": \"Orang\"}, {\"Tahun\": 2019, \"Kode\": 1, \"Data\": \"Kependudukan\", \"Kode Kategori\": 1.8, \"Kategori\": \"Penduduk menurut Mata Pencaharian\", \"Keterangan\": \"Mekanik\", \"N\": 2.0, \"Satuan\": \"Orang\"}, {\"Tahun\": 2019, \"Kode\": 1, \"Data\": \"Kependudukan\", \"Kode Kategori\": 1.8, \"Kategori\": \"Penduduk menurut Mata Pencaharian\", \"Keterangan\": \"Kepala Desa\", \"N\": 1.0, \"Satuan\": \"Orang\"}, {\"Tahun\": 2019, \"Kode\": 1, \"Data\": \"Kependudukan\", \"Kode Kategori\": 1.8, \"Kategori\": \"Penduduk menurut Mata Pencaharian\", \"Keterangan\": \"Perangkat Desa\", \"N\": 6.0, \"Satuan\": \"Orang\"}, {\"Tahun\": 2019, \"Kode\": 1, \"Data\": \"Kependudukan\", \"Kode Kategori\": 1.8, \"Kategori\": \"Penduduk menurut Mata Pencaharian\", \"Keterangan\": \"Lainnya\", \"N\": 44.0, \"Satuan\": \"Orang\"}]}}, {\"mode\": \"vega-lite\"});\n",
       "</script>"
      ],
      "text/plain": [
       "alt.Chart(...)"
      ]
     },
     "execution_count": 85,
     "metadata": {},
     "output_type": "execute_result"
    }
   ],
   "source": [
    "df_6 = data('Penduduk menurut Mata Pencaharian')\n",
    "plot_2(df_6,'Orang','Mata Pencaharian',300)"
   ]
  },
  {
   "cell_type": "markdown",
   "metadata": {},
   "source": [
    "<h2> Kependudukan Berdasarkan Penyandang Tuna</h2>"
   ]
  },
  {
   "cell_type": "code",
   "execution_count": 86,
   "metadata": {},
   "outputs": [
    {
     "data": {
      "text/html": [
       "\n",
       "<div id=\"altair-viz-a77d3de67c014e65adfb24aaa0999bc6\"></div>\n",
       "<script type=\"text/javascript\">\n",
       "  (function(spec, embedOpt){\n",
       "    let outputDiv = document.currentScript.previousElementSibling;\n",
       "    if (outputDiv.id !== \"altair-viz-a77d3de67c014e65adfb24aaa0999bc6\") {\n",
       "      outputDiv = document.getElementById(\"altair-viz-a77d3de67c014e65adfb24aaa0999bc6\");\n",
       "    }\n",
       "    const paths = {\n",
       "      \"vega\": \"https://cdn.jsdelivr.net/npm//vega@5?noext\",\n",
       "      \"vega-lib\": \"https://cdn.jsdelivr.net/npm//vega-lib?noext\",\n",
       "      \"vega-lite\": \"https://cdn.jsdelivr.net/npm//vega-lite@4.8.1?noext\",\n",
       "      \"vega-embed\": \"https://cdn.jsdelivr.net/npm//vega-embed@6?noext\",\n",
       "    };\n",
       "\n",
       "    function loadScript(lib) {\n",
       "      return new Promise(function(resolve, reject) {\n",
       "        var s = document.createElement('script');\n",
       "        s.src = paths[lib];\n",
       "        s.async = true;\n",
       "        s.onload = () => resolve(paths[lib]);\n",
       "        s.onerror = () => reject(`Error loading script: ${paths[lib]}`);\n",
       "        document.getElementsByTagName(\"head\")[0].appendChild(s);\n",
       "      });\n",
       "    }\n",
       "\n",
       "    function showError(err) {\n",
       "      outputDiv.innerHTML = `<div class=\"error\" style=\"color:red;\">${err}</div>`;\n",
       "      throw err;\n",
       "    }\n",
       "\n",
       "    function displayChart(vegaEmbed) {\n",
       "      vegaEmbed(outputDiv, spec, embedOpt)\n",
       "        .catch(err => showError(`Javascript Error: ${err.message}<br>This usually means there's a typo in your chart specification. See the javascript console for the full traceback.`));\n",
       "    }\n",
       "\n",
       "    if(typeof define === \"function\" && define.amd) {\n",
       "      requirejs.config({paths});\n",
       "      require([\"vega-embed\"], displayChart, err => showError(`Error loading script: ${err.message}`));\n",
       "    } else if (typeof vegaEmbed === \"function\") {\n",
       "      displayChart(vegaEmbed);\n",
       "    } else {\n",
       "      loadScript(\"vega\")\n",
       "        .then(() => loadScript(\"vega-lite\"))\n",
       "        .then(() => loadScript(\"vega-embed\"))\n",
       "        .catch(showError)\n",
       "        .then(() => displayChart(vegaEmbed));\n",
       "    }\n",
       "  })({\"config\": {\"view\": {\"continuousWidth\": 400, \"continuousHeight\": 300}}, \"data\": {\"name\": \"data-127ffeeba4878a723f82772a1817ed0a\"}, \"mark\": {\"type\": \"bar\", \"opacity\": 0.8}, \"encoding\": {\"color\": {\"condition\": {\"type\": \"ordinal\", \"field\": \"Tahun\", \"selection\": \"selector125\"}, \"value\": \"lightgray\"}, \"column\": {\"type\": \"ordinal\", \"field\": \"Tahun\"}, \"tooltip\": [{\"type\": \"quantitative\", \"field\": \"Tahun\"}, {\"type\": \"nominal\", \"field\": \"Keterangan\"}, {\"type\": \"nominal\", \"field\": \"N\"}, {\"type\": \"nominal\", \"field\": \"Satuan\"}], \"x\": {\"type\": \"ordinal\", \"field\": \"Keterangan\", \"title\": \"Penyandang Tuna\"}, \"y\": {\"type\": \"quantitative\", \"field\": \"N\", \"title\": \"Orang\"}}, \"resolve\": {\"scale\": {\"x\": \"independent\"}}, \"selection\": {\"selector125\": {\"type\": \"single\", \"encodings\": [\"x\", \"color\"]}, \"selector126\": {\"type\": \"interval\", \"bind\": \"scales\", \"encodings\": [\"x\", \"y\"]}}, \"width\": 200, \"$schema\": \"https://vega.github.io/schema/vega-lite/v4.8.1.json\", \"datasets\": {\"data-127ffeeba4878a723f82772a1817ed0a\": [{\"Tahun\": 2017, \"Kode\": 1, \"Data\": \"Kependudukan\", \"Kode Kategori\": 1.9, \"Kategori\": \"Penyandang Tuna\", \"Keterangan\": \"Tuna Netra\", \"N\": \"4\", \"Satuan\": \"Orang\"}, {\"Tahun\": 2017, \"Kode\": 1, \"Data\": \"Kependudukan\", \"Kode Kategori\": 1.9, \"Kategori\": \"Penyandang Tuna\", \"Keterangan\": \"Tuna Rungu\", \"N\": \"3\", \"Satuan\": \"Orang\"}, {\"Tahun\": 2017, \"Kode\": 1, \"Data\": \"Kependudukan\", \"Kode Kategori\": 1.9, \"Kategori\": \"Penyandang Tuna\", \"Keterangan\": \"Tuna Grahita\", \"N\": null, \"Satuan\": \"Orang\"}, {\"Tahun\": 2017, \"Kode\": 1, \"Data\": \"Kependudukan\", \"Kode Kategori\": 1.9, \"Kategori\": \"Penyandang Tuna\", \"Keterangan\": \"Tuna Daksa\", \"N\": \"3\", \"Satuan\": \"Orang\"}, {\"Tahun\": 2017, \"Kode\": 1, \"Data\": \"Kependudukan\", \"Kode Kategori\": 1.9, \"Kategori\": \"Penyandang Tuna\", \"Keterangan\": \"Tuna Susila\", \"N\": null, \"Satuan\": \"Orang\"}, {\"Tahun\": 2019, \"Kode\": 1, \"Data\": \"Kependudukan\", \"Kode Kategori\": 1.9, \"Kategori\": \"Penyandang Tuna\", \"Keterangan\": \"Tuna Netra\", \"N\": 4.0, \"Satuan\": \"Orang\"}, {\"Tahun\": 2019, \"Kode\": 1, \"Data\": \"Kependudukan\", \"Kode Kategori\": 1.9, \"Kategori\": \"Penyandang Tuna\", \"Keterangan\": \"Tuna Rungu\", \"N\": 3.0, \"Satuan\": \"Orang\"}, {\"Tahun\": 2019, \"Kode\": 1, \"Data\": \"Kependudukan\", \"Kode Kategori\": 1.9, \"Kategori\": \"Penyandang Tuna\", \"Keterangan\": \"Tuna Grahita\", \"N\": null, \"Satuan\": \"Orang\"}, {\"Tahun\": 2019, \"Kode\": 1, \"Data\": \"Kependudukan\", \"Kode Kategori\": 1.9, \"Kategori\": \"Penyandang Tuna\", \"Keterangan\": \"Tuna Daksa\", \"N\": 3.0, \"Satuan\": \"Orang\"}, {\"Tahun\": 2019, \"Kode\": 1, \"Data\": \"Kependudukan\", \"Kode Kategori\": 1.9, \"Kategori\": \"Penyandang Tuna\", \"Keterangan\": \"Tuna Susila\", \"N\": null, \"Satuan\": \"Orang\"}, {\"Tahun\": 2019, \"Kode\": 1, \"Data\": \"Kependudukan\", \"Kode Kategori\": 1.9, \"Kategori\": \"Penyandang Tuna\", \"Keterangan\": \"Tuna Wisma\", \"N\": 1.0, \"Satuan\": \"Orang\"}, {\"Tahun\": 2019, \"Kode\": 1, \"Data\": \"Kependudukan\", \"Kode Kategori\": 1.9, \"Kategori\": \"Penyandang Tuna\", \"Keterangan\": \"Tuna Wicara\", \"N\": 3.0, \"Satuan\": \"Orang\"}]}}, {\"mode\": \"vega-lite\"});\n",
       "</script>"
      ],
      "text/plain": [
       "alt.Chart(...)"
      ]
     },
     "execution_count": 86,
     "metadata": {},
     "output_type": "execute_result"
    }
   ],
   "source": [
    "df_7 = data('Penyandang Tuna')\n",
    "plot_2(df_7,'Orang','Penyandang Tuna',200)"
   ]
  },
  {
   "cell_type": "markdown",
   "metadata": {},
   "source": [
    "<h2> Kependudukan Berdasarkan Status Pernikahan</h2>"
   ]
  },
  {
   "cell_type": "code",
   "execution_count": 101,
   "metadata": {},
   "outputs": [
    {
     "data": {
      "text/html": [
       "\n",
       "<div id=\"altair-viz-1ef853a6755744d782f72c8fabdb3ff4\"></div>\n",
       "<script type=\"text/javascript\">\n",
       "  (function(spec, embedOpt){\n",
       "    let outputDiv = document.currentScript.previousElementSibling;\n",
       "    if (outputDiv.id !== \"altair-viz-1ef853a6755744d782f72c8fabdb3ff4\") {\n",
       "      outputDiv = document.getElementById(\"altair-viz-1ef853a6755744d782f72c8fabdb3ff4\");\n",
       "    }\n",
       "    const paths = {\n",
       "      \"vega\": \"https://cdn.jsdelivr.net/npm//vega@5?noext\",\n",
       "      \"vega-lib\": \"https://cdn.jsdelivr.net/npm//vega-lib?noext\",\n",
       "      \"vega-lite\": \"https://cdn.jsdelivr.net/npm//vega-lite@4.8.1?noext\",\n",
       "      \"vega-embed\": \"https://cdn.jsdelivr.net/npm//vega-embed@6?noext\",\n",
       "    };\n",
       "\n",
       "    function loadScript(lib) {\n",
       "      return new Promise(function(resolve, reject) {\n",
       "        var s = document.createElement('script');\n",
       "        s.src = paths[lib];\n",
       "        s.async = true;\n",
       "        s.onload = () => resolve(paths[lib]);\n",
       "        s.onerror = () => reject(`Error loading script: ${paths[lib]}`);\n",
       "        document.getElementsByTagName(\"head\")[0].appendChild(s);\n",
       "      });\n",
       "    }\n",
       "\n",
       "    function showError(err) {\n",
       "      outputDiv.innerHTML = `<div class=\"error\" style=\"color:red;\">${err}</div>`;\n",
       "      throw err;\n",
       "    }\n",
       "\n",
       "    function displayChart(vegaEmbed) {\n",
       "      vegaEmbed(outputDiv, spec, embedOpt)\n",
       "        .catch(err => showError(`Javascript Error: ${err.message}<br>This usually means there's a typo in your chart specification. See the javascript console for the full traceback.`));\n",
       "    }\n",
       "\n",
       "    if(typeof define === \"function\" && define.amd) {\n",
       "      requirejs.config({paths});\n",
       "      require([\"vega-embed\"], displayChart, err => showError(`Error loading script: ${err.message}`));\n",
       "    } else if (typeof vegaEmbed === \"function\") {\n",
       "      displayChart(vegaEmbed);\n",
       "    } else {\n",
       "      loadScript(\"vega\")\n",
       "        .then(() => loadScript(\"vega-lite\"))\n",
       "        .then(() => loadScript(\"vega-embed\"))\n",
       "        .catch(showError)\n",
       "        .then(() => displayChart(vegaEmbed));\n",
       "    }\n",
       "  })({\"config\": {\"view\": {\"continuousWidth\": 400, \"continuousHeight\": 300}}, \"data\": {\"name\": \"data-ad8b07959a626ac1ccee041f111d1f9f\"}, \"mark\": {\"type\": \"bar\", \"opacity\": 0.8}, \"encoding\": {\"color\": {\"condition\": {\"type\": \"ordinal\", \"field\": \"Tahun\", \"selection\": \"selector149\"}, \"value\": \"lightgray\"}, \"column\": {\"type\": \"ordinal\", \"field\": \"Tahun\"}, \"tooltip\": [{\"type\": \"quantitative\", \"field\": \"Tahun\"}, {\"type\": \"nominal\", \"field\": \"Keterangan\"}, {\"type\": \"nominal\", \"field\": \"N\"}, {\"type\": \"nominal\", \"field\": \"Satuan\"}], \"x\": {\"type\": \"ordinal\", \"field\": \"Keterangan\", \"title\": \"Status Pernikahan\"}, \"y\": {\"type\": \"quantitative\", \"field\": \"N\", \"title\": \"Orang\"}}, \"resolve\": {\"scale\": {\"x\": \"independent\"}}, \"selection\": {\"selector149\": {\"type\": \"single\", \"encodings\": [\"x\", \"color\"]}, \"selector150\": {\"type\": \"interval\", \"bind\": \"scales\", \"encodings\": [\"x\", \"y\"]}}, \"width\": 200, \"$schema\": \"https://vega.github.io/schema/vega-lite/v4.8.1.json\", \"datasets\": {\"data-ad8b07959a626ac1ccee041f111d1f9f\": [{\"Tahun\": 2017, \"Kode\": 1, \"Data\": \"Kependudukan\", \"Kode Kategori\": 1.11, \"Kategori\": \"Status Pernikahan\", \"Keterangan\": \"Nikah\", \"N\": \"36\", \"Satuan\": \"Orang\"}, {\"Tahun\": 2017, \"Kode\": 1, \"Data\": \"Kependudukan\", \"Kode Kategori\": 1.11, \"Kategori\": \"Status Pernikahan\", \"Keterangan\": \"Talak\", \"N\": null, \"Satuan\": \"Orang\"}, {\"Tahun\": 2017, \"Kode\": 1, \"Data\": \"Kependudukan\", \"Kode Kategori\": 1.11, \"Kategori\": \"Status Pernikahan\", \"Keterangan\": \"Cerai\", \"N\": \"1\", \"Satuan\": \"Orang\"}, {\"Tahun\": 2017, \"Kode\": 1, \"Data\": \"Kependudukan\", \"Kode Kategori\": 1.11, \"Kategori\": \"Status Pernikahan\", \"Keterangan\": \"Rujuk\", \"N\": null, \"Satuan\": \"Orang\"}, {\"Tahun\": 2019, \"Kode\": 1, \"Data\": \"Kependudukan\", \"Kode Kategori\": 1.11, \"Kategori\": \"Status Pernikahan\", \"Keterangan\": \"Nikah\", \"N\": 9.0, \"Satuan\": \"Orang\"}, {\"Tahun\": 2019, \"Kode\": 1, \"Data\": \"Kependudukan\", \"Kode Kategori\": 1.11, \"Kategori\": \"Status Pernikahan\", \"Keterangan\": \"Talak\", \"N\": 2.0, \"Satuan\": \"Orang\"}, {\"Tahun\": 2019, \"Kode\": 1, \"Data\": \"Kependudukan\", \"Kode Kategori\": 1.11, \"Kategori\": \"Status Pernikahan\", \"Keterangan\": \"Cerai\", \"N\": null, \"Satuan\": \"Orang\"}, {\"Tahun\": 2019, \"Kode\": 1, \"Data\": \"Kependudukan\", \"Kode Kategori\": 1.11, \"Kategori\": \"Status Pernikahan\", \"Keterangan\": \"Rujuk\", \"N\": null, \"Satuan\": \"Orang\"}]}}, {\"mode\": \"vega-lite\"});\n",
       "</script>"
      ],
      "text/plain": [
       "alt.Chart(...)"
      ]
     },
     "execution_count": 101,
     "metadata": {},
     "output_type": "execute_result"
    }
   ],
   "source": [
    "df_8 = data('Status Pernikahan')\n",
    "plot_2(df_8,'Orang','Status Pernikahan',200)"
   ]
  },
  {
   "cell_type": "markdown",
   "metadata": {},
   "source": [
    "<h2> Kependudukan Berdasarkan Kesenian dan Budaya</h2>"
   ]
  },
  {
   "cell_type": "code",
   "execution_count": 88,
   "metadata": {},
   "outputs": [
    {
     "data": {
      "text/html": [
       "\n",
       "<div id=\"altair-viz-53e1b530d66d4dd186ddcbf710d1d2e6\"></div>\n",
       "<script type=\"text/javascript\">\n",
       "  (function(spec, embedOpt){\n",
       "    let outputDiv = document.currentScript.previousElementSibling;\n",
       "    if (outputDiv.id !== \"altair-viz-53e1b530d66d4dd186ddcbf710d1d2e6\") {\n",
       "      outputDiv = document.getElementById(\"altair-viz-53e1b530d66d4dd186ddcbf710d1d2e6\");\n",
       "    }\n",
       "    const paths = {\n",
       "      \"vega\": \"https://cdn.jsdelivr.net/npm//vega@5?noext\",\n",
       "      \"vega-lib\": \"https://cdn.jsdelivr.net/npm//vega-lib?noext\",\n",
       "      \"vega-lite\": \"https://cdn.jsdelivr.net/npm//vega-lite@4.8.1?noext\",\n",
       "      \"vega-embed\": \"https://cdn.jsdelivr.net/npm//vega-embed@6?noext\",\n",
       "    };\n",
       "\n",
       "    function loadScript(lib) {\n",
       "      return new Promise(function(resolve, reject) {\n",
       "        var s = document.createElement('script');\n",
       "        s.src = paths[lib];\n",
       "        s.async = true;\n",
       "        s.onload = () => resolve(paths[lib]);\n",
       "        s.onerror = () => reject(`Error loading script: ${paths[lib]}`);\n",
       "        document.getElementsByTagName(\"head\")[0].appendChild(s);\n",
       "      });\n",
       "    }\n",
       "\n",
       "    function showError(err) {\n",
       "      outputDiv.innerHTML = `<div class=\"error\" style=\"color:red;\">${err}</div>`;\n",
       "      throw err;\n",
       "    }\n",
       "\n",
       "    function displayChart(vegaEmbed) {\n",
       "      vegaEmbed(outputDiv, spec, embedOpt)\n",
       "        .catch(err => showError(`Javascript Error: ${err.message}<br>This usually means there's a typo in your chart specification. See the javascript console for the full traceback.`));\n",
       "    }\n",
       "\n",
       "    if(typeof define === \"function\" && define.amd) {\n",
       "      requirejs.config({paths});\n",
       "      require([\"vega-embed\"], displayChart, err => showError(`Error loading script: ${err.message}`));\n",
       "    } else if (typeof vegaEmbed === \"function\") {\n",
       "      displayChart(vegaEmbed);\n",
       "    } else {\n",
       "      loadScript(\"vega\")\n",
       "        .then(() => loadScript(\"vega-lite\"))\n",
       "        .then(() => loadScript(\"vega-embed\"))\n",
       "        .catch(showError)\n",
       "        .then(() => displayChart(vegaEmbed));\n",
       "    }\n",
       "  })({\"config\": {\"view\": {\"continuousWidth\": 400, \"continuousHeight\": 300}}, \"data\": {\"name\": \"data-83d4c4ae2f6692b452ef7e2242b79b48\"}, \"mark\": {\"type\": \"bar\", \"opacity\": 0.8}, \"encoding\": {\"color\": {\"condition\": {\"type\": \"ordinal\", \"field\": \"Tahun\", \"selection\": \"selector129\"}, \"value\": \"lightgray\"}, \"column\": {\"type\": \"ordinal\", \"field\": \"Tahun\"}, \"tooltip\": [{\"type\": \"quantitative\", \"field\": \"Tahun\"}, {\"type\": \"nominal\", \"field\": \"Keterangan\"}, {\"type\": \"nominal\", \"field\": \"N\"}, {\"type\": \"nominal\", \"field\": \"Satuan\"}], \"x\": {\"type\": \"ordinal\", \"field\": \"Keterangan\", \"title\": \"Kesenian dan Budaya\"}, \"y\": {\"type\": \"quantitative\", \"field\": \"N\", \"title\": \"Unit/Kelompok\"}}, \"resolve\": {\"scale\": {\"x\": \"independent\"}}, \"selection\": {\"selector129\": {\"type\": \"single\", \"encodings\": [\"x\", \"color\"]}, \"selector130\": {\"type\": \"interval\", \"bind\": \"scales\", \"encodings\": [\"x\", \"y\"]}}, \"width\": 200, \"$schema\": \"https://vega.github.io/schema/vega-lite/v4.8.1.json\", \"datasets\": {\"data-83d4c4ae2f6692b452ef7e2242b79b48\": [{\"Tahun\": 2017, \"Kode\": 9, \"Data\": \"Sarana Prasarana\", \"Kode Kategori\": 9.2, \"Kategori\": \"Kesenian/Kebudayaan\", \"Keterangan\": \"Sarana Krida\", \"N\": null, \"Satuan\": \"Unit\"}, {\"Tahun\": 2017, \"Kode\": 9, \"Data\": \"Sarana Prasarana\", \"Kode Kategori\": 9.2, \"Kategori\": \"Kesenian/Kebudayaan\", \"Keterangan\": \"Gelanggang Remaja\", \"N\": \"1\", \"Satuan\": \"Unit\"}, {\"Tahun\": 2017, \"Kode\": 9, \"Data\": \"Sarana Prasarana\", \"Kode Kategori\": 9.2, \"Kategori\": \"Kesenian/Kebudayaan\", \"Keterangan\": \"Gedung Kesenian\", \"N\": null, \"Satuan\": \"Unit\"}, {\"Tahun\": 2017, \"Kode\": 9, \"Data\": \"Sarana Prasarana\", \"Kode Kategori\": 9.2, \"Kategori\": \"Kesenian/Kebudayaan\", \"Keterangan\": \"Gedung Bioskop\", \"N\": null, \"Satuan\": \"Unit\"}, {\"Tahun\": 2017, \"Kode\": 9, \"Data\": \"Sarana Prasarana\", \"Kode Kategori\": 9.2, \"Kategori\": \"Kesenian/Kebudayaan\", \"Keterangan\": \"Diskotik/Klub Malam\", \"N\": null, \"Satuan\": \"Unit\"}, {\"Tahun\": 2017, \"Kode\": 9, \"Data\": \"Sarana Prasarana\", \"Kode Kategori\": 9.2, \"Kategori\": \"Kesenian/Kebudayaan\", \"Keterangan\": \"Gd. Sandiwara/ Teater\", \"N\": null, \"Satuan\": \"Unit\"}, {\"Tahun\": 2017, \"Kode\": 20, \"Data\": \"Kelompok Masyarakat\", \"Kode Kategori\": 20.2, \"Kategori\": \"Kesenian/Kebudayaan\", \"Keterangan\": \"Paduan Suara\", \"N\": null, \"Satuan\": \"Kelompok\"}, {\"Tahun\": 2017, \"Kode\": 20, \"Data\": \"Kelompok Masyarakat\", \"Kode Kategori\": 20.2, \"Kategori\": \"Kesenian/Kebudayaan\", \"Keterangan\": \"Orkes Melayu\", \"N\": null, \"Satuan\": \"Kelompok\"}, {\"Tahun\": 2017, \"Kode\": 20, \"Data\": \"Kelompok Masyarakat\", \"Kode Kategori\": 20.2, \"Kategori\": \"Kesenian/Kebudayaan\", \"Keterangan\": \"Kesenian Daerah\", \"N\": \"3\", \"Satuan\": \"Kelompok\"}, {\"Tahun\": 2017, \"Kode\": 20, \"Data\": \"Kelompok Masyarakat\", \"Kode Kategori\": 20.2, \"Kategori\": \"Kesenian/Kebudayaan\", \"Keterangan\": \"Band\", \"N\": null, \"Satuan\": \"Kelompok\"}, {\"Tahun\": 2017, \"Kode\": 20, \"Data\": \"Kelompok Masyarakat\", \"Kode Kategori\": 20.2, \"Kategori\": \"Kesenian/Kebudayaan\", \"Keterangan\": \"Kdondong\", \"N\": null, \"Satuan\": \"Kelompok\"}, {\"Tahun\": 2017, \"Kode\": 20, \"Data\": \"Kelompok Masyarakat\", \"Kode Kategori\": 20.2, \"Kategori\": \"Kesenian/Kebudayaan\", \"Keterangan\": \"Kosidah\", \"N\": \"2\", \"Satuan\": \"Kelompok\"}, {\"Tahun\": 2017, \"Kode\": 20, \"Data\": \"Kelompok Masyarakat\", \"Kode Kategori\": 20.2, \"Kategori\": \"Kesenian/Kebudayaan\", \"Keterangan\": \"Wayang\", \"N\": null, \"Satuan\": \"Kelompok\"}, {\"Tahun\": 2019, \"Kode\": 9, \"Data\": \"Sarana Prasarana\", \"Kode Kategori\": 9.2, \"Kategori\": \"Kesenian/Kebudayaan\", \"Keterangan\": \"Sarana Krida\", \"N\": null, \"Satuan\": \"Unit\"}, {\"Tahun\": 2019, \"Kode\": 9, \"Data\": \"Sarana Prasarana\", \"Kode Kategori\": 9.2, \"Kategori\": \"Kesenian/Kebudayaan\", \"Keterangan\": \"Gelanggang Remaja\", \"N\": 1.0, \"Satuan\": \"Unit\"}, {\"Tahun\": 2019, \"Kode\": 9, \"Data\": \"Sarana Prasarana\", \"Kode Kategori\": 9.2, \"Kategori\": \"Kesenian/Kebudayaan\", \"Keterangan\": \"Gedung Kesenian\", \"N\": null, \"Satuan\": \"Unit\"}, {\"Tahun\": 2019, \"Kode\": 9, \"Data\": \"Sarana Prasarana\", \"Kode Kategori\": 9.2, \"Kategori\": \"Kesenian/Kebudayaan\", \"Keterangan\": \"Gedung Bioskop\", \"N\": null, \"Satuan\": \"Unit\"}, {\"Tahun\": 2019, \"Kode\": 9, \"Data\": \"Sarana Prasarana\", \"Kode Kategori\": 9.2, \"Kategori\": \"Kesenian/Kebudayaan\", \"Keterangan\": \"Diskotik/Klub Malam\", \"N\": null, \"Satuan\": \"Unit\"}, {\"Tahun\": 2019, \"Kode\": 9, \"Data\": \"Sarana Prasarana\", \"Kode Kategori\": 9.2, \"Kategori\": \"Kesenian/Kebudayaan\", \"Keterangan\": \"Gd. Sandiwara/ Teater\", \"N\": null, \"Satuan\": \"Unit\"}, {\"Tahun\": 2019, \"Kode\": 20, \"Data\": \"Kelompok Masyarakat\", \"Kode Kategori\": 20.2, \"Kategori\": \"Kesenian/Kebudayaan\", \"Keterangan\": \"Paduan Suara\", \"N\": null, \"Satuan\": \"Kelompok\"}, {\"Tahun\": 2019, \"Kode\": 20, \"Data\": \"Kelompok Masyarakat\", \"Kode Kategori\": 20.2, \"Kategori\": \"Kesenian/Kebudayaan\", \"Keterangan\": \"Orkes Melayu\", \"N\": null, \"Satuan\": \"Kelompok\"}, {\"Tahun\": 2019, \"Kode\": 20, \"Data\": \"Kelompok Masyarakat\", \"Kode Kategori\": 20.2, \"Kategori\": \"Kesenian/Kebudayaan\", \"Keterangan\": \"Kesenian Daerah\", \"N\": 3.0, \"Satuan\": \"Kelompok\"}, {\"Tahun\": 2019, \"Kode\": 20, \"Data\": \"Kelompok Masyarakat\", \"Kode Kategori\": 20.2, \"Kategori\": \"Kesenian/Kebudayaan\", \"Keterangan\": \"Band\", \"N\": null, \"Satuan\": \"Kelompok\"}, {\"Tahun\": 2019, \"Kode\": 20, \"Data\": \"Kelompok Masyarakat\", \"Kode Kategori\": 20.2, \"Kategori\": \"Kesenian/Kebudayaan\", \"Keterangan\": \"Kdondong\", \"N\": null, \"Satuan\": \"Kelompok\"}, {\"Tahun\": 2019, \"Kode\": 20, \"Data\": \"Kelompok Masyarakat\", \"Kode Kategori\": 20.2, \"Kategori\": \"Kesenian/Kebudayaan\", \"Keterangan\": \"Kosidah\", \"N\": 4.0, \"Satuan\": \"Kelompok\"}, {\"Tahun\": 2019, \"Kode\": 20, \"Data\": \"Kelompok Masyarakat\", \"Kode Kategori\": 20.2, \"Kategori\": \"Kesenian/Kebudayaan\", \"Keterangan\": \"Wayang\", \"N\": null, \"Satuan\": \"Kelompok\"}]}}, {\"mode\": \"vega-lite\"});\n",
       "</script>"
      ],
      "text/plain": [
       "alt.Chart(...)"
      ]
     },
     "execution_count": 88,
     "metadata": {},
     "output_type": "execute_result"
    }
   ],
   "source": [
    "df_9 = data('Kesenian/Kebudayaan')\n",
    "plot_2(df_9,'Unit/Kelompok', 'Kesenian dan Budaya',200)"
   ]
  },
  {
   "cell_type": "markdown",
   "metadata": {},
   "source": [
    "<h2> Pendidikan Umum</h2>"
   ]
  },
  {
   "cell_type": "code",
   "execution_count": 90,
   "metadata": {},
   "outputs": [],
   "source": [
    "df_10 = df.loc[df['Data']=='Pendidikan Umum']\n",
    "df_10_tk = df.loc[df['Kategori']=='TK']\n",
    "df_10_sd = df.loc[df['Kategori']=='SD/MI']"
   ]
  },
  {
   "cell_type": "code",
   "execution_count": 97,
   "metadata": {},
   "outputs": [
    {
     "data": {
      "text/html": [
       "\n",
       "<div id=\"altair-viz-f440a395ca0e4c38a7931c5078fe9f5a\"></div>\n",
       "<script type=\"text/javascript\">\n",
       "  (function(spec, embedOpt){\n",
       "    let outputDiv = document.currentScript.previousElementSibling;\n",
       "    if (outputDiv.id !== \"altair-viz-f440a395ca0e4c38a7931c5078fe9f5a\") {\n",
       "      outputDiv = document.getElementById(\"altair-viz-f440a395ca0e4c38a7931c5078fe9f5a\");\n",
       "    }\n",
       "    const paths = {\n",
       "      \"vega\": \"https://cdn.jsdelivr.net/npm//vega@5?noext\",\n",
       "      \"vega-lib\": \"https://cdn.jsdelivr.net/npm//vega-lib?noext\",\n",
       "      \"vega-lite\": \"https://cdn.jsdelivr.net/npm//vega-lite@4.8.1?noext\",\n",
       "      \"vega-embed\": \"https://cdn.jsdelivr.net/npm//vega-embed@6?noext\",\n",
       "    };\n",
       "\n",
       "    function loadScript(lib) {\n",
       "      return new Promise(function(resolve, reject) {\n",
       "        var s = document.createElement('script');\n",
       "        s.src = paths[lib];\n",
       "        s.async = true;\n",
       "        s.onload = () => resolve(paths[lib]);\n",
       "        s.onerror = () => reject(`Error loading script: ${paths[lib]}`);\n",
       "        document.getElementsByTagName(\"head\")[0].appendChild(s);\n",
       "      });\n",
       "    }\n",
       "\n",
       "    function showError(err) {\n",
       "      outputDiv.innerHTML = `<div class=\"error\" style=\"color:red;\">${err}</div>`;\n",
       "      throw err;\n",
       "    }\n",
       "\n",
       "    function displayChart(vegaEmbed) {\n",
       "      vegaEmbed(outputDiv, spec, embedOpt)\n",
       "        .catch(err => showError(`Javascript Error: ${err.message}<br>This usually means there's a typo in your chart specification. See the javascript console for the full traceback.`));\n",
       "    }\n",
       "\n",
       "    if(typeof define === \"function\" && define.amd) {\n",
       "      requirejs.config({paths});\n",
       "      require([\"vega-embed\"], displayChart, err => showError(`Error loading script: ${err.message}`));\n",
       "    } else if (typeof vegaEmbed === \"function\") {\n",
       "      displayChart(vegaEmbed);\n",
       "    } else {\n",
       "      loadScript(\"vega\")\n",
       "        .then(() => loadScript(\"vega-lite\"))\n",
       "        .then(() => loadScript(\"vega-embed\"))\n",
       "        .catch(showError)\n",
       "        .then(() => displayChart(vegaEmbed));\n",
       "    }\n",
       "  })({\"config\": {\"view\": {\"continuousWidth\": 400, \"continuousHeight\": 300}}, \"layer\": [{\"mark\": {\"type\": \"bar\", \"opacity\": 0.8}, \"encoding\": {\"color\": {\"condition\": {\"type\": \"ordinal\", \"field\": \"Tahun\", \"selection\": \"selector145\"}, \"value\": \"lightgray\"}, \"x\": {\"type\": \"quantitative\", \"field\": \"N\", \"stack\": \"normalize\", \"title\": \"Unit/Orang\"}, \"y\": {\"type\": \"ordinal\", \"field\": \"Keterangan\", \"title\": \"TK\"}}, \"selection\": {\"selector145\": {\"type\": \"single\", \"encodings\": [\"x\", \"color\"]}}}, {\"mark\": {\"type\": \"text\", \"color\": \"white\", \"dx\": -18, \"dy\": 3}, \"encoding\": {\"detail\": {\"type\": \"ordinal\", \"field\": \"Tahun\"}, \"text\": {\"type\": \"ordinal\", \"field\": \"N\"}, \"tooltip\": [{\"type\": \"quantitative\", \"field\": \"Tahun\"}, {\"type\": \"nominal\", \"field\": \"Keterangan\"}, {\"type\": \"nominal\", \"field\": \"N\"}, {\"type\": \"nominal\", \"field\": \"Satuan\"}], \"x\": {\"type\": \"quantitative\", \"field\": \"N\", \"stack\": \"normalize\"}, \"y\": {\"type\": \"ordinal\", \"field\": \"Keterangan\"}}, \"selection\": {\"selector146\": {\"type\": \"interval\", \"bind\": \"scales\", \"encodings\": [\"x\", \"y\"]}}}], \"data\": {\"name\": \"data-6996bd9e7d18a76a37cbf0de5c40c5d7\"}, \"width\": 600, \"$schema\": \"https://vega.github.io/schema/vega-lite/v4.8.1.json\", \"datasets\": {\"data-6996bd9e7d18a76a37cbf0de5c40c5d7\": [{\"Tahun\": 2017, \"Kode\": 8, \"Data\": \"Pendidikan Umum\", \"Kode Kategori\": 8.1, \"Kategori\": \"TK\", \"Keterangan\": \"Gedung\", \"N\": \"2\", \"Satuan\": \"Unit\"}, {\"Tahun\": 2017, \"Kode\": 8, \"Data\": \"Pendidikan Umum\", \"Kode Kategori\": 8.1, \"Kategori\": \"TK\", \"Keterangan\": \"Guru\", \"N\": \"7\", \"Satuan\": \"Orang\"}, {\"Tahun\": 2017, \"Kode\": 8, \"Data\": \"Pendidikan Umum\", \"Kode Kategori\": 8.1, \"Kategori\": \"TK\", \"Keterangan\": \"Murid\", \"N\": \"50\", \"Satuan\": \"Orang\"}, {\"Tahun\": 2019, \"Kode\": 8, \"Data\": \"Pendidikan Umum\", \"Kode Kategori\": 8.1, \"Kategori\": \"TK\", \"Keterangan\": \"Gedung\", \"N\": 3.0, \"Satuan\": \"Unit\"}, {\"Tahun\": 2019, \"Kode\": 8, \"Data\": \"Pendidikan Umum\", \"Kode Kategori\": 8.1, \"Kategori\": \"TK\", \"Keterangan\": \"Guru\", \"N\": 9.0, \"Satuan\": \"Orang\"}, {\"Tahun\": 2019, \"Kode\": 8, \"Data\": \"Pendidikan Umum\", \"Kode Kategori\": 8.1, \"Kategori\": \"TK\", \"Keterangan\": \"Murid\", \"N\": 65.0, \"Satuan\": \"Orang\"}]}}, {\"mode\": \"vega-lite\"});\n",
       "</script>"
      ],
      "text/plain": [
       "alt.LayerChart(...)"
      ]
     },
     "execution_count": 97,
     "metadata": {},
     "output_type": "execute_result"
    }
   ],
   "source": [
    "plot_1(df_10_tk,'Unit/Orang', 'TK',600)"
   ]
  },
  {
   "cell_type": "code",
   "execution_count": 98,
   "metadata": {},
   "outputs": [
    {
     "data": {
      "text/html": [
       "\n",
       "<div id=\"altair-viz-714c8495dde74106b548fbceec187ce8\"></div>\n",
       "<script type=\"text/javascript\">\n",
       "  (function(spec, embedOpt){\n",
       "    let outputDiv = document.currentScript.previousElementSibling;\n",
       "    if (outputDiv.id !== \"altair-viz-714c8495dde74106b548fbceec187ce8\") {\n",
       "      outputDiv = document.getElementById(\"altair-viz-714c8495dde74106b548fbceec187ce8\");\n",
       "    }\n",
       "    const paths = {\n",
       "      \"vega\": \"https://cdn.jsdelivr.net/npm//vega@5?noext\",\n",
       "      \"vega-lib\": \"https://cdn.jsdelivr.net/npm//vega-lib?noext\",\n",
       "      \"vega-lite\": \"https://cdn.jsdelivr.net/npm//vega-lite@4.8.1?noext\",\n",
       "      \"vega-embed\": \"https://cdn.jsdelivr.net/npm//vega-embed@6?noext\",\n",
       "    };\n",
       "\n",
       "    function loadScript(lib) {\n",
       "      return new Promise(function(resolve, reject) {\n",
       "        var s = document.createElement('script');\n",
       "        s.src = paths[lib];\n",
       "        s.async = true;\n",
       "        s.onload = () => resolve(paths[lib]);\n",
       "        s.onerror = () => reject(`Error loading script: ${paths[lib]}`);\n",
       "        document.getElementsByTagName(\"head\")[0].appendChild(s);\n",
       "      });\n",
       "    }\n",
       "\n",
       "    function showError(err) {\n",
       "      outputDiv.innerHTML = `<div class=\"error\" style=\"color:red;\">${err}</div>`;\n",
       "      throw err;\n",
       "    }\n",
       "\n",
       "    function displayChart(vegaEmbed) {\n",
       "      vegaEmbed(outputDiv, spec, embedOpt)\n",
       "        .catch(err => showError(`Javascript Error: ${err.message}<br>This usually means there's a typo in your chart specification. See the javascript console for the full traceback.`));\n",
       "    }\n",
       "\n",
       "    if(typeof define === \"function\" && define.amd) {\n",
       "      requirejs.config({paths});\n",
       "      require([\"vega-embed\"], displayChart, err => showError(`Error loading script: ${err.message}`));\n",
       "    } else if (typeof vegaEmbed === \"function\") {\n",
       "      displayChart(vegaEmbed);\n",
       "    } else {\n",
       "      loadScript(\"vega\")\n",
       "        .then(() => loadScript(\"vega-lite\"))\n",
       "        .then(() => loadScript(\"vega-embed\"))\n",
       "        .catch(showError)\n",
       "        .then(() => displayChart(vegaEmbed));\n",
       "    }\n",
       "  })({\"config\": {\"view\": {\"continuousWidth\": 400, \"continuousHeight\": 300}}, \"layer\": [{\"mark\": {\"type\": \"bar\", \"opacity\": 0.8}, \"encoding\": {\"color\": {\"condition\": {\"type\": \"ordinal\", \"field\": \"Tahun\", \"selection\": \"selector147\"}, \"value\": \"lightgray\"}, \"x\": {\"type\": \"quantitative\", \"field\": \"N\", \"stack\": \"normalize\", \"title\": \"Unit/Orang\"}, \"y\": {\"type\": \"ordinal\", \"field\": \"Keterangan\", \"title\": \"SD/MI\"}}, \"selection\": {\"selector147\": {\"type\": \"single\", \"encodings\": [\"x\", \"color\"]}}}, {\"mark\": {\"type\": \"text\", \"color\": \"white\", \"dx\": -18, \"dy\": 3}, \"encoding\": {\"detail\": {\"type\": \"ordinal\", \"field\": \"Tahun\"}, \"text\": {\"type\": \"ordinal\", \"field\": \"N\"}, \"tooltip\": [{\"type\": \"quantitative\", \"field\": \"Tahun\"}, {\"type\": \"nominal\", \"field\": \"Keterangan\"}, {\"type\": \"nominal\", \"field\": \"N\"}, {\"type\": \"nominal\", \"field\": \"Satuan\"}], \"x\": {\"type\": \"quantitative\", \"field\": \"N\", \"stack\": \"normalize\"}, \"y\": {\"type\": \"ordinal\", \"field\": \"Keterangan\"}}, \"selection\": {\"selector148\": {\"type\": \"interval\", \"bind\": \"scales\", \"encodings\": [\"x\", \"y\"]}}}], \"data\": {\"name\": \"data-6996bd9e7d18a76a37cbf0de5c40c5d7\"}, \"width\": 600, \"$schema\": \"https://vega.github.io/schema/vega-lite/v4.8.1.json\", \"datasets\": {\"data-6996bd9e7d18a76a37cbf0de5c40c5d7\": [{\"Tahun\": 2017, \"Kode\": 8, \"Data\": \"Pendidikan Umum\", \"Kode Kategori\": 8.1, \"Kategori\": \"TK\", \"Keterangan\": \"Gedung\", \"N\": \"2\", \"Satuan\": \"Unit\"}, {\"Tahun\": 2017, \"Kode\": 8, \"Data\": \"Pendidikan Umum\", \"Kode Kategori\": 8.1, \"Kategori\": \"TK\", \"Keterangan\": \"Guru\", \"N\": \"7\", \"Satuan\": \"Orang\"}, {\"Tahun\": 2017, \"Kode\": 8, \"Data\": \"Pendidikan Umum\", \"Kode Kategori\": 8.1, \"Kategori\": \"TK\", \"Keterangan\": \"Murid\", \"N\": \"50\", \"Satuan\": \"Orang\"}, {\"Tahun\": 2019, \"Kode\": 8, \"Data\": \"Pendidikan Umum\", \"Kode Kategori\": 8.1, \"Kategori\": \"TK\", \"Keterangan\": \"Gedung\", \"N\": 3.0, \"Satuan\": \"Unit\"}, {\"Tahun\": 2019, \"Kode\": 8, \"Data\": \"Pendidikan Umum\", \"Kode Kategori\": 8.1, \"Kategori\": \"TK\", \"Keterangan\": \"Guru\", \"N\": 9.0, \"Satuan\": \"Orang\"}, {\"Tahun\": 2019, \"Kode\": 8, \"Data\": \"Pendidikan Umum\", \"Kode Kategori\": 8.1, \"Kategori\": \"TK\", \"Keterangan\": \"Murid\", \"N\": 65.0, \"Satuan\": \"Orang\"}]}}, {\"mode\": \"vega-lite\"});\n",
       "</script>"
      ],
      "text/plain": [
       "alt.LayerChart(...)"
      ]
     },
     "execution_count": 98,
     "metadata": {},
     "output_type": "execute_result"
    }
   ],
   "source": [
    "plot_1(df_10_tk,'Unit/Orang', 'SD/MI',600)"
   ]
  },
  {
   "cell_type": "code",
   "execution_count": null,
   "metadata": {},
   "outputs": [],
   "source": []
  }
 ],
 "metadata": {
  "kernelspec": {
   "display_name": "Python 3",
   "language": "python",
   "name": "python3"
  },
  "language_info": {
   "codemirror_mode": {
    "name": "ipython",
    "version": 3
   },
   "file_extension": ".py",
   "mimetype": "text/x-python",
   "name": "python",
   "nbconvert_exporter": "python",
   "pygments_lexer": "ipython3",
   "version": "3.7.6"
  }
 },
 "nbformat": 4,
 "nbformat_minor": 4
}
