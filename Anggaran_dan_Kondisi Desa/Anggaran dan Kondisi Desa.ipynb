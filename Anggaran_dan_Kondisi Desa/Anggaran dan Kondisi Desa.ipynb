{
 "cells": [
  {
   "cell_type": "code",
   "execution_count": 1,
   "metadata": {},
   "outputs": [],
   "source": [
    "import pandas as pd\n",
    "import altair as alt\n",
    "import matplotlib.pyplot as plt\n",
    "import numpy as np"
   ]
  },
  {
   "cell_type": "code",
   "execution_count": 2,
   "metadata": {},
   "outputs": [],
   "source": [
    "df_2019 = pd.read_csv('D:\\Fajrul\\KKN\\Move to KEBON\\Statistik_Kebon\\Visualisasi_KKN\\data_2019_S2.csv')\n",
    "\n",
    "df_2017 = pd.read_csv('D:\\Fajrul\\KKN\\Move to KEBON\\Statistik_Kebon\\Visualisasi_KKN\\data_2017_S2.csv')\n",
    "\n",
    "df = pd.concat([df_2017,df_2019])"
   ]
  },
  {
   "cell_type": "code",
   "execution_count": 3,
   "metadata": {},
   "outputs": [],
   "source": [
    "def data1(a):\n",
    "    data = df.loc[df['Data']==a]\n",
    "    return data\n",
    "\n",
    "def data2(a):\n",
    "    data = df.loc[df['Kategori']==a]\n",
    "    return data"
   ]
  },
  {
   "cell_type": "code",
   "execution_count": 4,
   "metadata": {},
   "outputs": [],
   "source": [
    "# Set color and selector interactive\n",
    "palette = alt.Scale(scheme='yellowgreen')\n",
    "selector = alt.selection_single(encodings=['y', 'color'])"
   ]
  },
  {
   "cell_type": "code",
   "execution_count": 74,
   "metadata": {},
   "outputs": [],
   "source": [
    "def plot_1(data,x,y,width,title):\n",
    "    bars = alt.Chart(data).mark_bar(opacity=0.8).encode(\n",
    "        x=alt.X('N:Q',stack='normalize', title=x, axis=alt.Axis(format='.0%')),\n",
    "        y=alt.Y('Keterangan:O',title=y),\n",
    "        color=alt.condition(selector, 'Tahun:O', alt.value('lightgray'), scale=palette)\n",
    "    ).add_selection(\n",
    "        selector\n",
    "    )\n",
    "    \n",
    "    text = alt.Chart(data).mark_text(dx=-18, dy=3, color='white').encode(\n",
    "        x=alt.X('N:Q', stack='normalize'),\n",
    "        y=alt.Y('Keterangan:O'),\n",
    "        detail='Tahun:O',\n",
    "        text=alt.Text('N:O'),\n",
    "        tooltip = ['Tahun','Keterangan','N','Satuan']\n",
    "    ).interactive()\n",
    "    \n",
    "    return (bars+text).properties(width=width, title=title)"
   ]
  },
  {
   "cell_type": "code",
   "execution_count": 76,
   "metadata": {},
   "outputs": [],
   "source": [
    "def plot_1_rp(data,x,y,width,title):\n",
    "    bars = alt.Chart(data).mark_bar(opacity=0.8).encode(\n",
    "        x=alt.X('N:Q',stack='normalize', title=x, axis=alt.Axis(format='.0%')),\n",
    "        y=alt.Y('Keterangan:O',title=y),\n",
    "        color=alt.condition(selector, 'Tahun:N', alt.value('lightgray'), scale=palette),\n",
    "        tooltip = ['Tahun','Keterangan','Jumlah','Satuan']\n",
    "    ).add_selection(\n",
    "        selector\n",
    "    ).interactive()\n",
    "\n",
    "    return bars.properties(width=width,title=title)"
   ]
  },
  {
   "cell_type": "code",
   "execution_count": 20,
   "metadata": {},
   "outputs": [],
   "source": [
    "def plot_2(data,x,y,width):\n",
    "    bars = alt.Chart(data).mark_bar(opacity=0.8).encode(\n",
    "        alt.X('Keterangan:O', title=y),\n",
    "        alt.Y('N:Q',title=x, axis=alt.Axis(tickMinStep=1)),\n",
    "        alt.Column('Tahun:O', title=''),\n",
    "        color=alt.condition(selector, 'Tahun:N', alt.value('lightgray'), scale=palette),\n",
    "        tooltip = ['Tahun','Keterangan','Jumlah','Satuan']\n",
    "    ).add_selection(selector\n",
    "    ).interactive(\n",
    "    ).resolve_scale(x='independent')\n",
    "    return bars.properties(width=width\n",
    "    )"
   ]
  },
  {
   "cell_type": "code",
   "execution_count": 21,
   "metadata": {},
   "outputs": [],
   "source": [
    "def plot_3(data,x,y,width):\n",
    "    bars = alt.Chart(data).mark_bar(opacity=0.8).encode(\n",
    "        alt.X('Tahun:O', title=''),\n",
    "        alt.Y('N:Q', title=x, axis=alt.Axis(tickMinStep=1)),\n",
    "        alt.Column('Keterangan:N', title=y),\n",
    "        color=alt.condition(selector, 'Tahun:N', alt.value('lightgray'), scale=palette),\n",
    "        tooltip = ['Tahun','Keterangan','Jumlah','Satuan']\n",
    "    ).add_selection(selector\n",
    "    ).interactive(\n",
    "    ).resolve_scale(x='independent')\n",
    "    \n",
    "    return bars.properties(width=width\n",
    "    )"
   ]
  },
  {
   "cell_type": "code",
   "execution_count": 75,
   "metadata": {},
   "outputs": [],
   "source": [
    "def plot_4(data,x,y,width,title):\n",
    "    bars = alt.Chart(data).mark_bar(opacity=0.8).encode(\n",
    "        x =alt.X('N:Q', title=x),\n",
    "        y =alt.Y('Keterangan:O', title=y, sort='-x'),\n",
    "        color=alt.condition(selector, 'Keterangan:O', alt.value('lightgray'),sort='x', scale=palette, legend=None)\n",
    "    )\n",
    "\n",
    "    text = bars.mark_text(\n",
    "        align='left',\n",
    "        baseline='middle',\n",
    "        dx=3  # Nudges text to right so it doesn't appear on top of the bar\n",
    "    ).encode(\n",
    "        text='N:Q',\n",
    "        tooltip = ['Tahun','Keterangan','N','Satuan']\n",
    "    ).interactive(\n",
    "    ).add_selection(selector\n",
    "    )\n",
    "\n",
    "    return (bars + text).properties(width=width,title=title)"
   ]
  },
  {
   "cell_type": "markdown",
   "metadata": {},
   "source": [
    "<h2>Profil Anggaran</h2>"
   ]
  },
  {
   "cell_type": "code",
   "execution_count": 79,
   "metadata": {},
   "outputs": [
    {
     "data": {
      "text/html": [
       "\n",
       "<div id=\"altair-viz-7634fa36e8064f57908a142488d3e2eb\"></div>\n",
       "<script type=\"text/javascript\">\n",
       "  (function(spec, embedOpt){\n",
       "    let outputDiv = document.currentScript.previousElementSibling;\n",
       "    if (outputDiv.id !== \"altair-viz-7634fa36e8064f57908a142488d3e2eb\") {\n",
       "      outputDiv = document.getElementById(\"altair-viz-7634fa36e8064f57908a142488d3e2eb\");\n",
       "    }\n",
       "    const paths = {\n",
       "      \"vega\": \"https://cdn.jsdelivr.net/npm//vega@5?noext\",\n",
       "      \"vega-lib\": \"https://cdn.jsdelivr.net/npm//vega-lib?noext\",\n",
       "      \"vega-lite\": \"https://cdn.jsdelivr.net/npm//vega-lite@4.8.1?noext\",\n",
       "      \"vega-embed\": \"https://cdn.jsdelivr.net/npm//vega-embed@6?noext\",\n",
       "    };\n",
       "\n",
       "    function loadScript(lib) {\n",
       "      return new Promise(function(resolve, reject) {\n",
       "        var s = document.createElement('script');\n",
       "        s.src = paths[lib];\n",
       "        s.async = true;\n",
       "        s.onload = () => resolve(paths[lib]);\n",
       "        s.onerror = () => reject(`Error loading script: ${paths[lib]}`);\n",
       "        document.getElementsByTagName(\"head\")[0].appendChild(s);\n",
       "      });\n",
       "    }\n",
       "\n",
       "    function showError(err) {\n",
       "      outputDiv.innerHTML = `<div class=\"error\" style=\"color:red;\">${err}</div>`;\n",
       "      throw err;\n",
       "    }\n",
       "\n",
       "    function displayChart(vegaEmbed) {\n",
       "      vegaEmbed(outputDiv, spec, embedOpt)\n",
       "        .catch(err => showError(`Javascript Error: ${err.message}<br>This usually means there's a typo in your chart specification. See the javascript console for the full traceback.`));\n",
       "    }\n",
       "\n",
       "    if(typeof define === \"function\" && define.amd) {\n",
       "      requirejs.config({paths});\n",
       "      require([\"vega-embed\"], displayChart, err => showError(`Error loading script: ${err.message}`));\n",
       "    } else if (typeof vegaEmbed === \"function\") {\n",
       "      displayChart(vegaEmbed);\n",
       "    } else {\n",
       "      loadScript(\"vega\")\n",
       "        .then(() => loadScript(\"vega-lite\"))\n",
       "        .then(() => loadScript(\"vega-embed\"))\n",
       "        .catch(showError)\n",
       "        .then(() => displayChart(vegaEmbed));\n",
       "    }\n",
       "  })({\"config\": {\"view\": {\"continuousWidth\": 400, \"continuousHeight\": 300}, \"title\": {\"color\": \"green\", \"fontSize\": 14}}, \"data\": {\"name\": \"data-f02e7506cb60d74ab3b7ab531d4908ae\"}, \"mark\": {\"type\": \"bar\", \"opacity\": 0.8}, \"encoding\": {\"color\": {\"condition\": {\"type\": \"nominal\", \"field\": \"Tahun\", \"scale\": {\"scheme\": \"yellowgreen\"}, \"selection\": \"selector001\"}, \"value\": \"lightgray\"}, \"tooltip\": [{\"type\": \"quantitative\", \"field\": \"Tahun\"}, {\"type\": \"nominal\", \"field\": \"Keterangan\"}, {\"type\": \"nominal\", \"field\": \"Jumlah\"}, {\"type\": \"nominal\", \"field\": \"Satuan\"}], \"x\": {\"type\": \"quantitative\", \"axis\": {\"format\": \".0%\"}, \"field\": \"N\", \"stack\": \"normalize\", \"title\": \"Persentase\"}, \"y\": {\"type\": \"ordinal\", \"field\": \"Keterangan\", \"title\": \"Anggaran Desa\"}}, \"selection\": {\"selector001\": {\"type\": \"single\", \"encodings\": [\"y\", \"color\"]}, \"selector051\": {\"type\": \"interval\", \"bind\": \"scales\", \"encodings\": [\"x\", \"y\"]}}, \"title\": \"Profil Anggaran\", \"width\": 500, \"$schema\": \"https://vega.github.io/schema/vega-lite/v4.8.1.json\", \"datasets\": {\"data-f02e7506cb60d74ab3b7ab531d4908ae\": [{\"Tahun\": 2017, \"Kode\": 5, \"Data\": \"Keuangan dan Pendapatan Desa\", \"Kode Kategori\": 5.1, \"Kategori\": \"Keuangan\", \"Keterangan\": \"Sisa Anggaran tahun lalu\", \"N\": 1602482.0, \"Satuan\": \"Rupiah\", \"Jumlah\": \"Rp 1.6 Juta\"}, {\"Tahun\": 2017, \"Kode\": 5, \"Data\": \"Keuangan dan Pendapatan Desa\", \"Kode Kategori\": 5.1, \"Kategori\": \"Keuangan\", \"Keterangan\": \"Pendapatan Asli Desa\", \"N\": 63950000.0, \"Satuan\": \"Rupiah\", \"Jumlah\": \"Rp 64.0 Juta\"}, {\"Tahun\": 2017, \"Kode\": 5, \"Data\": \"Keuangan dan Pendapatan Desa\", \"Kode Kategori\": 5.1, \"Kategori\": \"Keuangan\", \"Keterangan\": \"ADD, Pusat, Provinsi, Kab. Dan Hibah\", \"N\": 1404411643.0, \"Satuan\": \"Rupiah\", \"Jumlah\": \"Rp 1404.4 Juta\"}, {\"Tahun\": 2017, \"Kode\": 5, \"Data\": \"Keuangan dan Pendapatan Desa\", \"Kode Kategori\": 5.1, \"Kategori\": \"Keuangan\", \"Keterangan\": \"Belanja Pemerintah Desa\", \"N\": 287526243.0, \"Satuan\": \"Rupiah\", \"Jumlah\": \"Rp 287.5 Juta\"}, {\"Tahun\": 2017, \"Kode\": 5, \"Data\": \"Keuangan dan Pendapatan Desa\", \"Kode Kategori\": 5.1, \"Kategori\": \"Keuangan\", \"Keterangan\": \"Belanja Modal\", \"N\": 9800000.0, \"Satuan\": \"Rupiah\", \"Jumlah\": \"Rp 9.8 Juta\"}, {\"Tahun\": 2017, \"Kode\": 5, \"Data\": \"Keuangan dan Pendapatan Desa\", \"Kode Kategori\": 5.1, \"Kategori\": \"Keuangan\", \"Keterangan\": \"Belanja Sarana Prasarana Pemb.\", \"N\": 1003255000.0, \"Satuan\": \"Rupiah\", \"Jumlah\": \"Rp 1003.3 Juta\"}, {\"Tahun\": 2017, \"Kode\": 5, \"Data\": \"Keuangan dan Pendapatan Desa\", \"Kode Kategori\": 5.1, \"Kategori\": \"Keuangan\", \"Keterangan\": \"Bidang Pembinaan Masyarakt\", \"N\": 40680000.0, \"Satuan\": \"Rupiah\", \"Jumlah\": \"Rp 40.7 Juta\"}, {\"Tahun\": 2017, \"Kode\": 5, \"Data\": \"Keuangan dan Pendapatan Desa\", \"Kode Kategori\": 5.1, \"Kategori\": \"Keuangan\", \"Keterangan\": \"Belanja Bidang Pemberd Masyarakat\", \"N\": 136000000.0, \"Satuan\": \"Rupiah\", \"Jumlah\": \"Rp 136.0 Juta\"}, {\"Tahun\": 2017, \"Kode\": 5, \"Data\": \"Keuangan dan Pendapatan Desa\", \"Kode Kategori\": 5.1, \"Kategori\": \"Keuangan\", \"Keterangan\": \"Bidang Tak Terduga\", \"N\": 900000.0, \"Satuan\": \"Rupiah\", \"Jumlah\": \"Rp 0.9 Juta\"}, {\"Tahun\": 2019, \"Kode\": 5, \"Data\": \"Keuangan dan Pendapatan Desa\", \"Kode Kategori\": 5.1, \"Kategori\": \"Keuangan\", \"Keterangan\": \"Sisa Anggaran tahun lalu\", \"N\": 8106217.0, \"Satuan\": \"Rupiah\", \"Jumlah\": \"Rp 8.1 Juta\"}, {\"Tahun\": 2019, \"Kode\": 5, \"Data\": \"Keuangan dan Pendapatan Desa\", \"Kode Kategori\": 5.1, \"Kategori\": \"Keuangan\", \"Keterangan\": \"Pendapatan Asli Desa\", \"N\": 50700000.0, \"Satuan\": \"Rupiah\", \"Jumlah\": \"Rp 50.7 Juta\"}, {\"Tahun\": 2019, \"Kode\": 5, \"Data\": \"Keuangan dan Pendapatan Desa\", \"Kode Kategori\": 5.1, \"Kategori\": \"Keuangan\", \"Keterangan\": \"ADD, Pusat, Provinsi, Kab. Dan Hibah\", \"N\": 23790870931.0, \"Satuan\": \"Rupiah\", \"Jumlah\": \"Rp 23790.9 Juta\"}, {\"Tahun\": 2019, \"Kode\": 5, \"Data\": \"Keuangan dan Pendapatan Desa\", \"Kode Kategori\": 5.1, \"Kategori\": \"Keuangan\", \"Keterangan\": \"Belanja Pemerintah Desa\", \"N\": 423062931.0, \"Satuan\": \"Rupiah\", \"Jumlah\": \"Rp 423.1 Juta\"}, {\"Tahun\": 2019, \"Kode\": 5, \"Data\": \"Keuangan dan Pendapatan Desa\", \"Kode Kategori\": 5.1, \"Kategori\": \"Keuangan\", \"Keterangan\": \"Belanja Sarana Prasarana Pemb.\", \"N\": 1815973075.0, \"Satuan\": \"Rupiah\", \"Jumlah\": \"Rp 1816.0 Juta\"}, {\"Tahun\": 2019, \"Kode\": 5, \"Data\": \"Keuangan dan Pendapatan Desa\", \"Kode Kategori\": 5.1, \"Kategori\": \"Keuangan\", \"Keterangan\": \"Bidang Pembinaan Masyarakt\", \"N\": 96300000.0, \"Satuan\": \"Rupiah\", \"Jumlah\": \"Rp 96.3 Juta\"}, {\"Tahun\": 2019, \"Kode\": 5, \"Data\": \"Keuangan dan Pendapatan Desa\", \"Kode Kategori\": 5.1, \"Kategori\": \"Keuangan\", \"Keterangan\": \"Belanja Bidang Pemberd Masyarakat\", \"N\": 80601925.0, \"Satuan\": \"Rupiah\", \"Jumlah\": \"Rp 80.6 Juta\"}, {\"Tahun\": 2019, \"Kode\": 5, \"Data\": \"Keuangan dan Pendapatan Desa\", \"Kode Kategori\": 5.1, \"Kategori\": \"Keuangan\", \"Keterangan\": \"Bidang Tak Terduga\", \"N\": 8106217.0, \"Satuan\": \"Rupiah\", \"Jumlah\": \"Rp 8.1 Juta\"}]}}, {\"mode\": \"vega-lite\"});\n",
       "</script>"
      ],
      "text/plain": [
       "alt.Chart(...)"
      ]
     },
     "execution_count": 79,
     "metadata": {},
     "output_type": "execute_result"
    }
   ],
   "source": [
    "df_1 = data2('Keuangan')\n",
    "df_1 = df_1.dropna()\n",
    "df_1['Jumlah'] = 'Rp ' + round((df_1['N'].astype(float)/1000000),1).astype(str) + ' Juta'\n",
    "plot1 = plot_1_rp(df_1,'Persentase','Anggaran Desa',500,'Profil Anggaran')\n",
    "plot1 = plot1.configure_title(fontSize=14,color='green')\n",
    "plot1"
   ]
  },
  {
   "cell_type": "markdown",
   "metadata": {},
   "source": [
    "<h2>Sumber Pendapatan Asli Desa</h2>"
   ]
  },
  {
   "cell_type": "code",
   "execution_count": 59,
   "metadata": {},
   "outputs": [
    {
     "data": {
      "text/html": [
       "\n",
       "<div id=\"altair-viz-5aca65b6ba6d47b2a60127a95287e880\"></div>\n",
       "<script type=\"text/javascript\">\n",
       "  (function(spec, embedOpt){\n",
       "    let outputDiv = document.currentScript.previousElementSibling;\n",
       "    if (outputDiv.id !== \"altair-viz-5aca65b6ba6d47b2a60127a95287e880\") {\n",
       "      outputDiv = document.getElementById(\"altair-viz-5aca65b6ba6d47b2a60127a95287e880\");\n",
       "    }\n",
       "    const paths = {\n",
       "      \"vega\": \"https://cdn.jsdelivr.net/npm//vega@5?noext\",\n",
       "      \"vega-lib\": \"https://cdn.jsdelivr.net/npm//vega-lib?noext\",\n",
       "      \"vega-lite\": \"https://cdn.jsdelivr.net/npm//vega-lite@4.8.1?noext\",\n",
       "      \"vega-embed\": \"https://cdn.jsdelivr.net/npm//vega-embed@6?noext\",\n",
       "    };\n",
       "\n",
       "    function loadScript(lib) {\n",
       "      return new Promise(function(resolve, reject) {\n",
       "        var s = document.createElement('script');\n",
       "        s.src = paths[lib];\n",
       "        s.async = true;\n",
       "        s.onload = () => resolve(paths[lib]);\n",
       "        s.onerror = () => reject(`Error loading script: ${paths[lib]}`);\n",
       "        document.getElementsByTagName(\"head\")[0].appendChild(s);\n",
       "      });\n",
       "    }\n",
       "\n",
       "    function showError(err) {\n",
       "      outputDiv.innerHTML = `<div class=\"error\" style=\"color:red;\">${err}</div>`;\n",
       "      throw err;\n",
       "    }\n",
       "\n",
       "    function displayChart(vegaEmbed) {\n",
       "      vegaEmbed(outputDiv, spec, embedOpt)\n",
       "        .catch(err => showError(`Javascript Error: ${err.message}<br>This usually means there's a typo in your chart specification. See the javascript console for the full traceback.`));\n",
       "    }\n",
       "\n",
       "    if(typeof define === \"function\" && define.amd) {\n",
       "      requirejs.config({paths});\n",
       "      require([\"vega-embed\"], displayChart, err => showError(`Error loading script: ${err.message}`));\n",
       "    } else if (typeof vegaEmbed === \"function\") {\n",
       "      displayChart(vegaEmbed);\n",
       "    } else {\n",
       "      loadScript(\"vega\")\n",
       "        .then(() => loadScript(\"vega-lite\"))\n",
       "        .then(() => loadScript(\"vega-embed\"))\n",
       "        .catch(showError)\n",
       "        .then(() => displayChart(vegaEmbed));\n",
       "    }\n",
       "  })({\"config\": {\"view\": {\"continuousWidth\": 400, \"continuousHeight\": 300}, \"header\": {\"labelColor\": \"green\", \"labelFontSize\": 9, \"titleColor\": \"green\", \"titleFontSize\": 14}}, \"data\": {\"name\": \"data-8c09fd469877cdb03ecaaf99fba9331a\"}, \"mark\": {\"type\": \"bar\", \"opacity\": 0.8}, \"encoding\": {\"color\": {\"condition\": {\"type\": \"nominal\", \"field\": \"Tahun\", \"scale\": {\"scheme\": \"yellowgreen\"}, \"selection\": \"selector001\"}, \"value\": \"lightgray\"}, \"column\": {\"type\": \"nominal\", \"field\": \"Keterangan\", \"title\": \"Sumber Pendapatan\"}, \"tooltip\": [{\"type\": \"quantitative\", \"field\": \"Tahun\"}, {\"type\": \"nominal\", \"field\": \"Keterangan\"}, {\"type\": \"nominal\", \"field\": \"Jumlah\"}, {\"type\": \"nominal\", \"field\": \"Satuan\"}], \"x\": {\"type\": \"ordinal\", \"field\": \"Tahun\", \"title\": \"\"}, \"y\": {\"type\": \"quantitative\", \"axis\": {\"tickMinStep\": 1}, \"field\": \"N\", \"title\": \"Persentase\"}}, \"resolve\": {\"scale\": {\"x\": \"independent\"}}, \"selection\": {\"selector001\": {\"type\": \"single\", \"encodings\": [\"y\", \"color\"]}, \"selector039\": {\"type\": \"interval\", \"bind\": \"scales\", \"encodings\": [\"x\", \"y\"]}}, \"width\": 120, \"$schema\": \"https://vega.github.io/schema/vega-lite/v4.8.1.json\", \"datasets\": {\"data-8c09fd469877cdb03ecaaf99fba9331a\": [{\"Tahun\": 2017, \"Kode\": 5, \"Data\": \"Keuangan dan Pendapatan Desa\", \"Kode Kategori\": 5.2, \"Kategori\": \"Sumber Pendapatan Asli Desa\", \"Keterangan\": \"Tanah Kas Desa dan Bengkok\", \"N\": 45750000.0, \"Satuan\": \"Rupiah\", \"Jumlah\": \"Rp 45.8 Juta\"}, {\"Tahun\": 2017, \"Kode\": 5, \"Data\": \"Keuangan dan Pendapatan Desa\", \"Kode Kategori\": 5.2, \"Kategori\": \"Sumber Pendapatan Asli Desa\", \"Keterangan\": \"UED-SP dan Batik Kebon Indah\", \"N\": 2700000.0, \"Satuan\": \"Rupiah\", \"Jumlah\": \"Rp 2.7 Juta\"}, {\"Tahun\": 2017, \"Kode\": 5, \"Data\": \"Keuangan dan Pendapatan Desa\", \"Kode Kategori\": 5.2, \"Kategori\": \"Sumber Pendapatan Asli Desa\", \"Keterangan\": \"Swadaya Masyarakat\", \"N\": 15000000.0, \"Satuan\": \"Rupiah\", \"Jumlah\": \"Rp 15.0 Juta\"}, {\"Tahun\": 2017, \"Kode\": 5, \"Data\": \"Keuangan dan Pendapatan Desa\", \"Kode Kategori\": 5.2, \"Kategori\": \"Sumber Pendapatan Asli Desa\", \"Keterangan\": \"Lain-lain\", \"N\": 500000.0, \"Satuan\": \"Rupiah\", \"Jumlah\": \"Rp 0.5 Juta\"}, {\"Tahun\": 2019, \"Kode\": 5, \"Data\": \"Keuangan dan Pendapatan Desa\", \"Kode Kategori\": 5.2, \"Kategori\": \"Sumber Pendapatan Asli Desa\", \"Keterangan\": \"Tanah Kas Desa dan Bengkok\", \"N\": 39500000.0, \"Satuan\": \"Rupiah\", \"Jumlah\": \"Rp 39.5 Juta\"}, {\"Tahun\": 2019, \"Kode\": 5, \"Data\": \"Keuangan dan Pendapatan Desa\", \"Kode Kategori\": 5.2, \"Kategori\": \"Sumber Pendapatan Asli Desa\", \"Keterangan\": \"UED-SP dan Batik Kebon Indah\", \"N\": 1200000.0, \"Satuan\": \"Rupiah\", \"Jumlah\": \"Rp 1.2 Juta\"}]}}, {\"mode\": \"vega-lite\"});\n",
       "</script>"
      ],
      "text/plain": [
       "alt.Chart(...)"
      ]
     },
     "execution_count": 59,
     "metadata": {},
     "output_type": "execute_result"
    }
   ],
   "source": [
    "df_1s = data2('Sumber Pendapatan Asli Desa')\n",
    "df_1s = df_1s.dropna()\n",
    "df_1s['Jumlah'] = 'Rp ' + round((df_1s['N'].astype(float)/1000000),1).astype(str) + ' Juta'\n",
    "plot1s = plot_3(df_1s,'Persentase','Sumber Pendapatan',120)\n",
    "plot1s = plot1s.configure_header(titleColor='green',titleFontSize=14,\n",
    "                       labelColor='green', labelFontSize=9)\n",
    "plot1s"
   ]
  },
  {
   "cell_type": "markdown",
   "metadata": {},
   "source": [
    "<h2>Bantuan Pemerintah</h2>"
   ]
  },
  {
   "cell_type": "code",
   "execution_count": 81,
   "metadata": {},
   "outputs": [
    {
     "data": {
      "text/html": [
       "\n",
       "<div id=\"altair-viz-141a3f63cb4644f7b333abb425e7923d\"></div>\n",
       "<script type=\"text/javascript\">\n",
       "  (function(spec, embedOpt){\n",
       "    let outputDiv = document.currentScript.previousElementSibling;\n",
       "    if (outputDiv.id !== \"altair-viz-141a3f63cb4644f7b333abb425e7923d\") {\n",
       "      outputDiv = document.getElementById(\"altair-viz-141a3f63cb4644f7b333abb425e7923d\");\n",
       "    }\n",
       "    const paths = {\n",
       "      \"vega\": \"https://cdn.jsdelivr.net/npm//vega@5?noext\",\n",
       "      \"vega-lib\": \"https://cdn.jsdelivr.net/npm//vega-lib?noext\",\n",
       "      \"vega-lite\": \"https://cdn.jsdelivr.net/npm//vega-lite@4.8.1?noext\",\n",
       "      \"vega-embed\": \"https://cdn.jsdelivr.net/npm//vega-embed@6?noext\",\n",
       "    };\n",
       "\n",
       "    function loadScript(lib) {\n",
       "      return new Promise(function(resolve, reject) {\n",
       "        var s = document.createElement('script');\n",
       "        s.src = paths[lib];\n",
       "        s.async = true;\n",
       "        s.onload = () => resolve(paths[lib]);\n",
       "        s.onerror = () => reject(`Error loading script: ${paths[lib]}`);\n",
       "        document.getElementsByTagName(\"head\")[0].appendChild(s);\n",
       "      });\n",
       "    }\n",
       "\n",
       "    function showError(err) {\n",
       "      outputDiv.innerHTML = `<div class=\"error\" style=\"color:red;\">${err}</div>`;\n",
       "      throw err;\n",
       "    }\n",
       "\n",
       "    function displayChart(vegaEmbed) {\n",
       "      vegaEmbed(outputDiv, spec, embedOpt)\n",
       "        .catch(err => showError(`Javascript Error: ${err.message}<br>This usually means there's a typo in your chart specification. See the javascript console for the full traceback.`));\n",
       "    }\n",
       "\n",
       "    if(typeof define === \"function\" && define.amd) {\n",
       "      requirejs.config({paths});\n",
       "      require([\"vega-embed\"], displayChart, err => showError(`Error loading script: ${err.message}`));\n",
       "    } else if (typeof vegaEmbed === \"function\") {\n",
       "      displayChart(vegaEmbed);\n",
       "    } else {\n",
       "      loadScript(\"vega\")\n",
       "        .then(() => loadScript(\"vega-lite\"))\n",
       "        .then(() => loadScript(\"vega-embed\"))\n",
       "        .catch(showError)\n",
       "        .then(() => displayChart(vegaEmbed));\n",
       "    }\n",
       "  })({\"config\": {\"view\": {\"continuousWidth\": 400, \"continuousHeight\": 300}, \"title\": {\"color\": \"green\", \"fontSize\": 14}}, \"data\": {\"name\": \"data-8b75cc3cbe1d8b5cc9393616b6c1f001\"}, \"mark\": {\"type\": \"bar\", \"opacity\": 0.8}, \"encoding\": {\"color\": {\"condition\": {\"type\": \"nominal\", \"field\": \"Tahun\", \"scale\": {\"scheme\": \"yellowgreen\"}, \"selection\": \"selector001\"}, \"value\": \"lightgray\"}, \"tooltip\": [{\"type\": \"quantitative\", \"field\": \"Tahun\"}, {\"type\": \"nominal\", \"field\": \"Keterangan\"}, {\"type\": \"nominal\", \"field\": \"Jumlah\"}, {\"type\": \"nominal\", \"field\": \"Satuan\"}], \"x\": {\"type\": \"quantitative\", \"axis\": {\"format\": \".0%\"}, \"field\": \"N\", \"stack\": \"normalize\", \"title\": \"Persentase\"}, \"y\": {\"type\": \"ordinal\", \"field\": \"Keterangan\", \"title\": \"Bantuan Pemerintah\"}}, \"selection\": {\"selector001\": {\"type\": \"single\", \"encodings\": [\"y\", \"color\"]}, \"selector053\": {\"type\": \"interval\", \"bind\": \"scales\", \"encodings\": [\"x\", \"y\"]}}, \"title\": \"Bantuan Pemerintah\", \"width\": 500, \"$schema\": \"https://vega.github.io/schema/vega-lite/v4.8.1.json\", \"datasets\": {\"data-8b75cc3cbe1d8b5cc9393616b6c1f001\": [{\"Tahun\": 2017, \"Kode\": 6, \"Data\": \"Bantuan Pemerintah\", \"Kode Kategori\": 6.1, \"Kategori\": \"Pemerintah Pusat\", \"Keterangan\": \"Pemerintah Pusat\", \"N\": 644655000.0, \"Satuan\": \"Rupiah\", \"Jumlah\": \"Rp 644.7 Juta\"}, {\"Tahun\": 2017, \"Kode\": 6, \"Data\": \"Bantuan Pemerintah\", \"Kode Kategori\": 6.1, \"Kategori\": \"Pemerintah Propinsi\", \"Keterangan\": \"Pemerintah Propinsi\", \"N\": 255000000.0, \"Satuan\": \"Rupiah\", \"Jumlah\": \"Rp 255.0 Juta\"}, {\"Tahun\": 2017, \"Kode\": 6, \"Data\": \"Bantuan Pemerintah\", \"Kode Kategori\": 6.1, \"Kategori\": \"Pemerintah Kabupaten dan Hibah\", \"Keterangan\": \"Pemerintah Kabupaten dan Hibah\", \"N\": 151000000.0, \"Satuan\": \"Rupiah\", \"Jumlah\": \"Rp 151.0 Juta\"}, {\"Tahun\": 2017, \"Kode\": 6, \"Data\": \"Bantuan Pemerintah\", \"Kode Kategori\": 6.1, \"Kategori\": \"Hasil Pajak dan Retribusi Kab\", \"Keterangan\": \"Hasil Pajak dan Retribusi Kab\", \"N\": 18695643.0, \"Satuan\": \"Rupiah\", \"Jumlah\": \"Rp 18.7 Juta\"}, {\"Tahun\": 2019, \"Kode\": 6, \"Data\": \"Bantuan Pemerintah\", \"Kode Kategori\": 6.1, \"Kategori\": \"Pemerintah Pusat\", \"Keterangan\": \"Pemerintah Pusat\", \"N\": 1065675000.0, \"Satuan\": \"Rupiah\", \"Jumlah\": \"Rp 1065.7 Juta\"}, {\"Tahun\": 2019, \"Kode\": 6, \"Data\": \"Bantuan Pemerintah\", \"Kode Kategori\": 6.1, \"Kategori\": \"Pemerintah Propinsi\", \"Keterangan\": \"Pemerintah Propinsi\", \"N\": 55000000.0, \"Satuan\": \"Rupiah\", \"Jumlah\": \"Rp 55.0 Juta\"}, {\"Tahun\": 2019, \"Kode\": 6, \"Data\": \"Bantuan Pemerintah\", \"Kode Kategori\": 6.1, \"Kategori\": \"Pemerintah Kabupaten dan Hibah\", \"Keterangan\": \"Pemerintah Kabupaten dan Hibah\", \"N\": 1231696000.0, \"Satuan\": \"Rupiah\", \"Jumlah\": \"Rp 1231.7 Juta\"}, {\"Tahun\": 2019, \"Kode\": 6, \"Data\": \"Bantuan Pemerintah\", \"Kode Kategori\": 6.1, \"Kategori\": \"Hasil Pajak dan Retribusi Kab\", \"Keterangan\": \"Hasil Pajak dan Retribusi Kab\", \"N\": 26716931.0, \"Satuan\": \"Rupiah\", \"Jumlah\": \"Rp 26.7 Juta\"}]}}, {\"mode\": \"vega-lite\"});\n",
       "</script>"
      ],
      "text/plain": [
       "alt.Chart(...)"
      ]
     },
     "execution_count": 81,
     "metadata": {},
     "output_type": "execute_result"
    }
   ],
   "source": [
    "df_2 = data1('Bantuan Pemerintah')\n",
    "df_2 = df_2.dropna()\n",
    "df_2['Jumlah'] = 'Rp ' + round((df_2['N'].astype(float)/1000000),1).astype(str) + ' Juta'\n",
    "plot2 = plot_1_rp(df_2,'Persentase','Bantuan Pemerintah',500,'Bantuan Pemerintah')\n",
    "plot2 = plot2.configure_title(fontSize=14,color='green')\n",
    "plot2"
   ]
  },
  {
   "cell_type": "code",
   "execution_count": 58,
   "metadata": {},
   "outputs": [
    {
     "data": {
      "text/html": [
       "\n",
       "<div id=\"altair-viz-7bd36c34c4234117b7ba1035ff03042d\"></div>\n",
       "<script type=\"text/javascript\">\n",
       "  (function(spec, embedOpt){\n",
       "    let outputDiv = document.currentScript.previousElementSibling;\n",
       "    if (outputDiv.id !== \"altair-viz-7bd36c34c4234117b7ba1035ff03042d\") {\n",
       "      outputDiv = document.getElementById(\"altair-viz-7bd36c34c4234117b7ba1035ff03042d\");\n",
       "    }\n",
       "    const paths = {\n",
       "      \"vega\": \"https://cdn.jsdelivr.net/npm//vega@5?noext\",\n",
       "      \"vega-lib\": \"https://cdn.jsdelivr.net/npm//vega-lib?noext\",\n",
       "      \"vega-lite\": \"https://cdn.jsdelivr.net/npm//vega-lite@4.8.1?noext\",\n",
       "      \"vega-embed\": \"https://cdn.jsdelivr.net/npm//vega-embed@6?noext\",\n",
       "    };\n",
       "\n",
       "    function loadScript(lib) {\n",
       "      return new Promise(function(resolve, reject) {\n",
       "        var s = document.createElement('script');\n",
       "        s.src = paths[lib];\n",
       "        s.async = true;\n",
       "        s.onload = () => resolve(paths[lib]);\n",
       "        s.onerror = () => reject(`Error loading script: ${paths[lib]}`);\n",
       "        document.getElementsByTagName(\"head\")[0].appendChild(s);\n",
       "      });\n",
       "    }\n",
       "\n",
       "    function showError(err) {\n",
       "      outputDiv.innerHTML = `<div class=\"error\" style=\"color:red;\">${err}</div>`;\n",
       "      throw err;\n",
       "    }\n",
       "\n",
       "    function displayChart(vegaEmbed) {\n",
       "      vegaEmbed(outputDiv, spec, embedOpt)\n",
       "        .catch(err => showError(`Javascript Error: ${err.message}<br>This usually means there's a typo in your chart specification. See the javascript console for the full traceback.`));\n",
       "    }\n",
       "\n",
       "    if(typeof define === \"function\" && define.amd) {\n",
       "      requirejs.config({paths});\n",
       "      require([\"vega-embed\"], displayChart, err => showError(`Error loading script: ${err.message}`));\n",
       "    } else if (typeof vegaEmbed === \"function\") {\n",
       "      displayChart(vegaEmbed);\n",
       "    } else {\n",
       "      loadScript(\"vega\")\n",
       "        .then(() => loadScript(\"vega-lite\"))\n",
       "        .then(() => loadScript(\"vega-embed\"))\n",
       "        .catch(showError)\n",
       "        .then(() => displayChart(vegaEmbed));\n",
       "    }\n",
       "  })({\"config\": {\"view\": {\"continuousWidth\": 400, \"continuousHeight\": 300}, \"header\": {\"labelColor\": \"green\", \"labelFontSize\": 9, \"titleColor\": \"green\", \"titleFontSize\": 14}}, \"data\": {\"name\": \"data-8b75cc3cbe1d8b5cc9393616b6c1f001\"}, \"mark\": {\"type\": \"bar\", \"opacity\": 0.8}, \"encoding\": {\"color\": {\"condition\": {\"type\": \"nominal\", \"field\": \"Tahun\", \"scale\": {\"scheme\": \"yellowgreen\"}, \"selection\": \"selector001\"}, \"value\": \"lightgray\"}, \"column\": {\"type\": \"nominal\", \"field\": \"Keterangan\", \"title\": \"Bantuan Pemerintah\"}, \"tooltip\": [{\"type\": \"quantitative\", \"field\": \"Tahun\"}, {\"type\": \"nominal\", \"field\": \"Keterangan\"}, {\"type\": \"nominal\", \"field\": \"Jumlah\"}, {\"type\": \"nominal\", \"field\": \"Satuan\"}], \"x\": {\"type\": \"ordinal\", \"field\": \"Tahun\", \"title\": \"\"}, \"y\": {\"type\": \"quantitative\", \"axis\": {\"tickMinStep\": 1}, \"field\": \"N\", \"title\": \"Rupiah\"}}, \"resolve\": {\"scale\": {\"x\": \"independent\"}}, \"selection\": {\"selector001\": {\"type\": \"single\", \"encodings\": [\"y\", \"color\"]}, \"selector038\": {\"type\": \"interval\", \"bind\": \"scales\", \"encodings\": [\"x\", \"y\"]}}, \"width\": 120, \"$schema\": \"https://vega.github.io/schema/vega-lite/v4.8.1.json\", \"datasets\": {\"data-8b75cc3cbe1d8b5cc9393616b6c1f001\": [{\"Tahun\": 2017, \"Kode\": 6, \"Data\": \"Bantuan Pemerintah\", \"Kode Kategori\": 6.1, \"Kategori\": \"Pemerintah Pusat\", \"Keterangan\": \"Pemerintah Pusat\", \"N\": 644655000.0, \"Satuan\": \"Rupiah\", \"Jumlah\": \"Rp 644.7 Juta\"}, {\"Tahun\": 2017, \"Kode\": 6, \"Data\": \"Bantuan Pemerintah\", \"Kode Kategori\": 6.1, \"Kategori\": \"Pemerintah Propinsi\", \"Keterangan\": \"Pemerintah Propinsi\", \"N\": 255000000.0, \"Satuan\": \"Rupiah\", \"Jumlah\": \"Rp 255.0 Juta\"}, {\"Tahun\": 2017, \"Kode\": 6, \"Data\": \"Bantuan Pemerintah\", \"Kode Kategori\": 6.1, \"Kategori\": \"Pemerintah Kabupaten dan Hibah\", \"Keterangan\": \"Pemerintah Kabupaten dan Hibah\", \"N\": 151000000.0, \"Satuan\": \"Rupiah\", \"Jumlah\": \"Rp 151.0 Juta\"}, {\"Tahun\": 2017, \"Kode\": 6, \"Data\": \"Bantuan Pemerintah\", \"Kode Kategori\": 6.1, \"Kategori\": \"Hasil Pajak dan Retribusi Kab\", \"Keterangan\": \"Hasil Pajak dan Retribusi Kab\", \"N\": 18695643.0, \"Satuan\": \"Rupiah\", \"Jumlah\": \"Rp 18.7 Juta\"}, {\"Tahun\": 2019, \"Kode\": 6, \"Data\": \"Bantuan Pemerintah\", \"Kode Kategori\": 6.1, \"Kategori\": \"Pemerintah Pusat\", \"Keterangan\": \"Pemerintah Pusat\", \"N\": 1065675000.0, \"Satuan\": \"Rupiah\", \"Jumlah\": \"Rp 1065.7 Juta\"}, {\"Tahun\": 2019, \"Kode\": 6, \"Data\": \"Bantuan Pemerintah\", \"Kode Kategori\": 6.1, \"Kategori\": \"Pemerintah Propinsi\", \"Keterangan\": \"Pemerintah Propinsi\", \"N\": 55000000.0, \"Satuan\": \"Rupiah\", \"Jumlah\": \"Rp 55.0 Juta\"}, {\"Tahun\": 2019, \"Kode\": 6, \"Data\": \"Bantuan Pemerintah\", \"Kode Kategori\": 6.1, \"Kategori\": \"Pemerintah Kabupaten dan Hibah\", \"Keterangan\": \"Pemerintah Kabupaten dan Hibah\", \"N\": 1231696000.0, \"Satuan\": \"Rupiah\", \"Jumlah\": \"Rp 1231.7 Juta\"}, {\"Tahun\": 2019, \"Kode\": 6, \"Data\": \"Bantuan Pemerintah\", \"Kode Kategori\": 6.1, \"Kategori\": \"Hasil Pajak dan Retribusi Kab\", \"Keterangan\": \"Hasil Pajak dan Retribusi Kab\", \"N\": 26716931.0, \"Satuan\": \"Rupiah\", \"Jumlah\": \"Rp 26.7 Juta\"}]}}, {\"mode\": \"vega-lite\"});\n",
       "</script>"
      ],
      "text/plain": [
       "alt.Chart(...)"
      ]
     },
     "execution_count": 58,
     "metadata": {},
     "output_type": "execute_result"
    }
   ],
   "source": [
    "plot2s = plot_3(df_2,'Rupiah','Bantuan Pemerintah',120)\n",
    "plot2s = plot2s.configure_header(titleColor='green',titleFontSize=14,\n",
    "                       labelColor='green', labelFontSize=9)\n",
    "plot2s"
   ]
  },
  {
   "cell_type": "markdown",
   "metadata": {},
   "source": [
    "<h2>Pemilihan Umum</h2>"
   ]
  },
  {
   "cell_type": "code",
   "execution_count": 82,
   "metadata": {},
   "outputs": [
    {
     "data": {
      "text/html": [
       "\n",
       "<div id=\"altair-viz-ef73b1ad6f3945cfae371b0f9ecfd3bb\"></div>\n",
       "<script type=\"text/javascript\">\n",
       "  (function(spec, embedOpt){\n",
       "    let outputDiv = document.currentScript.previousElementSibling;\n",
       "    if (outputDiv.id !== \"altair-viz-ef73b1ad6f3945cfae371b0f9ecfd3bb\") {\n",
       "      outputDiv = document.getElementById(\"altair-viz-ef73b1ad6f3945cfae371b0f9ecfd3bb\");\n",
       "    }\n",
       "    const paths = {\n",
       "      \"vega\": \"https://cdn.jsdelivr.net/npm//vega@5?noext\",\n",
       "      \"vega-lib\": \"https://cdn.jsdelivr.net/npm//vega-lib?noext\",\n",
       "      \"vega-lite\": \"https://cdn.jsdelivr.net/npm//vega-lite@4.8.1?noext\",\n",
       "      \"vega-embed\": \"https://cdn.jsdelivr.net/npm//vega-embed@6?noext\",\n",
       "    };\n",
       "\n",
       "    function loadScript(lib) {\n",
       "      return new Promise(function(resolve, reject) {\n",
       "        var s = document.createElement('script');\n",
       "        s.src = paths[lib];\n",
       "        s.async = true;\n",
       "        s.onload = () => resolve(paths[lib]);\n",
       "        s.onerror = () => reject(`Error loading script: ${paths[lib]}`);\n",
       "        document.getElementsByTagName(\"head\")[0].appendChild(s);\n",
       "      });\n",
       "    }\n",
       "\n",
       "    function showError(err) {\n",
       "      outputDiv.innerHTML = `<div class=\"error\" style=\"color:red;\">${err}</div>`;\n",
       "      throw err;\n",
       "    }\n",
       "\n",
       "    function displayChart(vegaEmbed) {\n",
       "      vegaEmbed(outputDiv, spec, embedOpt)\n",
       "        .catch(err => showError(`Javascript Error: ${err.message}<br>This usually means there's a typo in your chart specification. See the javascript console for the full traceback.`));\n",
       "    }\n",
       "\n",
       "    if(typeof define === \"function\" && define.amd) {\n",
       "      requirejs.config({paths});\n",
       "      require([\"vega-embed\"], displayChart, err => showError(`Error loading script: ${err.message}`));\n",
       "    } else if (typeof vegaEmbed === \"function\") {\n",
       "      displayChart(vegaEmbed);\n",
       "    } else {\n",
       "      loadScript(\"vega\")\n",
       "        .then(() => loadScript(\"vega-lite\"))\n",
       "        .then(() => loadScript(\"vega-embed\"))\n",
       "        .catch(showError)\n",
       "        .then(() => displayChart(vegaEmbed));\n",
       "    }\n",
       "  })({\"config\": {\"view\": {\"continuousWidth\": 400, \"continuousHeight\": 300}, \"title\": {\"color\": \"green\", \"fontSize\": 14}}, \"layer\": [{\"mark\": {\"type\": \"bar\", \"opacity\": 0.8}, \"encoding\": {\"color\": {\"condition\": {\"type\": \"ordinal\", \"field\": \"Keterangan\", \"legend\": null, \"scale\": {\"scheme\": \"yellowgreen\"}, \"sort\": \"x\", \"selection\": \"selector001\"}, \"value\": \"lightgray\"}, \"x\": {\"type\": \"quantitative\", \"field\": \"N\", \"title\": \"Jumlah Suara\"}, \"y\": {\"type\": \"ordinal\", \"field\": \"Keterangan\", \"sort\": \"-x\", \"title\": \"\"}}}, {\"mark\": {\"type\": \"text\", \"align\": \"left\", \"baseline\": \"middle\", \"dx\": 3}, \"encoding\": {\"color\": {\"condition\": {\"type\": \"ordinal\", \"field\": \"Keterangan\", \"legend\": null, \"scale\": {\"scheme\": \"yellowgreen\"}, \"sort\": \"x\", \"selection\": \"selector001\"}, \"value\": \"lightgray\"}, \"text\": {\"type\": \"quantitative\", \"field\": \"N\"}, \"tooltip\": [{\"type\": \"quantitative\", \"field\": \"Tahun\"}, {\"type\": \"nominal\", \"field\": \"Keterangan\"}, {\"type\": \"quantitative\", \"field\": \"N\"}, {\"type\": \"nominal\", \"field\": \"Satuan\"}], \"x\": {\"type\": \"quantitative\", \"field\": \"N\", \"title\": \"Jumlah Suara\"}, \"y\": {\"type\": \"ordinal\", \"field\": \"Keterangan\", \"sort\": \"-x\", \"title\": \"\"}}, \"selection\": {\"selector054\": {\"type\": \"interval\", \"bind\": \"scales\", \"encodings\": [\"x\", \"y\"]}, \"selector001\": {\"type\": \"single\", \"encodings\": [\"y\", \"color\"]}}}], \"data\": {\"name\": \"data-0b890455a346cd8defaadf664e0aa398\"}, \"title\": \"Pemilihan Umum\", \"width\": 500, \"$schema\": \"https://vega.github.io/schema/vega-lite/v4.8.1.json\", \"datasets\": {\"data-0b890455a346cd8defaadf664e0aa398\": [{\"Tahun\": 2019, \"Kode\": 21, \"Data\": \"Pemilihan Umum\", \"Kode Kategori\": 21.3, \"Kategori\": \"Hasil Pemilihan Umum\", \"Keterangan\": \"Partai Kebangkitan Bangsa\", \"N\": 202.0, \"Satuan\": \"Orang\"}, {\"Tahun\": 2019, \"Kode\": 21, \"Data\": \"Pemilihan Umum\", \"Kode Kategori\": 21.3, \"Kategori\": \"Hasil Pemilihan Umum\", \"Keterangan\": \"Partai Gerindra\", \"N\": 114.0, \"Satuan\": \"Orang\"}, {\"Tahun\": 2019, \"Kode\": 21, \"Data\": \"Pemilihan Umum\", \"Kode Kategori\": 21.3, \"Kategori\": \"Hasil Pemilihan Umum\", \"Keterangan\": \"Partai Demokrasi Indonesia Perjuangan\", \"N\": 711.0, \"Satuan\": \"Orang\"}, {\"Tahun\": 2019, \"Kode\": 21, \"Data\": \"Pemilihan Umum\", \"Kode Kategori\": 21.3, \"Kategori\": \"Hasil Pemilihan Umum\", \"Keterangan\": \"Partai Golongan Karya\", \"N\": 12.0, \"Satuan\": \"Orang\"}, {\"Tahun\": 2019, \"Kode\": 21, \"Data\": \"Pemilihan Umum\", \"Kode Kategori\": 21.3, \"Kategori\": \"Hasil Pemilihan Umum\", \"Keterangan\": \"Partai Nasdem\", \"N\": 4.0, \"Satuan\": \"Orang\"}, {\"Tahun\": 2019, \"Kode\": 21, \"Data\": \"Pemilihan Umum\", \"Kode Kategori\": 21.3, \"Kategori\": \"Hasil Pemilihan Umum\", \"Keterangan\": \"Partai Garuda\", \"N\": 2.0, \"Satuan\": \"Orang\"}, {\"Tahun\": 2019, \"Kode\": 21, \"Data\": \"Pemilihan Umum\", \"Kode Kategori\": 21.3, \"Kategori\": \"Hasil Pemilihan Umum\", \"Keterangan\": \"Partai Berkarya\", \"N\": 9.0, \"Satuan\": \"Orang\"}, {\"Tahun\": 2019, \"Kode\": 21, \"Data\": \"Pemilihan Umum\", \"Kode Kategori\": 21.3, \"Kategori\": \"Hasil Pemilihan Umum\", \"Keterangan\": \"Partai Keadilan Sejahtera\", \"N\": 114.0, \"Satuan\": \"Orang\"}, {\"Tahun\": 2019, \"Kode\": 21, \"Data\": \"Pemilihan Umum\", \"Kode Kategori\": 21.3, \"Kategori\": \"Hasil Pemilihan Umum\", \"Keterangan\": \"Parati Perindo\", \"N\": 1.0, \"Satuan\": \"Orang\"}, {\"Tahun\": 2019, \"Kode\": 21, \"Data\": \"Pemilihan Umum\", \"Kode Kategori\": 21.3, \"Kategori\": \"Hasil Pemilihan Umum\", \"Keterangan\": \"Partai Persatuan Pembangunan\", \"N\": 2.0, \"Satuan\": \"Orang\"}, {\"Tahun\": 2019, \"Kode\": 21, \"Data\": \"Pemilihan Umum\", \"Kode Kategori\": 21.3, \"Kategori\": \"Hasil Pemilihan Umum\", \"Keterangan\": \"Partai Solidaritas Indonesia\", \"N\": 5.0, \"Satuan\": \"Orang\"}, {\"Tahun\": 2019, \"Kode\": 21, \"Data\": \"Pemilihan Umum\", \"Kode Kategori\": 21.3, \"Kategori\": \"Hasil Pemilihan Umum\", \"Keterangan\": \"Partai Amanat Nasional\", \"N\": 34.0, \"Satuan\": \"Orang\"}, {\"Tahun\": 2019, \"Kode\": 21, \"Data\": \"Pemilihan Umum\", \"Kode Kategori\": 21.3, \"Kategori\": \"Hasil Pemilihan Umum\", \"Keterangan\": \"Partai Hanura\", \"N\": 0.0, \"Satuan\": \"Orang\"}, {\"Tahun\": 2019, \"Kode\": 21, \"Data\": \"Pemilihan Umum\", \"Kode Kategori\": 21.3, \"Kategori\": \"Hasil Pemilihan Umum\", \"Keterangan\": \"Partai Demokrat\", \"N\": 201.0, \"Satuan\": \"Orang\"}, {\"Tahun\": 2019, \"Kode\": 21, \"Data\": \"Pemilihan Umum\", \"Kode Kategori\": 21.3, \"Kategori\": \"Hasil Pemilihan Umum\", \"Keterangan\": \"Partai Bulan Bintang\", \"N\": 1.0, \"Satuan\": \"Orang\"}, {\"Tahun\": 2019, \"Kode\": 21, \"Data\": \"Pemilihan Umum\", \"Kode Kategori\": 21.3, \"Kategori\": \"Hasil Pemilihan Umum\", \"Keterangan\": \"Partai Keadilan dan Persatuan Indonesia\", \"N\": 0.0, \"Satuan\": \"Orang\"}]}}, {\"mode\": \"vega-lite\"});\n",
       "</script>"
      ],
      "text/plain": [
       "alt.LayerChart(...)"
      ]
     },
     "execution_count": 82,
     "metadata": {},
     "output_type": "execute_result"
    }
   ],
   "source": [
    "df_3 = data2('Hasil Pemilihan Umum')\n",
    "df_3 = df_3.fillna(0)\n",
    "plot3 = plot_4(df_3,'Jumlah Suara','',500,'Pemilihan Umum').configure_title(fontSize=14,color='green')\n",
    "plot3"
   ]
  },
  {
   "cell_type": "code",
   "execution_count": 83,
   "metadata": {},
   "outputs": [],
   "source": [
    "# Save File\n",
    "plot1.save('profil_anggaran.json')\n",
    "plot1s.save('sumber.json')\n",
    "plot2.save('bantuan_1.json')\n",
    "plot2s.save('bantuan_2.json')\n",
    "plot3.save('pemilu.json')"
   ]
  },
  {
   "cell_type": "code",
   "execution_count": null,
   "metadata": {},
   "outputs": [],
   "source": []
  }
 ],
 "metadata": {
  "kernelspec": {
   "display_name": "Python 3",
   "language": "python",
   "name": "python3"
  },
  "language_info": {
   "codemirror_mode": {
    "name": "ipython",
    "version": 3
   },
   "file_extension": ".py",
   "mimetype": "text/x-python",
   "name": "python",
   "nbconvert_exporter": "python",
   "pygments_lexer": "ipython3",
   "version": "3.7.6"
  }
 },
 "nbformat": 4,
 "nbformat_minor": 4
}
